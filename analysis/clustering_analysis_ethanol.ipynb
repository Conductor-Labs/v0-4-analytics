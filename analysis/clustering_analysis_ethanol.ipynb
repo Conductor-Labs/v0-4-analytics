{
 "cells": [
  {
   "cell_type": "code",
   "execution_count": 1,
   "metadata": {},
   "outputs": [],
   "source": [
    "#!/usr/bin/env python\n",
    "# coding: utf-8\n",
    "\n",
    "# %% [markdown]\n",
    "# # Clustering Analysis of Unit Operations\n",
    "#\n",
    "# This notebook aggregates multiple batches and their respective runs, processes the unit operations,\n",
    "# computes embeddings, clusters them, and visualizes the results.\n",
    "#\n",
    "# **Enhancements:**\n",
    "# 1. **Aggregating Multiple Batches and Runs**: The script now supports processing multiple batch folders.\n",
    "# 2. **Updated Run Identification Logic**: Adjusted to handle run folder names where the run number is at the end (e.g., `corn stover_to_ethanol_(1)`).\n",
    "#\n",
    "# **Dependencies:**\n",
    "# - `networkx`\n",
    "# - `pandas`\n",
    "# - `matplotlib`\n",
    "# - `seaborn`\n",
    "# - `sentence-transformers`\n",
    "# - `umap-learn`\n",
    "# - `scikit-learn`\n",
    "\n",
    "# %% [markdown]  \n",
    "# ## Imports and Setup\n",
    "\n",
    "# %%\n",
    "import os  \n",
    "import json\n",
    "import re\n",
    "from pathlib import Path\n",
    "import networkx as nx\n",
    "import pandas as pd\n",
    "import matplotlib.pyplot as plt\n",
    "import seaborn as sns\n",
    "import umap.umap_ as umap\n",
    "\n",
    "from sklearn.cluster import KMeans\n",
    "from sentence_transformers import SentenceTransformer\n",
    "\n",
    "# For inline plotting in Jupyter\n",
    "%matplotlib inline\n",
    "\n",
    "sns.set_style(\"whitegrid\")\n",
    "\n",
    "\n"
   ]
  },
  {
   "cell_type": "code",
   "execution_count": 2,
   "metadata": {},
   "outputs": [],
   "source": [
    "# %% [markdown]\n",
    "# ## Configuration\n",
    "#\n",
    "# - **Data Directory**: Specify the root directory containing all batch folders.\n",
    "# - **Run Folder Pattern**: Define a regex pattern to identify run folders with run numbers at the end.\n",
    "\n",
    "# Root directory of the project\n",
    "project_root = Path(\"..\")  # Adjust as necessary based on your project structure\n",
    "\n",
    "# Directory containing all batch folders\n",
    "batches_dir = project_root / \"data\" / \"batches\"\n",
    "\n",
    "# List of batch folder IDs to process\n",
    "selected_batches = [\n",
    "    \"20241209_000851\",\n",
    "    \"20241209_001652\",\n",
    "    \"20241209_003530\",\n",
    "    \"20241209_003719\",\n",
    "    \"20241209_004018\"\n",
    "    # Add more batch folder names as needed\n",
    "]\n",
    "\n",
    "# Regex pattern to match run folders like 'corn stover_to_ethanol_(1)', 'corn stover_to_ethanol_(2)', etc.\n",
    "# Can remove this (add to my to-do)\n",
    "run_folder_pattern = re.compile(r'^corn stover_to_ethanol_\\(\\d+\\)$')"
   ]
  },
  {
   "cell_type": "code",
   "execution_count": 3,
   "metadata": {},
   "outputs": [
    {
     "name": "stdout",
     "output_type": "stream",
     "text": [
      "\n",
      "Total Runs Loaded: 90\n"
     ]
    }
   ],
   "source": [
    "# %% [markdown]\n",
    "# ## Data Loading: Aggregating Specified Batches and Runs\n",
    "\n",
    "# %%\n",
    "# Initialize an empty dictionary to store DAGs\n",
    "dags = {}\n",
    "\n",
    "# Iterate through each selected batch folder\n",
    "for batch_id in selected_batches:\n",
    "    batch_dir = batches_dir / batch_id\n",
    "    if batch_dir.exists() and batch_dir.is_dir():\n",
    "        # print(f\"Processing Batch: {batch_id}\")\n",
    "        \n",
    "        # Iterate through each run folder within the batch\n",
    "        for run_dir in batch_dir.iterdir():\n",
    "            if run_dir.is_dir() and run_folder_pattern.match(run_dir.name):\n",
    "                run_name = run_dir.name\n",
    "                # Create a unique identifier by combining batch ID and run name\n",
    "                unique_run_name = f\"{batch_id}_{run_name}\"\n",
    "                \n",
    "                dag_path = run_dir / \"v1_DAG.json\"\n",
    "                if dag_path.exists():\n",
    "                    try:\n",
    "                        with open(dag_path, \"r\") as f:\n",
    "                            dag_data = json.load(f)\n",
    "                        dags[unique_run_name] = dag_data\n",
    "                        # print(f\" - Loaded DAG for Run: {unique_run_name}\")\n",
    "                    except json.JSONDecodeError as e:\n",
    "                        print(f\"   * Error decoding JSON for {unique_run_name}: {e}\")\n",
    "                else:\n",
    "                    print(f\"   * DAG not found for Run: {unique_run_name}\")\n",
    "    else:\n",
    "        print(f\"Batch folder not found or is not a directory: {batch_id}\")\n",
    "\n",
    "print(f\"\\nTotal Runs Loaded: {len(dags)}\")\n"
   ]
  },
  {
   "cell_type": "code",
   "execution_count": 4,
   "metadata": {},
   "outputs": [
    {
     "name": "stdout",
     "output_type": "stream",
     "text": [
      "Total Graphs Created: 90\n"
     ]
    }
   ],
   "source": [
    "\n",
    "# %% [markdown]\n",
    "# ## Convert DAGs to NetworkX Graphs\n",
    "\n",
    "# %%\n",
    "def dag_to_networkx(dag_data):\n",
    "    G = nx.DiGraph()\n",
    "    unit_ops = dag_data.get(\"unit_operations\", {})\n",
    "\n",
    "    # Add nodes\n",
    "    for uop_id, uop_data in unit_ops.items():\n",
    "        G.add_node(uop_id, **uop_data)\n",
    "\n",
    "    # Add edges based on streams\n",
    "    streams = dag_data.get(\"streams\", {})\n",
    "    for stream_id, sdata in streams.items():\n",
    "        source = sdata['source']\n",
    "        target = sdata['target']\n",
    "        # Only add edge if both source and target are unit operations\n",
    "        if source in unit_ops and target in unit_ops:\n",
    "            G.add_edge(source, target, **sdata)\n",
    "\n",
    "    return G\n",
    "\n",
    "# Create NetworkX graphs from DAGs\n",
    "graphs = {run_name: dag_to_networkx(dag_data) for run_name, dag_data in dags.items()}\n",
    "\n",
    "print(f\"Total Graphs Created: {len(graphs)}\")\n"
   ]
  },
  {
   "cell_type": "code",
   "execution_count": 5,
   "metadata": {},
   "outputs": [],
   "source": [
    "\n",
    "# %% [markdown]\n",
    "# ## Assess Unit Operations Across DAGs for Stability\n",
    "\n",
    "# %%\n",
    "unit_op_counts = {}\n",
    "for run_name, G in graphs.items():\n",
    "    for node in G.nodes:\n",
    "        unit_op_counts[node] = unit_op_counts.get(node, 0) + 1\n",
    "\n",
    "# Convert to a DataFrame to see frequency\n",
    "uop_df = pd.DataFrame([{'unit_op': k, 'count': v} for k, v in unit_op_counts.items()])\n",
    "uop_df.sort_values('count', ascending=False, inplace=True)\n",
    "uop_df.reset_index(drop=True, inplace=True)\n",
    "\n",
    "# print(\"Unit Operations Frequency:\")\n",
    "# uop_df\n"
   ]
  },
  {
   "cell_type": "code",
   "execution_count": 6,
   "metadata": {},
   "outputs": [
    {
     "name": "stderr",
     "output_type": "stream",
     "text": [
      "C:\\Users\\Jesse\\AppData\\Local\\Temp\\ipykernel_14960\\2238073952.py:6: FutureWarning: \n",
      "\n",
      "Passing `palette` without assigning `hue` is deprecated and will be removed in v0.14.0. Assign the `x` variable to `hue` and set `legend=False` for the same effect.\n",
      "\n",
      "  sns.barplot(data=uop_df, x='unit_op', y='count', palette='viridis')\n"
     ]
    },
    {
     "data": {
      "image/png": "[encoded data removed]",
      "text/plain": [
       "<Figure size 1200x600 with 1 Axes>"
      ]
     },
     "metadata": {},
     "output_type": "display_data"
    }
   ],
   "source": [
    "\n",
    "# %% [markdown]\n",
    "# ## Visualize Frequency of Unit Operations\n",
    "\n",
    "# %%\n",
    "plt.figure(figsize=(12, 6))\n",
    "sns.barplot(data=uop_df, x='unit_op', y='count', palette='viridis')\n",
    "plt.xticks(rotation=90)\n",
    "plt.title(\"Frequency of Unit Operations Across All Runs\")\n",
    "plt.xlabel(\"Unit Operation\")\n",
    "plt.ylabel(\"Count\")\n",
    "plt.tight_layout()\n",
    "plt.show()\n"
   ]
  },
  {
   "cell_type": "code",
   "execution_count": 7,
   "metadata": {},
   "outputs": [
    {
     "name": "stdout",
     "output_type": "stream",
     "text": [
      "Computing Jaccard similarity for 4005 run pairs...\n"
     ]
    }
   ],
   "source": [
    "\n",
    "# %% [markdown]\n",
    "# ## Compute Jaccard Similarity for Edges Between Runs\n",
    "\n",
    "# %%\n",
    "from itertools import combinations\n",
    "\n",
    "def graph_edge_set(G):\n",
    "    return set(G.edges())\n",
    "\n",
    "similarities = []\n",
    "run_pairs = list(combinations(graphs.keys(), 2))\n",
    "print(f\"Computing Jaccard similarity for {len(run_pairs)} run pairs...\")\n",
    "\n",
    "for r1, r2 in run_pairs:\n",
    "    G1, G2 = graphs[r1], graphs[r2]\n",
    "    e1, e2 = graph_edge_set(G1), graph_edge_set(G2)\n",
    "    inter = len(e1.intersection(e2))\n",
    "    union = len(e1.union(e2))\n",
    "    jaccard = inter / union if union else 0\n",
    "    similarities.append({'run1': r1, 'run2': r2, 'jaccard_edge_similarity': jaccard})\n",
    "\n",
    "sim_df = pd.DataFrame(similarities)\n",
    "# print(\"Sample of Jaccard Similarity:\")\n",
    "# sim_df.head()\n"
   ]
  },
  {
   "cell_type": "code",
   "execution_count": 8,
   "metadata": {},
   "outputs": [
    {
     "name": "stdout",
     "output_type": "stream",
     "text": [
      "Unit operation counts saved to ..\\data\\batches\\analysis_results\\analysis_unit_op_counts.csv\n",
      "Graph similarities saved to ..\\data\\batches\\analysis_results\\analysis_graph_similarities.csv\n"
     ]
    }
   ],
   "source": [
    "\n",
    "# %% [markdown]\n",
    "# ## Save Analysis Results to CSV\n",
    "\n",
    "# %%\n",
    "# Define output directory\n",
    "output_dir = batches_dir / \"analysis_results\"\n",
    "output_dir.mkdir(parents=True, exist_ok=True)\n",
    "\n",
    "# Save unit operation counts\n",
    "uop_df.to_csv(output_dir / \"analysis_unit_op_counts.csv\", index=False)\n",
    "print(f\"Unit operation counts saved to {output_dir / 'analysis_unit_op_counts.csv'}\")\n",
    "\n",
    "# Save graph similarities\n",
    "sim_df.to_csv(output_dir / \"analysis_graph_similarities.csv\", index=False)\n",
    "print(f\"Graph similarities saved to {output_dir / 'analysis_graph_similarities.csv'}\")\n"
   ]
  },
  {
   "cell_type": "code",
   "execution_count": 9,
   "metadata": {},
   "outputs": [],
   "source": [
    "\n",
    "# %% [markdown]\n",
    "# ## Embedding and Clustering Analysis\n",
    "#\n",
    "# The following sections perform embedding-based clustering of unit operations to assess semantic consistency and stability across runs.\n",
    "\n",
    "# %% [markdown]\n",
    "# ### Extract Unit Operations and Prepare Text for Embedding\n",
    "\n",
    "# %%\n",
    "# Collect unit operations from all runs\n",
    "unit_ops_data = []  # Stores dicts: { 'run': run_name, 'unit_op_id': node_id, 'text': ... }\n",
    "\n",
    "for run_name, G in graphs.items():\n",
    "    for node, data in G.nodes(data=True):\n",
    "        # Combine name and description for embedding\n",
    "        name = data.get('name', 'Unnamed Unit Operation')\n",
    "        description = data.get('description', '')\n",
    "        text = f\"{name}: {description}\"\n",
    "        unit_ops_data.append({\n",
    "            'run': run_name,\n",
    "            'unit_op_id': node,\n",
    "            'text': text\n",
    "        })\n",
    "\n",
    "unit_ops_df = pd.DataFrame(unit_ops_data)\n",
    "# print(\"Number of unit operations across all runs:\", len(unit_ops_df))\n",
    "# unit_ops_df.head()\n"
   ]
  },
  {
   "cell_type": "code",
   "execution_count": 10,
   "metadata": {},
   "outputs": [
    {
     "name": "stdout",
     "output_type": "stream",
     "text": [
      "Embeddings shape: (1335, 384)\n"
     ]
    }
   ],
   "source": [
    "\n",
    "# %% [markdown]\n",
    "# ### Compute Embeddings\n",
    "\n",
    "# %%\n",
    "# Initialize the Sentence Transformer model\n",
    "model = SentenceTransformer('all-MiniLM-L6-v2')\n",
    "\n",
    "# Compute embeddings\n",
    "embeddings = model.encode(unit_ops_df['text'].tolist(), convert_to_numpy=True)\n",
    "\n",
    "print(\"Embeddings shape:\", embeddings.shape)\n"
   ]
  },
  {
   "cell_type": "code",
   "execution_count": 11,
   "metadata": {},
   "outputs": [],
   "source": [
    "\n",
    "# %% [markdown]\n",
    "# ### Clustering with K-Means\n",
    "\n",
    "# %%\n",
    "# Define number of clusters\n",
    "n_clusters = 15  # Adjust as needed\n",
    "\n",
    "# Initialize and fit K-Means\n",
    "kmeans = KMeans(n_clusters=n_clusters, random_state=42, n_init='auto')\n",
    "labels = kmeans.fit_predict(embeddings)\n",
    "\n",
    "# Assign cluster labels to the DataFrame\n",
    "unit_ops_df['cluster_label'] = labels\n",
    "# unit_ops_df.head()\n"
   ]
  },
  {
   "cell_type": "code",
   "execution_count": 12,
   "metadata": {},
   "outputs": [
    {
     "name": "stderr",
     "output_type": "stream",
     "text": [
      "c:\\Users\\Jesse\\anaconda3\\envs\\tea_env\\Lib\\site-packages\\umap\\umap_.py:1952: UserWarning: n_jobs value 1 overridden to 1 by setting random_state. Use no seed for parallelism.\n",
      "  warn(\n"
     ]
    }
   ],
   "source": [
    "\n",
    "# %% [markdown]\n",
    "# ### Dimensionality Reduction with UMAP\n",
    "\n",
    "# %%\n",
    "# Initialize UMAP reducer\n",
    "reducer = umap.UMAP(n_neighbors=15, min_dist=0.1, random_state=42)\n",
    "\n",
    "# Fit and transform embeddings\n",
    "reduced_embeddings = reducer.fit_transform(embeddings)\n",
    "\n",
    "# Create a DataFrame for reduced dimensions\n",
    "reduced_df = pd.DataFrame({\n",
    "    'x': reduced_embeddings[:, 0],\n",
    "    'y': reduced_embeddings[:, 1],\n",
    "    'cluster': labels,\n",
    "    'run': unit_ops_df['run'],\n",
    "    'unit_op_id': unit_ops_df['unit_op_id'],\n",
    "    'text': unit_ops_df['text']\n",
    "})\n",
    "\n",
    "# Display a sample of the reduced DataFrame\n",
    "# reduced_df.head()\n"
   ]
  },
  {
   "cell_type": "code",
   "execution_count": 14,
   "metadata": {},
   "outputs": [
    {
     "name": "stdout",
     "output_type": "stream",
     "text": [
      "\n",
      "Representative Elements for Each Cluster:\n",
      "    cluster          x          y                          title\n",
      "0         0  22.698837   8.461573   Corn Stover Feedstock Source\n",
      "1         1   4.837867  -3.409179        Fuel-Grade Ethanol Sink\n",
      "2         2  -1.669611  17.523979                   Fermentation\n",
      "3         3  -6.113470  -6.613533                    Dehydration\n",
      "4         4  18.929838   1.590627                   Pretreatment\n",
      "5         5   5.403200  18.618628           Enzymatic Hydrolysis\n",
      "6         6   1.036036  10.686296                Waste Treatment\n",
      "7         7   5.107968   7.570936             Treated Waste Sink\n",
      "8         8   6.451084   4.784087                 Off-gases Sink\n",
      "9         9  -8.728061   9.338930                   Distillation\n",
      "10       10  14.310905   2.545859    Dilute Acid or Steam Source\n",
      "11       11  10.343814  12.737050           Yeast Culture Source\n",
      "12       12  15.715669   1.905743  Pretreatment Chemicals Source\n",
      "13       13  17.661041  16.021324             Feedstock Handling\n",
      "14       14   6.099393   6.045172         Lignin By-product Sink\n",
      "\n",
      "Cluster Compactness Summary:\n",
      "    Cluster #            Representative Name  \\\n",
      "0           0   Corn Stover Feedstock Source   \n",
      "1           1        Fuel-Grade Ethanol Sink   \n",
      "2           2                   Fermentation   \n",
      "3           3                    Dehydration   \n",
      "4           4                   Pretreatment   \n",
      "5           5           Enzymatic Hydrolysis   \n",
      "6           6                Waste Treatment   \n",
      "7           7             Treated Waste Sink   \n",
      "8           8                 Off-gases Sink   \n",
      "9           9                   Distillation   \n",
      "10         10    Dilute Acid or Steam Source   \n",
      "11         11           Yeast Culture Source   \n",
      "12         12  Pretreatment Chemicals Source   \n",
      "13         13             Feedstock Handling   \n",
      "14         14         Lignin By-product Sink   \n",
      "\n",
      "                           Representative Description  Total Elements  \\\n",
      "0   This unit operation serves as the source for t...              90   \n",
      "1   This unit operation serves as the final sink f...             113   \n",
      "2   The hydrolysate is transferred to fermentation...              90   \n",
      "3   The crude ethanol is further purified through ...             106   \n",
      "4   The prepared corn stover undergoes a pretreatm...              94   \n",
      "5   The pretreated biomass is subjected to enzymat...             174   \n",
      "6   The stillage and other waste streams from the ...              70   \n",
      "7   This unit operation serves as the final sink f...             122   \n",
      "8   This unit operation serves as a sink for the o...              77   \n",
      "9   The fermentation broth is subjected to distill...              90   \n",
      "10  This unit operation serves as a source for the...              23   \n",
      "11  This unit operation serves as a source for the...              82   \n",
      "12  This unit operation serves as a source for the...              71   \n",
      "13  The corn stover, which is a lignocellulosic bi...              83   \n",
      "14  This unit operation serves as the terminus for...              50   \n",
      "\n",
      "    Elements Within Radius     Radius  \n",
      "0                       80   0.664734  \n",
      "1                       96   7.416859  \n",
      "2                       86   1.416166  \n",
      "3                       90   2.302286  \n",
      "4                       89   0.640737  \n",
      "5                      139  15.237543  \n",
      "6                       70   1.365829  \n",
      "7                       97   2.262178  \n",
      "8                       77   5.495823  \n",
      "9                       78   0.601357  \n",
      "10                      18   0.937628  \n",
      "11                      73   0.779351  \n",
      "12                      70   1.496894  \n",
      "13                      65   1.022243  \n",
      "14                      43   7.099249  \n"
     ]
    },
    {
     "data": {
      "application/vnd.plotly.v1+json": {
       "config": {
        "plotlyServerURL": "https://plot.ly"
       },
       "data": [
        {
         "customdata": [
          [
           13,
           "Feedstock Handling"
          ],
          [
           13,
           "Feedstock Handling and Preparation"
          ],
          [
           13,
           "Feedstock Preparation"
          ],
          [
           13,
           "Feedstock Preparation"
          ],
          [
           13,
           "Feedstock Preparation"
          ],
          [
           13,
           "Feedstock Preparation"
          ],
          [
           13,
           "Feedstock Preparation"
          ],
          [
           13,
           "Feedstock Preparation"
          ],
          [
           13,
           "Feedstock Preparation"
          ],
          [
           13,
           "Feedstock Preparation"
          ],
          [
           13,
           "Feedstock Preparation"
          ],
          [
           13,
           "Feedstock Preparation"
          ],
          [
           13,
           "Feedstock Handling and Preparation"
          ],
          [
           13,
           "Feedstock Preparation"
          ],
          [
           13,
           "Feedstock Preparation"
          ],
          [
           13,
           "Feedstock Preparation"
          ],
          [
           13,
           "Feedstock Preparation"
          ],
          [
           13,
           "Feedstock Preparation"
          ],
          [
           13,
           "Feedstock Handling and Preparation"
          ],
          [
           13,
           "Feedstock Handling and Preparation"
          ],
          [
           13,
           "Feedstock Preparation"
          ],
          [
           13,
           "Feedstock Preparation"
          ],
          [
           13,
           "Feedstock Preparation"
          ],
          [
           13,
           "Feedstock Preparation"
          ],
          [
           13,
           "Feedstock Preparation"
          ],
          [
           13,
           "Feedstock Preparation"
          ],
          [
           13,
           "Feedstock Preparation"
          ],
          [
           13,
           "Feedstock Preparation"
          ],
          [
           13,
           "Feedstock Preparation"
          ],
          [
           13,
           "Feedstock Preparation"
          ],
          [
           13,
           "Feedstock Preparation"
          ],
          [
           13,
           "Feedstock Preparation"
          ],
          [
           13,
           "Feedstock Preparation"
          ],
          [
           13,
           "Feedstock Handling and Preparation"
          ],
          [
           13,
           "Feedstock Preparation"
          ],
          [
           13,
           "Feedstock Preparation"
          ],
          [
           13,
           "Feedstock Preparation"
          ],
          [
           13,
           "Feedstock Preparation"
          ],
          [
           13,
           "Feedstock Handling and Preparation"
          ],
          [
           13,
           "Feedstock Handling and Preparation"
          ],
          [
           13,
           "Feedstock Preparation"
          ],
          [
           13,
           "Feedstock Preparation"
          ],
          [
           13,
           "Feedstock Preparation"
          ],
          [
           13,
           "Feedstock Preparation"
          ],
          [
           13,
           "Feedstock Preparation"
          ],
          [
           13,
           "Feedstock Preparation"
          ],
          [
           13,
           "Feedstock Preparation"
          ],
          [
           13,
           "Feedstock Preparation"
          ],
          [
           13,
           "Feedstock Preparation"
          ],
          [
           13,
           "Feedstock Preparation"
          ],
          [
           13,
           "Feedstock Preparation"
          ],
          [
           13,
           "Feedstock Preparation"
          ],
          [
           13,
           "Feedstock Preparation"
          ],
          [
           13,
           "Feedstock Preparation"
          ],
          [
           13,
           "Feedstock Preparation"
          ],
          [
           13,
           "Feedstock Preparation"
          ],
          [
           13,
           "Feedstock Preparation"
          ],
          [
           13,
           "Feedstock Preparation"
          ],
          [
           13,
           "Feedstock Preparation"
          ],
          [
           13,
           "Feedstock Preparation"
          ],
          [
           13,
           "Feedstock Preparation"
          ],
          [
           13,
           "Feedstock Preparation"
          ],
          [
           13,
           "Feedstock Preparation"
          ],
          [
           13,
           "Feedstock Preparation"
          ],
          [
           13,
           "Feedstock Preparation"
          ],
          [
           13,
           "Feedstock Preparation"
          ],
          [
           13,
           "Feedstock Handling and Preparation"
          ],
          [
           13,
           "Feedstock Preparation"
          ],
          [
           13,
           "Feedstock Handling and Preparation"
          ],
          [
           13,
           "Feedstock Preparation"
          ],
          [
           13,
           "Feedstock Preparation"
          ],
          [
           13,
           "Feedstock Preparation"
          ],
          [
           13,
           "Feedstock Preparation"
          ],
          [
           13,
           "Feedstock Preprocessing"
          ],
          [
           13,
           "Feedstock Preparation"
          ],
          [
           13,
           "Feedstock Preparation"
          ],
          [
           13,
           "Feedstock Preparation"
          ],
          [
           13,
           "Feedstock Preparation"
          ],
          [
           13,
           "Feedstock Preparation"
          ],
          [
           13,
           "Feedstock Handling and Preparation"
          ],
          [
           13,
           "Feedstock Preparation"
          ],
          [
           13,
           "Feedstock Preparation"
          ],
          [
           13,
           "Feedstock Preparation"
          ]
         ],
         "hovertemplate": "Cluster=13<br>cluster=%{customdata[0]}<br>title=%{customdata[1]}<extra></extra>",
         "legendgroup": "13",
         "marker": {
          "color": "#636efa",
          "symbol": "circle"
         },
         "mode": "markers",
         "name": "13",
         "showlegend": true,
         "type": "scattergl",
         "x": [
          17.661041259765625,
          17.748275756835938,
          17.757827758789062,
          18.98313331604004,
          18.084482192993164,
          18.956716537475586,
          18.02684211730957,
          18.151561737060547,
          17.870298385620117,
          18.045391082763672,
          17.752239227294922,
          17.758520126342773,
          17.6479549407959,
          18.76548194885254,
          18.689130783081055,
          18.968795776367188,
          18.896669387817383,
          18.980064392089844,
          17.62860870361328,
          17.714942932128906,
          18.99129867553711,
          18.862337112426758,
          18.907718658447266,
          18.996305465698242,
          18.031688690185547,
          18.999895095825195,
          18.959806442260742,
          18.09156608581543,
          18.66161346435547,
          18.931875228881836,
          18.226747512817383,
          18.33832550048828,
          17.86184310913086,
          18.1396541595459,
          18.03883934020996,
          18.055957794189453,
          17.709548950195312,
          17.709877014160156,
          17.5970516204834,
          17.876142501831055,
          18.017091751098633,
          18.326824188232422,
          17.72079086303711,
          17.725412368774414,
          18.917362213134766,
          18.930126190185547,
          17.966405868530273,
          18.977243423461914,
          18.012935638427734,
          18.133222579956055,
          17.958993911743164,
          17.756290435791016,
          17.73952865600586,
          18.98127555847168,
          18.05422592163086,
          18.952476501464844,
          17.90061378479004,
          18.33234977722168,
          18.667316436767578,
          18.976186752319336,
          17.713214874267578,
          18.994232177734375,
          18.111536026000977,
          18.005277633666992,
          17.87199592590332,
          18.865549087524414,
          17.684368133544922,
          17.815814971923828,
          18.07183265686035,
          17.723896026611328,
          18.937931060791016,
          17.941560745239258,
          18.921783447265625,
          18.03016471862793,
          18.852136611938477,
          17.91716957092285,
          17.876605987548828,
          17.975971221923828,
          18.258195877075195,
          17.644981384277344,
          18.696325302124023,
          18.878490447998047,
          18.159923553466797
         ],
         "xaxis": "x",
         "y": [
          16.021324157714844,
          15.967203140258789,
          15.973285675048828,
          14.894999504089355,
          14.535036087036133,
          14.798038482666016,
          14.476059913635254,
          14.620193481445312,
          15.85140323638916,
          14.522967338562012,
          15.933218002319336,
          15.908902168273926,
          15.978464126586914,
          14.776616096496582,
          14.516264915466309,
          14.816282272338867,
          14.740926742553711,
          14.946382522583008,
          16.066797256469727,
          15.960588455200195,
          14.801127433776855,
          14.983956336975098,
          14.74527359008789,
          14.934981346130371,
          14.818817138671875,
          14.892959594726562,
          14.804612159729004,
          14.544771194458008,
          14.524141311645508,
          14.843400001525879,
          14.66758918762207,
          14.467887878417969,
          14.305854797363281,
          14.476553916931152,
          14.588353157043457,
          14.534912109375,
          15.897940635681152,
          15.90793514251709,
          16.017040252685547,
          14.334617614746094,
          15.736507415771484,
          15.499926567077637,
          15.931281089782715,
          15.934091567993164,
          14.74782943725586,
          14.92258071899414,
          14.437042236328125,
          14.827471733093262,
          14.441346168518066,
          14.611834526062012,
          14.406033515930176,
          15.966996192932129,
          15.939001083374023,
          14.928013801574707,
          14.499444007873535,
          14.842353820800781,
          14.353935241699219,
          14.651567459106445,
          14.523250579833984,
          14.83616828918457,
          15.934836387634277,
          14.798251152038574,
          14.579415321350098,
          14.48226261138916,
          14.326066970825195,
          14.750882148742676,
          16.002843856811523,
          15.896411895751953,
          14.544861793518066,
          15.935358047485352,
          14.842480659484863,
          14.379839897155762,
          14.998164176940918,
          14.540583610534668,
          15.030803680419922,
          14.364066123962402,
          15.821525573730469,
          14.44379711151123,
          14.630227088928223,
          16.020349502563477,
          14.543313980102539,
          15.068114280700684,
          14.486531257629395
         ],
         "yaxis": "y"
        },
        {
         "customdata": [
          [
           4,
           "Pretreatment"
          ],
          [
           4,
           "Pretreatment"
          ],
          [
           4,
           "Pretreatment"
          ],
          [
           4,
           "Pretreatment"
          ],
          [
           4,
           "Pretreatment"
          ],
          [
           4,
           "Pretreatment"
          ],
          [
           4,
           "Pretreatment"
          ],
          [
           4,
           "Pretreatment"
          ],
          [
           4,
           "Preprocessing"
          ],
          [
           4,
           "Pretreatment"
          ],
          [
           4,
           "Pretreatment"
          ],
          [
           4,
           "Pretreatment"
          ],
          [
           4,
           "Pretreatment"
          ],
          [
           4,
           "Pretreatment"
          ],
          [
           4,
           "Pretreatment"
          ],
          [
           4,
           "Pretreatment"
          ],
          [
           4,
           "Pretreatment"
          ],
          [
           4,
           "Pretreatment"
          ],
          [
           4,
           "Pretreatment"
          ],
          [
           4,
           "Chemical Pre-treatment"
          ],
          [
           4,
           "Pretreatment"
          ],
          [
           4,
           "Pre-treatment"
          ],
          [
           4,
           "Pre-treatment Chemicals Source"
          ],
          [
           4,
           "Pretreatment"
          ],
          [
           4,
           "Pretreatment"
          ],
          [
           4,
           "Pretreatment"
          ],
          [
           4,
           "Pretreatment"
          ],
          [
           4,
           "Pretreatment"
          ],
          [
           4,
           "Pretreatment"
          ],
          [
           4,
           "Pretreatment"
          ],
          [
           4,
           "Pretreatment"
          ],
          [
           4,
           "Pretreatment"
          ],
          [
           4,
           "Pretreatment"
          ],
          [
           4,
           "Pretreatment"
          ],
          [
           4,
           "Pretreatment"
          ],
          [
           4,
           "Pretreatment"
          ],
          [
           4,
           "Pretreatment"
          ],
          [
           4,
           "Pretreatment"
          ],
          [
           4,
           "Pretreatment"
          ],
          [
           4,
           "Pretreatment"
          ],
          [
           4,
           "Pretreatment"
          ],
          [
           4,
           "Pretreatment"
          ],
          [
           4,
           "Pretreatment"
          ],
          [
           4,
           "Pretreatment"
          ],
          [
           4,
           "Pretreatment"
          ],
          [
           4,
           "Pretreatment"
          ],
          [
           4,
           "Pretreatment"
          ],
          [
           4,
           "Pretreatment"
          ],
          [
           4,
           "Pretreatment"
          ],
          [
           4,
           "Pre-treatment"
          ],
          [
           4,
           "Pretreatment"
          ],
          [
           4,
           "Pretreatment"
          ],
          [
           4,
           "Pretreatment"
          ],
          [
           4,
           "Pretreatment"
          ],
          [
           4,
           "Pretreatment"
          ],
          [
           4,
           "Pretreatment"
          ],
          [
           4,
           "Pretreatment"
          ],
          [
           4,
           "Pretreatment Chemicals Source"
          ],
          [
           4,
           "Pretreatment"
          ],
          [
           4,
           "Pretreatment"
          ],
          [
           4,
           "Pretreatment"
          ],
          [
           4,
           "Pretreatment"
          ],
          [
           4,
           "Pretreatment"
          ],
          [
           4,
           "Pretreatment"
          ],
          [
           4,
           "Pretreatment"
          ],
          [
           4,
           "Pretreatment"
          ],
          [
           4,
           "Pretreatment"
          ],
          [
           4,
           "Pretreatment"
          ],
          [
           4,
           "Pretreatment"
          ],
          [
           4,
           "Pretreatment"
          ],
          [
           4,
           "Pretreatment"
          ],
          [
           4,
           "Pretreatment"
          ],
          [
           4,
           "Pretreatment"
          ],
          [
           4,
           "Pretreatment"
          ],
          [
           4,
           "Pretreatment"
          ],
          [
           4,
           "Pretreatment"
          ],
          [
           4,
           "Pretreatment"
          ],
          [
           4,
           "Pretreatment"
          ],
          [
           4,
           "Pretreatment"
          ],
          [
           4,
           "Pretreatment"
          ],
          [
           4,
           "Pretreatment"
          ],
          [
           4,
           "Pretreatment Chemicals Source"
          ],
          [
           4,
           "Pretreatment"
          ],
          [
           4,
           "Pretreatment"
          ],
          [
           4,
           "Pretreatment"
          ],
          [
           4,
           "Pretreatment"
          ],
          [
           4,
           "Pretreatment"
          ],
          [
           4,
           "Pretreatment"
          ],
          [
           4,
           "Pretreatment"
          ],
          [
           4,
           "Pretreatment"
          ],
          [
           4,
           "Pretreatment"
          ],
          [
           4,
           "Pretreatment"
          ],
          [
           4,
           "Pretreatment"
          ],
          [
           4,
           "Pretreatment"
          ]
         ],
         "hovertemplate": "Cluster=4<br>cluster=%{customdata[0]}<br>title=%{customdata[1]}<extra></extra>",
         "legendgroup": "4",
         "marker": {
          "color": "#EF553B",
          "symbol": "circle"
         },
         "mode": "markers",
         "name": "4",
         "showlegend": true,
         "type": "scattergl",
         "x": [
          18.929838180541992,
          18.22403907775879,
          18.75483512878418,
          18.740402221679688,
          18.9893798828125,
          18.37326431274414,
          18.92510414123535,
          18.93557357788086,
          18.8885440826416,
          18.345964431762695,
          18.865503311157227,
          18.6286563873291,
          18.029720306396484,
          18.153465270996094,
          18.790782928466797,
          18.735675811767578,
          17.821109771728516,
          18.74213218688965,
          18.48046875,
          18.720653533935547,
          18.73685646057129,
          18.592405319213867,
          15.795574188232422,
          18.04181480407715,
          18.12556266784668,
          17.69490623474121,
          18.49196434020996,
          18.237302780151367,
          18.663524627685547,
          18.869504928588867,
          18.16850471496582,
          18.18415069580078,
          18.07076072692871,
          18.097185134887695,
          18.89881134033203,
          18.031593322753906,
          17.83730125427246,
          18.782434463500977,
          18.740304946899414,
          18.20465087890625,
          18.06326675415039,
          17.847810745239258,
          18.709571838378906,
          18.84467887878418,
          17.832260131835938,
          18.927427291870117,
          18.86331558227539,
          18.685091018676758,
          18.78336524963379,
          18.288986206054688,
          18.005794525146484,
          17.995359420776367,
          18.796377182006836,
          18.544509887695312,
          18.42820167541504,
          18.185007095336914,
          18.948183059692383,
          15.748743057250977,
          17.869606018066406,
          18.13633918762207,
          18.779094696044922,
          18.948049545288086,
          18.119600296020508,
          17.99627113342285,
          18.848608016967773,
          18.605316162109375,
          18.890419006347656,
          18.57440757751465,
          18.391660690307617,
          18.346210479736328,
          18.47089385986328,
          17.921165466308594,
          18.20891571044922,
          17.944433212280273,
          18.762123107910156,
          17.854284286499023,
          17.784543991088867,
          18.561878204345703,
          18.868572235107422,
          18.879173278808594,
          18.846811294555664,
          15.752158164978027,
          18.100299835205078,
          18.01314353942871,
          18.912006378173828,
          17.905338287353516,
          18.03661346435547,
          18.8396053314209,
          18.800474166870117,
          17.982526779174805,
          17.893905639648438,
          17.8515625,
          17.856287002563477,
          18.030746459960938
         ],
         "xaxis": "x",
         "y": [
          1.5906269550323486,
          1.6980115175247192,
          1.5850586891174316,
          1.1723037958145142,
          1.3771754503250122,
          1.70010244846344,
          1.5410451889038086,
          1.4078269004821777,
          1.2672309875488281,
          1.0550734996795654,
          1.609002709388733,
          1.6169408559799194,
          1.6363847255706787,
          1.7177083492279053,
          1.104823350906372,
          1.0869884490966797,
          1.484906792640686,
          1.6375912427902222,
          1.0304157733917236,
          1.6065574884414673,
          1.098183035850525,
          1.6762316226959229,
          2.142005205154419,
          1.7001460790634155,
          1.7479690313339233,
          1.6287376880645752,
          1.0852875709533691,
          1.7260468006134033,
          1.1678699254989624,
          1.1548194885253906,
          1.737443447113037,
          0.980602502822876,
          1.7143406867980957,
          1.7231265306472778,
          1.487072229385376,
          1.6805040836334229,
          1.3113393783569336,
          1.6059585809707642,
          1.6559034585952759,
          1.0128116607666016,
          1.728966236114502,
          1.0485310554504395,
          1.544520378112793,
          1.332628607749939,
          1.0988218784332275,
          1.4375948905944824,
          1.529754400253296,
          1.5653924942016602,
          1.539223074913025,
          1.706410527229309,
          1.0116755962371826,
          0.9844539165496826,
          1.5374964475631714,
          1.1292848587036133,
          1.2357076406478882,
          1.6991901397705078,
          1.3129093647003174,
          2.144909143447876,
          1.0330313444137573,
          1.7534579038619995,
          1.5647273063659668,
          1.4593299627304077,
          1.7888346910476685,
          0.9629351496696472,
          1.5080573558807373,
          1.223572015762329,
          1.6224175691604614,
          1.0463250875473022,
          1.0101054906845093,
          1.0916932821273804,
          1.0846784114837646,
          1.6315704584121704,
          0.9363131523132324,
          0.9615578651428223,
          1.2881584167480469,
          1.4287906885147095,
          1.5755974054336548,
          1.1599615812301636,
          1.4384472370147705,
          1.4787547588348389,
          1.4786778688430786,
          2.0983285903930664,
          1.659063458442688,
          0.9410852193832397,
          1.2039908170700073,
          1.0353782176971436,
          0.9303516745567322,
          1.1561205387115479,
          1.2825676202774048,
          1.6541080474853516,
          1.1741575002670288,
          1.090044617652893,
          1.1376453638076782,
          0.9234941601753235
         ],
         "yaxis": "y"
        },
        {
         "customdata": [
          [
           5,
           "Enzymatic Hydrolysis"
          ],
          [
           5,
           "Enzyme Addition Source"
          ],
          [
           5,
           "Enzymatic Hydrolysis"
          ],
          [
           5,
           "Enzyme Source"
          ],
          [
           5,
           "Enzymatic Hydrolysis"
          ],
          [
           5,
           "Enzyme Solution Source"
          ],
          [
           5,
           "Enzymatic Hydrolysis"
          ],
          [
           5,
           "Enzyme Solution Source"
          ],
          [
           5,
           "Enzymatic Hydrolysis"
          ],
          [
           5,
           "Cellulase Enzyme Source"
          ],
          [
           5,
           "Enzymatic Hydrolysis"
          ],
          [
           5,
           "Cellulase Enzyme Source"
          ],
          [
           5,
           "Enzymatic Hydrolysis"
          ],
          [
           5,
           "Enzymatic Hydrolysis"
          ],
          [
           5,
           "Enzyme Cocktail Source"
          ],
          [
           5,
           "Enzymatic Hydrolysis"
          ],
          [
           5,
           "Cellulase Enzyme Source"
          ],
          [
           5,
           "Enzymatic Hydrolysis"
          ],
          [
           5,
           "Enzyme Solution Source"
          ],
          [
           5,
           "Enzymatic Hydrolysis"
          ],
          [
           5,
           "Enzyme Solution Source"
          ],
          [
           5,
           "Enzymatic Hydrolysis"
          ],
          [
           5,
           "Enzyme Cocktail Source"
          ],
          [
           5,
           "Enzymatic Hydrolysis"
          ],
          [
           5,
           "Enzyme Solution Source"
          ],
          [
           5,
           "Enzymatic Hydrolysis"
          ],
          [
           5,
           "Enzyme Solution Source"
          ],
          [
           5,
           "Enzymatic Hydrolysis"
          ],
          [
           5,
           "Enzyme Addition"
          ],
          [
           5,
           "Enzymatic Hydrolysis"
          ],
          [
           5,
           "Enzyme Solution Source"
          ],
          [
           5,
           "Enzymatic Hydrolysis"
          ],
          [
           5,
           "Enzyme Source"
          ],
          [
           5,
           "Enzymatic Hydrolysis"
          ],
          [
           5,
           "Enzyme Solution Source"
          ],
          [
           5,
           "Enzymatic Hydrolysis"
          ],
          [
           5,
           "Enzyme Solution Source"
          ],
          [
           5,
           "Enzymatic Hydrolysis"
          ],
          [
           5,
           "Enzyme Source"
          ],
          [
           5,
           "Enzymatic Hydrolysis"
          ],
          [
           5,
           "Enzyme Solution Source"
          ],
          [
           5,
           "Enzymatic Hydrolysis"
          ],
          [
           5,
           "Enzyme Solution Source"
          ],
          [
           5,
           "Enzymatic Hydrolysis"
          ],
          [
           5,
           "Cellulase Enzymes Source"
          ],
          [
           5,
           "Enzymatic Hydrolysis"
          ],
          [
           5,
           "Enzyme Solution Source"
          ],
          [
           5,
           "Enzymatic Hydrolysis"
          ],
          [
           5,
           "Enzyme Source"
          ],
          [
           5,
           "Enzymatic Hydrolysis"
          ],
          [
           5,
           "Cellulase Enzyme Source"
          ],
          [
           5,
           "Enzymatic Hydrolysis"
          ],
          [
           5,
           "Enzyme Addition Source"
          ],
          [
           5,
           "Enzymatic Hydrolysis"
          ],
          [
           5,
           "Enzymatic Hydrolysis"
          ],
          [
           5,
           "Enzyme Mixture Source"
          ],
          [
           5,
           "Enzymatic Hydrolysis"
          ],
          [
           5,
           "Enzyme Solution Source"
          ],
          [
           5,
           "Enzymatic Hydrolysis"
          ],
          [
           5,
           "Cellulase Enzyme Source"
          ],
          [
           5,
           "Enzymatic Hydrolysis"
          ],
          [
           5,
           "Enzyme Solution Source"
          ],
          [
           5,
           "Enzymatic Hydrolysis"
          ],
          [
           5,
           "Cellulase Enzymes Source"
          ],
          [
           5,
           "Enzymatic Hydrolysis"
          ],
          [
           5,
           "Cellulase Enzyme Source"
          ],
          [
           5,
           "Enzymatic Hydrolysis"
          ],
          [
           5,
           "Cellulase Enzyme Source"
          ],
          [
           5,
           "Enzymatic Hydrolysis"
          ],
          [
           5,
           "Enzymatic Hydrolysis"
          ],
          [
           5,
           "Enzyme Solution Source"
          ],
          [
           5,
           "Enzymatic Hydrolysis"
          ],
          [
           5,
           "Enzyme Mixture Source"
          ],
          [
           5,
           "Enzymatic Hydrolysis"
          ],
          [
           5,
           "Enzyme Solution Source"
          ],
          [
           5,
           "Enzymatic Hydrolysis"
          ],
          [
           5,
           "Enzyme Solution Source"
          ],
          [
           5,
           "Enzymatic Hydrolysis"
          ],
          [
           5,
           "Enzymatic Hydrolysis"
          ],
          [
           5,
           "Enzyme Solution Source"
          ],
          [
           5,
           "Enzymatic Hydrolysis"
          ],
          [
           5,
           "Enzyme Mixture Source"
          ],
          [
           5,
           "Enzymatic Hydrolysis"
          ],
          [
           5,
           "Enzyme Source"
          ],
          [
           5,
           "Enzymatic Hydrolysis"
          ],
          [
           5,
           "Enzyme Source"
          ],
          [
           5,
           "Enzymatic Hydrolysis"
          ],
          [
           5,
           "Cellulase Enzymes Source"
          ],
          [
           5,
           "Enzymatic Hydrolysis"
          ],
          [
           5,
           "Enzyme Solution Source"
          ],
          [
           5,
           "Enzymatic Hydrolysis"
          ],
          [
           5,
           "Enzyme Source"
          ],
          [
           5,
           "Enzymatic Hydrolysis"
          ],
          [
           5,
           "Enzyme Solution Source"
          ],
          [
           5,
           "Enzymatic Hydrolysis"
          ],
          [
           5,
           "Enzyme Solution Source"
          ],
          [
           5,
           "Enzymatic Hydrolysis"
          ],
          [
           5,
           "Enzyme Solution Source"
          ],
          [
           5,
           "Enzymatic Hydrolysis"
          ],
          [
           5,
           "Enzyme Source"
          ],
          [
           5,
           "Enzymatic Hydrolysis"
          ],
          [
           5,
           "Enzyme Solution Source"
          ],
          [
           5,
           "Enzymatic Hydrolysis"
          ],
          [
           5,
           "Enzyme Mixture Source"
          ],
          [
           5,
           "Enzymatic Hydrolysis"
          ],
          [
           5,
           "Enzyme Solution Source"
          ],
          [
           5,
           "Enzymatic Hydrolysis"
          ],
          [
           5,
           "Enzyme Solution Source"
          ],
          [
           5,
           "Enzymatic Hydrolysis"
          ],
          [
           5,
           "Enzyme Mixture Source"
          ],
          [
           5,
           "Enzymatic Hydrolysis"
          ],
          [
           5,
           "Cellulase Enzyme Source"
          ],
          [
           5,
           "Enzymatic Hydrolysis"
          ],
          [
           5,
           "Enzyme Source"
          ],
          [
           5,
           "Enzymatic Hydrolysis"
          ],
          [
           5,
           "Enzyme Cocktail Source"
          ],
          [
           5,
           "Enzymatic Hydrolysis"
          ],
          [
           5,
           "Enzyme Mixture Source"
          ],
          [
           5,
           "Enzymatic Hydrolysis"
          ],
          [
           5,
           "Cellulase Enzyme Source"
          ],
          [
           5,
           "Enzymatic Hydrolysis"
          ],
          [
           5,
           "Cellulase Enzyme Source"
          ],
          [
           5,
           "Enzymatic Hydrolysis"
          ],
          [
           5,
           "Enzyme Solution Source"
          ],
          [
           5,
           "Enzymatic Hydrolysis"
          ],
          [
           5,
           "Enzyme Source"
          ],
          [
           5,
           "Enzymatic Hydrolysis"
          ],
          [
           5,
           "Cellulase Enzyme Source"
          ],
          [
           5,
           "Enzymatic Hydrolysis"
          ],
          [
           5,
           "Cellulase Enzyme Source"
          ],
          [
           5,
           "Enzymatic Hydrolysis"
          ],
          [
           5,
           "Enzyme Source"
          ],
          [
           5,
           "Enzymatic Hydrolysis"
          ],
          [
           5,
           "Enzyme Solution Source"
          ],
          [
           5,
           "Enzymatic Hydrolysis"
          ],
          [
           5,
           "Enzyme Mixture Source"
          ],
          [
           5,
           "Enzymatic Hydrolysis"
          ],
          [
           5,
           "Enzyme Mixture Source"
          ],
          [
           5,
           "Enzymatic Hydrolysis"
          ],
          [
           5,
           "Enzyme Solution Source"
          ],
          [
           5,
           "Enzymatic Hydrolysis"
          ],
          [
           5,
           "Enzyme Solution Source"
          ],
          [
           5,
           "Enzymatic Hydrolysis"
          ],
          [
           5,
           "Enzyme Solution Source"
          ],
          [
           5,
           "Enzymatic Hydrolysis"
          ],
          [
           5,
           "Enzyme Solution Source"
          ],
          [
           5,
           "Enzymatic Hydrolysis"
          ],
          [
           5,
           "Enzymatic Hydrolysis"
          ],
          [
           5,
           "Enzyme Source"
          ],
          [
           5,
           "Enzymatic Hydrolysis"
          ],
          [
           5,
           "Cellulase Enzyme Source"
          ],
          [
           5,
           "Enzymatic Hydrolysis"
          ],
          [
           5,
           "Cellulase Enzyme Source"
          ],
          [
           5,
           "Enzymatic Hydrolysis"
          ],
          [
           5,
           "Enzyme Solution Source"
          ],
          [
           5,
           "Enzymatic Hydrolysis"
          ],
          [
           5,
           "Enzyme Addition"
          ],
          [
           5,
           "Enzymatic Hydrolysis"
          ],
          [
           5,
           "Enzyme Solution Source"
          ],
          [
           5,
           "Enzymatic Hydrolysis"
          ],
          [
           5,
           "Cellulase Enzyme Source"
          ],
          [
           5,
           "Enzymatic Hydrolysis"
          ],
          [
           5,
           "Enzymatic Hydrolysis"
          ],
          [
           5,
           "Enzyme Source"
          ],
          [
           5,
           "Enzymatic Hydrolysis"
          ],
          [
           5,
           "Cellulase Enzyme Source"
          ],
          [
           5,
           "Enzymatic Hydrolysis"
          ],
          [
           5,
           "Enzyme Solution Source"
          ],
          [
           5,
           "Enzymatic Hydrolysis"
          ],
          [
           5,
           "Enzyme Mixture Source"
          ],
          [
           5,
           "Enzymatic Hydrolysis"
          ],
          [
           5,
           "Enzyme Mixture Source"
          ],
          [
           5,
           "Enzymatic Hydrolysis"
          ],
          [
           5,
           "Enzyme Solution Source"
          ]
         ],
         "hovertemplate": "Cluster=5<br>cluster=%{customdata[0]}<br>title=%{customdata[1]}<extra></extra>",
         "legendgroup": "5",
         "marker": {
          "color": "#00cc96",
          "symbol": "circle"
         },
         "mode": "markers",
         "name": "5",
         "showlegend": true,
         "type": "scattergl",
         "x": [
          5.403199672698975,
          16.225486755371094,
          6.476638317108154,
          15.9783296585083,
          6.421885967254639,
          15.668149948120117,
          6.013929843902588,
          15.791452407836914,
          6.047077178955078,
          17.67511558532715,
          5.517971038818359,
          17.688074111938477,
          5.370412826538086,
          5.465213298797607,
          15.779291152954102,
          5.4871673583984375,
          17.673906326293945,
          6.747040748596191,
          15.605395317077637,
          6.294260025024414,
          15.72874927520752,
          6.329074859619141,
          15.813201904296875,
          6.338152885437012,
          15.590011596679688,
          6.444797515869141,
          15.477994918823242,
          7.047077178955078,
          16.22553062438965,
          5.398437023162842,
          15.934798240661621,
          6.407935619354248,
          16.026599884033203,
          6.0021138191223145,
          15.560314178466797,
          7.160521030426025,
          15.890453338623047,
          5.945563793182373,
          16.0341796875,
          6.566636085510254,
          15.715621948242188,
          6.640598297119141,
          15.733539581298828,
          5.93915319442749,
          17.67211151123047,
          6.830393314361572,
          15.615560531616211,
          6.538290023803711,
          15.977958679199219,
          5.440645217895508,
          17.65172004699707,
          5.609841346740723,
          16.27715301513672,
          5.407118320465088,
          6.678701877593994,
          15.543381690979004,
          6.436648845672607,
          15.744215965270996,
          5.4301018714904785,
          17.673259735107422,
          6.398048400878906,
          15.661158561706543,
          6.0093841552734375,
          17.67872428894043,
          5.496808052062988,
          17.69049072265625,
          5.955928802490234,
          17.65665626525879,
          5.420614719390869,
          6.411869525909424,
          15.617526054382324,
          6.734426975250244,
          15.560361862182617,
          5.537843704223633,
          15.948385238647461,
          5.293223857879639,
          15.870892524719238,
          5.494234561920166,
          6.331909656524658,
          15.646394729614258,
          6.388365745544434,
          15.57857608795166,
          7.049445152282715,
          15.992308616638184,
          6.686028957366943,
          15.993661880493164,
          5.416373252868652,
          17.644258499145508,
          6.390446662902832,
          15.806710243225098,
          6.455504894256592,
          16.030359268188477,
          7.095895767211914,
          15.776453018188477,
          7.064572334289551,
          15.712380409240723,
          6.40027379989624,
          15.567510604858398,
          6.028740406036377,
          16.046554565429688,
          6.956053733825684,
          15.647623062133789,
          6.454787731170654,
          15.554990768432617,
          6.358199119567871,
          15.76492691040039,
          6.347270965576172,
          15.523022651672363,
          6.996638298034668,
          15.574183464050293,
          5.386844158172607,
          17.677335739135742,
          7.19327974319458,
          15.982391357421875,
          6.941801071166992,
          15.802838325500488,
          7.09269380569458,
          15.562112808227539,
          5.458818435668945,
          17.67745018005371,
          5.45654821395874,
          17.724468231201172,
          6.72147798538208,
          15.707686424255371,
          7.077759742736816,
          15.961190223693848,
          5.8140034675598145,
          17.698261260986328,
          5.953010082244873,
          17.6495361328125,
          6.721315383911133,
          16.029207229614258,
          6.442551136016846,
          15.608512878417969,
          7.088299751281738,
          15.5314359664917,
          7.051565647125244,
          15.553313255310059,
          6.025074005126953,
          15.855120658874512,
          6.2117438316345215,
          15.566957473754883,
          6.82872200012207,
          15.702242851257324,
          6.367343425750732,
          15.645657539367676,
          5.584996700286865,
          5.3906402587890625,
          15.99287223815918,
          5.523594379425049,
          17.701553344726562,
          5.983153820037842,
          17.714839935302734,
          7.084479808807373,
          15.557273864746094,
          5.519637107849121,
          16.291706085205078,
          5.521996974945068,
          15.810007095336914,
          5.952435493469238,
          17.65064811706543,
          5.5254387855529785,
          7.112793445587158,
          15.99404239654541,
          5.438653945922852,
          17.701290130615234,
          6.705333232879639,
          15.663514137268066,
          7.074490070343018,
          15.602985382080078,
          6.316725254058838,
          15.554219245910645,
          6.990738868713379,
          15.641312599182129
         ],
         "xaxis": "x",
         "y": [
          18.618627548217773,
          -8.270930290222168,
          18.203006744384766,
          -8.395243644714355,
          18.219282150268555,
          -9.514541625976562,
          18.363229751586914,
          -9.557814598083496,
          18.68752098083496,
          -6.293079376220703,
          18.804224014282227,
          -6.281159400939941,
          18.547645568847656,
          18.608341217041016,
          -8.040838241577148,
          18.48465919494629,
          -6.302250385284424,
          18.90433120727539,
          -9.69119644165039,
          18.600013732910156,
          -9.549386024475098,
          18.885883331298828,
          -8.076587677001953,
          18.822139739990234,
          -9.4641695022583,
          18.21013069152832,
          -9.717068672180176,
          18.61780548095703,
          -8.302574157714844,
          18.576528549194336,
          -9.679291725158691,
          18.233163833618164,
          -8.406234741210938,
          18.34303092956543,
          -9.637351989746094,
          18.548919677734375,
          -9.476340293884277,
          18.657699584960938,
          -8.373655319213867,
          18.263473510742188,
          -9.506631851196289,
          18.915729522705078,
          -9.502603530883789,
          18.758556365966797,
          -6.2968549728393555,
          18.37125587463379,
          -9.523959159851074,
          18.26610565185547,
          -8.362152099609375,
          18.60881233215332,
          -6.317400932312012,
          18.745155334472656,
          -8.243874549865723,
          18.533916473388672,
          18.908611297607422,
          -7.637908935546875,
          18.846054077148438,
          -9.468277931213379,
          18.5281925201416,
          -6.294245719909668,
          18.202394485473633,
          -9.649295806884766,
          18.35209846496582,
          -6.289577960968018,
          18.776714324951172,
          -6.279111385345459,
          18.406600952148438,
          -6.311439514160156,
          18.59711456298828,
          18.2696533203125,
          -9.57341480255127,
          18.85834503173828,
          -7.636951446533203,
          18.778667449951172,
          -9.64155387878418,
          18.484882354736328,
          -9.62081241607666,
          18.49646759033203,
          18.20336151123047,
          -9.634293556213379,
          18.806373596191406,
          -7.646933078765869,
          18.470413208007812,
          -8.3857421875,
          18.9303035736084,
          -8.418838500976562,
          18.5383243560791,
          -6.327823638916016,
          18.82176971435547,
          -9.463552474975586,
          18.876611709594727,
          -8.367317199707031,
          18.520553588867188,
          -9.527155876159668,
          18.512033462524414,
          -9.586135864257812,
          18.23904037475586,
          -9.752090454101562,
          18.663610458374023,
          -8.392572402954102,
          18.638479232788086,
          -9.54696273803711,
          18.875473022460938,
          -7.627140522003174,
          18.25535774230957,
          -9.618971824645996,
          18.805620193481445,
          -9.658448219299316,
          18.573623657226562,
          -7.665698051452637,
          18.586687088012695,
          -6.29216194152832,
          18.566120147705078,
          -8.435669898986816,
          18.689542770385742,
          -8.074533462524414,
          18.558862686157227,
          -7.648247718811035,
          18.524669647216797,
          -6.293188095092773,
          18.56851577758789,
          -6.243025302886963,
          18.826614379882812,
          -9.512893676757812,
          18.53931999206543,
          -8.44757080078125,
          18.464717864990234,
          -6.27011775970459,
          18.647205352783203,
          -6.318727016448975,
          18.85810089111328,
          -8.370243072509766,
          18.25509262084961,
          -9.678742408752441,
          18.490055084228516,
          -7.6426310539245605,
          18.55199432373047,
          -7.640198707580566,
          18.389368057250977,
          -9.605376243591309,
          18.75922966003418,
          -9.708147048950195,
          18.354297637939453,
          -9.448513984680176,
          18.20035743713379,
          -9.642704963684082,
          18.85567855834961,
          18.561126708984375,
          -8.411620140075684,
          18.758466720581055,
          -6.266363620758057,
          18.526613235473633,
          -6.254393100738525,
          18.566394805908203,
          -9.650144577026367,
          18.812631607055664,
          -8.225298881530762,
          18.6823787689209,
          -9.532203674316406,
          18.57716178894043,
          -6.320239067077637,
          18.495136260986328,
          18.524465560913086,
          -8.376596450805664,
          18.681072235107422,
          -6.266698360443115,
          18.850757598876953,
          -9.625564575195312,
          18.50601577758789,
          -7.59091854095459,
          18.812049865722656,
          -7.629332065582275,
          18.623165130615234,
          -9.599244117736816
         ],
         "yaxis": "y"
        },
        {
         "customdata": [
          [
           2,
           "Fermentation"
          ],
          [
           2,
           "Fermentation"
          ],
          [
           2,
           "Fermentation"
          ],
          [
           2,
           "Fermentation"
          ],
          [
           2,
           "Fermentation"
          ],
          [
           2,
           "Fermentation"
          ],
          [
           2,
           "Fermentation"
          ],
          [
           2,
           "Fermentation"
          ],
          [
           2,
           "Fermentation"
          ],
          [
           2,
           "Fermentation"
          ],
          [
           2,
           "Fermentation"
          ],
          [
           2,
           "Fermentation"
          ],
          [
           2,
           "Fermentation"
          ],
          [
           2,
           "Fermentation"
          ],
          [
           2,
           "Fermentation"
          ],
          [
           2,
           "Fermentation"
          ],
          [
           2,
           "Fermentation"
          ],
          [
           2,
           "Fermentation"
          ],
          [
           2,
           "Fermentation"
          ],
          [
           2,
           "Fermentation"
          ],
          [
           2,
           "Fermentation"
          ],
          [
           2,
           "Fermentation"
          ],
          [
           2,
           "Fermentation"
          ],
          [
           2,
           "Fermentation"
          ],
          [
           2,
           "Fermentation"
          ],
          [
           2,
           "Fermentation"
          ],
          [
           2,
           "Fermentation"
          ],
          [
           2,
           "Fermentation"
          ],
          [
           2,
           "Fermentation"
          ],
          [
           2,
           "Fermentation"
          ],
          [
           2,
           "Fermentation"
          ],
          [
           2,
           "Fermentation"
          ],
          [
           2,
           "Fermentation"
          ],
          [
           2,
           "Fermentation"
          ],
          [
           2,
           "Fermentation"
          ],
          [
           2,
           "Fermentation"
          ],
          [
           2,
           "Fermentation"
          ],
          [
           2,
           "Fermentation"
          ],
          [
           2,
           "Fermentation"
          ],
          [
           2,
           "Fermentation"
          ],
          [
           2,
           "Fermentation"
          ],
          [
           2,
           "Fermentation"
          ],
          [
           2,
           "Fermentation"
          ],
          [
           2,
           "Fermentation"
          ],
          [
           2,
           "Fermentation"
          ],
          [
           2,
           "Fermentation"
          ],
          [
           2,
           "Fermentation"
          ],
          [
           2,
           "Fermentation"
          ],
          [
           2,
           "Fermentation"
          ],
          [
           2,
           "Fermentation"
          ],
          [
           2,
           "Fermentation"
          ],
          [
           2,
           "Fermentation"
          ],
          [
           2,
           "Fermentation"
          ],
          [
           2,
           "Fermentation"
          ],
          [
           2,
           "Fermentation"
          ],
          [
           2,
           "Fermentation"
          ],
          [
           2,
           "Fermentation"
          ],
          [
           2,
           "Fermentation"
          ],
          [
           2,
           "Fermentation"
          ],
          [
           2,
           "Fermentation"
          ],
          [
           2,
           "Fermentation"
          ],
          [
           2,
           "Fermentation"
          ],
          [
           2,
           "Fermentation"
          ],
          [
           2,
           "Fermentation"
          ],
          [
           2,
           "Fermentation"
          ],
          [
           2,
           "Fermentation"
          ],
          [
           2,
           "Fermentation"
          ],
          [
           2,
           "Fermentation"
          ],
          [
           2,
           "Fermentation"
          ],
          [
           2,
           "Fermentation"
          ],
          [
           2,
           "Fermentation"
          ],
          [
           2,
           "Fermentation"
          ],
          [
           2,
           "Fermentation"
          ],
          [
           2,
           "Fermentation"
          ],
          [
           2,
           "Fermentation"
          ],
          [
           2,
           "Fermentation"
          ],
          [
           2,
           "Fermentation"
          ],
          [
           2,
           "Fermentation"
          ],
          [
           2,
           "Fermentation"
          ],
          [
           2,
           "Fermentation"
          ],
          [
           2,
           "Fermentation"
          ],
          [
           2,
           "Fermentation"
          ],
          [
           2,
           "Fermentation"
          ],
          [
           2,
           "Fermentation"
          ],
          [
           2,
           "Fermentation"
          ],
          [
           2,
           "Fermentation"
          ],
          [
           2,
           "Fermentation"
          ],
          [
           2,
           "Fermentation"
          ],
          [
           2,
           "Fermentation"
          ],
          [
           2,
           "Fermentation"
          ]
         ],
         "hovertemplate": "Cluster=2<br>cluster=%{customdata[0]}<br>title=%{customdata[1]}<extra></extra>",
         "legendgroup": "2",
         "marker": {
          "color": "#ab63fa",
          "symbol": "circle"
         },
         "mode": "markers",
         "name": "2",
         "showlegend": true,
         "type": "scattergl",
         "x": [
          -1.6696114540100098,
          -1.7938679456710815,
          -0.3929876387119293,
          -0.08281424641609192,
          -1.6380048990249634,
          -0.30446380376815796,
          -0.7658451199531555,
          -1.6793313026428223,
          -0.07802186161279678,
          -2.0235350131988525,
          -0.017550243064761162,
          -1.6953701972961426,
          -0.04943044111132622,
          -0.38729822635650635,
          -0.045814886689186096,
          -1.699661135673523,
          0.1792859137058258,
          -0.02732483297586441,
          -1.7504920959472656,
          -0.08565440773963928,
          -0.09411150217056274,
          -0.22268828749656677,
          -1.7883193492889404,
          -0.0956825464963913,
          -0.08626333624124527,
          -2.0023670196533203,
          0.11502224206924438,
          -2.011046886444092,
          -0.2731005549430847,
          -0.42236366868019104,
          -1.8123738765716553,
          0.10397886484861374,
          -2.0097551345825195,
          -1.879518747329712,
          -0.4605061709880829,
          -0.16460853815078735,
          -0.04612414166331291,
          -0.04597696289420128,
          0.1439254879951477,
          -1.8107292652130127,
          -0.02667415328323841,
          -0.45990628004074097,
          0.11821319907903671,
          -0.42863771319389343,
          -0.23295584321022034,
          -1.7014602422714233,
          -0.12195656448602676,
          -0.11103140562772751,
          -0.14008828997612,
          -1.7134844064712524,
          -0.6632327437400818,
          -0.07079864293336868,
          -0.1441141813993454,
          -0.43186721205711365,
          -0.09239324927330017,
          -1.8132786750793457,
          -1.8115108013153076,
          -2.088054656982422,
          -2.037745952606201,
          -1.7956379652023315,
          -0.41589370369911194,
          -1.9032918214797974,
          -1.9606178998947144,
          -0.05087348073720932,
          -0.19480977952480316,
          -0.11471346020698547,
          -0.07741206139326096,
          -0.11260923743247986,
          0.05978577584028244,
          -2.0047881603240967,
          -0.403438538312912,
          -0.4322798252105713,
          -1.760771632194519,
          -0.14626596868038177,
          -0.06178557127714157,
          -0.5999346971511841,
          -2.012498140335083,
          -1.7661418914794922,
          -1.7255865335464478,
          -1.769089937210083,
          -0.4251953959465027,
          -1.7550222873687744,
          0.1108882874250412,
          -0.6834982633590698,
          -0.18756283819675446,
          -0.19260857999324799,
          -0.09618358314037323,
          -0.0010656793601810932,
          0.09652356058359146,
          -0.46895772218704224
         ],
         "xaxis": "x",
         "y": [
          17.52397918701172,
          17.42991828918457,
          17.79460334777832,
          18.841350555419922,
          17.530357360839844,
          17.937849044799805,
          17.65842628479004,
          17.528030395507812,
          18.272140502929688,
          17.397268295288086,
          18.382457733154297,
          17.481510162353516,
          18.72138214111328,
          17.800479888916016,
          18.77442741394043,
          17.445388793945312,
          18.560062408447266,
          18.505409240722656,
          17.499053955078125,
          18.850303649902344,
          18.28164291381836,
          18.18156623840332,
          17.43023681640625,
          18.59214973449707,
          18.857135772705078,
          17.3983097076416,
          18.552072525024414,
          17.453571319580078,
          18.062700271606445,
          17.779216766357422,
          17.374547958374023,
          18.560876846313477,
          17.411523818969727,
          17.391530990600586,
          17.728466033935547,
          18.775653839111328,
          18.825883865356445,
          18.77341651916504,
          18.482542037963867,
          17.39878273010254,
          18.769861221313477,
          17.72046661376953,
          18.516536712646484,
          17.755413055419922,
          18.538774490356445,
          17.54461669921875,
          18.673587799072266,
          18.226835250854492,
          18.892690658569336,
          17.49959373474121,
          17.681137084960938,
          18.85712432861328,
          18.60402488708496,
          17.778942108154297,
          18.794267654418945,
          17.332609176635742,
          17.454011917114258,
          17.38916778564453,
          17.369112014770508,
          17.428564071655273,
          17.783414840698242,
          17.449907302856445,
          17.436067581176758,
          18.883333206176758,
          18.591447830200195,
          18.781007766723633,
          18.83563995361328,
          18.834178924560547,
          18.503421783447266,
          17.419857025146484,
          17.78965187072754,
          17.76055145263672,
          17.376483917236328,
          18.6348819732666,
          18.868793487548828,
          17.703460693359375,
          17.40561866760254,
          17.469974517822266,
          17.496313095092773,
          17.43665313720703,
          17.770551681518555,
          17.501523971557617,
          18.511512756347656,
          17.671106338500977,
          18.702695846557617,
          18.616703033447266,
          18.6240291595459,
          18.71276092529297,
          18.510921478271484,
          17.737836837768555
         ],
         "yaxis": "y"
        },
        {
         "customdata": [
          [
           9,
           "Distillation"
          ],
          [
           9,
           "Distillation"
          ],
          [
           9,
           "Distillation"
          ],
          [
           9,
           "Distillation"
          ],
          [
           9,
           "Distillation"
          ],
          [
           9,
           "Distillation"
          ],
          [
           9,
           "Distillation"
          ],
          [
           9,
           "Distillation"
          ],
          [
           9,
           "Distillation"
          ],
          [
           9,
           "Distillation"
          ],
          [
           9,
           "Distillation"
          ],
          [
           9,
           "Distillation"
          ],
          [
           9,
           "Distillation"
          ],
          [
           9,
           "Distillation"
          ],
          [
           9,
           "Distillation"
          ],
          [
           9,
           "Distillation"
          ],
          [
           9,
           "Distillation"
          ],
          [
           9,
           "Distillation"
          ],
          [
           9,
           "Distillation"
          ],
          [
           9,
           "Distillation"
          ],
          [
           9,
           "Distillation"
          ],
          [
           9,
           "Distillation"
          ],
          [
           9,
           "Distillation"
          ],
          [
           9,
           "Distillation"
          ],
          [
           9,
           "Distillation"
          ],
          [
           9,
           "Distillation"
          ],
          [
           9,
           "Distillation"
          ],
          [
           9,
           "Distillation"
          ],
          [
           9,
           "Distillation"
          ],
          [
           9,
           "Distillation"
          ],
          [
           9,
           "Distillation"
          ],
          [
           9,
           "Distillation"
          ],
          [
           9,
           "Distillation"
          ],
          [
           9,
           "Distillation"
          ],
          [
           9,
           "Distillation"
          ],
          [
           9,
           "Distillation"
          ],
          [
           9,
           "Distillation"
          ],
          [
           9,
           "Distillation"
          ],
          [
           9,
           "Distillation"
          ],
          [
           9,
           "Distillation"
          ],
          [
           9,
           "Distillation"
          ],
          [
           9,
           "Distillation"
          ],
          [
           9,
           "Distillation"
          ],
          [
           9,
           "Distillation"
          ],
          [
           9,
           "Distillation"
          ],
          [
           9,
           "Distillation"
          ],
          [
           9,
           "Distillation"
          ],
          [
           9,
           "Distillation"
          ],
          [
           9,
           "Distillation"
          ],
          [
           9,
           "Distillation"
          ],
          [
           9,
           "Distillation"
          ],
          [
           9,
           "Distillation"
          ],
          [
           9,
           "Distillation"
          ],
          [
           9,
           "Distillation"
          ],
          [
           9,
           "Distillation"
          ],
          [
           9,
           "Distillation"
          ],
          [
           9,
           "Distillation"
          ],
          [
           9,
           "Distillation"
          ],
          [
           9,
           "Distillation"
          ],
          [
           9,
           "Distillation"
          ],
          [
           9,
           "Distillation"
          ],
          [
           9,
           "Distillation"
          ],
          [
           9,
           "Distillation"
          ],
          [
           9,
           "Distillation"
          ],
          [
           9,
           "Distillation"
          ],
          [
           9,
           "Distillation"
          ],
          [
           9,
           "Distillation"
          ],
          [
           9,
           "Distillation"
          ],
          [
           9,
           "Distillation"
          ],
          [
           9,
           "Distillation"
          ],
          [
           9,
           "Distillation"
          ],
          [
           9,
           "Distillation"
          ],
          [
           9,
           "Distillation"
          ],
          [
           9,
           "Distillation"
          ],
          [
           9,
           "Distillation"
          ],
          [
           9,
           "Distillation"
          ],
          [
           9,
           "Distillation"
          ],
          [
           9,
           "Distillation"
          ],
          [
           9,
           "Distillation"
          ],
          [
           9,
           "Distillation"
          ],
          [
           9,
           "Distillation"
          ],
          [
           9,
           "Distillation"
          ],
          [
           9,
           "Distillation"
          ],
          [
           9,
           "Distillation"
          ],
          [
           9,
           "Distillation"
          ],
          [
           9,
           "Distillation"
          ],
          [
           9,
           "Distillation"
          ],
          [
           9,
           "Distillation"
          ],
          [
           9,
           "Distillation"
          ],
          [
           9,
           "Distillation"
          ]
         ],
         "hovertemplate": "Cluster=9<br>cluster=%{customdata[0]}<br>title=%{customdata[1]}<extra></extra>",
         "legendgroup": "9",
         "marker": {
          "color": "#FFA15A",
          "symbol": "circle"
         },
         "mode": "markers",
         "name": "9",
         "showlegend": true,
         "type": "scattergl",
         "x": [
          -8.728060722351074,
          -9.366430282592773,
          -9.44287109375,
          -9.305676460266113,
          -8.910889625549316,
          -9.081339836120605,
          -8.575851440429688,
          -8.850981712341309,
          -9.637162208557129,
          -8.87470531463623,
          -9.572137832641602,
          -9.461880683898926,
          -9.441752433776855,
          -8.674858093261719,
          -8.868983268737793,
          -8.876463890075684,
          -8.911425590515137,
          -9.610072135925293,
          -8.806703567504883,
          -8.606023788452148,
          -9.620644569396973,
          -8.909183502197266,
          -8.70132064819336,
          -9.640100479125977,
          -8.792845726013184,
          -8.53781795501709,
          -8.8682279586792,
          -8.571349143981934,
          -8.791661262512207,
          -8.941828727722168,
          -9.248966217041016,
          -9.137431144714355,
          -9.31431770324707,
          -8.836506843566895,
          -8.921333312988281,
          -9.24193286895752,
          -8.665699005126953,
          -8.66667652130127,
          -9.378077507019043,
          -9.442346572875977,
          -8.866247177124023,
          -8.566043853759766,
          -8.840119361877441,
          -9.066010475158691,
          -9.312119483947754,
          -8.867444038391113,
          -8.924650192260742,
          -9.643242835998535,
          -8.838055610656738,
          -9.412468910217285,
          -8.920280456542969,
          -9.375274658203125,
          -9.408186912536621,
          -8.660348892211914,
          -8.969812393188477,
          -9.35647201538086,
          -9.011238098144531,
          -8.648937225341797,
          -8.905072212219238,
          -9.13381576538086,
          -8.85647201538086,
          -9.094393730163574,
          -9.044391632080078,
          -8.597976684570312,
          -8.696022033691406,
          -8.884276390075684,
          -8.882434844970703,
          -8.987091064453125,
          -9.644725799560547,
          -9.023297309875488,
          -9.403630256652832,
          -9.040026664733887,
          -9.469076156616211,
          -8.86817455291748,
          -8.890451431274414,
          -8.63776683807373,
          -8.851800918579102,
          -9.157129287719727,
          -9.04777717590332,
          -8.807629585266113,
          -8.800854682922363,
          -8.839765548706055,
          -9.361197471618652,
          -9.312784194946289,
          -9.385391235351562,
          -8.784266471862793,
          -9.43890380859375,
          -9.05232048034668,
          -9.421699523925781,
          -9.406686782836914
         ],
         "xaxis": "x",
         "y": [
          9.338930130004883,
          9.6240816116333,
          9.683003425598145,
          9.742539405822754,
          9.087002754211426,
          9.42530632019043,
          9.61115837097168,
          10.059786796569824,
          10.12118911743164,
          8.997490882873535,
          10.144424438476562,
          9.708112716674805,
          9.738789558410645,
          9.720093727111816,
          8.879542350769043,
          9.992232322692871,
          10.009871482849121,
          10.085564613342285,
          9.359867095947266,
          9.708102226257324,
          10.099396705627441,
          9.321819305419922,
          9.437532424926758,
          10.12050724029541,
          10.003729820251465,
          9.698202133178711,
          9.104697227478027,
          9.749520301818848,
          9.15590763092041,
          9.087777137756348,
          9.518771171569824,
          9.422571182250977,
          9.594441413879395,
          9.520965576171875,
          9.49144458770752,
          9.504225730895996,
          9.923388481140137,
          9.621847152709961,
          9.638886451721191,
          9.696829795837402,
          8.919378280639648,
          9.685954093933105,
          9.893879890441895,
          9.319681167602539,
          9.610085487365723,
          9.491869926452637,
          9.554245948791504,
          10.146028518676758,
          8.89405345916748,
          9.706010818481445,
          9.349202156066895,
          9.653365135192871,
          9.705987930297852,
          9.564960479736328,
          9.48945140838623,
          9.679594039916992,
          9.393765449523926,
          9.608203887939453,
          9.343538284301758,
          9.546051025390625,
          9.52259349822998,
          9.164589881896973,
          9.434733390808105,
          9.834911346435547,
          9.62493896484375,
          9.96055793762207,
          8.987451553344727,
          9.12242603302002,
          10.142160415649414,
          9.120031356811523,
          9.640945434570312,
          9.179777145385742,
          9.762906074523926,
          10.01970100402832,
          9.478422164916992,
          9.593052864074707,
          8.939931869506836,
          9.428289413452148,
          9.153172492980957,
          9.930594444274902,
          9.27060604095459,
          9.967024803161621,
          9.597877502441406,
          9.598264694213867,
          9.66280746459961,
          9.410772323608398,
          9.743948936462402,
          9.489300727844238,
          9.727872848510742,
          9.707514762878418
         ],
         "yaxis": "y"
        },
        {
         "customdata": [
          [
           3,
           "Dehydration"
          ],
          [
           3,
           "Dehydration"
          ],
          [
           3,
           "Dehydration"
          ],
          [
           3,
           "Denaturing"
          ],
          [
           3,
           "Denaturant Source"
          ],
          [
           3,
           "Dehydration"
          ],
          [
           3,
           "Dehydration"
          ],
          [
           3,
           "Denaturing"
          ],
          [
           3,
           "Denaturant Source"
          ],
          [
           3,
           "Dehydration"
          ],
          [
           3,
           "Dehydration"
          ],
          [
           3,
           "Dehydration"
          ],
          [
           3,
           "Dehydration"
          ],
          [
           3,
           "Dehydration"
          ],
          [
           3,
           "Dehydration"
          ],
          [
           3,
           "Dehydration"
          ],
          [
           3,
           "Dehydration"
          ],
          [
           3,
           "Dehydration"
          ],
          [
           3,
           "Dehydration"
          ],
          [
           3,
           "Denaturing and Storage"
          ],
          [
           3,
           "Denaturant Addition"
          ],
          [
           3,
           "Dehydration"
          ],
          [
           3,
           "Dehydration"
          ],
          [
           3,
           "Denaturing"
          ],
          [
           3,
           "Denaturant Source"
          ],
          [
           3,
           "Dehydration"
          ],
          [
           3,
           "Dehydration"
          ],
          [
           3,
           "Dehydration"
          ],
          [
           3,
           "Dehydration"
          ],
          [
           3,
           "Denaturing"
          ],
          [
           3,
           "Denaturant Source"
          ],
          [
           3,
           "Dehydration"
          ],
          [
           3,
           "Dehydration"
          ],
          [
           3,
           "Dehydration"
          ],
          [
           3,
           "Dehydration"
          ],
          [
           3,
           "Dehydration"
          ],
          [
           3,
           "Dehydration"
          ],
          [
           3,
           "Dehydration"
          ],
          [
           3,
           "Dehydration"
          ],
          [
           3,
           "Dehydration"
          ],
          [
           3,
           "Dehydration"
          ],
          [
           3,
           "Denaturing and Storage"
          ],
          [
           3,
           "Denaturant Source"
          ],
          [
           3,
           "Dehydration"
          ],
          [
           3,
           "Dehydration"
          ],
          [
           3,
           "Dehydration"
          ],
          [
           3,
           "Dehydration"
          ],
          [
           3,
           "Dehydration"
          ],
          [
           3,
           "Dehydration"
          ],
          [
           3,
           "Dehydration"
          ],
          [
           3,
           "Dehydration"
          ],
          [
           3,
           "Dehydration"
          ],
          [
           3,
           "Dehydration"
          ],
          [
           3,
           "Dehydration"
          ],
          [
           3,
           "Dehydration"
          ],
          [
           3,
           "Dehydration"
          ],
          [
           3,
           "Dehydration"
          ],
          [
           3,
           "Dehydration"
          ],
          [
           3,
           "Dehydration"
          ],
          [
           3,
           "Dehydration"
          ],
          [
           3,
           "Denaturing"
          ],
          [
           3,
           "Gasoline Source"
          ],
          [
           3,
           "Dehydration"
          ],
          [
           3,
           "Dehydration"
          ],
          [
           3,
           "Dehydration"
          ],
          [
           3,
           "Dehydration"
          ],
          [
           3,
           "Dehydration"
          ],
          [
           3,
           "Dehydration"
          ],
          [
           3,
           "Dehydration"
          ],
          [
           3,
           "Dehydration"
          ],
          [
           3,
           "Dehydration"
          ],
          [
           3,
           "Dehydration"
          ],
          [
           3,
           "Dehydration"
          ],
          [
           3,
           "Dehydration"
          ],
          [
           3,
           "Dehydration"
          ],
          [
           3,
           "Dehydration"
          ],
          [
           3,
           "Dehydration"
          ],
          [
           3,
           "Dehydration"
          ],
          [
           3,
           "Denaturing and Storage"
          ],
          [
           3,
           "Denaturant Source"
          ],
          [
           3,
           "Dehydration"
          ],
          [
           3,
           "Dehydration"
          ],
          [
           3,
           "Dehydration"
          ],
          [
           3,
           "Dehydration"
          ],
          [
           3,
           "Dehydration"
          ],
          [
           3,
           "Dehydration"
          ],
          [
           3,
           "Dehydration"
          ],
          [
           3,
           "Dehydration"
          ],
          [
           3,
           "Dehydration"
          ],
          [
           3,
           "Dehydration"
          ],
          [
           3,
           "Dehydration"
          ],
          [
           3,
           "Dehydration"
          ],
          [
           3,
           "Dehydration"
          ],
          [
           3,
           "Dehydration"
          ],
          [
           3,
           "Dehydration"
          ],
          [
           3,
           "Dehydration"
          ],
          [
           3,
           "Dehydration"
          ],
          [
           3,
           "Dehydration"
          ],
          [
           3,
           "Dehydration"
          ],
          [
           3,
           "Dehydration"
          ],
          [
           3,
           "Dehydration"
          ],
          [
           3,
           "Dehydration"
          ],
          [
           3,
           "Dehydration"
          ],
          [
           3,
           "Dehydration"
          ],
          [
           3,
           "Dehydration"
          ],
          [
           3,
           "Dehydration"
          ]
         ],
         "hovertemplate": "Cluster=3<br>cluster=%{customdata[0]}<br>title=%{customdata[1]}<extra></extra>",
         "legendgroup": "3",
         "marker": {
          "color": "#19d3f3",
          "symbol": "circle"
         },
         "mode": "markers",
         "name": "3",
         "showlegend": true,
         "type": "scattergl",
         "x": [
          -6.11346960067749,
          -6.005714416503906,
          -6.175841808319092,
          5.10637903213501,
          4.82806396484375,
          -6.11635160446167,
          -5.836492538452148,
          5.095497131347656,
          4.829119682312012,
          -5.974238395690918,
          -6.624182224273682,
          -6.052882194519043,
          -6.38804292678833,
          -6.048521041870117,
          -6.370934009552002,
          -6.047987461090088,
          -6.215590953826904,
          -6.087173938751221,
          -6.2380452156066895,
          5.164150714874268,
          4.882496356964111,
          -6.23388671875,
          -5.84832239151001,
          5.098067760467529,
          4.8426899909973145,
          -6.136887550354004,
          -6.155249118804932,
          -6.168189525604248,
          -6.456855297088623,
          5.073388576507568,
          4.83769416809082,
          -6.13893461227417,
          -6.246763229370117,
          -6.1125969886779785,
          -6.1194891929626465,
          -6.627102375030518,
          -6.617302417755127,
          -6.131231784820557,
          -5.919870376586914,
          -6.161412715911865,
          -6.115580081939697,
          5.115607738494873,
          4.837758541107178,
          -6.268957614898682,
          -6.159182548522949,
          -5.724201202392578,
          -6.128267765045166,
          -6.077915668487549,
          -6.067645072937012,
          -6.289790630340576,
          -6.673787593841553,
          -6.055923938751221,
          -6.169530868530273,
          -5.903763771057129,
          -6.65149450302124,
          -6.179320812225342,
          -6.176628589630127,
          -6.279174327850342,
          -5.861821174621582,
          -6.40799617767334,
          5.105533123016357,
          4.904305458068848,
          -5.834484577178955,
          -6.179687976837158,
          -6.146177291870117,
          -6.2033305168151855,
          -6.1241135597229,
          -6.096829414367676,
          -6.1275811195373535,
          -6.094883918762207,
          -6.612422466278076,
          -5.783530235290527,
          -5.900193214416504,
          -5.7398552894592285,
          -5.965261936187744,
          -6.078165531158447,
          -6.141365051269531,
          -6.286149978637695,
          5.1555705070495605,
          4.832007884979248,
          -6.138502597808838,
          -6.143195152282715,
          -6.317057132720947,
          -6.058029651641846,
          -6.15542459487915,
          -6.288296222686768,
          -6.16530179977417,
          -6.177576065063477,
          -5.899207592010498,
          -6.030338764190674,
          -6.183704853057861,
          -6.261830806732178,
          -6.279751300811768,
          -6.158553600311279,
          -5.958920955657959,
          -5.820729732513428,
          -5.824892520904541,
          -6.63760232925415,
          -6.5860700607299805,
          -6.097265243530273,
          -6.141556739807129,
          -6.104372501373291,
          -6.624531269073486,
          -5.760900974273682,
          -6.615096092224121,
          -6.6296162605285645
         ],
         "xaxis": "x",
         "y": [
          -6.613533020019531,
          -8.591755867004395,
          -6.875084400177002,
          -10.339055061340332,
          -10.08307933807373,
          -7.287333011627197,
          -6.998303413391113,
          -10.332915306091309,
          -10.086971282958984,
          -7.010799884796143,
          -8.010717391967773,
          -8.51997184753418,
          -7.854194164276123,
          -8.5150728225708,
          -7.8849310874938965,
          -8.539237976074219,
          -7.398967266082764,
          -8.5055570602417,
          -7.253424644470215,
          -10.360626220703125,
          -10.131648063659668,
          -8.375971794128418,
          -7.069728851318359,
          -10.33276081085205,
          -10.098535537719727,
          -8.445496559143066,
          -6.520834445953369,
          -7.26937198638916,
          -7.938460826873779,
          -10.30771541595459,
          -10.092402458190918,
          -6.537086009979248,
          -6.890300273895264,
          -8.477520942687988,
          -7.364287376403809,
          -7.970135688781738,
          -7.932814121246338,
          -7.236503601074219,
          -7.07041597366333,
          -6.543257713317871,
          -8.44383716583252,
          -10.340790748596191,
          -10.093780517578125,
          -8.349308967590332,
          -6.556573867797852,
          -6.897444725036621,
          -6.554230213165283,
          -8.433716773986816,
          -8.503344535827637,
          -7.320304870605469,
          -7.903413772583008,
          -8.504429817199707,
          -6.587579727172852,
          -7.118971824645996,
          -7.98202657699585,
          -6.562828540802002,
          -7.105842590332031,
          -7.27631139755249,
          -7.01711368560791,
          -7.905946731567383,
          -10.33803939819336,
          -10.14966106414795,
          -6.680954456329346,
          -6.525975704193115,
          -6.571003437042236,
          -7.336098670959473,
          -7.293297290802002,
          -6.57381534576416,
          -6.621280193328857,
          -8.46971321105957,
          -7.869009494781494,
          -6.926153659820557,
          -7.068532943725586,
          -6.867196083068848,
          -7.109528064727783,
          -8.325629234313965,
          -7.251232147216797,
          -7.380395889282227,
          -10.347777366638184,
          -10.086874008178711,
          -8.446967124938965,
          -7.275185585021973,
          -7.265658855438232,
          -7.155167102813721,
          -8.39076042175293,
          -7.3274827003479,
          -6.5275492668151855,
          -6.599050521850586,
          -7.015479564666748,
          -8.540190696716309,
          -6.890796661376953,
          -7.128323554992676,
          -7.281073093414307,
          -7.293451309204102,
          -7.066218376159668,
          -6.946566581726074,
          -6.741923809051514,
          -7.955292224884033,
          -7.883312702178955,
          -6.594827175140381,
          -7.324810028076172,
          -8.427899360656738,
          -7.933367729187012,
          -6.895022392272949,
          -7.924618244171143,
          -7.940268039703369
         ],
         "yaxis": "y"
        },
        {
         "customdata": [
          [
           6,
           "Waste Treatment"
          ],
          [
           6,
           "Waste Management and By-product Recovery"
          ],
          [
           6,
           "Waste Management"
          ],
          [
           6,
           "Waste Treatment"
          ],
          [
           6,
           "Waste Treatment"
          ],
          [
           6,
           "Waste Treatment"
          ],
          [
           6,
           "Waste Treatment"
          ],
          [
           6,
           "Waste Management"
          ],
          [
           6,
           "Waste Management"
          ],
          [
           6,
           "Waste Treatment"
          ],
          [
           6,
           "Waste Management"
          ],
          [
           6,
           "Waste Management"
          ],
          [
           6,
           "Waste Management"
          ],
          [
           6,
           "Waste Management"
          ],
          [
           6,
           "Waste Management"
          ],
          [
           6,
           "Waste Treatment and Management"
          ],
          [
           6,
           "Waste Management"
          ],
          [
           6,
           "Waste Management and Byproduct Recovery"
          ],
          [
           6,
           "Waste Treatment"
          ],
          [
           6,
           "Waste Treatment"
          ],
          [
           6,
           "Waste Management"
          ],
          [
           6,
           "Waste Management"
          ],
          [
           6,
           "Waste Management"
          ],
          [
           6,
           "Waste Management"
          ],
          [
           6,
           "Waste Management"
          ],
          [
           6,
           "Waste Management"
          ],
          [
           6,
           "Waste Management and Byproduct Recovery"
          ],
          [
           6,
           "Waste Treatment"
          ],
          [
           6,
           "Waste Management"
          ],
          [
           6,
           "Waste Management"
          ],
          [
           6,
           "Waste Treatment"
          ],
          [
           6,
           "Waste Management and By-product Recovery"
          ],
          [
           6,
           "Waste Management and By-product Recovery"
          ],
          [
           6,
           "Waste Management"
          ],
          [
           6,
           "Waste Treatment"
          ],
          [
           6,
           "Waste Management"
          ],
          [
           6,
           "Waste Management"
          ],
          [
           6,
           "Waste Management"
          ],
          [
           6,
           "Waste Management"
          ],
          [
           6,
           "Waste Management"
          ],
          [
           6,
           "Waste Management"
          ],
          [
           6,
           "Waste Treatment"
          ],
          [
           6,
           "Waste Management"
          ],
          [
           6,
           "Waste Management"
          ],
          [
           6,
           "Waste Management"
          ],
          [
           6,
           "Waste Management"
          ],
          [
           6,
           "Waste Management"
          ],
          [
           6,
           "Waste Treatment"
          ],
          [
           6,
           "Waste Management"
          ],
          [
           6,
           "Waste Treatment"
          ],
          [
           6,
           "Waste Management"
          ],
          [
           6,
           "Waste Treatment"
          ],
          [
           6,
           "Waste Management"
          ],
          [
           6,
           "Waste Management"
          ],
          [
           6,
           "Waste Management"
          ],
          [
           6,
           "Waste Management"
          ],
          [
           6,
           "Waste Management and By-product Recovery"
          ],
          [
           6,
           "Waste Management"
          ],
          [
           6,
           "Waste Treatment and By-product Recovery"
          ],
          [
           6,
           "Waste Management"
          ],
          [
           6,
           "Waste Management"
          ],
          [
           6,
           "Waste Management"
          ],
          [
           6,
           "Waste Treatment"
          ],
          [
           6,
           "Waste Management"
          ],
          [
           6,
           "Waste Management"
          ],
          [
           6,
           "Waste Management and By-product Utilization"
          ],
          [
           6,
           "Waste Management"
          ],
          [
           6,
           "Waste Management"
          ],
          [
           6,
           "Waste Treatment and By-product Recovery"
          ],
          [
           6,
           "Waste Treatment"
          ]
         ],
         "hovertemplate": "Cluster=6<br>cluster=%{customdata[0]}<br>title=%{customdata[1]}<extra></extra>",
         "legendgroup": "6",
         "marker": {
          "color": "#FF6692",
          "symbol": "circle"
         },
         "mode": "markers",
         "name": "6",
         "showlegend": true,
         "type": "scattergl",
         "x": [
          1.0360361337661743,
          2.480280637741089,
          2.7985823154449463,
          0.9961782693862915,
          1.0726526975631714,
          0.9280073642730713,
          0.9000781178474426,
          1.345613718032837,
          1.40249502658844,
          1.0013318061828613,
          1.4614330530166626,
          1.4812103509902954,
          1.9139118194580078,
          2.466994524002075,
          1.5156493186950684,
          1.216611623764038,
          2.7462117671966553,
          2.6500840187072754,
          0.9801012277603149,
          1.0051658153533936,
          1.439568042755127,
          2.7444095611572266,
          1.5068250894546509,
          2.8476693630218506,
          1.6159727573394775,
          2.7362539768218994,
          2.30731201171875,
          1.0468449592590332,
          2.8135743141174316,
          1.3635485172271729,
          1.0779685974121094,
          2.443119764328003,
          2.4664523601531982,
          1.5466687679290771,
          0.9563273191452026,
          2.693455219268799,
          1.5906068086624146,
          2.699277877807617,
          2.8433449268341064,
          2.667171001434326,
          1.6348390579223633,
          0.9486740231513977,
          2.424102783203125,
          2.7087960243225098,
          2.702712297439575,
          2.515868663787842,
          2.4520716667175293,
          1.0420405864715576,
          1.4620821475982666,
          1.016689419746399,
          2.7944388389587402,
          0.9834529757499695,
          1.4140205383300781,
          2.7353456020355225,
          2.6966683864593506,
          2.483861207962036,
          2.5047197341918945,
          1.4748936891555786,
          1.9631317853927612,
          2.772117853164673,
          2.7956271171569824,
          2.745893955230713,
          2.8671817779541016,
          2.710880756378174,
          1.3669620752334595,
          2.5639114379882812,
          1.5723817348480225,
          1.5753816366195679,
          2.3962762355804443,
          1.0539482831954956
         ],
         "xaxis": "x",
         "y": [
          10.686295509338379,
          11.701040267944336,
          11.86962604522705,
          10.665193557739258,
          10.689826011657715,
          10.610736846923828,
          10.585672378540039,
          10.756624221801758,
          10.812955856323242,
          10.669525146484375,
          10.84799575805664,
          10.88655948638916,
          11.172584533691406,
          11.556846618652344,
          10.885485649108887,
          10.743393898010254,
          11.884499549865723,
          11.801702499389648,
          10.638066291809082,
          10.69726848602295,
          10.849058151245117,
          11.802943229675293,
          10.916380882263184,
          11.919281959533691,
          10.98984146118164,
          11.837014198303223,
          11.586309432983398,
          10.685447692871094,
          11.864062309265137,
          10.794404029846191,
          10.738917350769043,
          11.677352905273438,
          11.70553207397461,
          11.029579162597656,
          10.606001853942871,
          11.848050117492676,
          10.968114852905273,
          11.844988822937012,
          11.93735122680664,
          11.805867195129395,
          11.053603172302246,
          10.61116886138916,
          11.543488502502441,
          11.841075897216797,
          11.826045989990234,
          11.588292121887207,
          11.557897567749023,
          10.684576988220215,
          10.850783348083496,
          10.662230491638184,
          11.894391059875488,
          10.657086372375488,
          10.832871437072754,
          11.7945556640625,
          11.802659034729004,
          11.5867338180542,
          11.707736015319824,
          10.872766494750977,
          11.318387985229492,
          11.865058898925781,
          11.8815279006958,
          11.790169715881348,
          11.946702003479004,
          11.818525314331055,
          10.79928970336914,
          11.697303771972656,
          10.947713851928711,
          10.955129623413086,
          11.665741920471191,
          10.638347625732422
         ],
         "yaxis": "y"
        },
        {
         "customdata": [
          [
           0,
           "Corn Stover Feedstock Source"
          ],
          [
           0,
           "Raw Corn Stover Source"
          ],
          [
           0,
           "Raw Corn Stover Source"
          ],
          [
           0,
           "Raw Corn Stover Source"
          ],
          [
           0,
           "Raw Corn Stover Source"
          ],
          [
           0,
           "Raw Corn Stover Source"
          ],
          [
           0,
           "Raw Corn Stover Source"
          ],
          [
           0,
           "Raw Corn Stover Source"
          ],
          [
           0,
           "Raw Corn Stover Source"
          ],
          [
           0,
           "Raw Corn Stover Source"
          ],
          [
           0,
           "Raw Corn Stover Source"
          ],
          [
           0,
           "Raw Corn Stover Source"
          ],
          [
           0,
           "Raw Corn Stover Source"
          ],
          [
           0,
           "Raw Corn Stover Source"
          ],
          [
           0,
           "Raw Corn Stover Source"
          ],
          [
           0,
           "Raw Corn Stover Source"
          ],
          [
           0,
           "Raw Corn Stover Source"
          ],
          [
           0,
           "Raw Corn Stover Source"
          ],
          [
           0,
           "Raw Corn Stover Source"
          ],
          [
           0,
           "Raw Corn Stover Source"
          ],
          [
           0,
           "Raw Corn Stover Source"
          ],
          [
           0,
           "Raw Corn Stover Source"
          ],
          [
           0,
           "Raw Corn Stover Source"
          ],
          [
           0,
           "Raw Corn Stover Source"
          ],
          [
           0,
           "Raw Corn Stover Source"
          ],
          [
           0,
           "Raw Corn Stover Source"
          ],
          [
           0,
           "Raw Corn Stover Source"
          ],
          [
           0,
           "Raw Corn Stover Source"
          ],
          [
           0,
           "Raw Corn Stover Source"
          ],
          [
           0,
           "Raw Corn Stover Source"
          ],
          [
           0,
           "Raw Corn Stover Source"
          ],
          [
           0,
           "Raw Corn Stover Source"
          ],
          [
           0,
           "Raw Corn Stover Source"
          ],
          [
           0,
           "Raw Corn Stover Source"
          ],
          [
           0,
           "Raw Corn Stover Source"
          ],
          [
           0,
           "Raw Corn Stover Source"
          ],
          [
           0,
           "Raw Corn Stover Source"
          ],
          [
           0,
           "Raw Corn Stover Source"
          ],
          [
           0,
           "Raw Corn Stover Source"
          ],
          [
           0,
           "Raw Corn Stover Source"
          ],
          [
           0,
           "Raw Corn Stover Source"
          ],
          [
           0,
           "Raw Corn Stover Source"
          ],
          [
           0,
           "Raw Corn Stover Source"
          ],
          [
           0,
           "Raw Corn Stover Source"
          ],
          [
           0,
           "Raw Corn Stover Source"
          ],
          [
           0,
           "Raw Corn Stover Source"
          ],
          [
           0,
           "Raw Corn Stover Source"
          ],
          [
           0,
           "Raw Corn Stover Source"
          ],
          [
           0,
           "Raw Corn Stover Source"
          ],
          [
           0,
           "Raw Corn Stover Source"
          ],
          [
           0,
           "Raw Corn Stover Source"
          ],
          [
           0,
           "Raw Corn Stover Source"
          ],
          [
           0,
           "Raw Corn Stover Source"
          ],
          [
           0,
           "Raw Corn Stover Source"
          ],
          [
           0,
           "Raw Corn Stover Source"
          ],
          [
           0,
           "Raw Corn Stover Source"
          ],
          [
           0,
           "Raw Corn Stover Source"
          ],
          [
           0,
           "Raw Corn Stover Source"
          ],
          [
           0,
           "Raw Corn Stover Source"
          ],
          [
           0,
           "Raw Corn Stover Source"
          ],
          [
           0,
           "Raw Corn Stover Source"
          ],
          [
           0,
           "Raw Corn Stover Source"
          ],
          [
           0,
           "Raw Corn Stover Source"
          ],
          [
           0,
           "Raw Corn Stover Source"
          ],
          [
           0,
           "Raw Corn Stover Source"
          ],
          [
           0,
           "Raw Corn Stover Source"
          ],
          [
           0,
           "Raw Corn Stover Source"
          ],
          [
           0,
           "Raw Corn Stover Source"
          ],
          [
           0,
           "Raw Corn Stover Source"
          ],
          [
           0,
           "Raw Corn Stover Source"
          ],
          [
           0,
           "Raw Corn Stover Source"
          ],
          [
           0,
           "Raw Corn Stover Source"
          ],
          [
           0,
           "Raw Corn Stover Source"
          ],
          [
           0,
           "Raw Corn Stover Source"
          ],
          [
           0,
           "Raw Corn Stover Source"
          ],
          [
           0,
           "Raw Corn Stover Source"
          ],
          [
           0,
           "Raw Corn Stover Source"
          ],
          [
           0,
           "Raw Corn Stover Source"
          ],
          [
           0,
           "Raw Corn Stover Source"
          ],
          [
           0,
           "Raw Corn Stover Source"
          ],
          [
           0,
           "Raw Corn Stover Source"
          ],
          [
           0,
           "Raw Corn Stover Source"
          ],
          [
           0,
           "Raw Corn Stover Source"
          ],
          [
           0,
           "Raw Corn Stover Source"
          ],
          [
           0,
           "Raw Corn Stover Source"
          ],
          [
           0,
           "Raw Corn Stover Source"
          ],
          [
           0,
           "Raw Corn Stover Source"
          ],
          [
           0,
           "Raw Corn Stover Source"
          ],
          [
           0,
           "Raw Corn Stover Source"
          ],
          [
           0,
           "Raw Corn Stover Source"
          ]
         ],
         "hovertemplate": "Cluster=0<br>cluster=%{customdata[0]}<br>title=%{customdata[1]}<extra></extra>",
         "legendgroup": "0",
         "marker": {
          "color": "#B6E880",
          "symbol": "circle"
         },
         "mode": "markers",
         "name": "0",
         "showlegend": true,
         "type": "scattergl",
         "x": [
          22.698837280273438,
          22.58232879638672,
          22.704256057739258,
          21.958314895629883,
          22.161460876464844,
          22.236221313476562,
          22.7413387298584,
          22.02893829345703,
          22.29726791381836,
          22.738887786865234,
          22.660512924194336,
          22.75540542602539,
          23.067466735839844,
          22.7573184967041,
          22.84810447692871,
          22.625083923339844,
          22.7716064453125,
          22.855518341064453,
          22.974313735961914,
          22.420007705688477,
          22.346229553222656,
          22.438302993774414,
          22.69377326965332,
          22.054658889770508,
          21.914775848388672,
          22.078697204589844,
          22.371936798095703,
          22.185108184814453,
          22.79507064819336,
          23.04694175720215,
          22.888395309448242,
          22.472261428833008,
          22.001834869384766,
          23.05697250366211,
          22.023412704467773,
          22.7831974029541,
          23.06735610961914,
          22.59286880493164,
          23.054000854492188,
          23.03622817993164,
          22.912933349609375,
          22.133892059326172,
          22.01175308227539,
          22.481727600097656,
          22.832351684570312,
          22.771060943603516,
          22.732004165649414,
          22.75650405883789,
          22.369094848632812,
          22.667118072509766,
          22.05878448486328,
          22.773530960083008,
          22.826580047607422,
          22.0617618560791,
          22.249732971191406,
          22.318641662597656,
          22.059520721435547,
          22.781213760375977,
          22.936941146850586,
          22.286991119384766,
          22.67167854309082,
          22.93318748474121,
          22.779537200927734,
          22.121902465820312,
          23.008665084838867,
          22.617231369018555,
          22.694150924682617,
          22.545045852661133,
          22.8814754486084,
          22.766157150268555,
          22.022119522094727,
          22.43475341796875,
          22.849458694458008,
          22.59166717529297,
          22.77225685119629,
          22.667367935180664,
          22.018579483032227,
          22.15667152404785,
          22.710186004638672,
          22.899744033813477,
          22.808547973632812,
          22.57512664794922,
          22.739822387695312,
          22.387434005737305,
          22.546756744384766,
          22.766204833984375,
          22.440628051757812,
          23.030765533447266,
          23.08329963684082,
          22.995317459106445
         ],
         "xaxis": "x",
         "y": [
          8.461572647094727,
          8.719889640808105,
          8.535402297973633,
          9.51972484588623,
          9.030116081237793,
          9.069575309753418,
          8.818327903747559,
          9.524091720581055,
          9.02741527557373,
          8.472975730895996,
          8.572093963623047,
          8.471598625183105,
          9.35840892791748,
          8.471870422363281,
          8.946430206298828,
          8.762125968933105,
          8.404520034790039,
          8.944911003112793,
          9.309446334838867,
          8.914518356323242,
          9.082512855529785,
          9.414663314819336,
          9.06275463104248,
          9.431670188903809,
          9.504237174987793,
          9.362997055053711,
          8.909587860107422,
          9.094718933105469,
          8.778085708618164,
          9.445286750793457,
          9.095383644104004,
          9.514652252197266,
          9.507696151733398,
          9.40435791015625,
          9.427787780761719,
          8.480042457580566,
          9.407620429992676,
          9.463918685913086,
          9.388282775878906,
          9.376985549926758,
          9.16119384765625,
          9.145225524902344,
          9.418795585632324,
          8.888012886047363,
          9.241436958312988,
          8.406982421875,
          8.837650299072266,
          8.629570960998535,
          8.936656951904297,
          8.881046295166016,
          9.330551147460938,
          9.128190040588379,
          9.291305541992188,
          9.29403018951416,
          9.32412052154541,
          9.178498268127441,
          9.487936973571777,
          8.425932884216309,
          9.220391273498535,
          9.054952621459961,
          9.148606300354004,
          9.18549919128418,
          9.30988597869873,
          9.227335929870605,
          9.388282775878906,
          9.015490531921387,
          8.767243385314941,
          8.975131034851074,
          9.299087524414062,
          9.333353996276855,
          9.484103202819824,
          9.467399597167969,
          9.267395973205566,
          8.710168838500977,
          8.598478317260742,
          8.8814058303833,
          9.479352951049805,
          9.274465560913086,
          8.900907516479492,
          9.264924049377441,
          9.014745712280273,
          9.003653526306152,
          9.302032470703125,
          8.91458511352539,
          9.434649467468262,
          8.438096046447754,
          9.390473365783691,
          9.427509307861328,
          9.418848037719727,
          9.337138175964355
         ],
         "yaxis": "y"
        },
        {
         "customdata": [
          [
           1,
           "Fuel-Grade Ethanol Sink"
          ],
          [
           1,
           "Fuel-Grade Ethanol Sink"
          ],
          [
           1,
           "Water Sink"
          ],
          [
           1,
           "Denatured Ethanol Sink"
          ],
          [
           1,
           "Water Sink"
          ],
          [
           1,
           "Fuel-Grade Ethanol Sink"
          ],
          [
           1,
           "Denatured Ethanol Sink"
          ],
          [
           1,
           "Anhydrous Ethanol Sink"
          ],
          [
           1,
           "Fuel-Grade Ethanol Sink"
          ],
          [
           1,
           "Fuel-Grade Ethanol Sink"
          ],
          [
           1,
           "Anhydrous Ethanol Sink"
          ],
          [
           1,
           "Fuel-Grade Ethanol Sink"
          ],
          [
           1,
           "Fuel-Grade Ethanol Sink"
          ],
          [
           1,
           "Water Sink"
          ],
          [
           1,
           "Fuel-Grade Ethanol Sink"
          ],
          [
           1,
           "Fuel-Grade Ethanol Sink"
          ],
          [
           1,
           "Fuel-Grade Ethanol Sink"
          ],
          [
           1,
           "Water Sink"
          ],
          [
           1,
           "Denatured Ethanol Sink"
          ],
          [
           1,
           "Water Sink"
          ],
          [
           1,
           "Fuel-Grade Ethanol Sink"
          ],
          [
           1,
           "Denatured Ethanol Sink"
          ],
          [
           1,
           "Fuel-Grade Ethanol Sink"
          ],
          [
           1,
           "Fuel-grade Ethanol Sink"
          ],
          [
           1,
           "Fuel-Grade Ethanol Sink"
          ],
          [
           1,
           "Denatured Ethanol Sink"
          ],
          [
           1,
           "Fuel-Grade Ethanol Sink"
          ],
          [
           1,
           "Anhydrous Ethanol Sink"
          ],
          [
           1,
           "Fuel-Grade Ethanol Sink"
          ],
          [
           1,
           "Dehydrated Water Sink"
          ],
          [
           1,
           "Fuel-grade Ethanol Sink"
          ],
          [
           1,
           "Water Sink"
          ],
          [
           1,
           "Fuel-Grade Ethanol Sink"
          ],
          [
           1,
           "Fuel-Grade Ethanol Sink"
          ],
          [
           1,
           "Water Sink"
          ],
          [
           1,
           "Fuel-Grade Ethanol Sink"
          ],
          [
           1,
           "Dehydrated Water Sink"
          ],
          [
           1,
           "Fuel-Grade Ethanol Sink"
          ],
          [
           1,
           "Water Sink"
          ],
          [
           1,
           "Fuel-Grade Ethanol Sink"
          ],
          [
           1,
           "Water Stream Sink"
          ],
          [
           1,
           "Denatured Ethanol Sink"
          ],
          [
           1,
           "Fuel-Grade Ethanol Sink"
          ],
          [
           1,
           "Fuel-Grade Ethanol Sink"
          ],
          [
           1,
           "Fuel-Grade Ethanol Sink"
          ],
          [
           1,
           "Fuel-Grade Ethanol Sink"
          ],
          [
           1,
           "Fuel-Grade Ethanol Sink"
          ],
          [
           1,
           "Water Stream Sink"
          ],
          [
           1,
           "Fuel-Grade Ethanol Sink"
          ],
          [
           1,
           "Water Sink"
          ],
          [
           1,
           "Fuel-Grade Ethanol Sink"
          ],
          [
           1,
           "Anhydrous Ethanol Sink"
          ],
          [
           1,
           "Fuel-Grade Ethanol Sink"
          ],
          [
           1,
           "Fuel-Grade Ethanol Sink"
          ],
          [
           1,
           "Dehydrated Water Sink"
          ],
          [
           1,
           "Fuel-Grade Ethanol Sink"
          ],
          [
           1,
           "Anhydrous Ethanol Sink"
          ],
          [
           1,
           "Fuel-Grade Ethanol Sink"
          ],
          [
           1,
           "Fuel-Grade Ethanol Sink"
          ],
          [
           1,
           "Fuel-Grade Ethanol Sink"
          ],
          [
           1,
           "Fuel-Grade Ethanol Sink"
          ],
          [
           1,
           "Denatured Ethanol Sink"
          ],
          [
           1,
           "Fuel-Grade Ethanol Sink"
          ],
          [
           1,
           "Fuel-Grade Ethanol Sink"
          ],
          [
           1,
           "Water Stream Sink"
          ],
          [
           1,
           "Fuel-Grade Ethanol Sink"
          ],
          [
           1,
           "Fuel-Grade Ethanol Sink"
          ],
          [
           1,
           "Fuel-Grade Ethanol Sink"
          ],
          [
           1,
           "Water Sink"
          ],
          [
           1,
           "Fuel-Grade Ethanol Sink"
          ],
          [
           1,
           "Fuel-Grade Ethanol Sink"
          ],
          [
           1,
           "Fuel-Grade Ethanol Sink"
          ],
          [
           1,
           "Anhydrous Ethanol Sink"
          ],
          [
           1,
           "Fuel-Grade Ethanol Sink"
          ],
          [
           1,
           "Water Stream Sink"
          ],
          [
           1,
           "Fuel-Grade Ethanol Sink"
          ],
          [
           1,
           "Fuel-Grade Ethanol Sink"
          ],
          [
           1,
           "Fuel-Grade Ethanol Sink"
          ],
          [
           1,
           "Fuel-Grade Ethanol Sink"
          ],
          [
           1,
           "Fuel-Grade Ethanol Sink"
          ],
          [
           1,
           "Denatured Ethanol Sink"
          ],
          [
           1,
           "Fuel-Grade Ethanol Sink"
          ],
          [
           1,
           "Fuel-Grade Ethanol Sink"
          ],
          [
           1,
           "Water Sink"
          ],
          [
           1,
           "Fuel-grade Ethanol Sink"
          ],
          [
           1,
           "Fuel-Grade Ethanol Sink"
          ],
          [
           1,
           "Water Sink"
          ],
          [
           1,
           "Fuel-Grade Ethanol Sink"
          ],
          [
           1,
           "Fuel-Grade Ethanol Sink"
          ],
          [
           1,
           "Fuel-Grade Ethanol Sink"
          ],
          [
           1,
           "Fuel-Grade Ethanol Sink"
          ],
          [
           1,
           "Fuel-Grade Ethanol Sink"
          ],
          [
           1,
           "Fuel-Grade Ethanol Sink"
          ],
          [
           1,
           "Dehydration Waste Sink"
          ],
          [
           1,
           "Fuel-grade Ethanol Sink"
          ],
          [
           1,
           "Fuel-Grade Ethanol Sink"
          ],
          [
           1,
           "Anhydrous Ethanol Sink"
          ],
          [
           1,
           "Fuel-Grade Ethanol Sink"
          ],
          [
           1,
           "Fuel-Grade Ethanol Sink"
          ],
          [
           1,
           "Water Stream Sink"
          ],
          [
           1,
           "Fuel-Grade Ethanol Sink"
          ],
          [
           1,
           "Fuel-Grade Ethanol Sink"
          ],
          [
           1,
           "Water Sink"
          ],
          [
           1,
           "Anhydrous Ethanol Sink"
          ],
          [
           1,
           "Fuel-Grade Ethanol Sink"
          ],
          [
           1,
           "Fuel-Grade Ethanol Sink"
          ],
          [
           1,
           "Water Sink"
          ],
          [
           1,
           "Fuel-Grade Ethanol Sink"
          ],
          [
           1,
           "Fuel-Grade Ethanol Sink"
          ],
          [
           1,
           "Fuel-Grade Ethanol Sink"
          ],
          [
           1,
           "Fuel-Grade Ethanol Sink"
          ],
          [
           1,
           "Fuel-Grade Ethanol Sink"
          ],
          [
           1,
           "Fuel-Grade Ethanol Sink"
          ]
         ],
         "hovertemplate": "Cluster=1<br>cluster=%{customdata[0]}<br>title=%{customdata[1]}<extra></extra>",
         "legendgroup": "1",
         "marker": {
          "color": "#FF97FF",
          "symbol": "circle"
         },
         "mode": "markers",
         "name": "1",
         "showlegend": true,
         "type": "scattergl",
         "x": [
          4.837867259979248,
          2.5876247882843018,
          3.022045850753784,
          5.501513957977295,
          3.0144293308258057,
          2.366238832473755,
          5.517270565032959,
          3.606527328491211,
          4.8124165534973145,
          2.3929872512817383,
          3.512474298477173,
          2.4201512336730957,
          4.863131523132324,
          3.088120937347412,
          2.844998598098755,
          4.998933792114258,
          2.6469249725341797,
          2.8445005416870117,
          5.537356376647949,
          3.038743257522583,
          4.808060646057129,
          5.493191719055176,
          2.59572696685791,
          2.3729395866394043,
          4.842339515686035,
          5.513058185577393,
          2.5248515605926514,
          3.6545116901397705,
          2.658663749694824,
          2.8825244903564453,
          5.238109588623047,
          2.9380500316619873,
          5.267230987548828,
          4.808945655822754,
          2.983966588973999,
          2.3746397495269775,
          2.8496861457824707,
          4.73431396484375,
          2.9793925285339355,
          5.255425453186035,
          2.9807980060577393,
          5.5254926681518555,
          2.392636775970459,
          2.624267339706421,
          2.519423484802246,
          4.83504581451416,
          2.6561849117279053,
          2.8803000450134277,
          2.3640716075897217,
          3.0438432693481445,
          5.241942405700684,
          3.5076165199279785,
          2.6506667137145996,
          2.7830312252044678,
          2.8691554069519043,
          5.197218894958496,
          3.61031174659729,
          5.2128729820251465,
          4.917196750640869,
          2.592029094696045,
          4.803524494171143,
          5.5545549392700195,
          2.7091896533966064,
          4.895232200622559,
          2.962219476699829,
          2.6176486015319824,
          5.170598030090332,
          2.660149335861206,
          3.0218560695648193,
          5.278698921203613,
          2.426197052001953,
          2.6709916591644287,
          3.6160852909088135,
          5.223914623260498,
          2.9408469200134277,
          2.405029058456421,
          4.925719261169434,
          2.7780966758728027,
          2.3895750045776367,
          2.503492593765259,
          5.532286167144775,
          4.862399578094482,
          2.902252435684204,
          2.9834463596343994,
          2.7035973072052,
          4.9346923828125,
          2.9441750049591064,
          2.3913683891296387,
          2.426166296005249,
          2.8739376068115234,
          2.6028542518615723,
          2.474292516708374,
          2.3762052059173584,
          2.829752206802368,
          4.796065330505371,
          4.8466105461120605,
          3.6335246562957764,
          4.817137718200684,
          4.830913066864014,
          2.9089372158050537,
          4.797887325286865,
          2.435455560684204,
          3.012032985687256,
          3.599447727203369,
          2.3910000324249268,
          2.439028024673462,
          3.0729031562805176,
          2.7930703163146973,
          2.9100942611694336,
          5.2234110832214355,
          2.5033342838287354,
          2.5194036960601807,
          5.096843719482422
         ],
         "xaxis": "x",
         "y": [
          -3.4091787338256836,
          -3.595207691192627,
          5.166961193084717,
          -10.454471588134766,
          5.169863700866699,
          -3.1373801231384277,
          -10.47275447845459,
          -3.7130303382873535,
          -3.3734452724456787,
          -3.173370838165283,
          -3.7092130184173584,
          -3.2239837646484375,
          -3.462394952774048,
          5.119222640991211,
          -3.6912992000579834,
          -3.4386069774627686,
          -3.539055109024048,
          5.282864570617676,
          -10.489165306091309,
          5.138477802276611,
          -3.3667654991149902,
          -10.463536262512207,
          -3.508063793182373,
          -3.1360623836517334,
          -3.336909532546997,
          -10.472807884216309,
          -3.3872528076171875,
          -3.7028048038482666,
          -3.508110284805298,
          5.218567848205566,
          -3.5432534217834473,
          5.223154544830322,
          -3.5589311122894287,
          -3.339634418487549,
          5.188673973083496,
          -3.116353988647461,
          5.267899513244629,
          -3.3970260620117188,
          5.182544231414795,
          -3.54817533493042,
          5.055827617645264,
          -10.492693901062012,
          -3.1686460971832275,
          -3.5222232341766357,
          -3.035822629928589,
          -3.3980817794799805,
          -3.52144455909729,
          5.228853225708008,
          -3.0986194610595703,
          5.154263973236084,
          -3.5435614585876465,
          -3.7113099098205566,
          -3.527097225189209,
          -3.6561381816864014,
          5.240887641906738,
          -3.5181496143341064,
          -3.711488723754883,
          -3.5328524112701416,
          -3.434617280960083,
          -3.485487222671509,
          -3.4099855422973633,
          -10.495668411254883,
          -3.591514825820923,
          -3.4354207515716553,
          5.04733419418335,
          -3.5555057525634766,
          -3.4907023906707764,
          -3.5777721405029297,
          5.131793022155762,
          -3.555084705352783,
          -3.1870851516723633,
          -3.543055534362793,
          -3.712470769882202,
          -3.5314972400665283,
          5.065855979919434,
          -3.146956205368042,
          -3.399484634399414,
          -3.6365346908569336,
          -3.1549057960510254,
          -3.093132257461548,
          -10.481689453125,
          -3.4128756523132324,
          -3.6865594387054443,
          5.214061260223389,
          -3.5770864486694336,
          -3.3430721759796143,
          5.257465362548828,
          -3.1355085372924805,
          -3.1912858486175537,
          -3.7622618675231934,
          -3.404336452484131,
          -3.367549180984497,
          -3.1445369720458984,
          5.269674301147461,
          -3.409743309020996,
          -3.4073832035064697,
          -3.70758318901062,
          -3.359229803085327,
          -3.38767147064209,
          5.081852436065674,
          -3.426395893096924,
          -3.234755754470825,
          5.125906467437744,
          -3.7132484912872314,
          -3.1957225799560547,
          -3.2405738830566406,
          5.122162818908691,
          -3.6528561115264893,
          -3.7376630306243896,
          -3.5314271450042725,
          -3.052421808242798,
          -3.3530383110046387,
          -3.4619429111480713
         ],
         "yaxis": "y"
        },
        {
         "customdata": [
          [
           7,
           "Treated Waste Sink"
          ],
          [
           7,
           "Treated Wastewater Sink"
          ],
          [
           7,
           "Residual Solids Sink"
          ],
          [
           7,
           "Stillage Sink"
          ],
          [
           7,
           "Processed Stillage Sink"
          ],
          [
           7,
           "Degradation Products Sink"
          ],
          [
           7,
           "Waste Water Sink"
          ],
          [
           7,
           "Stillage Sink"
          ],
          [
           7,
           "Treated Effluent Sink"
          ],
          [
           7,
           "Stillage Sink"
          ],
          [
           7,
           "Treated Effluent Sink"
          ],
          [
           7,
           "Treated Waste Sink"
          ],
          [
           7,
           "Stillage Sink"
          ],
          [
           7,
           "Treated Effluent Sink"
          ],
          [
           7,
           "Treated Wastewater Sink"
          ],
          [
           7,
           "Animal Feed Sink"
          ],
          [
           7,
           "Treated Waste Sink"
          ],
          [
           7,
           "Acid-Containing Effluent Sink"
          ],
          [
           7,
           "Stillage Sink"
          ],
          [
           7,
           "Stillage Sink"
          ],
          [
           7,
           "Stillage Sink"
          ],
          [
           7,
           "Soluble Byproducts Sink"
          ],
          [
           7,
           "Stillage Sink"
          ],
          [
           7,
           "Treated Waste Sink"
          ],
          [
           7,
           "Treated Waste Sink"
          ],
          [
           7,
           "Treated Waste Sink"
          ],
          [
           7,
           "Stillage Sink"
          ],
          [
           7,
           "Waste Stream Sink"
          ],
          [
           7,
           "Treated Waste Sink"
          ],
          [
           7,
           "Water Vapor Sink"
          ],
          [
           7,
           "Waste Treatment Sink"
          ],
          [
           7,
           "Treated Wastewater Sink"
          ],
          [
           7,
           "Solid Residues Sink"
          ],
          [
           7,
           "Treated Waste Sink"
          ],
          [
           7,
           "Distillation Residue Sink"
          ],
          [
           7,
           "Stillage Sink"
          ],
          [
           7,
           "Wastewater Sink"
          ],
          [
           7,
           "Processed Stillage Sink"
          ],
          [
           7,
           "Treated Effluent Sink"
          ],
          [
           7,
           "Distillation Bottoms Sink"
          ],
          [
           7,
           "Treated Waste Sink"
          ],
          [
           7,
           "Solubilized Hemicellulose Sink"
          ],
          [
           7,
           "Processed Waste Sink"
          ],
          [
           7,
           "Treated Waste Streams Sink"
          ],
          [
           7,
           "Waste Sink"
          ],
          [
           7,
           "Waste Disposal Sink"
          ],
          [
           7,
           "Distillation Bottoms Sink"
          ],
          [
           7,
           "Treated Waste Sink"
          ],
          [
           7,
           "Treated Waste Sink"
          ],
          [
           7,
           "Treated Water Sink"
          ],
          [
           7,
           "Residual Solids Sink"
          ],
          [
           7,
           "Treated Effluent Sink"
          ],
          [
           7,
           "Solid Residues Sink"
          ],
          [
           7,
           "Moisture Sink"
          ],
          [
           7,
           "Treated Waste Sink"
          ],
          [
           7,
           "Distillation Bottoms Sink"
          ],
          [
           7,
           "Treated Effluent Sink"
          ],
          [
           7,
           "Treated Waste Sink"
          ],
          [
           7,
           "Treated Waste Sink"
          ],
          [
           7,
           "Stillage Sink"
          ],
          [
           7,
           "Treated Wastewater Sink"
          ],
          [
           7,
           "Animal Feed Sink"
          ],
          [
           7,
           "Stillage Sink"
          ],
          [
           7,
           "Pre-treatment Residue Sink"
          ],
          [
           7,
           "Treated Waste Sink"
          ],
          [
           7,
           "Treated Waste Sink"
          ],
          [
           7,
           "Treated Waste Sink"
          ],
          [
           7,
           "Animal Feed Sink"
          ],
          [
           7,
           "Processed Waste Sink"
          ],
          [
           7,
           "Animal Feed Additives Sink"
          ],
          [
           7,
           "Stillage Sink"
          ],
          [
           7,
           "Treated Waste Sink"
          ],
          [
           7,
           "Solid Waste Sink"
          ],
          [
           7,
           "Treated Waste Sink"
          ],
          [
           7,
           "Water Sink"
          ],
          [
           7,
           "Treated Effluent Sink"
          ],
          [
           7,
           "Stillage Sink"
          ],
          [
           7,
           "Treated Waste Sink"
          ],
          [
           7,
           "Soluble Degradation Products Sink"
          ],
          [
           7,
           "Wastewater Sink"
          ],
          [
           7,
           "Energy Recovery Sink"
          ],
          [
           7,
           "Treated Waste Sink"
          ],
          [
           7,
           "Recovered Energy Sink"
          ],
          [
           7,
           "Animal Feed Sink"
          ],
          [
           7,
           "Wastewater Sink"
          ],
          [
           7,
           "Solid Waste Sink"
          ],
          [
           7,
           "Treated Waste Sink"
          ],
          [
           7,
           "Stillage Sink"
          ],
          [
           7,
           "Water Sink"
          ],
          [
           7,
           "Treated Effluent Sink"
          ],
          [
           7,
           "Treated Waste Sink"
          ],
          [
           7,
           "Treated Waste Sink"
          ],
          [
           7,
           "Treated Waste Streams Sink"
          ],
          [
           7,
           "Treated Effluent Sink"
          ],
          [
           7,
           "Treated Waste Sink"
          ],
          [
           7,
           "Treated Waste Sink"
          ],
          [
           7,
           "Treated Waste Sink"
          ],
          [
           7,
           "Digestate Sink"
          ],
          [
           7,
           "Treated Wastewater Sink"
          ],
          [
           7,
           "Treated Waste Sink"
          ],
          [
           7,
           "Pretreatment Effluent Sink"
          ],
          [
           7,
           "Recovered Water Sink"
          ],
          [
           7,
           "Solid By-products Sink"
          ],
          [
           7,
           "Processed Waste Sink"
          ],
          [
           7,
           "Treated Waste Sink"
          ],
          [
           7,
           "Treated Waste Sink"
          ],
          [
           7,
           "Processed Waste Sink"
          ],
          [
           7,
           "Distillation Bottoms Sink"
          ],
          [
           7,
           "Distillation Residue Sink"
          ],
          [
           7,
           "Pretreatment Effluent Sink"
          ],
          [
           7,
           "Treated Wastewater Sink"
          ],
          [
           7,
           "Animal Feed Sink"
          ],
          [
           7,
           "Acid Recovery Sink"
          ],
          [
           7,
           "Treated Waste Sink"
          ],
          [
           7,
           "Waste Sink"
          ],
          [
           7,
           "Water Sink"
          ],
          [
           7,
           "Treated Waste Sink"
          ],
          [
           7,
           "Recovered By-products Sink"
          ],
          [
           7,
           "Wastewater Sink"
          ],
          [
           7,
           "Stillage Sink"
          ],
          [
           7,
           "Stillage Sink"
          ],
          [
           7,
           "Treated Waste Sink"
          ]
         ],
         "hovertemplate": "Cluster=7<br>cluster=%{customdata[0]}<br>title=%{customdata[1]}<extra></extra>",
         "legendgroup": "7",
         "marker": {
          "color": "#FECB52",
          "symbol": "circle"
         },
         "mode": "markers",
         "name": "7",
         "showlegend": true,
         "type": "scattergl",
         "x": [
          5.107967853546143,
          4.204183578491211,
          5.154805660247803,
          3.6794965267181396,
          3.862440586090088,
          5.823836326599121,
          3.0142362117767334,
          3.667233467102051,
          6.078129768371582,
          3.79876971244812,
          6.015040397644043,
          5.1720170974731445,
          3.6230313777923584,
          5.973222255706787,
          4.2272515296936035,
          4.059257984161377,
          5.000104904174805,
          5.9045634269714355,
          3.679032802581787,
          3.707137107849121,
          3.6668972969055176,
          5.775344371795654,
          3.68475079536438,
          5.0867109298706055,
          5.072627544403076,
          4.988729000091553,
          3.678593397140503,
          5.162839889526367,
          4.949529647827148,
          3.2127513885498047,
          5.2058844566345215,
          4.232672214508057,
          5.47292947769165,
          5.063555717468262,
          3.4448659420013428,
          3.755793333053589,
          4.3212714195251465,
          3.821882963180542,
          6.051008701324463,
          3.3800716400146484,
          5.144330024719238,
          5.765737056732178,
          4.897388935089111,
          4.969943046569824,
          4.982839584350586,
          4.920576572418213,
          3.387756586074829,
          4.9097700119018555,
          4.845465183258057,
          4.274468898773193,
          5.182013511657715,
          6.069751262664795,
          5.329909801483154,
          3.0272319316864014,
          4.8963470458984375,
          3.400852918624878,
          6.051303386688232,
          5.210202217102051,
          5.04121208190918,
          3.766031265258789,
          4.245410442352295,
          4.068861961364746,
          3.7206473350524902,
          5.8703155517578125,
          5.035159111022949,
          4.903443336486816,
          4.938192367553711,
          4.058486461639404,
          4.9884352684021,
          4.076567649841309,
          3.652752637863159,
          4.843022346496582,
          5.111566066741943,
          4.958733081817627,
          3.056792736053467,
          6.0774030685424805,
          3.7156224250793457,
          4.929906368255615,
          5.84058952331543,
          4.370197772979736,
          6.182806491851807,
          4.83934211730957,
          6.192165851593018,
          4.024595260620117,
          4.323636531829834,
          5.192689418792725,
          5.010854244232178,
          3.7198643684387207,
          2.9931435585021973,
          6.068003177642822,
          5.017964839935303,
          5.214899063110352,
          4.950222015380859,
          6.009037494659424,
          5.009431838989258,
          4.846808433532715,
          4.883785724639893,
          4.646762371063232,
          4.220907211303711,
          5.100684642791748,
          5.931239128112793,
          3.145629644393921,
          5.616267681121826,
          4.989741802215576,
          4.925702095031738,
          4.836397647857666,
          4.92666482925415,
          3.417708396911621,
          3.453371524810791,
          5.950591564178467,
          4.240833759307861,
          4.064058303833008,
          5.072519779205322,
          5.0295491218566895,
          4.9279866218566895,
          3.074615001678467,
          4.767956733703613,
          5.821372032165527,
          4.319507598876953,
          3.7162392139434814,
          3.760915517807007,
          5.1509294509887695
         ],
         "xaxis": "x",
         "y": [
          7.57093620300293,
          7.360265254974365,
          6.807572364807129,
          3.805387020111084,
          3.5755386352539062,
          6.121570587158203,
          5.145221710205078,
          3.774057388305664,
          7.024291515350342,
          3.641758680343628,
          7.064798831939697,
          7.491171360015869,
          3.8666090965270996,
          7.100543022155762,
          7.382143497467041,
          3.3741323947906494,
          7.589410781860352,
          6.914003849029541,
          3.7933554649353027,
          3.9072368144989014,
          3.785006284713745,
          5.944655895233154,
          3.7449212074279785,
          7.654036521911621,
          7.53108024597168,
          7.453544616699219,
          3.7963080406188965,
          6.889862537384033,
          7.428539276123047,
          5.017751693725586,
          7.268850803375244,
          7.377104759216309,
          6.461010456085205,
          7.359659194946289,
          4.381789684295654,
          3.693106174468994,
          7.087602615356445,
          3.6251628398895264,
          7.039865493774414,
          4.488274574279785,
          7.383214950561523,
          6.082391738891602,
          7.00596284866333,
          7.207180023193359,
          7.065402030944824,
          7.434420585632324,
          4.473029136657715,
          7.4521164894104,
          7.580639839172363,
          7.3992838859558105,
          6.700869083404541,
          7.007537841796875,
          6.5862627029418945,
          5.056148529052734,
          7.652855396270752,
          4.457496643066406,
          7.093662261962891,
          7.388314247131348,
          7.186391830444336,
          3.6830568313598633,
          7.3725409507751465,
          3.3590786457061768,
          3.7300305366516113,
          6.4863200187683105,
          7.367582321166992,
          7.550841808319092,
          7.624971866607666,
          3.364760160446167,
          6.986568450927734,
          3.347614288330078,
          3.853499174118042,
          7.620753288269043,
          6.973320484161377,
          7.38691520690918,
          5.125380039215088,
          7.0784010887146,
          3.740304946899414,
          7.426523685455322,
          6.112354278564453,
          7.050073146820068,
          5.8492512702941895,
          7.478943347930908,
          5.886743068695068,
          3.3995018005371094,
          7.079039096832275,
          6.769054889678955,
          7.505878925323486,
          3.7286717891693115,
          5.101637363433838,
          7.070182800292969,
          7.449556827545166,
          7.3974504470825195,
          7.187349319458008,
          7.084415912628174,
          7.440064430236816,
          7.621380805969238,
          7.501619815826416,
          6.89796781539917,
          7.371994972229004,
          7.6167120933532715,
          6.816187381744385,
          5.18117618560791,
          6.254242897033691,
          7.03830623626709,
          7.447905540466309,
          7.610649585723877,
          7.047524929046631,
          4.431207180023193,
          4.400044918060303,
          6.858466148376465,
          7.3590216636657715,
          3.370452880859375,
          6.853053569793701,
          7.4748215675354,
          7.1045451164245605,
          5.1123456954956055,
          7.4515180587768555,
          5.937149524688721,
          7.092336654663086,
          3.742011070251465,
          3.6872992515563965,
          7.529548168182373
         ],
         "yaxis": "y"
        },
        {
         "customdata": [
          [
           12,
           "Pretreatment Chemicals Source"
          ],
          [
           12,
           "Pretreatment Catalyst/Agent Source"
          ],
          [
           12,
           "Pretreatment Agent Source"
          ],
          [
           12,
           "Pretreatment By-products Sink"
          ],
          [
           12,
           "Pretreatment Agent Source"
          ],
          [
           12,
           "Acid Solution Source"
          ],
          [
           12,
           "Pretreatment Agent Source"
          ],
          [
           12,
           "Dilute Acid Solution Source"
          ],
          [
           12,
           "Dilute Acid Solution Source"
          ],
          [
           12,
           "Acid or Alkali Solution Source"
          ],
          [
           12,
           "Dilute Acid Solution Source"
          ],
          [
           12,
           "Dilute Acid Solution Source"
          ],
          [
           12,
           "Pretreatment Chemicals Source"
          ],
          [
           12,
           "Pretreatment Chemicals Source"
          ],
          [
           12,
           "Dilute Acid Solution Source"
          ],
          [
           12,
           "Chemical Pretreatment Agent Source"
          ],
          [
           12,
           "Chemical Pretreatment Agent Source"
          ],
          [
           12,
           "Chemical Solution Source"
          ],
          [
           12,
           "Dilute Acid Solution Source"
          ],
          [
           12,
           "Dilute Acid Solution Source"
          ],
          [
           12,
           "Chemical Agent Source"
          ],
          [
           12,
           "Pretreatment Chemicals Source"
          ],
          [
           12,
           "Dilute Acid Solution Source"
          ],
          [
           12,
           "Acid Solution Source"
          ],
          [
           12,
           "Dilute Acid Solution Source"
          ],
          [
           12,
           "Dilute Acid Solution Source"
          ],
          [
           12,
           "Dilute Acid Solution Source"
          ],
          [
           12,
           "Dilute Acid Solution Source"
          ],
          [
           12,
           "Pretreatment Agent Source"
          ],
          [
           12,
           "Dilute Acid Solution Source"
          ],
          [
           12,
           "Dilute Acid Solution Source"
          ],
          [
           12,
           "Dilute Acid Source"
          ],
          [
           12,
           "Pretreatment Chemicals Source"
          ],
          [
           12,
           "Dilute Acid Solution Source"
          ],
          [
           12,
           "Dilute Acid Solution Source"
          ],
          [
           12,
           "Dilute Acid Solution Source"
          ],
          [
           12,
           "Dilute Acid Solution Source"
          ],
          [
           12,
           "Pretreatment Reagents Source"
          ],
          [
           12,
           "Acid/Alkali Solution Source"
          ],
          [
           12,
           "Dilute Acid Solution Source"
          ],
          [
           12,
           "Dilute Acid Solution Source"
          ],
          [
           12,
           "Dilute Acid Solution Source"
          ],
          [
           12,
           "Dilute Acid Solution Source"
          ],
          [
           12,
           "Dilute Acid Solution Source"
          ],
          [
           12,
           "Dilute Acid Solution Source"
          ],
          [
           12,
           "Dilute Acid Solution Source"
          ],
          [
           12,
           "Dilute Acid Source"
          ],
          [
           12,
           "Dilute Acid Solution Source"
          ],
          [
           12,
           "Dilute Acid Solution Source"
          ],
          [
           12,
           "Dilute Acid Solution Source"
          ],
          [
           12,
           "Chemical Additives Source"
          ],
          [
           12,
           "Dilute Acid Solution Source"
          ],
          [
           12,
           "Chemical Solution Source"
          ],
          [
           12,
           "Dilute Acid Solution Source"
          ],
          [
           12,
           "Dilute Acid Solution Source"
          ],
          [
           12,
           "Dilute Acid Solution Source"
          ],
          [
           12,
           "Neutralization Agent Source"
          ],
          [
           12,
           "Pretreatment Chemicals Source"
          ],
          [
           12,
           "Pretreatment Chemicals Source"
          ],
          [
           12,
           "Dilute Acid Solution Source"
          ],
          [
           12,
           "Dilute Acid Solution Source"
          ],
          [
           12,
           "Pretreatment Chemicals Source"
          ],
          [
           12,
           "Dilute Acid Solution Source"
          ],
          [
           12,
           "Dilute Acid Solution Source"
          ],
          [
           12,
           "Pretreatment Chemicals Source"
          ],
          [
           12,
           "Dilute Acid Solution Source"
          ],
          [
           12,
           "By-products from Pretreatment Source"
          ],
          [
           12,
           "Dilute Acid Solution Source"
          ],
          [
           12,
           "Dilute Acid Solution Source"
          ],
          [
           12,
           "Dilute Acid Solution Source"
          ],
          [
           12,
           "Dilute Acid Solution Source"
          ]
         ],
         "hovertemplate": "Cluster=12<br>cluster=%{customdata[0]}<br>title=%{customdata[1]}<extra></extra>",
         "legendgroup": "12",
         "marker": {
          "color": "#636efa",
          "symbol": "circle"
         },
         "mode": "markers",
         "name": "12",
         "showlegend": true,
         "type": "scattergl",
         "x": [
          15.715668678283691,
          15.583907127380371,
          15.588247299194336,
          5.80979061126709,
          15.581335067749023,
          15.501463890075684,
          15.645008087158203,
          14.448101043701172,
          15.513497352600098,
          14.497570037841797,
          14.521142959594727,
          14.514461517333984,
          15.67177963256836,
          15.708927154541016,
          15.394826889038086,
          15.657671928405762,
          15.742130279541016,
          15.555426597595215,
          14.469406127929688,
          14.516214370727539,
          15.620857238769531,
          15.703636169433594,
          15.504070281982422,
          14.356651306152344,
          15.588963508605957,
          15.525350570678711,
          14.549962997436523,
          15.544322967529297,
          15.600128173828125,
          14.52685832977295,
          14.426015853881836,
          14.459732055664062,
          15.692927360534668,
          14.453330993652344,
          15.512139320373535,
          14.438211441040039,
          14.52774715423584,
          15.695040702819824,
          15.564458847045898,
          14.475101470947266,
          15.505614280700684,
          14.503340721130371,
          15.558014869689941,
          15.47464370727539,
          15.368263244628906,
          15.483651161193848,
          14.485942840576172,
          15.607245445251465,
          15.44340705871582,
          14.520397186279297,
          15.664138793945312,
          14.477588653564453,
          15.57032299041748,
          14.495845794677734,
          14.459005355834961,
          15.444823265075684,
          14.61646556854248,
          15.70937442779541,
          15.686558723449707,
          15.592262268066406,
          14.528003692626953,
          15.726339340209961,
          15.445748329162598,
          14.5087890625,
          15.7752046585083,
          14.458946228027344,
          15.602984428405762,
          15.473494529724121,
          15.41259765625,
          15.503957748413086,
          14.511561393737793
         ],
         "xaxis": "x",
         "y": [
          1.9057426452636719,
          1.9685237407684326,
          2.0382144451141357,
          6.024179935455322,
          2.0229601860046387,
          3.43988299369812,
          2.0026116371154785,
          3.7279155254364014,
          3.4667091369628906,
          3.4698588848114014,
          3.7583155632019043,
          3.7722456455230713,
          1.953332543373108,
          1.9477299451828003,
          3.53851318359375,
          2.0093846321105957,
          1.879650592803955,
          3.123034715652466,
          3.756939172744751,
          3.76285457611084,
          2.023533344268799,
          1.9490565061569214,
          3.4206013679504395,
          3.4488329887390137,
          3.376621723175049,
          3.397372007369995,
          3.793734073638916,
          3.446045160293579,
          2.006352186203003,
          3.741457223892212,
          3.667468309402466,
          3.691781759262085,
          1.9517687559127808,
          3.6887013912200928,
          3.448444128036499,
          3.691572666168213,
          3.770395278930664,
          2.0683209896087646,
          3.2823755741119385,
          3.7060558795928955,
          3.4354050159454346,
          3.7710742950439453,
          3.393212080001831,
          3.4682369232177734,
          3.547576665878296,
          3.488349199295044,
          3.7372334003448486,
          3.3448822498321533,
          3.5007927417755127,
          3.7005815505981445,
          1.9384334087371826,
          3.758216619491577,
          3.091705560684204,
          3.6943349838256836,
          3.6974072456359863,
          3.490732431411743,
          3.591268539428711,
          1.9632970094680786,
          1.9532668590545654,
          3.399188280105591,
          3.727109670639038,
          1.9132767915725708,
          3.498713970184326,
          3.7496418952941895,
          2.127680778503418,
          3.7992300987243652,
          2.0340359210968018,
          3.4818687438964844,
          3.563612699508667,
          3.455895185470581,
          3.7224411964416504
         ],
         "yaxis": "y"
        },
        {
         "customdata": [
          [
           8,
           "Off-gases Sink"
          ],
          [
           8,
           "Carbon Dioxide Sink"
          ],
          [
           8,
           "Biogas Sink"
          ],
          [
           8,
           "Waste Gas Sink"
          ],
          [
           8,
           "Carbon Dioxide Sink"
          ],
          [
           8,
           "Biogas Sink"
          ],
          [
           8,
           "Carbon Dioxide Sink"
          ],
          [
           8,
           "Off-Gas Sink"
          ],
          [
           8,
           "Carbon Dioxide Sink"
          ],
          [
           8,
           "Biogas Sink"
          ],
          [
           8,
           "Carbon Dioxide Sink"
          ],
          [
           8,
           "Biogas Sink"
          ],
          [
           8,
           "Carbon Dioxide Sink"
          ],
          [
           8,
           "Carbon Dioxide Sink"
          ],
          [
           8,
           "Carbon Dioxide Sink"
          ],
          [
           8,
           "Carbon Dioxide Sink"
          ],
          [
           8,
           "Carbon Dioxide Sink"
          ],
          [
           8,
           "Gaseous Emissions Sink"
          ],
          [
           8,
           "Waste Gas Treatment Sink"
          ],
          [
           8,
           "Carbon Dioxide Sink"
          ],
          [
           8,
           "Biogas Sink"
          ],
          [
           8,
           "Carbon Dioxide Gas Sink"
          ],
          [
           8,
           "Carbon Dioxide Sink"
          ],
          [
           8,
           "Biogas Sink"
          ],
          [
           8,
           "Biogas Sink"
          ],
          [
           8,
           "Byproduct Gases Sink"
          ],
          [
           8,
           "Carbon Dioxide Source"
          ],
          [
           8,
           "Carbon Dioxide Sink"
          ],
          [
           8,
           "Carbon Dioxide Sink"
          ],
          [
           8,
           "Carbon Dioxide Sink"
          ],
          [
           8,
           "Carbon Dioxide Sink"
          ],
          [
           8,
           "Carbon Dioxide Sink"
          ],
          [
           8,
           "Recovered By-products Sink"
          ],
          [
           8,
           "Carbon Dioxide Source"
          ],
          [
           8,
           "Carbon Dioxide Sink"
          ],
          [
           8,
           "Carbon Dioxide Sink"
          ],
          [
           8,
           "Carbon Dioxide Source"
          ],
          [
           8,
           "Biogas Sink"
          ],
          [
           8,
           "Carbon Dioxide Sink"
          ],
          [
           8,
           "Boiler Flue Gas Sink"
          ],
          [
           8,
           "Byproduct Gases Sink"
          ],
          [
           8,
           "Carbon Dioxide Sink"
          ],
          [
           8,
           "Gaseous Emissions Sink"
          ],
          [
           8,
           "Soluble Sugars Sink"
          ],
          [
           8,
           "Carbon Dioxide Sink"
          ],
          [
           8,
           "Biogas Sink"
          ],
          [
           8,
           "Water Vapor Sink"
          ],
          [
           8,
           "Byproduct Gases Sink"
          ],
          [
           8,
           "Carbon Dioxide Sink"
          ],
          [
           8,
           "Gaseous Emissions Sink"
          ],
          [
           8,
           "Carbon Dioxide Sink"
          ],
          [
           8,
           "Biogas Sink"
          ],
          [
           8,
           "Off-gas Sink"
          ],
          [
           8,
           "Biogas Sink"
          ],
          [
           8,
           "Carbon Dioxide Sink"
          ],
          [
           8,
           "Biogas Sink"
          ],
          [
           8,
           "Carbon Dioxide Gas Sink"
          ],
          [
           8,
           "Biogas Sink"
          ],
          [
           8,
           "Carbon Dioxide Sink"
          ],
          [
           8,
           "Off-gas Sink"
          ],
          [
           8,
           "Pretreatment Off-gas Sink"
          ],
          [
           8,
           "Carbon Dioxide Sink"
          ],
          [
           8,
           "Off-Gas Treatment Sink"
          ],
          [
           8,
           "Byproduct Gases Sink"
          ],
          [
           8,
           "Byproduct Gas Sink"
          ],
          [
           8,
           "Byproduct Gas Emissions Sink"
          ],
          [
           8,
           "Carbon Dioxide Sink"
          ],
          [
           8,
           "Pretreatment Off-gas Sink"
          ],
          [
           8,
           "Carbon Dioxide Sink"
          ],
          [
           8,
           "Biogas Sink"
          ],
          [
           8,
           "Carbon Dioxide Sink"
          ],
          [
           8,
           "Carbon Dioxide Sink"
          ],
          [
           8,
           "Carbon Dioxide Sink"
          ],
          [
           8,
           "Carbon Dioxide Source"
          ],
          [
           8,
           "Carbon Dioxide Sink"
          ],
          [
           8,
           "Carbon Dioxide Sink"
          ],
          [
           8,
           "Carbon Dioxide Sink"
          ]
         ],
         "hovertemplate": "Cluster=8<br>cluster=%{customdata[0]}<br>title=%{customdata[1]}<extra></extra>",
         "legendgroup": "8",
         "marker": {
          "color": "#EF553B",
          "symbol": "circle"
         },
         "mode": "markers",
         "name": "8",
         "showlegend": true,
         "type": "scattergl",
         "x": [
          6.451083660125732,
          -3.3244292736053467,
          6.387523174285889,
          6.451409816741943,
          -3.241189956665039,
          6.392349720001221,
          -3.3916733264923096,
          6.489623546600342,
          -3.373750686645508,
          6.462166786193848,
          -3.3577466011047363,
          6.375504016876221,
          -3.429865837097168,
          -3.416020154953003,
          -3.406709671020508,
          -3.4190826416015625,
          -3.268251419067383,
          6.453868389129639,
          6.506528377532959,
          -3.3126401901245117,
          6.421165466308594,
          -3.5251083374023438,
          -3.315251350402832,
          6.405104160308838,
          6.412774085998535,
          6.397883415222168,
          -3.5635986328125,
          -3.236401319503784,
          -3.1990537643432617,
          -3.339871883392334,
          -3.4213786125183105,
          -3.1869888305664062,
          5.891326427459717,
          -3.6071977615356445,
          -3.451366662979126,
          -3.445347309112549,
          -3.5400867462158203,
          6.388970375061035,
          -3.4115025997161865,
          6.423116207122803,
          6.3523664474487305,
          -3.230039119720459,
          6.412796497344971,
          5.635199546813965,
          -3.4699394702911377,
          6.402518272399902,
          3.164902687072754,
          6.395510673522949,
          -3.4012527465820312,
          6.427574157714844,
          -3.2274625301361084,
          6.40841817855835,
          6.514540672302246,
          6.3918890953063965,
          -3.36002254486084,
          6.352879047393799,
          -3.4808554649353027,
          6.383731365203857,
          -3.4172985553741455,
          6.4673919677734375,
          6.4882917404174805,
          -3.362506628036499,
          6.474732398986816,
          6.393033027648926,
          6.362082481384277,
          6.445281982421875,
          -3.4400346279144287,
          6.49027156829834,
          -3.154360294342041,
          6.389644145965576,
          -3.3181087970733643,
          -3.2559709548950195,
          -3.4029438495635986,
          -3.5918474197387695,
          -3.408578872680664,
          -3.2146925926208496,
          -3.163693428039551
         ],
         "xaxis": "x",
         "y": [
          4.78408670425415,
          5.320374965667725,
          4.003254413604736,
          4.648561477661133,
          5.460025787353516,
          4.03052282333374,
          5.501515865325928,
          4.7848429679870605,
          5.434010982513428,
          3.9775052070617676,
          5.223518371582031,
          3.9686107635498047,
          5.450028896331787,
          5.350902557373047,
          5.326487064361572,
          5.451991081237793,
          5.187137126922607,
          4.68226432800293,
          4.779458522796631,
          5.194906711578369,
          4.031955242156982,
          5.466107368469238,
          5.430822849273682,
          4.018941402435303,
          4.030822277069092,
          4.900190353393555,
          5.270051002502441,
          5.43892765045166,
          5.50079345703125,
          5.212745189666748,
          5.258035182952881,
          5.360749244689941,
          5.975446701049805,
          5.241577625274658,
          5.494910717010498,
          5.262886047363281,
          5.2557806968688965,
          4.0041069984436035,
          5.498178958892822,
          4.729974746704102,
          4.9359259605407715,
          5.42229700088501,
          4.734079837799072,
          5.963326930999756,
          5.499271869659424,
          4.017097473144531,
          5.05467414855957,
          4.898777484893799,
          5.42732048034668,
          4.709987640380859,
          5.416572570800781,
          4.033856391906738,
          4.745361328125,
          4.013724327087402,
          5.309908866882324,
          4.056359767913818,
          5.479488372802734,
          4.047842979431152,
          5.525366306304932,
          4.772085189819336,
          4.8319621086120605,
          5.253072261810303,
          4.74611234664917,
          4.897961616516113,
          4.951111316680908,
          4.85518217086792,
          5.453474998474121,
          4.834759712219238,
          5.4317474365234375,
          4.010743618011475,
          5.433162212371826,
          5.446086406707764,
          5.462825298309326,
          5.228434085845947,
          5.41654109954834,
          5.376167297363281,
          5.4283928871154785
         ],
         "yaxis": "y"
        },
        {
         "customdata": [
          [
           11,
           "Yeast Culture Source"
          ],
          [
           11,
           "Yeast or Microorganism Inoculum Source"
          ],
          [
           11,
           "Yeast or Microorganisms Source"
          ],
          [
           11,
           "Yeast Culture Source"
          ],
          [
           11,
           "Yeast Culture Source"
          ],
          [
           11,
           "Yeast Culture Source"
          ],
          [
           11,
           "Yeast Culture Source"
          ],
          [
           11,
           "Microorganism Culture Source"
          ],
          [
           11,
           "Yeast Culture Source"
          ],
          [
           11,
           "Yeast Culture Source"
          ],
          [
           11,
           "Microorganism Inoculum Source"
          ],
          [
           11,
           "Yeast Culture Source"
          ],
          [
           11,
           "Yeast Culture Source"
          ],
          [
           11,
           "Yeast Culture Source"
          ],
          [
           11,
           "Yeast Culture Source"
          ],
          [
           11,
           "Yeast Source"
          ],
          [
           11,
           "Microorganism Culture Source"
          ],
          [
           11,
           "Yeast Culture Source"
          ],
          [
           11,
           "Yeast Culture Source"
          ],
          [
           11,
           "Yeast Culture Source"
          ],
          [
           11,
           "Microorganism Source"
          ],
          [
           11,
           "Yeast Culture Source"
          ],
          [
           11,
           "Microorganism Source"
          ],
          [
           11,
           "Yeast Culture Source"
          ],
          [
           11,
           "Yeast Culture Source"
          ],
          [
           11,
           "Yeast Culture Source"
          ],
          [
           11,
           "Yeast Culture Source"
          ],
          [
           11,
           "Yeast Culture Source"
          ],
          [
           11,
           "Yeast Culture Source"
          ],
          [
           11,
           "Microorganism Culture Source"
          ],
          [
           11,
           "Yeast Culture Source"
          ],
          [
           11,
           "Yeast Culture Source"
          ],
          [
           11,
           "Yeast Culture Source"
          ],
          [
           11,
           "Yeast Culture Source"
          ],
          [
           11,
           "Microorganism Source"
          ],
          [
           11,
           "Microorganism Source"
          ],
          [
           11,
           "Yeast Culture Source"
          ],
          [
           11,
           "Yeast Culture Source"
          ],
          [
           11,
           "Microorganisms Source"
          ],
          [
           11,
           "Yeast Culture Source"
          ],
          [
           11,
           "Yeast Culture Source"
          ],
          [
           11,
           "Yeast Culture Source"
          ],
          [
           11,
           "Yeast Culture Source"
          ],
          [
           11,
           "Yeast Culture Source"
          ],
          [
           11,
           "Yeast Culture Source"
          ],
          [
           11,
           "Yeast Culture Source"
          ],
          [
           11,
           "Yeast Culture Source"
          ],
          [
           11,
           "Yeast Culture Source"
          ],
          [
           11,
           "Yeast Culture Source"
          ],
          [
           11,
           "Yeast Culture Source"
          ],
          [
           11,
           "Yeast Culture Source"
          ],
          [
           11,
           "Yeast Culture Source"
          ],
          [
           11,
           "Yeast Culture Source"
          ],
          [
           11,
           "Yeast Culture Source"
          ],
          [
           11,
           "Microbial Culture Source"
          ],
          [
           11,
           "Microorganism Source"
          ],
          [
           11,
           "Yeast Culture Source"
          ],
          [
           11,
           "Yeast Culture Source"
          ],
          [
           11,
           "Microorganism Source"
          ],
          [
           11,
           "Yeast Culture Source"
          ],
          [
           11,
           "Yeast Culture Source"
          ],
          [
           11,
           "Yeast Culture Source"
          ],
          [
           11,
           "Microbial Biomass Source"
          ],
          [
           11,
           "Yeast Culture Source"
          ],
          [
           11,
           "Yeast Culture Source"
          ],
          [
           11,
           "Yeast Culture Source"
          ],
          [
           11,
           "Yeast or Microorganism Culture Source"
          ],
          [
           11,
           "Yeast Inoculum"
          ],
          [
           11,
           "Nutrient Solution Source"
          ],
          [
           11,
           "Yeast Culture Source"
          ],
          [
           11,
           "Yeast Culture Source"
          ],
          [
           11,
           "Yeast Culture Source"
          ],
          [
           11,
           "Yeast Culture Source"
          ],
          [
           11,
           "Yeast Culture Source"
          ],
          [
           11,
           "Yeast Inoculum Source"
          ],
          [
           11,
           "Yeast Culture Source"
          ],
          [
           11,
           "Yeast Culture Source"
          ],
          [
           11,
           "By-products from Fermentation Source"
          ],
          [
           11,
           "Microorganism Culture Source"
          ],
          [
           11,
           "Yeast Culture Source"
          ],
          [
           11,
           "Yeast Culture Source"
          ],
          [
           11,
           "Yeast Culture Source"
          ]
         ],
         "hovertemplate": "Cluster=11<br>cluster=%{customdata[0]}<br>title=%{customdata[1]}<extra></extra>",
         "legendgroup": "11",
         "marker": {
          "color": "#00cc96",
          "symbol": "circle"
         },
         "mode": "markers",
         "name": "11",
         "showlegend": true,
         "type": "scattergl",
         "x": [
          10.3438138961792,
          11.080327987670898,
          11.287714004516602,
          10.234980583190918,
          10.481659889221191,
          10.264907836914062,
          10.977187156677246,
          11.306587219238281,
          10.363964080810547,
          10.917634963989258,
          11.188687324523926,
          10.4456787109375,
          10.546271324157715,
          10.620274543762207,
          10.24680233001709,
          10.881837844848633,
          11.284035682678223,
          10.932975769042969,
          10.259902000427246,
          10.874155044555664,
          11.400735855102539,
          11.03126049041748,
          11.395599365234375,
          10.553881645202637,
          10.95589828491211,
          10.514944076538086,
          10.324738502502441,
          10.292075157165527,
          11.0129976272583,
          11.2560396194458,
          10.537046432495117,
          10.54384994506836,
          10.326936721801758,
          10.874363899230957,
          11.396812438964844,
          11.39094066619873,
          10.308924674987793,
          10.802983283996582,
          11.387984275817871,
          10.97774887084961,
          10.33065128326416,
          11.090066909790039,
          10.868236541748047,
          11.087130546569824,
          11.07836627960205,
          10.592080116271973,
          10.93502426147461,
          10.460553169250488,
          11.01274299621582,
          10.292248725891113,
          10.285948753356934,
          11.048734664916992,
          11.107161521911621,
          10.473258018493652,
          11.235869407653809,
          11.35693645477295,
          10.617366790771484,
          10.530978202819824,
          11.379497528076172,
          10.96468448638916,
          11.036849021911621,
          10.966025352478027,
          11.379459381103516,
          10.926534652709961,
          10.883415222167969,
          10.522794723510742,
          11.108519554138184,
          10.9950532913208,
          10.609648704528809,
          10.31174373626709,
          10.3032808303833,
          10.841403007507324,
          10.339951515197754,
          11.051261901855469,
          11.04599666595459,
          10.46021556854248,
          10.462716102600098,
          11.429368019104004,
          11.250225067138672,
          10.99381160736084,
          10.845123291015625,
          10.434904098510742
         ],
         "xaxis": "x",
         "y": [
          12.73705005645752,
          11.723069190979004,
          11.793148040771484,
          12.35644817352295,
          12.12717056274414,
          12.674757957458496,
          12.349250793457031,
          11.776519775390625,
          12.726385116577148,
          12.429755210876465,
          11.696876525878906,
          12.774084091186523,
          12.119267463684082,
          12.127215385437012,
          12.416909217834473,
          12.049629211425781,
          11.75596809387207,
          12.21767520904541,
          12.624354362487793,
          12.579083442687988,
          11.58887767791748,
          12.230117797851562,
          11.592883110046387,
          12.20326042175293,
          12.335036277770996,
          12.212919235229492,
          12.637042999267578,
          12.633784294128418,
          12.258430480957031,
          11.779241561889648,
          12.173572540283203,
          12.081332206726074,
          12.6315336227417,
          12.596943855285645,
          11.592483520507812,
          11.597838401794434,
          12.462264060974121,
          12.574604034423828,
          11.613030433654785,
          12.203694343566895,
          12.697176933288574,
          12.337636947631836,
          12.082734107971191,
          12.284812927246094,
          12.304241180419922,
          12.184558868408203,
          12.45888614654541,
          12.752079010009766,
          12.290916442871094,
          12.361413955688477,
          12.658714294433594,
          12.21757984161377,
          12.24950122833252,
          12.204246520996094,
          11.815862655639648,
          11.63928508758545,
          12.249823570251465,
          12.152809143066406,
          11.607711791992188,
          12.239442825317383,
          12.305034637451172,
          12.336263656616211,
          11.623857498168945,
          12.179265022277832,
          12.533407211303711,
          12.154123306274414,
          12.042646408081055,
          11.820303916931152,
          12.372584342956543,
          12.63315200805664,
          12.671181678771973,
          12.2786226272583,
          12.712445259094238,
          12.220479011535645,
          11.806676864624023,
          12.16804313659668,
          12.104262351989746,
          11.518387794494629,
          11.851959228515625,
          12.344766616821289,
          12.622833251953125,
          12.197619438171387
         ],
         "yaxis": "y"
        },
        {
         "customdata": [
          [
           14,
           "Lignin By-product Sink"
          ],
          [
           14,
           "Lignin Residues Source"
          ],
          [
           14,
           "Energy Recovery Unit"
          ],
          [
           14,
           "Lignin-Rich Residue Sink"
          ],
          [
           14,
           "Lignin-Rich Residue Sink"
          ],
          [
           14,
           "Lignin Residue Source"
          ],
          [
           14,
           "Lignin and Degradation Products Sink"
          ],
          [
           14,
           "Lignin Fuel Sink"
          ],
          [
           14,
           "Lignin Residue Source"
          ],
          [
           14,
           "Energy Sink"
          ],
          [
           14,
           "Solubilized Hemicellulose and Lignin Sink"
          ],
          [
           14,
           "Byproduct Removal Sink"
          ],
          [
           14,
           "Lignin Residues Source"
          ],
          [
           14,
           "Process Residuals Source"
          ],
          [
           14,
           "Recovered Lignin Sink"
          ],
          [
           14,
           "Lignin-Rich Stream Sink"
          ],
          [
           14,
           "Process Residues Source"
          ],
          [
           14,
           "Lignin Residues Source"
          ],
          [
           14,
           "Recovered Lignin Sink"
          ],
          [
           14,
           "Lignin Residue Source"
          ],
          [
           14,
           "Lignin Residue Source"
          ],
          [
           14,
           "Lignin-rich Stream Sink"
          ],
          [
           14,
           "Lignin Residues Source"
          ],
          [
           14,
           "Boiler Fuel Sink"
          ],
          [
           14,
           "Lignin Residues Source"
          ],
          [
           14,
           "Lignin Residue Source"
          ],
          [
           14,
           "Lignin Residue Source"
          ],
          [
           14,
           "Lignin Residues Source"
          ],
          [
           14,
           "Unconverted Biomass Source"
          ],
          [
           14,
           "Lignin Residue Source"
          ],
          [
           14,
           "Residual Lignin Source"
          ],
          [
           14,
           "Residual Lignin Source"
          ],
          [
           14,
           "Lignin-Rich Stream Sink"
          ],
          [
           14,
           "Lignin Residues Source"
          ],
          [
           14,
           "Lignin Residues Source"
          ],
          [
           14,
           "Lignin Residues Source"
          ],
          [
           14,
           "Lignin By-products Sink"
          ],
          [
           14,
           "Lignin Residue Source"
          ],
          [
           14,
           "Recovered Lignin Sink"
          ],
          [
           14,
           "Lignin Cake Sink"
          ],
          [
           14,
           "Lignin Residue Source"
          ],
          [
           14,
           "Lignin Residue Source"
          ],
          [
           14,
           "Lignin Residue Source"
          ],
          [
           14,
           "Lignin Residue Source"
          ],
          [
           14,
           "Process Residues Source"
          ],
          [
           14,
           "Lignin Residue Sink"
          ],
          [
           14,
           "Solid Residues Source"
          ],
          [
           14,
           "Byproduct Sink"
          ],
          [
           14,
           "Residual Lignin Source"
          ],
          [
           14,
           "Lignin-Rich Residue Sink"
          ]
         ],
         "hovertemplate": "Cluster=14<br>cluster=%{customdata[0]}<br>title=%{customdata[1]}<extra></extra>",
         "legendgroup": "14",
         "marker": {
          "color": "#ab63fa",
          "symbol": "circle"
         },
         "mode": "markers",
         "name": "14",
         "showlegend": true,
         "type": "scattergl",
         "x": [
          6.099393367767334,
          11.681783676147461,
          6.219207763671875,
          6.032191753387451,
          6.105129718780518,
          11.532913208007812,
          6.055063724517822,
          6.201876640319824,
          11.605565071105957,
          6.2743635177612305,
          5.947335243225098,
          5.838284492492676,
          11.660348892211914,
          11.702909469604492,
          6.153774738311768,
          6.0906829833984375,
          11.579263687133789,
          11.669204711914062,
          6.2036051750183105,
          11.604474067687988,
          11.492795944213867,
          6.042879104614258,
          11.612556457519531,
          6.227766990661621,
          11.679325103759766,
          11.604743003845215,
          11.583632469177246,
          11.673158645629883,
          11.591387748718262,
          11.627413749694824,
          11.74812126159668,
          11.683625221252441,
          6.164665222167969,
          11.654867172241211,
          11.673627853393555,
          11.659757614135742,
          6.103424072265625,
          11.634407043457031,
          6.171016216278076,
          6.199894905090332,
          11.534588813781738,
          11.552319526672363,
          11.573562622070312,
          11.610544204711914,
          11.594770431518555,
          6.186572074890137,
          11.622273445129395,
          5.83096170425415,
          11.660207748413086,
          6.099191188812256
         ],
         "xaxis": "x",
         "y": [
          6.045172214508057,
          16.921207427978516,
          5.886739730834961,
          6.204190731048584,
          6.074239730834961,
          16.851299285888672,
          6.0032172203063965,
          6.035688877105713,
          16.872318267822266,
          5.806195259094238,
          6.057278156280518,
          5.886889934539795,
          16.92440414428711,
          16.700632095336914,
          6.033276081085205,
          6.19704008102417,
          16.86102867126465,
          16.985610961914062,
          6.009797096252441,
          16.965940475463867,
          16.921907424926758,
          6.092770099639893,
          16.839637756347656,
          5.828616142272949,
          16.90958023071289,
          16.816162109375,
          16.81001853942871,
          16.926860809326172,
          16.858766555786133,
          16.87337875366211,
          16.63426399230957,
          16.7198486328125,
          6.155536651611328,
          16.917438507080078,
          16.945711135864258,
          16.897714614868164,
          6.083107948303223,
          16.895647048950195,
          6.03178071975708,
          6.09329080581665,
          16.862802505493164,
          16.88858985900879,
          16.911436080932617,
          16.89962387084961,
          16.81996726989746,
          6.160273551940918,
          16.890926361083984,
          5.873655796051025,
          16.701677322387695,
          6.165124416351318
         ],
         "yaxis": "y"
        },
        {
         "customdata": [
          [
           10,
           "Dilute Acid or Steam Source"
          ],
          [
           10,
           "Process Water Source"
          ],
          [
           10,
           "Acid or Steam Source"
          ],
          [
           10,
           "Acid/Steam Source"
          ],
          [
           10,
           "Steam Source"
          ],
          [
           10,
           "Acid/Steam Source"
          ],
          [
           10,
           "Water and Acid Source"
          ],
          [
           10,
           "Dilute Acid/Steam Source"
          ],
          [
           10,
           "Water/Acid or Steam Source"
          ],
          [
           10,
           "Acid or Steam Source"
          ],
          [
           10,
           "Acid/Steam Source"
          ],
          [
           10,
           "Acid or Steam Source"
          ],
          [
           10,
           "Water Source"
          ],
          [
           10,
           "Acid/Steam Source"
          ],
          [
           10,
           "Acid or Steam Source"
          ],
          [
           10,
           "Acid or Steam Source"
          ],
          [
           10,
           "Acid or Steam Source"
          ],
          [
           10,
           "Acid/Steam Source"
          ],
          [
           10,
           "Acid/Steam Source"
          ],
          [
           10,
           "Water or Acid Source"
          ],
          [
           10,
           "Solubilized Hemicellulose Sink"
          ],
          [
           10,
           "Water Source"
          ],
          [
           10,
           "Acid/Steam Source"
          ]
         ],
         "hovertemplate": "Cluster=10<br>cluster=%{customdata[0]}<br>title=%{customdata[1]}<extra></extra>",
         "legendgroup": "10",
         "marker": {
          "color": "#FFA15A",
          "symbol": "circle"
         },
         "mode": "markers",
         "name": "10",
         "showlegend": true,
         "type": "scattergl",
         "x": [
          14.310904502868652,
          14.45164966583252,
          14.082215309143066,
          14.118972778320312,
          14.096271514892578,
          14.05919361114502,
          14.16065502166748,
          14.114538192749023,
          14.144192695617676,
          14.093657493591309,
          14.07132339477539,
          14.093358993530273,
          15.932878494262695,
          14.112943649291992,
          14.154260635375977,
          14.259711265563965,
          14.172229766845703,
          14.10036849975586,
          14.068380355834961,
          14.195725440979004,
          5.792951583862305,
          15.94604778289795,
          14.115458488464355
         ],
         "xaxis": "x",
         "y": [
          2.54585862159729,
          2.630005359649658,
          2.503734588623047,
          2.515953540802002,
          2.5093624591827393,
          2.4314281940460205,
          2.7229158878326416,
          2.4760942459106445,
          2.5099713802337646,
          2.4685981273651123,
          2.5428848266601562,
          2.5084705352783203,
          -8.72816276550293,
          2.467602252960205,
          2.526886463165283,
          2.5559680461883545,
          2.5177130699157715,
          2.5084216594696045,
          2.4619572162628174,
          2.5886104106903076,
          6.0116753578186035,
          -8.644495010375977,
          2.5144314765930176
         ],
         "yaxis": "y"
        },
        {
         "marker": {
          "color": "black",
          "size": 12,
          "symbol": "star"
         },
         "mode": "markers+text",
         "showlegend": false,
         "text": [
          "Cluster 0: Corn Stover Feedstock Source"
         ],
         "textposition": "top center",
         "type": "scatter",
         "x": [
          22.698837280273438
         ],
         "y": [
          8.461572647094727
         ]
        },
        {
         "marker": {
          "color": "black",
          "size": 12,
          "symbol": "star"
         },
         "mode": "markers+text",
         "showlegend": false,
         "text": [
          "Cluster 1: Fuel-Grade Ethanol Sink"
         ],
         "textposition": "top center",
         "type": "scatter",
         "x": [
          4.837867259979248
         ],
         "y": [
          -3.4091787338256836
         ]
        },
        {
         "marker": {
          "color": "black",
          "size": 12,
          "symbol": "star"
         },
         "mode": "markers+text",
         "showlegend": false,
         "text": [
          "Cluster 2: Fermentation"
         ],
         "textposition": "top center",
         "type": "scatter",
         "x": [
          -1.6696114540100098
         ],
         "y": [
          17.52397918701172
         ]
        },
        {
         "marker": {
          "color": "black",
          "size": 12,
          "symbol": "star"
         },
         "mode": "markers+text",
         "showlegend": false,
         "text": [
          "Cluster 3: Dehydration"
         ],
         "textposition": "top center",
         "type": "scatter",
         "x": [
          -6.11346960067749
         ],
         "y": [
          -6.613533020019531
         ]
        },
        {
         "marker": {
          "color": "black",
          "size": 12,
          "symbol": "star"
         },
         "mode": "markers+text",
         "showlegend": false,
         "text": [
          "Cluster 4: Pretreatment"
         ],
         "textposition": "top center",
         "type": "scatter",
         "x": [
          18.929838180541992
         ],
         "y": [
          1.5906269550323486
         ]
        },
        {
         "marker": {
          "color": "black",
          "size": 12,
          "symbol": "star"
         },
         "mode": "markers+text",
         "showlegend": false,
         "text": [
          "Cluster 5: Enzymatic Hydrolysis"
         ],
         "textposition": "top center",
         "type": "scatter",
         "x": [
          5.403199672698975
         ],
         "y": [
          18.618627548217773
         ]
        },
        {
         "marker": {
          "color": "black",
          "size": 12,
          "symbol": "star"
         },
         "mode": "markers+text",
         "showlegend": false,
         "text": [
          "Cluster 6: Waste Treatment"
         ],
         "textposition": "top center",
         "type": "scatter",
         "x": [
          1.0360361337661743
         ],
         "y": [
          10.686295509338379
         ]
        },
        {
         "marker": {
          "color": "black",
          "size": 12,
          "symbol": "star"
         },
         "mode": "markers+text",
         "showlegend": false,
         "text": [
          "Cluster 7: Treated Waste Sink"
         ],
         "textposition": "top center",
         "type": "scatter",
         "x": [
          5.107967853546143
         ],
         "y": [
          7.57093620300293
         ]
        },
        {
         "marker": {
          "color": "black",
          "size": 12,
          "symbol": "star"
         },
         "mode": "markers+text",
         "showlegend": false,
         "text": [
          "Cluster 8: Off-gases Sink"
         ],
         "textposition": "top center",
         "type": "scatter",
         "x": [
          6.451083660125732
         ],
         "y": [
          4.78408670425415
         ]
        },
        {
         "marker": {
          "color": "black",
          "size": 12,
          "symbol": "star"
         },
         "mode": "markers+text",
         "showlegend": false,
         "text": [
          "Cluster 9: Distillation"
         ],
         "textposition": "top center",
         "type": "scatter",
         "x": [
          -8.728060722351074
         ],
         "y": [
          9.338930130004883
         ]
        },
        {
         "marker": {
          "color": "black",
          "size": 12,
          "symbol": "star"
         },
         "mode": "markers+text",
         "showlegend": false,
         "text": [
          "Cluster 10: Dilute Acid or Steam Source"
         ],
         "textposition": "top center",
         "type": "scatter",
         "x": [
          14.310904502868652
         ],
         "y": [
          2.54585862159729
         ]
        },
        {
         "marker": {
          "color": "black",
          "size": 12,
          "symbol": "star"
         },
         "mode": "markers+text",
         "showlegend": false,
         "text": [
          "Cluster 11: Yeast Culture Source"
         ],
         "textposition": "top center",
         "type": "scatter",
         "x": [
          10.3438138961792
         ],
         "y": [
          12.73705005645752
         ]
        },
        {
         "marker": {
          "color": "black",
          "size": 12,
          "symbol": "star"
         },
         "mode": "markers+text",
         "showlegend": false,
         "text": [
          "Cluster 12: Pretreatment Chemicals Source"
         ],
         "textposition": "top center",
         "type": "scatter",
         "x": [
          15.715668678283691
         ],
         "y": [
          1.9057426452636719
         ]
        },
        {
         "marker": {
          "color": "black",
          "size": 12,
          "symbol": "star"
         },
         "mode": "markers+text",
         "showlegend": false,
         "text": [
          "Cluster 13: Feedstock Handling"
         ],
         "textposition": "top center",
         "type": "scatter",
         "x": [
          17.661041259765625
         ],
         "y": [
          16.021324157714844
         ]
        },
        {
         "marker": {
          "color": "black",
          "size": 12,
          "symbol": "star"
         },
         "mode": "markers+text",
         "showlegend": false,
         "text": [
          "Cluster 14: Lignin By-product Sink"
         ],
         "textposition": "top center",
         "type": "scatter",
         "x": [
          6.099393367767334
         ],
         "y": [
          6.045172214508057
         ]
        }
       ],
       "layout": {
        "height": 700,
        "legend": {
         "font": {
          "size": 12
         },
         "itemsizing": "constant",
         "title": {
          "font": {
           "size": 14
          },
          "text": "Cluster"
         },
         "tracegroupgap": 0
        },
        "shapes": [
         {
          "line": {
           "color": "Red",
           "width": 2
          },
          "name": "Radius 0",
          "opacity": 0.2,
          "type": "circle",
          "x0": 21.916633762419224,
          "x1": 23.24610122293234,
          "xref": "x",
          "y0": 8.428943790495396,
          "y1": 9.75841125100851,
          "yref": "y"
         },
         {
          "line": {
           "color": "Red",
           "width": 2
          },
          "name": "Radius 1",
          "opacity": 0.2,
          "type": "circle",
          "x0": -3.8270174264907837,
          "x1": 11.006701111793518,
          "xref": "x",
          "y0": -9.598872542381287,
          "y1": 5.234845995903015,
          "yref": "y"
         },
         {
          "line": {
           "color": "Red",
           "width": 2
          },
          "name": "Radius 2",
          "opacity": 0.2,
          "type": "circle",
          "x0": -2.1683070808649063,
          "x1": 0.6640244871377945,
          "xref": "x",
          "y0": 16.63820891082287,
          "y1": 19.47054047882557,
          "yref": "y"
         },
         {
          "line": {
           "color": "Red",
           "width": 2
          },
          "name": "Radius 3",
          "opacity": 0.2,
          "type": "circle",
          "x0": -6.785536378622055,
          "x1": -2.180964857339859,
          "xref": "x",
          "y0": -10.167266935110092,
          "y1": -5.562695413827896,
          "yref": "y"
         },
         {
          "line": {
           "color": "Red",
           "width": 2
          },
          "name": "Radius 4",
          "opacity": 0.2,
          "type": "circle",
          "x0": 17.693530067801476,
          "x1": 18.975003257393837,
          "xref": "x",
          "y0": 0.7567418664693832,
          "y1": 2.0382150560617447,
          "yref": "y"
         },
         {
          "line": {
           "color": "Red",
           "width": 2
          },
          "name": "Radius 5",
          "opacity": 0.2,
          "type": "circle",
          "x0": -4.192168712615967,
          "x1": 26.28291654586792,
          "xref": "x",
          "y0": -9.637122631072998,
          "y1": 20.83796262741089,
          "yref": "y"
         },
         {
          "line": {
           "color": "Red",
           "width": 2
          },
          "name": "Radius 6",
          "opacity": 0.2,
          "type": "circle",
          "x0": 0.5653705596923828,
          "x1": 3.2970287799835205,
          "xref": "x",
          "y0": 9.895033240318298,
          "y1": 12.626691460609436,
          "yref": "y"
         },
         {
          "line": {
           "color": "Red",
           "width": 2
          },
          "name": "Radius 7",
          "opacity": 0.2,
          "type": "circle",
          "x0": 2.4091587960720062,
          "x1": 6.9335154592990875,
          "xref": "x",
          "y0": 3.9019976556301117,
          "y1": 8.426354318857193,
          "yref": "y"
         },
         {
          "line": {
           "color": "Red",
           "width": 2
          },
          "name": "Radius 8",
          "opacity": 0.2,
          "type": "circle",
          "x0": -4.345442056655884,
          "x1": 6.6462037563323975,
          "xref": "x",
          "y0": -0.49499082565307617,
          "y1": 10.496654987335205,
          "yref": "y"
         },
         {
          "line": {
           "color": "Red",
           "width": 2
          },
          "name": "Radius 9",
          "opacity": 0.2,
          "type": "circle",
          "x0": -9.648543305695057,
          "x1": -8.44582848995924,
          "xref": "x",
          "y0": 8.971109442412853,
          "y1": 10.17382425814867,
          "yref": "y"
         },
         {
          "line": {
           "color": "Red",
           "width": 2
          },
          "name": "Radius 10",
          "opacity": 0.2,
          "type": "circle",
          "x0": 13.003583014011383,
          "x1": 14.87883847951889,
          "xref": "x",
          "y0": 0.7643672823905945,
          "y1": 2.639622747898102,
          "yref": "y"
         },
         {
          "line": {
           "color": "Red",
           "width": 2
          },
          "name": "Radius 11",
          "opacity": 0.2,
          "type": "circle",
          "x0": 10.034930527210236,
          "x1": 11.593632400035858,
          "xref": "x",
          "y0": 11.432122528553009,
          "y1": 12.990824401378632,
          "yref": "y"
         },
         {
          "line": {
           "color": "Red",
           "width": 2
          },
          "name": "Radius 12",
          "opacity": 0.2,
          "type": "circle",
          "x0": 13.545591562986374,
          "x1": 16.53937891125679,
          "xref": "x",
          "y0": 1.6605405509471893,
          "y1": 4.654327899217606,
          "yref": "y"
         },
         {
          "line": {
           "color": "Red",
           "width": 2
          },
          "name": "Radius 13",
          "opacity": 0.2,
          "type": "circle",
          "x0": 17.243681013584137,
          "x1": 19.288167893886566,
          "xref": "x",
          "y0": 14.000109732151031,
          "y1": 16.04459661245346,
          "yref": "y"
         },
         {
          "line": {
           "color": "Red",
           "width": 2
          },
          "name": "Radius 14",
          "opacity": 0.2,
          "type": "circle",
          "x0": 2.2077796459198,
          "x1": 16.406277894973755,
          "xref": "x",
          "y0": 5.215715169906616,
          "y1": 19.41421341896057,
          "yref": "y"
         }
        ],
        "template": {
         "data": {
          "bar": [
           {
            "error_x": {
             "color": "#2a3f5f"
            },
            "error_y": {
             "color": "#2a3f5f"
            },
            "marker": {
             "line": {
              "color": "#E5ECF6",
              "width": 0.5
             },
             "pattern": {
              "fillmode": "overlay",
              "size": 10,
              "solidity": 0.2
             }
            },
            "type": "bar"
           }
          ],
          "barpolar": [
           {
            "marker": {
             "line": {
              "color": "#E5ECF6",
              "width": 0.5
             },
             "pattern": {
              "fillmode": "overlay",
              "size": 10,
              "solidity": 0.2
             }
            },
            "type": "barpolar"
           }
          ],
          "carpet": [
           {
            "aaxis": {
             "endlinecolor": "#2a3f5f",
             "gridcolor": "white",
             "linecolor": "white",
             "minorgridcolor": "white",
             "startlinecolor": "#2a3f5f"
            },
            "baxis": {
             "endlinecolor": "#2a3f5f",
             "gridcolor": "white",
             "linecolor": "white",
             "minorgridcolor": "white",
             "startlinecolor": "#2a3f5f"
            },
            "type": "carpet"
           }
          ],
          "choropleth": [
           {
            "colorbar": {
             "outlinewidth": 0,
             "ticks": ""
            },
            "type": "choropleth"
           }
          ],
          "contour": [
           {
            "colorbar": {
             "outlinewidth": 0,
             "ticks": ""
            },
            "colorscale": [
             [
              0,
              "#0d0887"
             ],
             [
              0.1111111111111111,
              "#46039f"
             ],
             [
              0.2222222222222222,
              "#7201a8"
             ],
             [
              0.3333333333333333,
              "#9c179e"
             ],
             [
              0.4444444444444444,
              "#bd3786"
             ],
             [
              0.5555555555555556,
              "#d8576b"
             ],
             [
              0.6666666666666666,
              "#ed7953"
             ],
             [
              0.7777777777777778,
              "#fb9f3a"
             ],
             [
              0.8888888888888888,
              "#fdca26"
             ],
             [
              1,
              "#f0f921"
             ]
            ],
            "type": "contour"
           }
          ],
          "contourcarpet": [
           {
            "colorbar": {
             "outlinewidth": 0,
             "ticks": ""
            },
            "type": "contourcarpet"
           }
          ],
          "heatmap": [
           {
            "colorbar": {
             "outlinewidth": 0,
             "ticks": ""
            },
            "colorscale": [
             [
              0,
              "#0d0887"
             ],
             [
              0.1111111111111111,
              "#46039f"
             ],
             [
              0.2222222222222222,
              "#7201a8"
             ],
             [
              0.3333333333333333,
              "#9c179e"
             ],
             [
              0.4444444444444444,
              "#bd3786"
             ],
             [
              0.5555555555555556,
              "#d8576b"
             ],
             [
              0.6666666666666666,
              "#ed7953"
             ],
             [
              0.7777777777777778,
              "#fb9f3a"
             ],
             [
              0.8888888888888888,
              "#fdca26"
             ],
             [
              1,
              "#f0f921"
             ]
            ],
            "type": "heatmap"
           }
          ],
          "heatmapgl": [
           {
            "colorbar": {
             "outlinewidth": 0,
             "ticks": ""
            },
            "colorscale": [
             [
              0,
              "#0d0887"
             ],
             [
              0.1111111111111111,
              "#46039f"
             ],
             [
              0.2222222222222222,
              "#7201a8"
             ],
             [
              0.3333333333333333,
              "#9c179e"
             ],
             [
              0.4444444444444444,
              "#bd3786"
             ],
             [
              0.5555555555555556,
              "#d8576b"
             ],
             [
              0.6666666666666666,
              "#ed7953"
             ],
             [
              0.7777777777777778,
              "#fb9f3a"
             ],
             [
              0.8888888888888888,
              "#fdca26"
             ],
             [
              1,
              "#f0f921"
             ]
            ],
            "type": "heatmapgl"
           }
          ],
          "histogram": [
           {
            "marker": {
             "pattern": {
              "fillmode": "overlay",
              "size": 10,
              "solidity": 0.2
             }
            },
            "type": "histogram"
           }
          ],
          "histogram2d": [
           {
            "colorbar": {
             "outlinewidth": 0,
             "ticks": ""
            },
            "colorscale": [
             [
              0,
              "#0d0887"
             ],
             [
              0.1111111111111111,
              "#46039f"
             ],
             [
              0.2222222222222222,
              "#7201a8"
             ],
             [
              0.3333333333333333,
              "#9c179e"
             ],
             [
              0.4444444444444444,
              "#bd3786"
             ],
             [
              0.5555555555555556,
              "#d8576b"
             ],
             [
              0.6666666666666666,
              "#ed7953"
             ],
             [
              0.7777777777777778,
              "#fb9f3a"
             ],
             [
              0.8888888888888888,
              "#fdca26"
             ],
             [
              1,
              "#f0f921"
             ]
            ],
            "type": "histogram2d"
           }
          ],
          "histogram2dcontour": [
           {
            "colorbar": {
             "outlinewidth": 0,
             "ticks": ""
            },
            "colorscale": [
             [
              0,
              "#0d0887"
             ],
             [
              0.1111111111111111,
              "#46039f"
             ],
             [
              0.2222222222222222,
              "#7201a8"
             ],
             [
              0.3333333333333333,
              "#9c179e"
             ],
             [
              0.4444444444444444,
              "#bd3786"
             ],
             [
              0.5555555555555556,
              "#d8576b"
             ],
             [
              0.6666666666666666,
              "#ed7953"
             ],
             [
              0.7777777777777778,
              "#fb9f3a"
             ],
             [
              0.8888888888888888,
              "#fdca26"
             ],
             [
              1,
              "#f0f921"
             ]
            ],
            "type": "histogram2dcontour"
           }
          ],
          "mesh3d": [
           {
            "colorbar": {
             "outlinewidth": 0,
             "ticks": ""
            },
            "type": "mesh3d"
           }
          ],
          "parcoords": [
           {
            "line": {
             "colorbar": {
              "outlinewidth": 0,
              "ticks": ""
             }
            },
            "type": "parcoords"
           }
          ],
          "pie": [
           {
            "automargin": true,
            "type": "pie"
           }
          ],
          "scatter": [
           {
            "fillpattern": {
             "fillmode": "overlay",
             "size": 10,
             "solidity": 0.2
            },
            "type": "scatter"
           }
          ],
          "scatter3d": [
           {
            "line": {
             "colorbar": {
              "outlinewidth": 0,
              "ticks": ""
             }
            },
            "marker": {
             "colorbar": {
              "outlinewidth": 0,
              "ticks": ""
             }
            },
            "type": "scatter3d"
           }
          ],
          "scattercarpet": [
           {
            "marker": {
             "colorbar": {
              "outlinewidth": 0,
              "ticks": ""
             }
            },
            "type": "scattercarpet"
           }
          ],
          "scattergeo": [
           {
            "marker": {
             "colorbar": {
              "outlinewidth": 0,
              "ticks": ""
             }
            },
            "type": "scattergeo"
           }
          ],
          "scattergl": [
           {
            "marker": {
             "colorbar": {
              "outlinewidth": 0,
              "ticks": ""
             }
            },
            "type": "scattergl"
           }
          ],
          "scattermapbox": [
           {
            "marker": {
             "colorbar": {
              "outlinewidth": 0,
              "ticks": ""
             }
            },
            "type": "scattermapbox"
           }
          ],
          "scatterpolar": [
           {
            "marker": {
             "colorbar": {
              "outlinewidth": 0,
              "ticks": ""
             }
            },
            "type": "scatterpolar"
           }
          ],
          "scatterpolargl": [
           {
            "marker": {
             "colorbar": {
              "outlinewidth": 0,
              "ticks": ""
             }
            },
            "type": "scatterpolargl"
           }
          ],
          "scatterternary": [
           {
            "marker": {
             "colorbar": {
              "outlinewidth": 0,
              "ticks": ""
             }
            },
            "type": "scatterternary"
           }
          ],
          "surface": [
           {
            "colorbar": {
             "outlinewidth": 0,
             "ticks": ""
            },
            "colorscale": [
             [
              0,
              "#0d0887"
             ],
             [
              0.1111111111111111,
              "#46039f"
             ],
             [
              0.2222222222222222,
              "#7201a8"
             ],
             [
              0.3333333333333333,
              "#9c179e"
             ],
             [
              0.4444444444444444,
              "#bd3786"
             ],
             [
              0.5555555555555556,
              "#d8576b"
             ],
             [
              0.6666666666666666,
              "#ed7953"
             ],
             [
              0.7777777777777778,
              "#fb9f3a"
             ],
             [
              0.8888888888888888,
              "#fdca26"
             ],
             [
              1,
              "#f0f921"
             ]
            ],
            "type": "surface"
           }
          ],
          "table": [
           {
            "cells": {
             "fill": {
              "color": "#EBF0F8"
             },
             "line": {
              "color": "white"
             }
            },
            "header": {
             "fill": {
              "color": "#C8D4E3"
             },
             "line": {
              "color": "white"
             }
            },
            "type": "table"
           }
          ]
         },
         "layout": {
          "annotationdefaults": {
           "arrowcolor": "#2a3f5f",
           "arrowhead": 0,
           "arrowwidth": 1
          },
          "autotypenumbers": "strict",
          "coloraxis": {
           "colorbar": {
            "outlinewidth": 0,
            "ticks": ""
           }
          },
          "colorscale": {
           "diverging": [
            [
             0,
             "#8e0152"
            ],
            [
             0.1,
             "#c51b7d"
            ],
            [
             0.2,
             "#de77ae"
            ],
            [
             0.3,
             "#f1b6da"
            ],
            [
             0.4,
             "#fde0ef"
            ],
            [
             0.5,
             "#f7f7f7"
            ],
            [
             0.6,
             "#e6f5d0"
            ],
            [
             0.7,
             "#b8e186"
            ],
            [
             0.8,
             "#7fbc41"
            ],
            [
             0.9,
             "#4d9221"
            ],
            [
             1,
             "#276419"
            ]
           ],
           "sequential": [
            [
             0,
             "#0d0887"
            ],
            [
             0.1111111111111111,
             "#46039f"
            ],
            [
             0.2222222222222222,
             "#7201a8"
            ],
            [
             0.3333333333333333,
             "#9c179e"
            ],
            [
             0.4444444444444444,
             "#bd3786"
            ],
            [
             0.5555555555555556,
             "#d8576b"
            ],
            [
             0.6666666666666666,
             "#ed7953"
            ],
            [
             0.7777777777777778,
             "#fb9f3a"
            ],
            [
             0.8888888888888888,
             "#fdca26"
            ],
            [
             1,
             "#f0f921"
            ]
           ],
           "sequentialminus": [
            [
             0,
             "#0d0887"
            ],
            [
             0.1111111111111111,
             "#46039f"
            ],
            [
             0.2222222222222222,
             "#7201a8"
            ],
            [
             0.3333333333333333,
             "#9c179e"
            ],
            [
             0.4444444444444444,
             "#bd3786"
            ],
            [
             0.5555555555555556,
             "#d8576b"
            ],
            [
             0.6666666666666666,
             "#ed7953"
            ],
            [
             0.7777777777777778,
             "#fb9f3a"
            ],
            [
             0.8888888888888888,
             "#fdca26"
            ],
            [
             1,
             "#f0f921"
            ]
           ]
          },
          "colorway": [
           "#636efa",
           "#EF553B",
           "#00cc96",
           "#ab63fa",
           "#FFA15A",
           "#19d3f3",
           "#FF6692",
           "#B6E880",
           "#FF97FF",
           "#FECB52"
          ],
          "font": {
           "color": "#2a3f5f"
          },
          "geo": {
           "bgcolor": "white",
           "lakecolor": "white",
           "landcolor": "#E5ECF6",
           "showlakes": true,
           "showland": true,
           "subunitcolor": "white"
          },
          "hoverlabel": {
           "align": "left"
          },
          "hovermode": "closest",
          "mapbox": {
           "style": "light"
          },
          "paper_bgcolor": "white",
          "plot_bgcolor": "#E5ECF6",
          "polar": {
           "angularaxis": {
            "gridcolor": "white",
            "linecolor": "white",
            "ticks": ""
           },
           "bgcolor": "#E5ECF6",
           "radialaxis": {
            "gridcolor": "white",
            "linecolor": "white",
            "ticks": ""
           }
          },
          "scene": {
           "xaxis": {
            "backgroundcolor": "#E5ECF6",
            "gridcolor": "white",
            "gridwidth": 2,
            "linecolor": "white",
            "showbackground": true,
            "ticks": "",
            "zerolinecolor": "white"
           },
           "yaxis": {
            "backgroundcolor": "#E5ECF6",
            "gridcolor": "white",
            "gridwidth": 2,
            "linecolor": "white",
            "showbackground": true,
            "ticks": "",
            "zerolinecolor": "white"
           },
           "zaxis": {
            "backgroundcolor": "#E5ECF6",
            "gridcolor": "white",
            "gridwidth": 2,
            "linecolor": "white",
            "showbackground": true,
            "ticks": "",
            "zerolinecolor": "white"
           }
          },
          "shapedefaults": {
           "line": {
            "color": "#2a3f5f"
           }
          },
          "ternary": {
           "aaxis": {
            "gridcolor": "white",
            "linecolor": "white",
            "ticks": ""
           },
           "baxis": {
            "gridcolor": "white",
            "linecolor": "white",
            "ticks": ""
           },
           "bgcolor": "#E5ECF6",
           "caxis": {
            "gridcolor": "white",
            "linecolor": "white",
            "ticks": ""
           }
          },
          "title": {
           "x": 0.05
          },
          "xaxis": {
           "automargin": true,
           "gridcolor": "white",
           "linecolor": "white",
           "ticks": "",
           "title": {
            "standoff": 15
           },
           "zerolinecolor": "white",
           "zerolinewidth": 2
          },
          "yaxis": {
           "automargin": true,
           "gridcolor": "white",
           "linecolor": "white",
           "ticks": "",
           "title": {
            "standoff": 15
           },
           "zerolinecolor": "white",
           "zerolinewidth": 2
          }
         }
        },
        "title": {
         "text": "UMAP Projection of Unit Operation Embeddings (Clustered)"
        },
        "width": 900,
        "xaxis": {
         "anchor": "y",
         "domain": [
          0,
          1
         ],
         "title": {
          "text": "UMAP-1"
         }
        },
        "yaxis": {
         "anchor": "x",
         "domain": [
          0,
          1
         ],
         "title": {
          "text": "UMAP-2"
         }
        }
       }
      }
     },
     "metadata": {},
     "output_type": "display_data"
    },
    {
     "data": {
      "text/html": [
       "<h3>Cluster Compactness Summary:</h3>"
      ],
      "text/plain": [
       "<IPython.core.display.HTML object>"
      ]
     },
     "metadata": {},
     "output_type": "display_data"
    },
    {
     "data": {
      "text/html": [
       "<table border=\"1\" class=\"dataframe\">\n",
       "  <thead>\n",
       "    <tr style=\"text-align: right;\">\n",
       "      <th>Cluster #</th>\n",
       "      <th>Representative Name</th>\n",
       "      <th>Representative Description</th>\n",
       "      <th>Total Elements</th>\n",
       "      <th>Elements Within Radius</th>\n",
       "      <th>Radius</th>\n",
       "    </tr>\n",
       "  </thead>\n",
       "  <tbody>\n",
       "    <tr>\n",
       "      <td>0</td>\n",
       "      <td>Corn Stover Feedstock Source</td>\n",
       "      <td>This unit operation serves as the source for the Corn Stover Feedstock stream, which is raw corn stover delivered to the facility. The feedstock consists of a complex mixture of cellulose (35-40%), hemicellulose (25-30%), lignin (15-20%), ash (5-10%), and moisture (5-10%). It is a lignocellulosic biomass that typically requires pretreatment to break down cellulose and hemicellulose into fermentable sugars for further processing in the ethanol production pathway.</td>\n",
       "      <td>90</td>\n",
       "      <td>80</td>\n",
       "      <td>0.664734</td>\n",
       "    </tr>\n",
       "    <tr>\n",
       "      <td>1</td>\n",
       "      <td>Fuel-Grade Ethanol Sink</td>\n",
       "      <td>This unit operation serves as the final sink for the Fuel-Grade Ethanol stream, which is produced after the dehydration of crude ethanol. It is designed to receive the high-purity ethanol, ensuring that it meets the required specifications for blending with gasoline or for use in various industrial applications. The unit operation guarantees the safe storage and handling of the ethanol, maintaining its quality and preventing contamination.</td>\n",
       "      <td>113</td>\n",
       "      <td>96</td>\n",
       "      <td>7.416859</td>\n",
       "    </tr>\n",
       "    <tr>\n",
       "      <td>2</td>\n",
       "      <td>Fermentation</td>\n",
       "      <td>The hydrolysate is transferred to fermentation tanks where yeast or other microorganisms are added to convert the fermentable sugars into ethanol and carbon dioxide. This biological process is carried out under anaerobic conditions. The choice of microorganism and fermentation conditions are optimized to maximize ethanol yield and productivity.</td>\n",
       "      <td>90</td>\n",
       "      <td>86</td>\n",
       "      <td>1.416166</td>\n",
       "    </tr>\n",
       "    <tr>\n",
       "      <td>3</td>\n",
       "      <td>Dehydration</td>\n",
       "      <td>The crude ethanol is further purified through dehydration to remove residual water and achieve fuel-grade ethanol purity. This is typically done using molecular sieves or azeotropic distillation techniques to achieve ethanol purity of 99.5% or higher.</td>\n",
       "      <td>106</td>\n",
       "      <td>90</td>\n",
       "      <td>2.302286</td>\n",
       "    </tr>\n",
       "    <tr>\n",
       "      <td>4</td>\n",
       "      <td>Pretreatment</td>\n",
       "      <td>The prepared corn stover undergoes a pretreatment process to break down the lignocellulosic structure, making cellulose and hemicellulose more accessible for enzymatic hydrolysis. This typically involves chemical pretreatment using dilute acid or alkali, or physical methods such as steam explosion. The pretreatment disrupts the lignin structure and partially hydrolyzes hemicellulose into soluble sugars.</td>\n",
       "      <td>94</td>\n",
       "      <td>89</td>\n",
       "      <td>0.640737</td>\n",
       "    </tr>\n",
       "    <tr>\n",
       "      <td>5</td>\n",
       "      <td>Enzymatic Hydrolysis</td>\n",
       "      <td>The pretreated biomass is subjected to enzymatic hydrolysis, where cellulase enzymes are added to convert cellulose into fermentable sugars, primarily glucose. This step is critical for maximizing sugar yield, which directly impacts ethanol production efficiency. The reaction is typically carried out in large stirred-tank reactors to ensure thorough mixing and enzyme contact with the substrate.</td>\n",
       "      <td>174</td>\n",
       "      <td>139</td>\n",
       "      <td>15.237543</td>\n",
       "    </tr>\n",
       "    <tr>\n",
       "      <td>6</td>\n",
       "      <td>Waste Treatment</td>\n",
       "      <td>The stillage and other waste streams from the process are treated to recover valuable byproducts and minimize environmental impact. This may involve anaerobic digestion to produce biogas, or further processing to recover lignin and other components for use as animal feed or energy production.</td>\n",
       "      <td>70</td>\n",
       "      <td>70</td>\n",
       "      <td>1.365829</td>\n",
       "    </tr>\n",
       "    <tr>\n",
       "      <td>7</td>\n",
       "      <td>Treated Waste Sink</td>\n",
       "      <td>This unit operation serves as the final sink for the treated waste stream, which consists of water, biogas, and residual solids. The treated waste is the output from the Waste Treatment unit operation, ensuring that the environmental impact of the process is minimized. This sink is designed to handle the disposal or further processing of the treated waste, facilitating compliance with environmental regulations and promoting sustainable waste management practices.</td>\n",
       "      <td>122</td>\n",
       "      <td>97</td>\n",
       "      <td>2.262178</td>\n",
       "    </tr>\n",
       "    <tr>\n",
       "      <td>8</td>\n",
       "      <td>Off-gases Sink</td>\n",
       "      <td>This unit operation serves as a sink for the off-gases generated during the pretreatment process. It is designed to capture and manage gaseous byproducts, primarily consisting of carbon dioxide and volatile compounds. The off-gases may be directed to a waste treatment facility for further processing or utilized in energy recovery systems, ensuring minimal environmental impact and compliance with emission regulations.</td>\n",
       "      <td>77</td>\n",
       "      <td>77</td>\n",
       "      <td>5.495823</td>\n",
       "    </tr>\n",
       "    <tr>\n",
       "      <td>9</td>\n",
       "      <td>Distillation</td>\n",
       "      <td>The fermentation broth is subjected to distillation to separate ethanol from water and other components. This involves heating the mixture to vaporize ethanol, which is then condensed and collected as a concentrated product. Multiple distillation columns may be used to achieve the desired ethanol purity.</td>\n",
       "      <td>90</td>\n",
       "      <td>78</td>\n",
       "      <td>0.601357</td>\n",
       "    </tr>\n",
       "    <tr>\n",
       "      <td>10</td>\n",
       "      <td>Dilute Acid or Steam Source</td>\n",
       "      <td>This unit operation serves as a source for the dilute acid or steam used in the pretreatment process of biomass. The pretreatment process is critical for breaking down the lignin structure in lignocellulosic materials, such as corn stover, to enhance the accessibility of cellulose and hemicellulose for subsequent enzymatic hydrolysis. The source can provide either sulfuric acid for chemical pretreatment or steam for physical pretreatment, depending on the chosen method. This flexibility allows for optimized processing conditions tailored to the specific feedstock and desired outcomes.</td>\n",
       "      <td>23</td>\n",
       "      <td>18</td>\n",
       "      <td>0.937628</td>\n",
       "    </tr>\n",
       "    <tr>\n",
       "      <td>11</td>\n",
       "      <td>Yeast Culture Source</td>\n",
       "      <td>This unit operation serves as a source for the Yeast Culture stream, which consists of the microorganism Saccharomyces cerevisiae. This culture is essential for the fermentation process, where it converts sugars present in the hydrolysate into ethanol. The Yeast Culture is prepared and maintained under controlled conditions to ensure optimal fermentation performance, contributing to the overall efficiency and yield of ethanol production.</td>\n",
       "      <td>82</td>\n",
       "      <td>73</td>\n",
       "      <td>0.779351</td>\n",
       "    </tr>\n",
       "    <tr>\n",
       "      <td>12</td>\n",
       "      <td>Pretreatment Chemicals Source</td>\n",
       "      <td>This unit operation serves as a source for the Pretreatment Chemicals stream, which includes dilute acids and alkalis. These chemicals are essential for the pretreatment process, as they help to disrupt the lignin structure and partially hydrolyze hemicellulose in the biomass feedstock. This step is crucial for enhancing the accessibility of cellulose for subsequent enzymatic hydrolysis, ultimately improving the efficiency of the overall conversion process to produce ethanol.</td>\n",
       "      <td>71</td>\n",
       "      <td>70</td>\n",
       "      <td>1.496894</td>\n",
       "    </tr>\n",
       "    <tr>\n",
       "      <td>13</td>\n",
       "      <td>Feedstock Handling</td>\n",
       "      <td>The corn stover, which is a lignocellulosic biomass, is delivered to the processing facility. It is first subjected to size reduction to increase the surface area for subsequent processing steps. This involves mechanical operations such as chopping, grinding, or milling. The reduced-size feedstock is then conveyed to storage silos, ensuring a steady supply for continuous processing.</td>\n",
       "      <td>83</td>\n",
       "      <td>65</td>\n",
       "      <td>1.022243</td>\n",
       "    </tr>\n",
       "    <tr>\n",
       "      <td>14</td>\n",
       "      <td>Lignin By-product Sink</td>\n",
       "      <td>This unit operation serves as the terminus for the Lignin By-product stream, which consists of recovered lignin. The lignin can be utilized for energy generation, as a raw material for bioplastics, or in other applications such as adhesives and surfactants. This sink is designed to handle the final disposition of lignin, ensuring proper storage or transfer for further processing or utilization.</td>\n",
       "      <td>50</td>\n",
       "      <td>43</td>\n",
       "      <td>7.099249</td>\n",
       "    </tr>\n",
       "  </tbody>\n",
       "</table>"
      ],
      "text/plain": [
       "<IPython.core.display.HTML object>"
      ]
     },
     "metadata": {},
     "output_type": "display_data"
    },
    {
     "name": "stdout",
     "output_type": "stream",
     "text": [
      "Cluster compactness summary saved to ..\\data\\batches\\analysis_results\\cluster_compactness_summary_dynamic_radius.csv\n"
     ]
    }
   ],
   "source": [
    "# %% [markdown]\n",
    "# ### Assess Cluster Compactness: Elements Within a Dynamic Radius (Median + IQR)\n",
    "\n",
    "# %%\n",
    "import numpy as np\n",
    "import plotly.express as px\n",
    "import plotly.graph_objects as go\n",
    "from IPython.display import display, HTML\n",
    "\n",
    "# Function to extract title and description\n",
    "def extract_title(text):\n",
    "    return text.split(':')[0] if ':' in text else text\n",
    "\n",
    "def extract_title_description(text):\n",
    "    parts = text.split(':', 1)\n",
    "    if len(parts) == 2:\n",
    "        return parts[0].strip(), parts[1].strip()\n",
    "    else:\n",
    "        return parts[0].strip(), \"\"\n",
    "\n",
    "# Add a new column 'title' by extracting the part before the colon in 'text'\n",
    "reduced_df['title'] = reduced_df['text'].apply(extract_title)\n",
    "\n",
    "# Create a DataFrame to store representative points for each cluster\n",
    "representatives = []\n",
    "for cluster_num in range(n_clusters):\n",
    "    cluster_data = reduced_df[reduced_df['cluster'] == cluster_num]\n",
    "    if cluster_data.empty:\n",
    "        continue\n",
    "    representative = cluster_data.iloc[0]\n",
    "    title = representative['title']\n",
    "    representatives.append({\n",
    "        'cluster': cluster_num,\n",
    "        'x': representative['x'],\n",
    "        'y': representative['y'],\n",
    "        'title': title\n",
    "    })\n",
    "representatives_df = pd.DataFrame(representatives)\n",
    "print(\"\\nRepresentative Elements for Each Cluster:\")\n",
    "print(representatives_df)\n",
    "\n",
    "# Define the fixed radius based on median + 1 IQR\n",
    "cluster_compactness = []\n",
    "for cluster_num in range(n_clusters):\n",
    "    cluster_data = reduced_df[reduced_df['cluster'] == cluster_num]\n",
    "    if cluster_data.empty:\n",
    "        print(f\"Cluster {cluster_num} is empty. Skipping...\")\n",
    "        continue\n",
    "    centroid = cluster_data[['x', 'y']].mean().values\n",
    "    distances = np.linalg.norm(cluster_data[['x', 'y']].values - centroid, axis=1)\n",
    "    median_distance = np.median(distances)\n",
    "    q1 = np.percentile(distances, 25)\n",
    "    q3 = np.percentile(distances, 75)\n",
    "    iqr = q3 - q1\n",
    "    radius = median_distance + 1 * iqr\n",
    "    within_radius = np.sum(distances <= radius)\n",
    "    representative_text = cluster_data.iloc[0]['text']\n",
    "    representative_title, representative_description = extract_title_description(representative_text)\n",
    "    cluster_compactness.append({\n",
    "        'Cluster #': cluster_num,\n",
    "        'Representative Name': representative_title,\n",
    "        'Representative Description': representative_description,\n",
    "        'Total Elements': len(cluster_data),\n",
    "        'Elements Within Radius': within_radius,\n",
    "        'Radius': radius\n",
    "    })\n",
    "compactness_df = pd.DataFrame(cluster_compactness)\n",
    "print(\"\\nCluster Compactness Summary:\")\n",
    "print(compactness_df)\n",
    "\n",
    "# Create the interactive scatter plot using Plotly Express\n",
    "fig = px.scatter(\n",
    "    reduced_df,\n",
    "    x='x',\n",
    "    y='y',\n",
    "    color=reduced_df['cluster'].astype(str),\n",
    "    hover_data={\n",
    "        'cluster': True,\n",
    "        'title': True,\n",
    "        'x': False,\n",
    "        'y': False\n",
    "    },\n",
    "    labels={\n",
    "        'x': 'UMAP-1',\n",
    "        'y': 'UMAP-2',\n",
    "        'color': 'Cluster'\n",
    "    },\n",
    "    title=\"UMAP Projection of Unit Operation Embeddings (Clustered)\",\n",
    "    width=900,\n",
    "    height=700\n",
    ")\n",
    "\n",
    "# Update layout for better aesthetics\n",
    "fig.update_layout(\n",
    "    legend_title_text='Cluster',\n",
    "    legend=dict(\n",
    "        title_font_size=14,\n",
    "        font_size=12,\n",
    "        itemsizing='constant'\n",
    "    )\n",
    ")\n",
    "\n",
    "# Add annotations for each representative point\n",
    "for _, row in representatives_df.iterrows():\n",
    "    fig.add_trace(\n",
    "        go.Scatter(\n",
    "            x=[row['x']],\n",
    "            y=[row['y']],\n",
    "            mode='markers+text',\n",
    "            marker=dict(\n",
    "                color='black',\n",
    "                size=12,\n",
    "                symbol='star'\n",
    "            ),\n",
    "            text=[f\"Cluster {int(row['cluster'])}: {row['title']}\"],\n",
    "            textposition='top center',\n",
    "            showlegend=False\n",
    "        )\n",
    "    )\n",
    "\n",
    "# Optionally, add circles representing the radius\n",
    "for idx, row in compactness_df.iterrows():\n",
    "    cluster_num = row['Cluster #']\n",
    "    cluster_data = reduced_df[reduced_df['cluster'] == cluster_num]\n",
    "    centroid = cluster_data[['x', 'y']].mean().values\n",
    "    radius = row['Radius']\n",
    "    fig.add_shape(\n",
    "        type=\"circle\",\n",
    "        xref=\"x\",\n",
    "        yref=\"y\",\n",
    "        x0=centroid[0] - radius,\n",
    "        y0=centroid[1] - radius,\n",
    "        x1=centroid[0] + radius,\n",
    "        y1=centroid[1] + radius,\n",
    "        line=dict(\n",
    "            color=\"Red\",\n",
    "            width=2\n",
    "        ),\n",
    "        opacity=0.2,\n",
    "        name=f'Radius {cluster_num}'\n",
    "    )\n",
    "\n",
    "fig.show()\n",
    "\n",
    "# Display the Cluster Compactness Summary Table\n",
    "display(HTML(\"<h3>Cluster Compactness Summary:</h3>\"))\n",
    "display(HTML(compactness_df.to_html(index=False)))\n",
    "\n",
    "# Save Cluster Compactness Summary to CSV\n",
    "compactness_df.to_csv(output_dir / f\"cluster_compactness_summary_dynamic_radius.csv\", index=False)\n",
    "print(f\"Cluster compactness summary saved to {output_dir / 'cluster_compactness_summary_dynamic_radius.csv'}\")\n",
    "\n",
    "fig.write_html(\"plot.html\", include_plotlyjs=True, full_html=True)\n"
   ]
  },
  {
   "cell_type": "code",
   "execution_count": null,
   "metadata": {},
   "outputs": [
    {
     "name": "stdout",
     "output_type": "stream",
     "text": [
      "Cluster 0:\n",
      " - Corn Stover Feedstock Source: This unit operation serves as the source for the Corn Stover Feedstock stream, which is raw corn stover delivered to the facility. The feedstock consists of a complex mixture of cellulose (35-40%), hemicellulose (25-30%), lignin (15-20%), ash (5-10%), and moisture (5-10%). It is a lignocellulosic biomass that typically requires pretreatment to break down cellulose and hemicellulose into fermentable sugars for further processing in the ethanol production pathway.\n",
      " - Raw Corn Stover Source: This unit operation serves as the source for the Raw Corn Stover stream, which is a lignocellulosic biomass composed of cellulose (40-50%), hemicellulose (25-30%), lignin (15-20%), and ash (5-10%). The Raw Corn Stover is delivered at an industrial scale of 1000 metric tons per day, providing the necessary feedstock for subsequent processing steps such as feedstock handling, pretreatment, and enzymatic hydrolysis in the production of ethanol.\n",
      " - Raw Corn Stover Source: This unit operation serves as the source for the Raw Corn Stover stream, which is collected from agricultural fields. The stream contains a mixture of cellulose (35-40%), hemicellulose (25-30%), lignin (15-20%), ash (5-10%), and moisture (5-15%). It is a lignocellulosic biomass that typically requires pretreatment to break down complex carbohydrates into fermentable sugars for further processing in the ethanol production process.\n",
      " - Raw Corn Stover Source: This unit operation serves as the source for the Raw Corn Stover stream, which consists of corn stover harvested directly from the field. The stream contains a mixture of cellulose, hemicellulose, lignin, and moisture, making it suitable for subsequent processing in the feedstock preparation unit. The composition of the raw corn stover is critical for the efficiency of the overall biomass conversion process.\n",
      " - Raw Corn Stover Source: This unit operation serves as the source for the Raw Corn Stover stream, which is the unprocessed biomass obtained directly from corn fields. The stream contains a mixture of cellulose, hemicellulose, lignin, and water, with a moisture content typically around 10-15%. The raw corn stover is characterized by its large particle size, often requiring size reduction to less than 2 mm for efficient processing in subsequent unit operations. This source is essential for initiating the biomass conversion process in the production of ethanol.\n",
      "\n",
      "\n",
      "Cluster 1:\n",
      " - Fuel-Grade Ethanol Sink: This unit operation serves as the final sink for the Fuel-Grade Ethanol stream, which is produced after the dehydration of crude ethanol. It is designed to receive the high-purity ethanol, ensuring that it meets the required specifications for blending with gasoline or for use in various industrial applications. The unit operation guarantees the safe storage and handling of the ethanol, maintaining its quality and preventing contamination.\n",
      " - Fuel-Grade Ethanol Sink: This unit operation serves as the final sink for the Fuel-Grade Ethanol stream, which is produced after the dehydration of crude ethanol. It is designed to collect and store high-purity ethanol that meets ASTM D4806 specifications for use as a biofuel. The unit ensures that the ethanol is maintained at the required purity levels, free from water and impurities, and is ready for distribution or further processing.\n",
      " - Water Sink: This unit operation serves as a sink for the water removed during the dehydration process of ethanol production. It collects and manages the water by-product generated to ensure proper disposal or potential reuse, thereby minimizing environmental impact and optimizing resource utilization.\n",
      " - Denatured Ethanol Sink: This unit operation serves as the final sink for Denatured Ethanol, which is ethanol rendered undrinkable by the addition of a denaturant. The denatured ethanol is prepared for distribution as a biofuel, ensuring it meets the necessary specifications for fuel-grade applications. This unit operation handles the final storage and transfer of denatured ethanol to distribution channels.\n",
      " - Water Sink: This unit operation serves as a sink for the water stream generated during the dehydration process of crude ethanol. It collects the water that is removed to achieve the desired purity of ethanol, ensuring that the process maintains efficient water management and disposal.\n",
      "\n",
      "\n",
      "Cluster 2:\n",
      " - Fermentation: The hydrolysate is transferred to fermentation tanks where yeast or other microorganisms are added to convert the fermentable sugars into ethanol and carbon dioxide. This biological process is carried out under anaerobic conditions. The choice of microorganism and fermentation conditions are optimized to maximize ethanol yield and productivity.\n",
      " - Fermentation: The hydrolysate, rich in fermentable sugars, is fed into a fermentation reactor where microorganisms, typically yeast such as Saccharomyces cerevisiae, convert the sugars into ethanol and carbon dioxide. This biological process is the core of ethanol production, and the efficiency of fermentation is critical for achieving high ethanol yields.\n",
      " - Fermentation: The sugar solution is transferred to fermentation tanks where yeast or other microorganisms are introduced to convert the sugars into ethanol and carbon dioxide. This biological process is conducted under anaerobic conditions and is a key step in the production of ethanol.\n",
      " - Fermentation: The sugar solution is then fermented using yeast or genetically engineered microorganisms to convert the sugars into ethanol. This biological process is conducted in large fermenters, where conditions are optimized to maximize ethanol yield and productivity.\n",
      " - Fermentation: The hydrolysate, rich in fermentable sugars, is transferred to fermentation tanks where yeast or other microorganisms are introduced. These microorganisms metabolize the sugars, primarily glucose and xylose, to produce ethanol and carbon dioxide. The fermentation process is a critical step in converting biomass-derived sugars into ethanol, and it typically occurs over several days to maximize ethanol yield.\n",
      "\n",
      "\n",
      "Cluster 3:\n",
      " - Dehydration: The crude ethanol is further purified through dehydration to remove residual water and achieve fuel-grade ethanol purity. This is typically done using molecular sieves or azeotropic distillation techniques to achieve ethanol purity of 99.5% or higher.\n",
      " - Dehydration: The crude ethanol stream undergoes dehydration to remove residual water and achieve the desired purity level of 95-99% ethanol. This is typically accomplished using molecular sieves or azeotropic distillation techniques. High-purity ethanol is essential for meeting ASTM D4806 specifications for biofuel use.\n",
      " - Dehydration: To achieve fuel-grade ethanol purity, the crude ethanol undergoes dehydration. This is typically done using molecular sieves or azeotropic distillation to remove the remaining water, resulting in ethanol with a purity of 95-99%.\n",
      " - Denaturing: The high-purity ethanol is denatured by adding a small amount of a denaturant, such as gasoline or methanol, to make it unfit for human consumption. This step is necessary for regulatory compliance and to avoid beverage alcohol taxes.\n",
      " - Denaturant Source: This unit operation serves as a source for the denaturant stream, which includes substances like gasoline or methanol. The denaturant is essential for the denaturing process of fuel-grade ethanol, rendering it unfit for human consumption. This operation ensures a continuous supply of denaturant at the required volumetric scale to meet the demands of the denaturing unit operation in the ethanol production process.\n",
      "\n",
      "\n",
      "Cluster 4:\n",
      " - Pretreatment: The prepared corn stover undergoes a pretreatment process to break down the lignocellulosic structure, making cellulose and hemicellulose more accessible for enzymatic hydrolysis. This typically involves chemical pretreatment using dilute acid or alkali, or physical methods such as steam explosion. The pretreatment disrupts the lignin structure and partially hydrolyzes hemicellulose into soluble sugars.\n",
      " - Pretreatment: The prepared corn stover undergoes a pretreatment process to break down the complex lignocellulosic structure, making cellulose and hemicellulose more accessible for enzymatic hydrolysis. Common pretreatment methods include dilute acid hydrolysis, steam explosion, or alkaline pretreatment. This step disrupts the lignin structure and solubilizes hemicellulose, enhancing the digestibility of the biomass.\n",
      " - Pretreatment: The milled corn stover undergoes a pretreatment process designed to break down the complex lignocellulosic structure, making the cellulose and hemicellulose more accessible for enzymatic hydrolysis. This is typically achieved using a dilute acid or steam explosion method, which helps in the removal of lignin and hemicellulose, thus exposing the cellulose fibers.\n",
      " - Pretreatment: The prepared corn stover undergoes a pretreatment process to break down the lignin structure and make the cellulose and hemicellulose more accessible for enzymatic hydrolysis. This is typically achieved using a dilute acid or steam explosion method, which helps to disrupt the lignocellulosic matrix.\n",
      " - Pretreatment: The prepared corn stover undergoes a pretreatment process designed to break down the lignin structure and make the cellulose and hemicellulose more accessible for enzymatic hydrolysis. This is typically achieved using a dilute acid or steam explosion method, which disrupts the lignocellulosic matrix. The pretreatment process is critical as it significantly impacts the efficiency of the subsequent enzymatic hydrolysis step.\n",
      "\n",
      "\n",
      "Cluster 5:\n",
      " - Enzymatic Hydrolysis: The pretreated biomass is subjected to enzymatic hydrolysis, where cellulase enzymes are added to convert cellulose into fermentable sugars, primarily glucose. This step is critical for maximizing sugar yield, which directly impacts ethanol production efficiency. The reaction is typically carried out in large stirred-tank reactors to ensure thorough mixing and enzyme contact with the substrate.\n",
      " - Enzyme Addition Source: This unit operation serves as a source for the Enzyme Addition stream, which consists of cellulase enzymes. These enzymes are crucial for the enzymatic hydrolysis process, where they catalyze the conversion of cellulose from pretreated biomass into fermentable glucose. The enzymes are supplied in a concentrated form to ensure efficient hydrolysis, enabling the subsequent fermentation step to produce ethanol.\n",
      " - Enzymatic Hydrolysis: In this unit operation, the pretreated biomass is subjected to enzymatic hydrolysis, where specific enzymes such as cellulases and hemicellulases are added to convert cellulose and hemicellulose into fermentable sugars, primarily glucose and xylose. This step is crucial for maximizing sugar yield, which directly impacts ethanol production efficiency.\n",
      " - Enzyme Source: This unit operation serves as a source for the enzyme stream, providing a mixture of cellulases and hemicellulases essential for the enzymatic hydrolysis of pretreated biomass. The enzymes facilitate the breakdown of cellulose and hemicellulose into fermentable sugars, which are crucial for the subsequent fermentation process in ethanol production.\n",
      " - Enzymatic Hydrolysis: In this unit operation, the pretreated biomass is subjected to enzymatic hydrolysis where specific enzymes, such as cellulases and hemicellulases, are added to convert cellulose and hemicellulose into fermentable sugars like glucose and xylose. This step is crucial for maximizing sugar yield, which directly impacts ethanol production efficiency.\n",
      "\n",
      "\n",
      "Cluster 6:\n",
      " - Waste Treatment: The stillage and other waste streams from the process are treated to recover valuable byproducts and minimize environmental impact. This may involve anaerobic digestion to produce biogas, or further processing to recover lignin and other components for use as animal feed or energy production.\n",
      " - Waste Management and By-product Recovery: This unit operation involves the handling and treatment of waste streams generated throughout the process, including stillage and lignin residues. By-products such as lignin can be recovered and utilized for energy generation or as a feedstock for other chemical processes. Efficient waste management is crucial for minimizing environmental impact and improving the overall sustainability of the process.\n",
      " - Waste Management: The process generates various waste streams, including lignin-rich residues and stillage. These by-products are managed through a combination of recycling, energy recovery, and disposal strategies. Lignin can be used as a boiler fuel to generate steam and electricity for the plant, while stillage can be processed into animal feed or biogas.\n",
      " - Waste Treatment: The waste streams generated throughout the process, including stillage and other by-products, are treated to minimize environmental impact. This unit operation may involve anaerobic digestion, composting, or other methods to convert waste into usable products such as biogas or fertilizers.\n",
      " - Waste Treatment: The stillage and other waste streams generated during the process are treated to minimize environmental impact. This may involve anaerobic digestion to produce biogas, which can be used as an energy source within the plant, or other treatment methods to recover valuable by-products or nutrients. Proper waste management is essential for the sustainability and economic viability of the process.\n",
      "\n",
      "\n",
      "Cluster 7:\n",
      " - Treated Waste Sink: This unit operation serves as the final sink for the treated waste stream, which consists of water, biogas, and residual solids. The treated waste is the output from the Waste Treatment unit operation, ensuring that the environmental impact of the process is minimized. This sink is designed to handle the disposal or further processing of the treated waste, facilitating compliance with environmental regulations and promoting sustainable waste management practices.\n",
      " - Treated Wastewater Sink: This unit operation serves as the final sink for the treated wastewater stream, which has been processed to meet environmental discharge standards. The treated wastewater is collected here before being released into the environment or sent for further treatment. The operation ensures that the water is free from harmful contaminants and complies with regulatory requirements for safe discharge.\n",
      " - Residual Solids Sink: This unit operation serves as a sink for the Residual Solids stream, which includes any remaining solids that are not solubilized or recovered as lignin. The stream consists of unconverted biomass and ash, which may require disposal or further processing depending on their composition. Proper management of this stream is essential to minimize environmental impact and ensure compliance with waste disposal regulations.\n",
      " - Stillage Sink: This unit operation serves as the sink for the Stillage stream, which is the residue from the distillation process. It contains water, yeast biomass, and residual sugars. The Stillage Sink is designed to manage the disposal or further processing of this by-product, ensuring that the components are either treated for environmental compliance or redirected for potential recovery of valuable materials.\n",
      " - Processed Stillage Sink: This unit operation serves as the final sink for the processed stillage stream, which has been treated for use as animal feed or biogas production. The processed stillage contains valuable components such as animal feed and biogas, which are by-products of the ethanol production process. This unit operation ensures that the processed stillage is effectively managed and utilized, contributing to the overall sustainability of the process by minimizing waste and maximizing resource recovery.\n",
      "\n",
      "\n",
      "Cluster 8:\n",
      " - Off-gases Sink: This unit operation serves as a sink for the off-gases generated during the pretreatment process. It is designed to capture and manage gaseous byproducts, primarily consisting of carbon dioxide and volatile compounds. The off-gases may be directed to a waste treatment facility for further processing or utilized in energy recovery systems, ensuring minimal environmental impact and compliance with emission regulations.\n",
      " - Carbon Dioxide Sink: The Carbon Dioxide Sink is a unit operation that serves as the terminus for the carbon dioxide byproduct generated during the fermentation process. This operation collects and manages the carbon dioxide produced when microorganisms convert sugars into ethanol under anaerobic conditions. The sink is designed to ensure safe handling and potential utilization of carbon dioxide, which can be captured for various applications, including enhanced oil recovery or as a feedstock for chemical synthesis.\n",
      " - Biogas Sink: This unit operation serves as the sink for the biogas produced during the anaerobic digestion process. It is designed to collect and manage the biogas, which primarily consists of methane and carbon dioxide. The biogas can be utilized for energy production, either through combustion for heat and power generation or upgraded to biomethane for use as a renewable natural gas. Proper handling and storage of biogas are essential to ensure safety and efficiency in its utilization.\n",
      " - Waste Gas Sink: This unit operation serves as a sink for waste gases generated during the pretreatment process. The waste gases primarily consist of carbon dioxide and volatile organic compounds released from the breakdown of biomass components. This sink is designed to capture and manage these gases, ensuring that they are either treated for environmental compliance or safely vented to the atmosphere, minimizing the impact on the surrounding environment.\n",
      " - Carbon Dioxide Sink: This unit operation serves as the terminus for the carbon dioxide stream generated during the fermentation process. It is designed to safely collect and manage the carbon dioxide produced as a by-product when yeast converts fermentable sugars into ethanol. The carbon dioxide sink ensures that the gas is either vented safely to the atmosphere or captured for potential reuse in other processes, thereby minimizing environmental impact and optimizing resource utilization.\n",
      "\n",
      "\n",
      "Cluster 9:\n",
      " - Distillation: The fermentation broth is subjected to distillation to separate ethanol from water and other components. This involves heating the mixture to vaporize ethanol, which is then condensed and collected as a concentrated product. Multiple distillation columns may be used to achieve the desired ethanol purity.\n",
      " - Distillation: The fermentation broth is subjected to distillation to separate ethanol from the mixture. This unit operation involves heating the broth to vaporize ethanol, which is then condensed into a concentrated form. Distillation is essential for achieving the required ethanol purity for fuel-grade applications.\n",
      " - Distillation: The fermentation broth is subjected to distillation to separate ethanol from the mixture. This process involves heating the broth to vaporize ethanol, which is then condensed and collected as a concentrated ethanol stream. This step is essential for achieving the desired purity of ethanol for fuel applications.\n",
      " - Distillation: The fermentation broth is subjected to distillation to separate ethanol from the mixture. This involves heating the broth to vaporize ethanol, which is then condensed into a concentrated form. The distillation process is designed to achieve fuel-grade ethanol purity of 99.5%, meeting ASTM D4806 specifications.\n",
      " - Distillation: The fermentation broth is subjected to distillation to separate ethanol from the other components. This involves heating the broth to vaporize the ethanol, which is then condensed and collected as a concentrated product. Distillation is a crucial step in achieving the desired ethanol purity, typically around 95%, before further dehydration.\n",
      "\n",
      "\n",
      "Cluster 10:\n",
      " - Dilute Acid or Steam Source: This unit operation serves as a source for the dilute acid or steam used in the pretreatment process of biomass. The pretreatment process is critical for breaking down the lignin structure in lignocellulosic materials, such as corn stover, to enhance the accessibility of cellulose and hemicellulose for subsequent enzymatic hydrolysis. The source can provide either sulfuric acid for chemical pretreatment or steam for physical pretreatment, depending on the chosen method. This flexibility allows for optimized processing conditions tailored to the specific feedstock and desired outcomes.\n",
      " - Process Water Source: This unit operation serves as a source for Process Water, which is essential for the pretreatment process of Corn Stover. The Process Water is utilized in various methods such as steam explosion or chemical treatments to facilitate the breakdown of the lignocellulosic structure, thereby enhancing the efficiency of subsequent enzymatic hydrolysis and fermentation processes.\n",
      " - Acid or Steam Source: This unit operation serves as a source for the Acid or Steam stream, which is crucial for the pretreatment process in biomass conversion. The stream consists of a dilute acid (such as sulfuric acid) and steam, which are used to effectively break down the lignin structure in the biomass, enhancing the accessibility of cellulose and hemicellulose for subsequent enzymatic hydrolysis. This operation ensures a consistent supply of the necessary reactants to optimize the pretreatment stage, thereby improving overall process efficiency.\n",
      " - Acid/Steam Source: This unit operation serves as a source for the Acid/Steam stream used in the pretreatment process. The Acid/Steam stream is crucial for breaking down the lignin structure and solubilizing hemicellulose, which enhances the accessibility of cellulose for enzymatic hydrolysis. The stream may consist of either a dilute acid solution or steam, depending on the pretreatment method employed.\n",
      " - Steam Source: The Steam Source unit operation provides high-temperature steam, primarily composed of water vapor, for use in the pretreatment process. This steam is essential for steam explosion methods, which disrupt the lignin matrix in biomass, enhancing the accessibility of cellulose and hemicellulose for subsequent enzymatic hydrolysis. The unit operation is designed to generate and deliver steam at the required pressure and temperature to optimize the pretreatment of biomass, ensuring efficient conversion to fermentable sugars.\n",
      "\n",
      "\n",
      "Cluster 11:\n",
      " - Yeast Culture Source: This unit operation serves as a source for the Yeast Culture stream, which consists of the microorganism Saccharomyces cerevisiae. This culture is essential for the fermentation process, where it converts sugars present in the hydrolysate into ethanol. The Yeast Culture is prepared and maintained under controlled conditions to ensure optimal fermentation performance, contributing to the overall efficiency and yield of ethanol production.\n",
      " - Yeast or Microorganism Inoculum Source: This unit operation serves as a source for the Yeast or Microorganism Inoculum stream, which is essential for the fermentation process in ethanol production. The inoculum introduces the necessary yeast or other microorganisms that will ferment the sugars derived from the sugar solution into ethanol and carbon dioxide. This operation ensures a consistent and adequate supply of viable microorganisms to optimize fermentation efficiency.\n",
      " - Yeast or Microorganisms Source: This unit operation serves as a source for the 'Yeast or Microorganisms' stream, which is essential for the fermentation process in ethanol production. The stream consists of yeast and genetically engineered microorganisms that facilitate the conversion of sugars into ethanol. This source ensures a consistent and reliable supply of active fermentation agents, optimizing the efficiency and yield of the fermentation stage in the overall process flow.\n",
      " - Yeast Culture Source: This unit operation serves as the source for the Yeast Culture stream, which consists of microorganisms specifically selected for their ability to ferment sugars into ethanol. The Yeast Culture is essential for the fermentation process, where it converts the hydrolysate into ethanol and carbon dioxide. The stream is produced in controlled conditions to ensure high viability and fermentation efficiency, and it is supplied at the required volumetric scale to meet the demands of the fermentation unit operation.\n",
      " - Yeast Culture Source: This unit operation serves as the source for the Yeast Culture stream, which consists of microorganisms specifically cultivated to ferment glucose into ethanol. The Yeast Culture is essential for the fermentation process, where yeast cells convert sugars into ethanol and carbon dioxide. This operation ensures a consistent supply of active yeast, optimized for high fermentation efficiency, and is crucial for achieving the desired ethanol yield in the overall process.\n",
      "\n",
      "\n",
      "Cluster 12:\n",
      " - Pretreatment Chemicals Source: This unit operation serves as a source for the Pretreatment Chemicals stream, which includes dilute acids and alkalis. These chemicals are essential for the pretreatment process, as they help to disrupt the lignin structure and partially hydrolyze hemicellulose in the biomass feedstock. This step is crucial for enhancing the accessibility of cellulose for subsequent enzymatic hydrolysis, ultimately improving the efficiency of the overall conversion process to produce ethanol.\n",
      " - Pretreatment Catalyst/Agent Source: This unit operation serves as a source for the Pretreatment Catalyst/Agent stream, which includes various chemical agents such as dilute acids, steam, and alkaline solutions. These agents are essential for the pretreatment process, as they facilitate the breakdown of the lignocellulosic structure in the biomass, enabling the subsequent enzymatic hydrolysis and fermentation stages to convert the biomass into fermentable sugars and ultimately into ethanol.\n",
      " - Pretreatment Agent Source: This unit operation serves as a source for the Pretreatment Agent stream, which is essential for the pretreatment process of lignocellulosic biomass. The stream includes components such as dilute acid (e.g., sulfuric acid) and water, which are crucial for breaking down the complex lignocellulosic structure of feedstocks like corn stover. The effective use of this stream enhances the efficiency of subsequent processing steps by ensuring optimal conditions for the pretreatment phase.\n",
      " - Pretreatment By-products Sink: This unit operation serves as a sink for the pretreatment by-products generated during the biomass pretreatment process. It collects and manages the by-products, which may include solubilized hemicellulose, degraded lignin, and other degradation products that are not utilized in the subsequent steps of the ethanol production process. Proper handling and disposal or potential valorization of these by-products are crucial for minimizing waste and maximizing resource efficiency in the overall process.\n",
      " - Pretreatment Agent Source: This unit operation serves as a source for the Pretreatment Agent, which is a critical input in the pretreatment process of biomass. The Pretreatment Agent is composed of dilute acid and steam, and its primary function is to break down the lignin structure in the biomass, thereby enhancing the accessibility of cellulose and hemicellulose for subsequent enzymatic hydrolysis. This operation ensures a consistent supply of the necessary chemicals and steam required for effective biomass pretreatment.\n",
      "\n",
      "\n",
      "Cluster 13:\n",
      " - Feedstock Handling: The corn stover, which is a lignocellulosic biomass, is delivered to the processing facility. It is first subjected to size reduction to increase the surface area for subsequent processing steps. This involves mechanical operations such as chopping, grinding, or milling. The reduced-size feedstock is then conveyed to storage silos, ensuring a steady supply for continuous processing.\n",
      " - Feedstock Handling and Preparation: The corn stover, which is a lignocellulosic biomass, is delivered to the processing facility at a volumetric scale of 1000 metric tons per day. The feedstock is first subjected to size reduction using mechanical shredders or grinders to increase the surface area and enhance the efficiency of subsequent pretreatment processes. This step is crucial to ensure uniformity in particle size, which facilitates better penetration of chemicals during pretreatment.\n",
      " - Feedstock Preparation: The corn stover, which is a lignocellulosic biomass, is first collected and transported to the processing facility. In this unit operation, the stover is subjected to size reduction using mechanical milling to increase the surface area, which is crucial for the subsequent pretreatment process. This step ensures uniformity in particle size, which enhances the efficiency of the pretreatment process.\n",
      " - Feedstock Preparation: The corn stover, which is primarily composed of cellulose, hemicellulose, and lignin, is initially prepared for processing. This involves size reduction through milling to achieve a particle size of approximately 1-2 mm, which is optimal for subsequent processing steps. The moisture content is adjusted to around 10-15% to facilitate efficient handling and processing in downstream operations.\n",
      " - Feedstock Preparation: The initial step involves preparing the corn stover feedstock for further processing. This includes drying the biomass to reduce its moisture content to the desired level, typically around 10-15%. The dried corn stover is then subjected to mechanical size reduction, often using milling equipment, to achieve a particle size of less than 2 mm. This size reduction is crucial for enhancing the efficiency of subsequent hydrolysis and fermentation processes by increasing the surface area available for enzymatic action.\n",
      "\n",
      "\n",
      "Cluster 14:\n",
      " - Lignin By-product Sink: This unit operation serves as the terminus for the Lignin By-product stream, which consists of recovered lignin. The lignin can be utilized for energy generation, as a raw material for bioplastics, or in other applications such as adhesives and surfactants. This sink is designed to handle the final disposition of lignin, ensuring proper storage or transfer for further processing or utilization.\n",
      " - Lignin Residues Source: This unit operation serves as a source for the Lignin Residues stream, which consists of solid residues rich in lignin remaining after the enzymatic hydrolysis process. The Lignin Residues are generated as a byproduct during the conversion of biomass into fermentable sugars and are typically utilized for energy recovery or as a raw material for various applications in the chemical industry.\n",
      " - Energy Recovery Unit: This unit operation serves as a sink for the 'Energy from Lignin' stream, which consists of steam and electricity generated from the combustion of lignin residues. The energy recovery unit captures and utilizes this energy to power the plant's operations, enhancing overall energy efficiency and sustainability. It is designed to optimize the conversion of lignin waste into usable energy, thereby reducing reliance on external energy sources.\n",
      " - Lignin-Rich Residue Sink: This unit operation serves as a sink for the Lignin-Rich Residue stream, which is a byproduct generated during the pretreatment of Corn Stover. The stream primarily consists of lignin and ash, which are separated from the biomass during the pretreatment process. The Lignin-Rich Residue can be further processed for energy recovery or utilized in various applications such as biofuels, bioplastics, or as a soil amendment.\n",
      " - Lignin-Rich Residue Sink: This unit operation serves as the sink for the Lignin-Rich Residue stream generated during the pretreatment process. The Lignin-Rich Residue consists primarily of lignin and water, which are separated from the pretreated biomass. This stream is crucial for waste management and potential valorization opportunities, as lignin can be utilized in various applications such as biofuels, bioplastics, or as a feedstock for other chemical processes. The sink ensures that the lignin-rich byproduct is effectively managed and accounted for in the overall process flow.\n",
      "\n",
      "\n"
     ]
    }
   ],
   "source": [
    "\n",
    "# %% [markdown]\n",
    "# ### Investigating Clusters\n",
    "#\n",
    "# Display sample unit operations from each cluster to understand their characteristics.\n",
    "\n",
    "# %%\n",
    "for c in range(n_clusters):\n",
    "    cluster_ops = unit_ops_df[unit_ops_df['cluster_label'] == c]\n",
    "    print(f\"Cluster {c}:\")\n",
    "    # Print a few example unit ops from this cluster\n",
    "    for idx, row in cluster_ops.head(5).iterrows():\n",
    "        print(\" -\", row['text'])\n",
    "    print(\"\\n\")\n"
   ]
  },
  {
   "cell_type": "code",
   "execution_count": null,
   "metadata": {},
   "outputs": [
    {
     "name": "stdout",
     "output_type": "stream",
     "text": [
      "Clustering results saved to ..\\data\\batches\\analysis_results\\unit_ops_clusters.csv.\n"
     ]
    }
   ],
   "source": [
    "\n",
    "# %% [markdown]\n",
    "# ## Save Clustering Results\n",
    "\n",
    "# %%\n",
    "# Save cluster assignments\n",
    "unit_ops_df.to_csv(output_dir / \"unit_ops_clusters.csv\", index=False)\n",
    "print(f\"Clustering results saved to {output_dir / 'unit_ops_clusters.csv'}.\")\n"
   ]
  },
  {
   "cell_type": "code",
   "execution_count": null,
   "metadata": {},
   "outputs": [],
   "source": [
    "\n",
    "# %% [markdown]\n",
    "# ## Summary\n",
    "#\n",
    "# - **Aggregated Data**: Successfully aggregated multiple batches and their respective runs.\n",
    "# - **Unique Run Identification**: Each run is uniquely identified by combining the batch ID and run name.\n",
    "# - **Clustering Analysis**: Performed embedding-based clustering to assess the semantic consistency of unit operations across runs.\n",
    "# - **Visualization**: Visualized clusters using UMAP for dimensionality reduction.\n",
    "#\n",
    "# **Next Steps:**\n",
    "# - Incorporate validated data for operational parameters.\n",
    "# - Explore alternative clustering algorithms (e.g., HDBSCAN) for potentially better clustering performance.\n",
    "# - Analyze clusters to identify common patterns and outliers in unit operations.\n",
    "\n"
   ]
  }
 ],
 "metadata": {
  "kernelspec": {
   "display_name": "tea_env",
   "language": "python",
   "name": "python3"
  },
  "language_info": {
   "codemirror_mode": {
    "name": "ipython",
    "version": 3
   },
   "file_extension": ".py",
   "mimetype": "text/x-python",
   "name": "python",
   "nbconvert_exporter": "python",
   "pygments_lexer": "ipython3",
   "version": "3.11.9"
  }
 },
 "nbformat": 4,
 "nbformat_minor": 2
}
