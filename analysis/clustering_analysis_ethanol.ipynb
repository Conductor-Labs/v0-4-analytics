{
 "cells": [
  {
   "cell_type": "code",
   "execution_count": 2,
   "metadata": {},
   "outputs": [],
   "source": [
    "#!/usr/bin/env python\n",
    "# coding: utf-8\n",
    "\n",
    "# %% [markdown]\n",
    "# # Clustering Analysis of Unit Operations\n",
    "#\n",
    "# This notebook aggregates multiple batches and their respective runs, processes the unit operations,\n",
    "# computes embeddings, clusters them, and visualizes the results.\n",
    "#\n",
    "# **Enhancements:**\n",
    "# 1. **Aggregating Multiple Batches and Runs**: The script now supports processing multiple batch folders.\n",
    "# 2. **Updated Run Identification Logic**: Adjusted to handle run folder names where the run number is at the end (e.g., `corn stover_to_ethanol_(1)`).\n",
    "#\n",
    "# **Dependencies:**\n",
    "# - `networkx`\n",
    "# - `pandas`\n",
    "# - `matplotlib`\n",
    "# - `seaborn`\n",
    "# - `sentence-transformers`\n",
    "# - `umap-learn`\n",
    "# - `scikit-learn`\n",
    "\n",
    "# %% [markdown]  \n",
    "# ## Imports and Setup\n",
    "\n",
    "# %%\n",
    "import os  \n",
    "import json\n",
    "import re\n",
    "from pathlib import Path\n",
    "import networkx as nx\n",
    "import pandas as pd\n",
    "import matplotlib.pyplot as plt\n",
    "import seaborn as sns\n",
    "import umap.umap_ as umap\n",
    "\n",
    "from sklearn.cluster import KMeans\n",
    "from sentence_transformers import SentenceTransformer\n",
    "\n",
    "# For inline plotting in Jupyter\n",
    "%matplotlib inline\n",
    "\n",
    "sns.set_style(\"whitegrid\")\n",
    "\n",
    "\n"
   ]
  },
  {
   "cell_type": "code",
   "execution_count": 3,
   "metadata": {},
   "outputs": [],
   "source": [
    "# %% [markdown]\n",
    "# ## Configuration\n",
    "#\n",
    "# - **Data Directory**: Specify the root directory containing all batch folders.\n",
    "# - **Run Folder Pattern**: Define a regex pattern to identify run folders with run numbers at the end.\n",
    "\n",
    "# Root directory of the project\n",
    "project_root = Path(\"..\")  # Adjust as necessary based on your project structure\n",
    "\n",
    "# Directory containing all batch folders\n",
    "batches_dir = project_root / \"data\" / \"corn_stover_to_ethanol\"\n",
    "\n",
    "# List of batch folder IDs to process\n",
    "selected_batches = [\n",
    "    \"20241209_000851\",\n",
    "    \"20241209_001652\",\n",
    "    \"20241209_003530\",\n",
    "    \"20241209_003719\",\n",
    "    \"20241209_004018\",\n",
    "    \"20241210_183610\"\n",
    "]\n",
    "\n",
    "# Regex pattern to match run folders like 'corn stover_to_ethanol_(1)', 'corn stover_to_ethanol_(2)', etc.\n",
    "# Can remove this (add to my to-do)\n",
    "run_folder_pattern = re.compile(r'^corn stover_to_ethanol_\\(\\d+\\)$')"
   ]
  },
  {
   "cell_type": "code",
   "execution_count": 4,
   "metadata": {},
   "outputs": [
    {
     "name": "stdout",
     "output_type": "stream",
     "text": [
      "\n",
      "Total Runs Loaded: 100\n"
     ]
    }
   ],
   "source": [
    "# %% [markdown]\n",
    "# ## Data Loading: Aggregating Specified Batches and Runs\n",
    "\n",
    "# %%\n",
    "# Initialize an empty dictionary to store DAGs\n",
    "dags = {}\n",
    "\n",
    "# Iterate through each selected batch folder\n",
    "for batch_id in selected_batches:\n",
    "    batch_dir = batches_dir / batch_id\n",
    "    if batch_dir.exists() and batch_dir.is_dir():\n",
    "        # print(f\"Processing Batch: {batch_id}\")\n",
    "        \n",
    "        # Iterate through each run folder within the batch\n",
    "        for run_dir in batch_dir.iterdir():\n",
    "            if run_dir.is_dir() and run_folder_pattern.match(run_dir.name):\n",
    "                run_name = run_dir.name\n",
    "                # Create a unique identifier by combining batch ID and run name\n",
    "                unique_run_name = f\"{batch_id}_{run_name}\"\n",
    "                \n",
    "                dag_path = run_dir / \"v1_DAG.json\"\n",
    "                if dag_path.exists():\n",
    "                    try:\n",
    "                        with open(dag_path, \"r\") as f:\n",
    "                            dag_data = json.load(f)\n",
    "                        dags[unique_run_name] = dag_data\n",
    "                        # print(f\" - Loaded DAG for Run: {unique_run_name}\")\n",
    "                    except json.JSONDecodeError as e:\n",
    "                        print(f\"   * Error decoding JSON for {unique_run_name}: {e}\")\n",
    "                else:\n",
    "                    print(f\"   * DAG not found for Run: {unique_run_name}\")\n",
    "    else:\n",
    "        print(f\"Batch folder not found or is not a directory: {batch_id}\")\n",
    "\n",
    "print(f\"\\nTotal Runs Loaded: {len(dags)}\")\n"
   ]
  },
  {
   "cell_type": "code",
   "execution_count": 5,
   "metadata": {},
   "outputs": [
    {
     "name": "stdout",
     "output_type": "stream",
     "text": [
      "Total Graphs Created: 100\n"
     ]
    }
   ],
   "source": [
    "\n",
    "# %% [markdown]\n",
    "# ## Convert DAGs to NetworkX Graphs\n",
    "\n",
    "# %%\n",
    "def dag_to_networkx(dag_data):\n",
    "    G = nx.DiGraph()\n",
    "    unit_ops = dag_data.get(\"unit_operations\", {})\n",
    "\n",
    "    # Add nodes\n",
    "    for uop_id, uop_data in unit_ops.items():\n",
    "        G.add_node(uop_id, **uop_data)\n",
    "\n",
    "    # Add edges based on streams\n",
    "    streams = dag_data.get(\"streams\", {})\n",
    "    for stream_id, sdata in streams.items():\n",
    "        source = sdata['source']\n",
    "        target = sdata['target']\n",
    "        # Only add edge if both source and target are unit operations\n",
    "        if source in unit_ops and target in unit_ops:\n",
    "            G.add_edge(source, target, **sdata)\n",
    "\n",
    "    return G\n",
    "\n",
    "# Create NetworkX graphs from DAGs\n",
    "graphs = {run_name: dag_to_networkx(dag_data) for run_name, dag_data in dags.items()}\n",
    "\n",
    "print(f\"Total Graphs Created: {len(graphs)}\")\n"
   ]
  },
  {
   "cell_type": "code",
   "execution_count": 6,
   "metadata": {},
   "outputs": [],
   "source": [
    "\n",
    "# %% [markdown]\n",
    "# ## Assess Unit Operations Across DAGs for Stability\n",
    "\n",
    "# %%\n",
    "unit_op_counts = {}\n",
    "for run_name, G in graphs.items():\n",
    "    for node in G.nodes:\n",
    "        unit_op_counts[node] = unit_op_counts.get(node, 0) + 1\n",
    "\n",
    "# Convert to a DataFrame to see frequency\n",
    "uop_df = pd.DataFrame([{'unit_op': k, 'count': v} for k, v in unit_op_counts.items()])\n",
    "uop_df.sort_values('count', ascending=False, inplace=True)\n",
    "uop_df.reset_index(drop=True, inplace=True)\n",
    "\n",
    "# print(\"Unit Operations Frequency:\")\n",
    "# uop_df\n"
   ]
  },
  {
   "cell_type": "code",
   "execution_count": 7,
   "metadata": {},
   "outputs": [
    {
     "name": "stderr",
     "output_type": "stream",
     "text": [
      "C:\\Users\\Jesse\\AppData\\Local\\Temp\\ipykernel_7036\\2238073952.py:6: FutureWarning: \n",
      "\n",
      "Passing `palette` without assigning `hue` is deprecated and will be removed in v0.14.0. Assign the `x` variable to `hue` and set `legend=False` for the same effect.\n",
      "\n",
      "  sns.barplot(data=uop_df, x='unit_op', y='count', palette='viridis')\n"
     ]
    },
    {
     "data": {
      "image/png": "[encoded data removed]",
      "text/plain": [
       "<Figure size 1200x600 with 1 Axes>"
      ]
     },
     "metadata": {},
     "output_type": "display_data"
    }
   ],
   "source": [
    "\n",
    "# %% [markdown]\n",
    "# ## Visualize Frequency of Unit Operations\n",
    "\n",
    "# %%\n",
    "plt.figure(figsize=(12, 6))\n",
    "sns.barplot(data=uop_df, x='unit_op', y='count', palette='viridis')\n",
    "plt.xticks(rotation=90)\n",
    "plt.title(\"Frequency of Unit Operations Across All Runs\")\n",
    "plt.xlabel(\"Unit Operation\")\n",
    "plt.ylabel(\"Count\")\n",
    "plt.tight_layout()\n",
    "plt.show()\n"
   ]
  },
  {
   "cell_type": "code",
   "execution_count": 8,
   "metadata": {},
   "outputs": [
    {
     "name": "stdout",
     "output_type": "stream",
     "text": [
      "Computing Jaccard similarity for 4950 run pairs...\n"
     ]
    }
   ],
   "source": [
    "\n",
    "# %% [markdown]\n",
    "# ## Compute Jaccard Similarity for Edges Between Runs\n",
    "\n",
    "# %%\n",
    "from itertools import combinations\n",
    "\n",
    "def graph_edge_set(G):\n",
    "    return set(G.edges())\n",
    "\n",
    "similarities = []\n",
    "run_pairs = list(combinations(graphs.keys(), 2))\n",
    "print(f\"Computing Jaccard similarity for {len(run_pairs)} run pairs...\")\n",
    "\n",
    "for r1, r2 in run_pairs:\n",
    "    G1, G2 = graphs[r1], graphs[r2]\n",
    "    e1, e2 = graph_edge_set(G1), graph_edge_set(G2)\n",
    "    inter = len(e1.intersection(e2))\n",
    "    union = len(e1.union(e2))\n",
    "    jaccard = inter / union if union else 0\n",
    "    similarities.append({'run1': r1, 'run2': r2, 'jaccard_edge_similarity': jaccard})\n",
    "\n",
    "sim_df = pd.DataFrame(similarities)\n",
    "# print(\"Sample of Jaccard Similarity:\")\n",
    "# sim_df.head()\n"
   ]
  },
  {
   "cell_type": "code",
   "execution_count": 9,
   "metadata": {},
   "outputs": [
    {
     "name": "stdout",
     "output_type": "stream",
     "text": [
      "Unit operation counts saved to ..\\data\\corn_stover_to_ethanol\\analysis_results\\analysis_unit_op_counts.csv\n",
      "Graph similarities saved to ..\\data\\corn_stover_to_ethanol\\analysis_results\\analysis_graph_similarities.csv\n"
     ]
    }
   ],
   "source": [
    "\n",
    "# %% [markdown]\n",
    "# ## Save Analysis Results to CSV\n",
    "\n",
    "# %%\n",
    "# Define output directory\n",
    "output_dir = batches_dir / \"analysis_results\"\n",
    "output_dir.mkdir(parents=True, exist_ok=True)\n",
    "\n",
    "# Save unit operation counts\n",
    "uop_df.to_csv(output_dir / \"analysis_unit_op_counts.csv\", index=False)\n",
    "print(f\"Unit operation counts saved to {output_dir / 'analysis_unit_op_counts.csv'}\")\n",
    "\n",
    "# Save graph similarities\n",
    "sim_df.to_csv(output_dir / \"analysis_graph_similarities.csv\", index=False)\n",
    "print(f\"Graph similarities saved to {output_dir / 'analysis_graph_similarities.csv'}\")\n"
   ]
  },
  {
   "cell_type": "code",
   "execution_count": 10,
   "metadata": {},
   "outputs": [],
   "source": [
    "\n",
    "# %% [markdown]\n",
    "# ## Embedding and Clustering Analysis\n",
    "#\n",
    "# The following sections perform embedding-based clustering of unit operations to assess semantic consistency and stability across runs.\n",
    "\n",
    "# %% [markdown]\n",
    "# ### Extract Unit Operations and Prepare Text for Embedding\n",
    "\n",
    "# %%\n",
    "# Collect unit operations from all runs\n",
    "unit_ops_data = []  # Stores dicts: { 'run': run_name, 'unit_op_id': node_id, 'text': ... }\n",
    "\n",
    "for run_name, G in graphs.items():\n",
    "    for node, data in G.nodes(data=True):\n",
    "        # Combine name and description for embedding\n",
    "        name = data.get('name', 'Unnamed Unit Operation')\n",
    "        description = data.get('description', '')\n",
    "        text = f\"{name}: {description}\"\n",
    "        unit_ops_data.append({\n",
    "            'run': run_name,\n",
    "            'unit_op_id': node,\n",
    "            'text': text\n",
    "        })\n",
    "\n",
    "unit_ops_df = pd.DataFrame(unit_ops_data)\n",
    "# print(\"Number of unit operations across all runs:\", len(unit_ops_df))\n",
    "# unit_ops_df.head()\n"
   ]
  },
  {
   "cell_type": "code",
   "execution_count": 11,
   "metadata": {},
   "outputs": [
    {
     "name": "stdout",
     "output_type": "stream",
     "text": [
      "Embeddings shape: (1490, 384)\n"
     ]
    }
   ],
   "source": [
    "\n",
    "# %% [markdown]\n",
    "# ### Compute Embeddings\n",
    "\n",
    "# %%\n",
    "# Initialize the Sentence Transformer model\n",
    "model = SentenceTransformer('all-MiniLM-L6-v2')\n",
    "\n",
    "# Compute embeddings\n",
    "embeddings = model.encode(unit_ops_df['text'].tolist(), convert_to_numpy=True)\n",
    "\n",
    "print(\"Embeddings shape:\", embeddings.shape)\n"
   ]
  },
  {
   "cell_type": "code",
   "execution_count": 12,
   "metadata": {},
   "outputs": [],
   "source": [
    "\n",
    "# %% [markdown]\n",
    "# ### Clustering with K-Means\n",
    "\n",
    "# %%\n",
    "# Define number of clusters\n",
    "n_clusters = 10  # Adjust as needed\n",
    "\n",
    "# Initialize and fit K-Means\n",
    "kmeans = KMeans(n_clusters=n_clusters, random_state=42, n_init='auto')\n",
    "labels = kmeans.fit_predict(embeddings)\n",
    "\n",
    "# Assign cluster labels to the DataFrame\n",
    "unit_ops_df['cluster_label'] = labels\n",
    "# unit_ops_df.head()\n"
   ]
  },
  {
   "cell_type": "code",
   "execution_count": 13,
   "metadata": {},
   "outputs": [
    {
     "name": "stderr",
     "output_type": "stream",
     "text": [
      "c:\\Users\\Jesse\\anaconda3\\envs\\tea_env\\Lib\\site-packages\\umap\\umap_.py:1952: UserWarning: n_jobs value 1 overridden to 1 by setting random_state. Use no seed for parallelism.\n",
      "  warn(\n"
     ]
    }
   ],
   "source": [
    "\n",
    "# %% [markdown]\n",
    "# ### Dimensionality Reduction with UMAP\n",
    "\n",
    "# %%\n",
    "# Initialize UMAP reducer\n",
    "reducer = umap.UMAP(n_neighbors=15, min_dist=0.1, random_state=42)\n",
    "\n",
    "# Fit and transform embeddings\n",
    "reduced_embeddings = reducer.fit_transform(embeddings)\n",
    "\n",
    "# Create a DataFrame for reduced dimensions\n",
    "reduced_df = pd.DataFrame({\n",
    "    'x': reduced_embeddings[:, 0],\n",
    "    'y': reduced_embeddings[:, 1],\n",
    "    'cluster': labels,\n",
    "    'run': unit_ops_df['run'],\n",
    "    'unit_op_id': unit_ops_df['unit_op_id'],\n",
    "    'text': unit_ops_df['text']\n",
    "})\n",
    "\n",
    "# Display a sample of the reduced DataFrame\n",
    "# reduced_df.head()\n"
   ]
  },
  {
   "cell_type": "code",
   "execution_count": 14,
   "metadata": {},
   "outputs": [
    {
     "name": "stdout",
     "output_type": "stream",
     "text": [
      "\n",
      "Representative Elements for Each Cluster:\n",
      "   cluster          x          y                          title\n",
      "0        0  11.213507  11.131640  Pretreatment Chemicals Source\n",
      "1        1   2.756198  -8.083032        Fuel-Grade Ethanol Sink\n",
      "2        2   5.485927  20.443024             Feedstock Handling\n",
      "3        3  -0.314611  19.145117                   Fermentation\n",
      "4        4  15.543632  22.492493   Corn Stover Feedstock Source\n",
      "5        5  27.759911   6.362771           Enzymatic Hydrolysis\n",
      "6        6   8.882739  -2.583731                 Off-gases Sink\n",
      "7        7  16.316736   3.314941                Waste Treatment\n",
      "8        8  -6.821756   6.609378                   Distillation\n",
      "9        9   9.795526   0.630856             Treated Waste Sink\n",
      "\n",
      "Cluster Compactness Summary:\n",
      "   Cluster #            Representative Name  \\\n",
      "0          0  Pretreatment Chemicals Source   \n",
      "1          1        Fuel-Grade Ethanol Sink   \n",
      "2          2             Feedstock Handling   \n",
      "3          3                   Fermentation   \n",
      "4          4   Corn Stover Feedstock Source   \n",
      "5          5           Enzymatic Hydrolysis   \n",
      "6          6                 Off-gases Sink   \n",
      "7          7                Waste Treatment   \n",
      "8          8                   Distillation   \n",
      "9          9             Treated Waste Sink   \n",
      "\n",
      "                          Representative Description  Total Elements  \\\n",
      "0  This unit operation serves as a source for the...             107   \n",
      "1  This unit operation serves as the final sink f...             134   \n",
      "2  The corn stover, which is a lignocellulosic bi...             193   \n",
      "3  The hydrolysate is transferred to fermentation...             191   \n",
      "4  This unit operation serves as the source for t...             101   \n",
      "5  The pretreated biomass is subjected to enzymat...             195   \n",
      "6  This unit operation serves as a sink for the o...              85   \n",
      "7  The stillage and other waste streams from the ...             124   \n",
      "8  The fermentation broth is subjected to distill...             210   \n",
      "9  This unit operation serves as the final sink f...             150   \n",
      "\n",
      "   Elements Within Radius     Radius  \n",
      "0                      84   1.262700  \n",
      "1                     116   7.834498  \n",
      "2                     167   3.916672  \n",
      "3                     191  15.888586  \n",
      "4                      98   0.747396  \n",
      "5                     168  13.753284  \n",
      "6                      83   4.792063  \n",
      "7                     110   4.887430  \n",
      "8                     201   7.598146  \n",
      "9                     140   2.221514  \n"
     ]
    },
    {
     "data": {
      "application/vnd.plotly.v1+json": {
       "config": {
        "plotlyServerURL": "https://plot.ly"
       },
       "data": [
        {
         "customdata": [
          [
           2,
           "Feedstock Handling"
          ],
          [
           2,
           "Pretreatment"
          ],
          [
           2,
           "Feedstock Handling and Preparation"
          ],
          [
           2,
           "Pretreatment"
          ],
          [
           2,
           "Feedstock Preparation"
          ],
          [
           2,
           "Pretreatment"
          ],
          [
           2,
           "Feedstock Preparation"
          ],
          [
           2,
           "Pretreatment"
          ],
          [
           2,
           "Feedstock Preparation"
          ],
          [
           2,
           "Pretreatment"
          ],
          [
           2,
           "Pretreatment"
          ],
          [
           2,
           "Feedstock Preparation"
          ],
          [
           2,
           "Pretreatment"
          ],
          [
           2,
           "Feedstock Preparation"
          ],
          [
           2,
           "Pretreatment"
          ],
          [
           2,
           "Preprocessing"
          ],
          [
           2,
           "Pretreatment"
          ],
          [
           2,
           "Feedstock Preparation"
          ],
          [
           2,
           "Pretreatment"
          ],
          [
           2,
           "Pretreatment"
          ],
          [
           2,
           "Process Water Source"
          ],
          [
           2,
           "Feedstock Preparation"
          ],
          [
           2,
           "Pretreatment"
          ],
          [
           2,
           "Feedstock Preparation"
          ],
          [
           2,
           "Pretreatment"
          ],
          [
           2,
           "Feedstock Preparation"
          ],
          [
           2,
           "Pretreatment"
          ],
          [
           2,
           "Feedstock Preparation"
          ],
          [
           2,
           "Pretreatment"
          ],
          [
           2,
           "Feedstock Handling and Preparation"
          ],
          [
           2,
           "Pretreatment"
          ],
          [
           2,
           "Feedstock Preparation"
          ],
          [
           2,
           "Pretreatment"
          ],
          [
           2,
           "Pretreatment"
          ],
          [
           2,
           "Feedstock Preparation"
          ],
          [
           2,
           "Chemical Pre-treatment"
          ],
          [
           2,
           "Feedstock Preparation"
          ],
          [
           2,
           "Pretreatment"
          ],
          [
           2,
           "Pre-treatment"
          ],
          [
           2,
           "Feedstock Preparation"
          ],
          [
           2,
           "Pretreatment"
          ],
          [
           2,
           "Feedstock Preparation"
          ],
          [
           2,
           "Pretreatment"
          ],
          [
           2,
           "Feedstock Handling and Preparation"
          ],
          [
           2,
           "Feedstock Handling and Preparation"
          ],
          [
           2,
           "Pretreatment"
          ],
          [
           2,
           "Feedstock Preparation"
          ],
          [
           2,
           "Pretreatment"
          ],
          [
           2,
           "Feedstock Preparation"
          ],
          [
           2,
           "Pretreatment"
          ],
          [
           2,
           "Feedstock Preparation"
          ],
          [
           2,
           "Pretreatment"
          ],
          [
           2,
           "Feedstock Preparation"
          ],
          [
           2,
           "Pretreatment"
          ],
          [
           2,
           "Feedstock Preparation"
          ],
          [
           2,
           "Pretreatment"
          ],
          [
           2,
           "Feedstock Preparation"
          ],
          [
           2,
           "Pretreatment"
          ],
          [
           2,
           "Feedstock Preparation"
          ],
          [
           2,
           "Pretreatment"
          ],
          [
           2,
           "Feedstock Preparation"
          ],
          [
           2,
           "Pretreatment"
          ],
          [
           2,
           "Feedstock Preparation"
          ],
          [
           2,
           "Pretreatment"
          ],
          [
           2,
           "Feedstock Preparation"
          ],
          [
           2,
           "Pretreatment"
          ],
          [
           2,
           "Feedstock Preparation"
          ],
          [
           2,
           "Pretreatment"
          ],
          [
           2,
           "Feedstock Preparation"
          ],
          [
           2,
           "Pretreatment"
          ],
          [
           2,
           "Feedstock Preparation"
          ],
          [
           2,
           "Pretreatment"
          ],
          [
           2,
           "Feedstock Handling and Preparation"
          ],
          [
           2,
           "Pretreatment"
          ],
          [
           2,
           "Feedstock Preparation"
          ],
          [
           2,
           "Pretreatment"
          ],
          [
           2,
           "Feedstock Preparation"
          ],
          [
           2,
           "Pretreatment"
          ],
          [
           2,
           "Feedstock Preparation"
          ],
          [
           2,
           "Pretreatment"
          ],
          [
           2,
           "Feedstock Preparation"
          ],
          [
           2,
           "Pretreatment"
          ],
          [
           2,
           "Feedstock Handling and Preparation"
          ],
          [
           2,
           "Pretreatment"
          ],
          [
           2,
           "Feedstock Handling and Preparation"
          ],
          [
           2,
           "Pretreatment"
          ],
          [
           2,
           "Feedstock Preparation"
          ],
          [
           2,
           "Pretreatment"
          ],
          [
           2,
           "Feedstock Preparation"
          ],
          [
           2,
           "Pretreatment"
          ],
          [
           2,
           "Pre-treatment"
          ],
          [
           2,
           "Feedstock Preparation"
          ],
          [
           2,
           "Pretreatment"
          ],
          [
           2,
           "Feedstock Preparation"
          ],
          [
           2,
           "Pretreatment"
          ],
          [
           2,
           "Feedstock Preparation"
          ],
          [
           2,
           "Pretreatment"
          ],
          [
           2,
           "Feedstock Preparation"
          ],
          [
           2,
           "Pretreatment"
          ],
          [
           2,
           "Feedstock Preparation"
          ],
          [
           2,
           "Pretreatment"
          ],
          [
           2,
           "Feedstock Preparation"
          ],
          [
           2,
           "Pretreatment"
          ],
          [
           2,
           "Feedstock Preparation"
          ],
          [
           2,
           "Pretreatment"
          ],
          [
           2,
           "Pretreatment Chemicals Source"
          ],
          [
           2,
           "Feedstock Preparation"
          ],
          [
           2,
           "Pretreatment"
          ],
          [
           2,
           "Feedstock Preparation"
          ],
          [
           2,
           "Pretreatment"
          ],
          [
           2,
           "Feedstock Preparation"
          ],
          [
           2,
           "Pretreatment"
          ],
          [
           2,
           "Feedstock Preparation"
          ],
          [
           2,
           "Pretreatment"
          ],
          [
           2,
           "Feedstock Preparation"
          ],
          [
           2,
           "Pretreatment"
          ],
          [
           2,
           "Feedstock Preparation"
          ],
          [
           2,
           "Pretreatment"
          ],
          [
           2,
           "Feedstock Preparation"
          ],
          [
           2,
           "Pretreatment"
          ],
          [
           2,
           "Feedstock Preparation"
          ],
          [
           2,
           "Pretreatment"
          ],
          [
           2,
           "Feedstock Preparation"
          ],
          [
           2,
           "Pretreatment"
          ],
          [
           2,
           "Feedstock Preparation"
          ],
          [
           2,
           "Pretreatment"
          ],
          [
           2,
           "Feedstock Preparation"
          ],
          [
           2,
           "Pretreatment"
          ],
          [
           2,
           "Feedstock Preparation"
          ],
          [
           2,
           "Pretreatment"
          ],
          [
           2,
           "Feedstock Preparation"
          ],
          [
           2,
           "Pretreatment"
          ],
          [
           2,
           "Pretreatment"
          ],
          [
           2,
           "Feedstock Preparation"
          ],
          [
           2,
           "Pretreatment"
          ],
          [
           2,
           "Feedstock Preparation"
          ],
          [
           2,
           "Pretreatment"
          ],
          [
           2,
           "Feedstock Preparation"
          ],
          [
           2,
           "Pretreatment"
          ],
          [
           2,
           "Feedstock Preparation"
          ],
          [
           2,
           "Pretreatment"
          ],
          [
           2,
           "Feedstock Handling and Preparation"
          ],
          [
           2,
           "Feedstock Preparation"
          ],
          [
           2,
           "Pretreatment"
          ],
          [
           2,
           "Feedstock Handling and Preparation"
          ],
          [
           2,
           "Pretreatment"
          ],
          [
           2,
           "Feedstock Preparation"
          ],
          [
           2,
           "Pretreatment"
          ],
          [
           2,
           "Feedstock Preparation"
          ],
          [
           2,
           "Pretreatment"
          ],
          [
           2,
           "Feedstock Preparation"
          ],
          [
           2,
           "Pretreatment"
          ],
          [
           2,
           "Feedstock Preparation"
          ],
          [
           2,
           "Pretreatment"
          ],
          [
           2,
           "Feedstock Preprocessing"
          ],
          [
           2,
           "Pretreatment"
          ],
          [
           2,
           "Feedstock Preparation"
          ],
          [
           2,
           "Pretreatment"
          ],
          [
           2,
           "Feedstock Preparation"
          ],
          [
           2,
           "Pretreatment"
          ],
          [
           2,
           "Feedstock Preparation"
          ],
          [
           2,
           "Pretreatment"
          ],
          [
           2,
           "Feedstock Preparation"
          ],
          [
           2,
           "Pretreatment"
          ],
          [
           2,
           "Feedstock Preparation"
          ],
          [
           2,
           "Pretreatment"
          ],
          [
           2,
           "Feedstock Handling and Preparation"
          ],
          [
           2,
           "Pretreatment"
          ],
          [
           2,
           "Feedstock Preparation"
          ],
          [
           2,
           "Pretreatment"
          ],
          [
           2,
           "Feedstock Preparation"
          ],
          [
           2,
           "Pretreatment"
          ],
          [
           2,
           "Feedstock Preparation"
          ],
          [
           2,
           "Pretreatment"
          ],
          [
           2,
           "Feedstock Preparation"
          ],
          [
           2,
           "Pretreatment"
          ],
          [
           2,
           "Feedstock Preparation"
          ],
          [
           2,
           "Pretreatment"
          ],
          [
           2,
           "Feedstock Preparation"
          ],
          [
           2,
           "Pretreatment"
          ],
          [
           2,
           "Feedstock Handling and Preparation"
          ],
          [
           2,
           "Pretreatment"
          ],
          [
           2,
           "Preprocessing"
          ],
          [
           2,
           "Pretreatment"
          ],
          [
           2,
           "Feedstock Preparation"
          ],
          [
           2,
           "Pretreatment"
          ],
          [
           2,
           "Feedstock Preparation"
          ],
          [
           2,
           "Pretreatment"
          ],
          [
           2,
           "Feedstock Preparation"
          ],
          [
           2,
           "Pretreatment"
          ],
          [
           2,
           "Feedstock Preparation"
          ],
          [
           2,
           "Pretreatment"
          ],
          [
           2,
           "Pretreatment"
          ]
         ],
         "hovertemplate": "Cluster=2<br>cluster=%{customdata[0]}<br>title=%{customdata[1]}<extra></extra>",
         "legendgroup": "2",
         "marker": {
          "color": "#636efa",
          "symbol": "circle"
         },
         "mode": "markers",
         "name": "2",
         "showlegend": true,
         "type": "scattergl",
         "x": [
          5.485927104949951,
          4.775371074676514,
          5.428145885467529,
          5.570723533630371,
          5.4142584800720215,
          5.048717021942139,
          5.625611305236816,
          4.731814861297607,
          6.839381694793701,
          4.886957168579102,
          5.406460762023926,
          5.751251220703125,
          4.875194549560547,
          6.830038070678711,
          4.777816295623779,
          4.888897895812988,
          5.120354652404785,
          6.6936469078063965,
          5.027997016906738,
          5.19434118270874,
          12.558695793151855,
          5.453903675079346,
          5.754146575927734,
          6.699902534484863,
          5.716951847076416,
          5.47341775894165,
          4.667356491088867,
          5.63878059387207,
          4.6354756355285645,
          5.481215000152588,
          5.796286582946777,
          5.92057991027832,
          5.099203586578369,
          4.9659624099731445,
          6.337539196014404,
          5.052422523498535,
          5.705282211303711,
          4.695926666259766,
          5.244456768035889,
          5.882711410522461,
          5.769322872161865,
          5.559632301330566,
          5.791306972503662,
          5.463576793670654,
          5.481980323791504,
          4.952414035797119,
          5.679101943969727,
          5.656985282897949,
          5.614886283874512,
          4.84852933883667,
          5.754900932312012,
          4.686450004577637,
          5.632509708404541,
          5.728579044342041,
          6.580578804016113,
          5.262376308441162,
          5.616645336151123,
          5.768865585327148,
          5.722414493560791,
          5.772083282470703,
          6.82694149017334,
          4.844717502593994,
          6.351288795471191,
          5.711334705352783,
          5.658920764923096,
          5.7013726234436035,
          6.821425437927246,
          5.143467903137207,
          6.501230239868164,
          5.128586769104004,
          6.62498664855957,
          5.217164993286133,
          6.691760063171387,
          5.804296970367432,
          6.724574089050293,
          5.546940326690674,
          6.750338077545166,
          5.031991958618164,
          5.587603569030762,
          4.75983190536499,
          5.507688522338867,
          5.5998992919921875,
          5.528217792510986,
          4.716641426086426,
          6.693447113037109,
          4.936744213104248,
          5.504262924194336,
          5.12296724319458,
          5.500090599060059,
          4.997189521789551,
          5.536881923675537,
          5.624222278594971,
          5.344130992889404,
          5.610966205596924,
          5.428915500640869,
          5.685821056365967,
          4.993441581726074,
          5.598255634307861,
          4.966692924499512,
          6.711724758148193,
          5.1409711837768555,
          5.7372307777404785,
          5.741958141326904,
          6.7127532958984375,
          4.626279830932617,
          10.941827774047852,
          6.797565937042236,
          5.566036224365234,
          6.661637306213379,
          5.748326778411865,
          5.474070072174072,
          5.117201805114746,
          5.618992328643799,
          4.841353893280029,
          5.613683223724365,
          5.798527717590332,
          6.782891750335693,
          5.365793704986572,
          5.720730781555176,
          4.896235942840576,
          6.71812629699707,
          4.916566848754883,
          6.786234378814697,
          4.9300971031188965,
          6.388185024261475,
          4.859159469604492,
          5.733371257781982,
          4.970779895782471,
          5.613460540771484,
          5.092613220214844,
          5.730856895446777,
          4.921422004699707,
          5.752856254577637,
          6.769161224365234,
          5.19165563583374,
          6.764997482299805,
          5.40643835067749,
          6.7094879150390625,
          4.7516303062438965,
          5.768459320068359,
          5.757854461669922,
          5.458031177520752,
          5.50387716293335,
          4.926918983459473,
          6.742245197296143,
          4.860969066619873,
          5.629656791687012,
          4.901754856109619,
          5.696925163269043,
          4.959219932556152,
          6.764960765838623,
          5.70523738861084,
          5.599146366119385,
          5.385360240936279,
          6.6150712966918945,
          4.675468444824219,
          5.561951637268066,
          5.572150230407715,
          6.735085487365723,
          5.367434978485107,
          5.525529384613037,
          4.661852836608887,
          6.7232561111450195,
          4.780590534210205,
          6.768919944763184,
          5.770086765289307,
          5.523262023925781,
          5.677152156829834,
          6.36439847946167,
          5.591576099395752,
          5.534153938293457,
          5.54139518737793,
          6.544130325317383,
          5.378870010375977,
          6.31010627746582,
          5.724421977996826,
          6.650348663330078,
          4.7075018882751465,
          5.473443508148193,
          4.745521068572998,
          6.679354667663574,
          5.602274417877197,
          4.969496726989746,
          5.22092866897583,
          5.678869247436523,
          4.916545867919922,
          6.806460380554199,
          4.703760623931885,
          6.341943740844727,
          5.076663494110107,
          6.848730087280273,
          5.010268688201904,
          5.508570194244385
         ],
         "xaxis": "x",
         "y": [
          20.443023681640625,
          13.286999702453613,
          20.444183349609375,
          13.09891128540039,
          20.452800750732422,
          13.24360466003418,
          18.82318115234375,
          12.938135147094727,
          19.265575408935547,
          13.223628044128418,
          13.038039207458496,
          18.789384841918945,
          13.239532470703125,
          19.280092239379883,
          13.206446647644043,
          12.687823295593262,
          12.549690246582031,
          19.3477725982666,
          13.278999328613281,
          13.01357650756836,
          11.125004768371582,
          20.27566909790039,
          12.914844512939453,
          19.37800407409668,
          13.027441024780273,
          20.400636672973633,
          12.837417602539062,
          20.33931541442871,
          12.806930541992188,
          20.436634063720703,
          12.748568534851074,
          18.87158966064453,
          13.28874397277832,
          12.555168151855469,
          18.785194396972656,
          13.237180709838867,
          18.834428787231445,
          12.720483779907227,
          13.188854217529297,
          18.821674346923828,
          13.008111953735352,
          19.059053421020508,
          13.039430618286133,
          20.50862693786621,
          20.393402099609375,
          12.60747241973877,
          18.87503433227539,
          13.065091133117676,
          18.982297897338867,
          12.952878952026367,
          18.825422286987305,
          12.860111236572266,
          18.929170608520508,
          13.101770401000977,
          19.45963478088379,
          12.316264152526855,
          18.92877197265625,
          13.050297737121582,
          18.829010009765625,
          12.995359420776367,
          19.28683853149414,
          13.004368782043457,
          18.792091369628906,
          12.98415756225586,
          18.90704917907715,
          12.59985637664795,
          19.25875473022461,
          13.091846466064453,
          19.029129028320312,
          13.230095863342285,
          19.53847885131836,
          12.409051895141602,
          19.23893928527832,
          13.019144058227539,
          19.38690948486328,
          12.442729949951172,
          19.338951110839844,
          13.156557083129883,
          20.310720443725586,
          12.989195823669434,
          20.379480361938477,
          12.439006805419922,
          20.444520950317383,
          13.122182846069336,
          19.458515167236328,
          13.19184398651123,
          20.07270050048828,
          13.116708755493164,
          19.600732803344727,
          13.25740909576416,
          13.154794692993164,
          20.351232528686523,
          12.296545028686523,
          20.35239028930664,
          12.374444007873535,
          18.86574935913086,
          12.91373062133789,
          18.97721290588379,
          12.640233993530273,
          19.478418350219727,
          12.783185958862305,
          18.812089920043945,
          13.029236793518066,
          19.39789390563965,
          13.122233390808105,
          11.006134033203125,
          19.309669494628906,
          12.38264274597168,
          19.442169189453125,
          13.1095609664917,
          20.39580726623535,
          13.319239616394043,
          20.314138412475586,
          13.189826011657715,
          19.022079467773438,
          13.063556671142578,
          19.31162452697754,
          12.344219207763672,
          18.813827514648438,
          13.118060111999512,
          19.490154266357422,
          12.804362297058105,
          19.27572250366211,
          13.136210441589355,
          18.814224243164062,
          12.688878059387207,
          18.804317474365234,
          12.5634126663208,
          20.350500106811523,
          12.4898042678833,
          18.815479278564453,
          12.611254692077637,
          12.915082931518555,
          19.306501388549805,
          12.399118423461914,
          19.308338165283203,
          12.31946086883545,
          19.469806671142578,
          13.019036293029785,
          18.87301254272461,
          12.605550765991211,
          20.471004486083984,
          20.246774673461914,
          12.645071983337402,
          19.334142684936523,
          13.200791358947754,
          20.317638397216797,
          13.2605562210083,
          18.856287002563477,
          13.148258209228516,
          19.367294311523438,
          13.034821510314941,
          19.09105682373047,
          12.377856254577637,
          19.222488403320312,
          12.84740924835205,
          19.149883270263672,
          12.437151908874512,
          19.460302352905273,
          12.352684020996094,
          20.267131805419922,
          12.971612930297852,
          19.398366928100586,
          13.06852912902832,
          19.23085594177246,
          12.975591659545898,
          20.438404083251953,
          12.57909107208252,
          18.805545806884766,
          12.45905876159668,
          19.178611755371094,
          12.47773551940918,
          19.134523391723633,
          12.341408729553223,
          18.765501022338867,
          12.8828125,
          19.459379196166992,
          13.207749366760254,
          20.439565658569336,
          12.878786087036133,
          19.30220603942871,
          13.021307945251465,
          12.64882755279541,
          12.845196723937988,
          18.85675811767578,
          12.582601547241211,
          19.26984405517578,
          12.798994064331055,
          18.779447555541992,
          13.19345760345459,
          19.248884201049805,
          12.835592269897461,
          13.157719612121582
         ],
         "yaxis": "y"
        },
        {
         "customdata": [
          [
           5,
           "Enzymatic Hydrolysis"
          ],
          [
           5,
           "Enzyme Addition Source"
          ],
          [
           5,
           "Enzymatic Hydrolysis"
          ],
          [
           5,
           "Enzyme Source"
          ],
          [
           5,
           "Enzymatic Hydrolysis"
          ],
          [
           5,
           "Enzyme Solution Source"
          ],
          [
           5,
           "Enzymatic Hydrolysis"
          ],
          [
           5,
           "Enzyme Solution Source"
          ],
          [
           5,
           "Enzymatic Hydrolysis"
          ],
          [
           5,
           "Cellulase Enzyme Source"
          ],
          [
           5,
           "Enzymatic Hydrolysis"
          ],
          [
           5,
           "Cellulase Enzyme Source"
          ],
          [
           5,
           "Enzymatic Hydrolysis"
          ],
          [
           5,
           "Enzymatic Hydrolysis"
          ],
          [
           5,
           "Enzyme Cocktail Source"
          ],
          [
           5,
           "Enzymatic Hydrolysis"
          ],
          [
           5,
           "Cellulase Enzyme Source"
          ],
          [
           5,
           "Enzymatic Hydrolysis"
          ],
          [
           5,
           "Enzyme Solution Source"
          ],
          [
           5,
           "Enzymatic Hydrolysis"
          ],
          [
           5,
           "Enzyme Solution Source"
          ],
          [
           5,
           "Enzymatic Hydrolysis"
          ],
          [
           5,
           "Enzyme Cocktail Source"
          ],
          [
           5,
           "Enzymatic Hydrolysis"
          ],
          [
           5,
           "Enzyme Solution Source"
          ],
          [
           5,
           "Enzymatic Hydrolysis"
          ],
          [
           5,
           "Enzyme Solution Source"
          ],
          [
           5,
           "Enzymatic Hydrolysis"
          ],
          [
           5,
           "Enzyme Addition"
          ],
          [
           5,
           "Enzymatic Hydrolysis"
          ],
          [
           5,
           "Enzyme Solution Source"
          ],
          [
           5,
           "Enzymatic Hydrolysis"
          ],
          [
           5,
           "Enzyme Source"
          ],
          [
           5,
           "Enzymatic Hydrolysis"
          ],
          [
           5,
           "Enzyme Solution Source"
          ],
          [
           5,
           "Enzymatic Hydrolysis"
          ],
          [
           5,
           "Enzyme Solution Source"
          ],
          [
           5,
           "Enzymatic Hydrolysis"
          ],
          [
           5,
           "Enzyme Source"
          ],
          [
           5,
           "Enzymatic Hydrolysis"
          ],
          [
           5,
           "Enzyme Solution Source"
          ],
          [
           5,
           "Enzymatic Hydrolysis"
          ],
          [
           5,
           "Enzyme Solution Source"
          ],
          [
           5,
           "Enzymatic Hydrolysis"
          ],
          [
           5,
           "Cellulase Enzymes Source"
          ],
          [
           5,
           "Enzymatic Hydrolysis"
          ],
          [
           5,
           "Enzyme Solution Source"
          ],
          [
           5,
           "Enzymatic Hydrolysis"
          ],
          [
           5,
           "Enzyme Source"
          ],
          [
           5,
           "Enzymatic Hydrolysis"
          ],
          [
           5,
           "Cellulase Enzyme Source"
          ],
          [
           5,
           "Enzymatic Hydrolysis"
          ],
          [
           5,
           "Enzyme Addition Source"
          ],
          [
           5,
           "Enzymatic Hydrolysis"
          ],
          [
           5,
           "Enzymatic Hydrolysis"
          ],
          [
           5,
           "Enzyme Mixture Source"
          ],
          [
           5,
           "Enzymatic Hydrolysis"
          ],
          [
           5,
           "Enzyme Solution Source"
          ],
          [
           5,
           "Enzymatic Hydrolysis"
          ],
          [
           5,
           "Cellulase Enzyme Source"
          ],
          [
           5,
           "Enzymatic Hydrolysis"
          ],
          [
           5,
           "Enzyme Solution Source"
          ],
          [
           5,
           "Enzymatic Hydrolysis"
          ],
          [
           5,
           "Cellulase Enzymes Source"
          ],
          [
           5,
           "Enzymatic Hydrolysis"
          ],
          [
           5,
           "Cellulase Enzyme Source"
          ],
          [
           5,
           "Enzymatic Hydrolysis"
          ],
          [
           5,
           "Cellulase Enzyme Source"
          ],
          [
           5,
           "Enzymatic Hydrolysis"
          ],
          [
           5,
           "Enzymatic Hydrolysis"
          ],
          [
           5,
           "Enzyme Solution Source"
          ],
          [
           5,
           "Enzymatic Hydrolysis"
          ],
          [
           5,
           "Enzyme Mixture Source"
          ],
          [
           5,
           "Enzymatic Hydrolysis"
          ],
          [
           5,
           "Enzyme Solution Source"
          ],
          [
           5,
           "Enzymatic Hydrolysis"
          ],
          [
           5,
           "Enzyme Solution Source"
          ],
          [
           5,
           "Enzymatic Hydrolysis"
          ],
          [
           5,
           "Enzymatic Hydrolysis"
          ],
          [
           5,
           "Enzyme Solution Source"
          ],
          [
           5,
           "Enzymatic Hydrolysis"
          ],
          [
           5,
           "Enzyme Mixture Source"
          ],
          [
           5,
           "Enzymatic Hydrolysis"
          ],
          [
           5,
           "Enzyme Source"
          ],
          [
           5,
           "Enzymatic Hydrolysis"
          ],
          [
           5,
           "Enzyme Source"
          ],
          [
           5,
           "Enzymatic Hydrolysis"
          ],
          [
           5,
           "Cellulase Enzymes Source"
          ],
          [
           5,
           "Enzymatic Hydrolysis"
          ],
          [
           5,
           "Enzyme Solution Source"
          ],
          [
           5,
           "Enzymatic Hydrolysis"
          ],
          [
           5,
           "Enzyme Source"
          ],
          [
           5,
           "Enzymatic Hydrolysis"
          ],
          [
           5,
           "Enzyme Solution Source"
          ],
          [
           5,
           "Enzymatic Hydrolysis"
          ],
          [
           5,
           "Enzyme Solution Source"
          ],
          [
           5,
           "Enzymatic Hydrolysis"
          ],
          [
           5,
           "Enzyme Solution Source"
          ],
          [
           5,
           "Enzymatic Hydrolysis"
          ],
          [
           5,
           "Enzyme Source"
          ],
          [
           5,
           "Enzymatic Hydrolysis"
          ],
          [
           5,
           "Enzyme Solution Source"
          ],
          [
           5,
           "Enzymatic Hydrolysis"
          ],
          [
           5,
           "Enzyme Mixture Source"
          ],
          [
           5,
           "Enzymatic Hydrolysis"
          ],
          [
           5,
           "Enzyme Solution Source"
          ],
          [
           5,
           "Enzymatic Hydrolysis"
          ],
          [
           5,
           "Enzyme Solution Source"
          ],
          [
           5,
           "Enzymatic Hydrolysis"
          ],
          [
           5,
           "Enzyme Mixture Source"
          ],
          [
           5,
           "Enzymatic Hydrolysis"
          ],
          [
           5,
           "Cellulase Enzyme Source"
          ],
          [
           5,
           "Enzymatic Hydrolysis"
          ],
          [
           5,
           "Enzyme Source"
          ],
          [
           5,
           "Enzymatic Hydrolysis"
          ],
          [
           5,
           "Enzyme Cocktail Source"
          ],
          [
           5,
           "Enzymatic Hydrolysis"
          ],
          [
           5,
           "Enzyme Mixture Source"
          ],
          [
           5,
           "Water Source"
          ],
          [
           5,
           "Enzymatic Hydrolysis"
          ],
          [
           5,
           "Cellulase Enzyme Source"
          ],
          [
           5,
           "Enzymatic Hydrolysis"
          ],
          [
           5,
           "Cellulase Enzyme Source"
          ],
          [
           5,
           "Enzymatic Hydrolysis"
          ],
          [
           5,
           "Enzyme Solution Source"
          ],
          [
           5,
           "Enzymatic Hydrolysis"
          ],
          [
           5,
           "Enzyme Source"
          ],
          [
           5,
           "Enzymatic Hydrolysis"
          ],
          [
           5,
           "Cellulase Enzyme Source"
          ],
          [
           5,
           "Enzymatic Hydrolysis"
          ],
          [
           5,
           "Cellulase Enzyme Source"
          ],
          [
           5,
           "Enzymatic Hydrolysis"
          ],
          [
           5,
           "Enzyme Source"
          ],
          [
           5,
           "Enzymatic Hydrolysis"
          ],
          [
           5,
           "Enzyme Solution Source"
          ],
          [
           5,
           "Enzymatic Hydrolysis"
          ],
          [
           5,
           "Enzyme Mixture Source"
          ],
          [
           5,
           "Enzymatic Hydrolysis"
          ],
          [
           5,
           "Enzyme Mixture Source"
          ],
          [
           5,
           "Enzymatic Hydrolysis"
          ],
          [
           5,
           "Enzyme Solution Source"
          ],
          [
           5,
           "Enzymatic Hydrolysis"
          ],
          [
           5,
           "Enzyme Solution Source"
          ],
          [
           5,
           "Enzymatic Hydrolysis"
          ],
          [
           5,
           "Enzyme Solution Source"
          ],
          [
           5,
           "Enzymatic Hydrolysis"
          ],
          [
           5,
           "Enzyme Solution Source"
          ],
          [
           5,
           "Enzymatic Hydrolysis"
          ],
          [
           5,
           "Enzymatic Hydrolysis"
          ],
          [
           5,
           "Enzyme Source"
          ],
          [
           5,
           "Enzymatic Hydrolysis"
          ],
          [
           5,
           "Cellulase Enzyme Source"
          ],
          [
           5,
           "Enzymatic Hydrolysis"
          ],
          [
           5,
           "Cellulase Enzyme Source"
          ],
          [
           5,
           "Enzymatic Hydrolysis"
          ],
          [
           5,
           "Enzyme Solution Source"
          ],
          [
           5,
           "Enzymatic Hydrolysis"
          ],
          [
           5,
           "Enzyme Addition"
          ],
          [
           5,
           "Enzymatic Hydrolysis"
          ],
          [
           5,
           "Enzyme Solution Source"
          ],
          [
           5,
           "Enzymatic Hydrolysis"
          ],
          [
           5,
           "Cellulase Enzyme Source"
          ],
          [
           5,
           "Enzymatic Hydrolysis"
          ],
          [
           5,
           "Enzymatic Hydrolysis"
          ],
          [
           5,
           "Enzyme Source"
          ],
          [
           5,
           "Enzymatic Hydrolysis"
          ],
          [
           5,
           "Cellulase Enzyme Source"
          ],
          [
           5,
           "Enzymatic Hydrolysis"
          ],
          [
           5,
           "Enzyme Solution Source"
          ],
          [
           5,
           "Enzymatic Hydrolysis"
          ],
          [
           5,
           "Enzyme Mixture Source"
          ],
          [
           5,
           "Enzymatic Hydrolysis"
          ],
          [
           5,
           "Enzyme Mixture Source"
          ],
          [
           5,
           "Enzymatic Hydrolysis"
          ],
          [
           5,
           "Enzyme Solution Source"
          ],
          [
           5,
           "Enzymatic Hydrolysis"
          ],
          [
           5,
           "Enzyme Solution Source"
          ],
          [
           5,
           "Enzymatic Hydrolysis"
          ],
          [
           5,
           "Enzyme Solution Source"
          ],
          [
           5,
           "Enzymatic Hydrolysis"
          ],
          [
           5,
           "Cellulase Enzyme Source"
          ],
          [
           5,
           "Enzymatic Hydrolysis"
          ],
          [
           5,
           "Cellulase Enzyme Source"
          ],
          [
           5,
           "Enzymatic Hydrolysis"
          ],
          [
           5,
           "Enzyme Solution Source"
          ],
          [
           5,
           "Enzymatic Hydrolysis"
          ],
          [
           5,
           "Enzyme Solution Source"
          ],
          [
           5,
           "Enzymatic Hydrolysis"
          ],
          [
           5,
           "Enzyme Solution Source"
          ],
          [
           5,
           "Enzymatic Hydrolysis"
          ],
          [
           5,
           "Cellulase Enzyme Source"
          ],
          [
           5,
           "Enzymatic Hydrolysis"
          ],
          [
           5,
           "Cellulase Enzymes Source"
          ],
          [
           5,
           "Enzymatic Hydrolysis"
          ],
          [
           5,
           "Enzyme Solution Source"
          ]
         ],
         "hovertemplate": "Cluster=5<br>cluster=%{customdata[0]}<br>title=%{customdata[1]}<extra></extra>",
         "legendgroup": "5",
         "marker": {
          "color": "#EF553B",
          "symbol": "circle"
         },
         "mode": "markers",
         "name": "5",
         "showlegend": true,
         "type": "scattergl",
         "x": [
          27.759910583496094,
          1.669247031211853,
          26.444194793701172,
          1.909406304359436,
          26.47417640686035,
          3.009671449661255,
          26.928327560424805,
          2.910769462585449,
          26.942935943603516,
          0.43166184425354004,
          27.613380432128906,
          0.46812695264816284,
          27.739585876464844,
          27.751663208007812,
          13.371933937072754,
          27.676956176757812,
          0.5200612545013428,
          26.34149932861328,
          3.2404699325561523,
          26.682071685791016,
          2.9043359756469727,
          26.812772750854492,
          13.373641967773438,
          26.679296493530273,
          3.033747673034668,
          26.389814376831055,
          3.3160383701324463,
          25.955673217773438,
          1.7155944108963013,
          27.64335060119629,
          2.908191442489624,
          26.508426666259766,
          1.9575036764144897,
          26.89499282836914,
          3.3452706336975098,
          25.900739669799805,
          2.8648812770843506,
          27.07279396057129,
          1.881115198135376,
          26.22414207458496,
          2.863149404525757,
          26.514686584472656,
          2.9762704372406006,
          27.081422805786133,
          0.4564017057418823,
          26.125240325927734,
          3.095348358154297,
          26.403993606567383,
          1.9395778179168701,
          27.739620208740234,
          0.4456564486026764,
          27.47933006286621,
          1.6780028343200684,
          27.756141662597656,
          26.5137939453125,
          13.390790939331055,
          26.650972366333008,
          2.9619922637939453,
          27.696163177490234,
          0.40447717905044556,
          26.434560775756836,
          3.245436429977417,
          26.934770584106445,
          0.4092507064342499,
          27.518917083740234,
          0.4076578915119171,
          26.945598602294922,
          0.3708218038082123,
          27.726333618164062,
          26.50969696044922,
          3.155677080154419,
          26.349184036254883,
          13.444025993347168,
          27.55162811279297,
          2.9509594440460205,
          27.66503143310547,
          2.909457206726074,
          27.593963623046875,
          26.508197784423828,
          3.1810390949249268,
          26.695716857910156,
          13.397229194641113,
          25.95741844177246,
          1.9111391305923462,
          26.470861434936523,
          1.9508240222930908,
          27.656532287597656,
          0.49825841188430786,
          26.69515037536621,
          2.984400510787964,
          26.771076202392578,
          1.9366686344146729,
          25.883466720581055,
          2.9935781955718994,
          25.956451416015625,
          2.991879940032959,
          26.462961196899414,
          3.287280321121216,
          27.003355026245117,
          1.8710334300994873,
          25.99652671813965,
          3.0632026195526123,
          26.578432083129883,
          13.349279403686523,
          26.526296615600586,
          2.9285354614257812,
          26.760501861572266,
          3.2419347763061523,
          26.01995849609375,
          13.420145988464355,
          27.786212921142578,
          0.45064178109169006,
          25.894786834716797,
          1.8805783987045288,
          26.083158493041992,
          13.360847473144531,
          25.910369873046875,
          13.408974647521973,
          2.264963388442993,
          27.671436309814453,
          0.5226197242736816,
          27.673316955566406,
          0.3867284059524536,
          26.463821411132812,
          3.0035321712493896,
          25.926895141601562,
          1.918257236480713,
          27.123050689697266,
          0.4260030686855316,
          27.055776596069336,
          0.39561203122138977,
          26.40685272216797,
          1.9354958534240723,
          26.464906692504883,
          3.2992234230041504,
          25.916000366210938,
          13.415077209472656,
          25.97089195251465,
          13.411271095275879,
          26.898422241210938,
          2.8635685443878174,
          26.772628784179688,
          3.1939470767974854,
          26.160083770751953,
          2.9700963497161865,
          26.38263702392578,
          3.20929217338562,
          27.517475128173828,
          27.741069793701172,
          1.9665532112121582,
          27.565885543823242,
          0.40883147716522217,
          27.029382705688477,
          0.4195258915424347,
          25.917879104614258,
          3.313138008117676,
          27.510761260986328,
          1.5926144123077393,
          27.55352783203125,
          2.9403016567230225,
          27.0447940826416,
          0.4458387494087219,
          27.620763778686523,
          25.910310745239258,
          1.9428050518035889,
          27.579614639282227,
          0.39356890320777893,
          26.362228393554688,
          3.1866888999938965,
          25.92279624938965,
          13.4267578125,
          26.6943302154541,
          13.387619018554688,
          26.002723693847656,
          3.205263137817383,
          25.977336883544922,
          2.9288742542266846,
          26.841651916503906,
          2.9725987911224365,
          26.851877212524414,
          0.38412487506866455,
          27.565927505493164,
          0.41992709040641785,
          26.433002471923828,
          3.243811845779419,
          26.467397689819336,
          2.959439754486084,
          26.513591766357422,
          2.9512243270874023,
          27.696529388427734,
          0.3792879283428192,
          27.713590621948242,
          0.43052366375923157,
          26.73830795288086,
          2.969677448272705
         ],
         "xaxis": "x",
         "y": [
          6.362771034240723,
          5.544209957122803,
          6.327894687652588,
          5.4607133865356445,
          6.371412754058838,
          5.224740028381348,
          6.326387882232666,
          5.060481548309326,
          5.938436508178711,
          5.879981994628906,
          6.1505279541015625,
          5.840283393859863,
          6.406065940856934,
          6.433517932891846,
          -1.5695405006408691,
          6.415879726409912,
          5.800612449645996,
          5.4739508628845215,
          5.250251293182373,
          6.052784442901611,
          5.0791497230529785,
          5.779784202575684,
          -1.5769020318984985,
          5.704218864440918,
          5.039172649383545,
          6.388515472412109,
          5.264577865600586,
          5.515957355499268,
          5.517832279205322,
          6.302005290985107,
          5.049191951751709,
          6.402768135070801,
          5.432863712310791,
          6.3559770584106445,
          5.283261775970459,
          5.446901321411133,
          5.186708450317383,
          6.1113972663879395,
          5.468197345733643,
          6.090047836303711,
          5.072643756866455,
          5.553038120269775,
          5.216350078582764,
          5.923452854156494,
          5.858466148376465,
          5.746298313140869,
          5.163413047790527,
          6.264492034912109,
          5.423732280731201,
          6.420194149017334,
          5.863934516906738,
          6.127456188201904,
          5.51981258392334,
          6.411578178405762,
          5.517922401428223,
          -1.5762470960617065,
          5.682731628417969,
          5.089239120483398,
          6.3800950050354,
          5.909290790557861,
          6.320692539215088,
          5.250062465667725,
          6.3242316246032715,
          5.89552640914917,
          6.084629058837891,
          5.902495861053467,
          6.334497451782227,
          5.9347710609436035,
          6.367274761199951,
          6.300536632537842,
          5.160790920257568,
          5.479318618774414,
          -1.629839301109314,
          6.121997356414795,
          5.076858043670654,
          6.318915843963623,
          5.044234752655029,
          6.42575740814209,
          6.348195552825928,
          5.361453056335449,
          5.71533203125,
          -1.5830503702163696,
          5.525799751281738,
          5.458798885345459,
          5.527193546295166,
          5.425177097320557,
          6.429931163787842,
          5.828731060028076,
          5.78848934173584,
          5.108155727386475,
          5.809826850891113,
          5.4434967041015625,
          5.465270519256592,
          5.162087440490723,
          5.513980865478516,
          5.090597629547119,
          6.361123085021973,
          5.249011516571045,
          6.04899787902832,
          5.471485614776611,
          5.5878729820251465,
          5.191219329833984,
          5.60070276260376,
          -1.5349514484405518,
          6.369905948638916,
          5.078478813171387,
          5.783632755279541,
          5.253169059753418,
          5.5587849617004395,
          -1.6085327863693237,
          6.448287010192871,
          5.87204122543335,
          5.458309173583984,
          5.47129487991333,
          5.495091438293457,
          -1.5595405101776123,
          5.4466423988342285,
          -1.5959848165512085,
          5.370238780975342,
          6.414718151092529,
          5.804133892059326,
          6.343294143676758,
          5.907657623291016,
          5.558871746063232,
          5.1391520500183105,
          5.490756034851074,
          5.454607963562012,
          6.274466514587402,
          5.879363059997559,
          6.0660786628723145,
          5.916173934936523,
          5.511768817901611,
          5.441205024719238,
          6.300526142120361,
          5.257607936859131,
          5.505503177642822,
          -1.6018534898757935,
          5.514368534088135,
          -1.598682165145874,
          6.330430030822754,
          5.002349853515625,
          5.860032558441162,
          5.229137897491455,
          5.8739800453186035,
          5.141316890716553,
          6.288532257080078,
          5.269506931304932,
          6.099158763885498,
          6.419204235076904,
          5.417855739593506,
          6.188693046569824,
          5.895510196685791,
          6.1743292808532715,
          5.891331195831299,
          5.468019008636475,
          5.2071685791015625,
          6.077944755554199,
          5.5484185218811035,
          6.18783712387085,
          5.066989898681641,
          6.152910232543945,
          5.870097637176514,
          6.414693355560303,
          5.484312534332275,
          5.422464370727539,
          6.20684289932251,
          5.909004211425781,
          5.494522571563721,
          5.250941276550293,
          5.538774013519287,
          -1.613014578819275,
          5.716965675354004,
          -1.5731861591339111,
          5.543920993804932,
          5.225579738616943,
          5.515277862548828,
          5.059002876281738,
          5.838030815124512,
          5.096673965454102,
          6.3174262046813965,
          5.894704818725586,
          6.142703533172607,
          5.886007308959961,
          6.332309722900391,
          5.249899864196777,
          5.587093830108643,
          5.15967321395874,
          6.373170852661133,
          5.131415367126465,
          6.3691534996032715,
          5.911107063293457,
          6.378170490264893,
          5.884024143218994,
          5.754532814025879,
          5.140747547149658
         ],
         "yaxis": "y"
        },
        {
         "customdata": [
          [
           3,
           "Fermentation"
          ],
          [
           3,
           "Fermentation"
          ],
          [
           3,
           "Yeast Culture Source"
          ],
          [
           3,
           "Fermentation"
          ],
          [
           3,
           "Yeast or Microorganism Inoculum Source"
          ],
          [
           3,
           "Fermentation"
          ],
          [
           3,
           "Yeast or Microorganisms Source"
          ],
          [
           3,
           "Fermentation"
          ],
          [
           3,
           "Yeast Culture Source"
          ],
          [
           3,
           "Fermentation"
          ],
          [
           3,
           "Yeast Culture Source"
          ],
          [
           3,
           "Fermentation"
          ],
          [
           3,
           "Fermentation"
          ],
          [
           3,
           "Fermentation"
          ],
          [
           3,
           "Yeast Culture Source"
          ],
          [
           3,
           "Fermentation"
          ],
          [
           3,
           "Yeast Culture Source"
          ],
          [
           3,
           "Fermentation"
          ],
          [
           3,
           "Microorganism Culture Source"
          ],
          [
           3,
           "Fermentation"
          ],
          [
           3,
           "Yeast Culture Source"
          ],
          [
           3,
           "Fermentation"
          ],
          [
           3,
           "Yeast Culture Source"
          ],
          [
           3,
           "Fermentation"
          ],
          [
           3,
           "Microorganism Inoculum Source"
          ],
          [
           3,
           "Fermentation"
          ],
          [
           3,
           "Fermentation"
          ],
          [
           3,
           "Yeast Culture Source"
          ],
          [
           3,
           "Fermentation"
          ],
          [
           3,
           "Yeast Culture Source"
          ],
          [
           3,
           "Fermentation"
          ],
          [
           3,
           "Yeast Culture Source"
          ],
          [
           3,
           "Fermentation"
          ],
          [
           3,
           "Yeast Culture Source"
          ],
          [
           3,
           "Fermentation"
          ],
          [
           3,
           "Yeast Source"
          ],
          [
           3,
           "Fermentation"
          ],
          [
           3,
           "Microorganism Culture Source"
          ],
          [
           3,
           "Fermentation"
          ],
          [
           3,
           "Yeast Culture Source"
          ],
          [
           3,
           "Fermentation"
          ],
          [
           3,
           "Yeast Culture Source"
          ],
          [
           3,
           "Fermentation"
          ],
          [
           3,
           "Yeast Culture Source"
          ],
          [
           3,
           "Fermentation"
          ],
          [
           3,
           "Microorganism Source"
          ],
          [
           3,
           "Fermentation"
          ],
          [
           3,
           "Yeast Culture Source"
          ],
          [
           3,
           "Fermentation"
          ],
          [
           3,
           "Fermentation"
          ],
          [
           3,
           "Fermentation"
          ],
          [
           3,
           "Microorganism Source"
          ],
          [
           3,
           "Fermentation"
          ],
          [
           3,
           "Yeast Culture Source"
          ],
          [
           3,
           "Fermentation"
          ],
          [
           3,
           "Yeast Culture Source"
          ],
          [
           3,
           "Fermentation"
          ],
          [
           3,
           "Yeast Culture Source"
          ],
          [
           3,
           "Fermentation"
          ],
          [
           3,
           "Yeast Culture Source"
          ],
          [
           3,
           "Fermentation"
          ],
          [
           3,
           "Yeast Culture Source"
          ],
          [
           3,
           "Fermentation"
          ],
          [
           3,
           "Yeast Culture Source"
          ],
          [
           3,
           "Fermentation"
          ],
          [
           3,
           "Fermentation"
          ],
          [
           3,
           "Microorganism Culture Source"
          ],
          [
           3,
           "Fermentation"
          ],
          [
           3,
           "Yeast Culture Source"
          ],
          [
           3,
           "Fermentation"
          ],
          [
           3,
           "Yeast Culture Source"
          ],
          [
           3,
           "Fermentation"
          ],
          [
           3,
           "Yeast Culture Source"
          ],
          [
           3,
           "Fermentation"
          ],
          [
           3,
           "Fermentation"
          ],
          [
           3,
           "Fermentation"
          ],
          [
           3,
           "Yeast Culture Source"
          ],
          [
           3,
           "Fermentation"
          ],
          [
           3,
           "Microorganism Source"
          ],
          [
           3,
           "Fermentation"
          ],
          [
           3,
           "Microorganism Source"
          ],
          [
           3,
           "Fermentation"
          ],
          [
           3,
           "Yeast Culture Source"
          ],
          [
           3,
           "Fermentation"
          ],
          [
           3,
           "Yeast Culture Source"
          ],
          [
           3,
           "Fermentation"
          ],
          [
           3,
           "Microorganisms Source"
          ],
          [
           3,
           "Fermentation"
          ],
          [
           3,
           "Yeast Culture Source"
          ],
          [
           3,
           "Fermentation"
          ],
          [
           3,
           "Yeast Culture Source"
          ],
          [
           3,
           "Fermentation"
          ],
          [
           3,
           "Yeast Culture Source"
          ],
          [
           3,
           "Fermentation"
          ],
          [
           3,
           "Yeast Culture Source"
          ],
          [
           3,
           "Fermentation"
          ],
          [
           3,
           "Yeast Culture Source"
          ],
          [
           3,
           "Fermentation"
          ],
          [
           3,
           "Yeast Culture Source"
          ],
          [
           3,
           "Fermentation"
          ],
          [
           3,
           "Yeast Culture Source"
          ],
          [
           3,
           "Fermentation"
          ],
          [
           3,
           "Yeast Culture Source"
          ],
          [
           3,
           "Fermentation"
          ],
          [
           3,
           "Yeast Culture Source"
          ],
          [
           3,
           "Fermentation"
          ],
          [
           3,
           "Yeast Culture Source"
          ],
          [
           3,
           "Fermentation"
          ],
          [
           3,
           "Yeast Culture Source"
          ],
          [
           3,
           "Fermentation"
          ],
          [
           3,
           "Yeast Culture Source"
          ],
          [
           3,
           "Fermentation"
          ],
          [
           3,
           "Yeast Culture Source"
          ],
          [
           3,
           "Fermentation"
          ],
          [
           3,
           "Yeast Culture Source"
          ],
          [
           3,
           "Fermentation"
          ],
          [
           3,
           "Yeast Culture Source"
          ],
          [
           3,
           "Fermentation"
          ],
          [
           3,
           "Microbial Culture Source"
          ],
          [
           3,
           "Fermentation"
          ],
          [
           3,
           "Microorganism Source"
          ],
          [
           3,
           "Fermentation"
          ],
          [
           3,
           "Yeast Culture Source"
          ],
          [
           3,
           "Fermentation"
          ],
          [
           3,
           "Yeast Culture Source"
          ],
          [
           3,
           "Fermentation"
          ],
          [
           3,
           "Microorganism Source"
          ],
          [
           3,
           "Fermentation"
          ],
          [
           3,
           "Yeast Culture Source"
          ],
          [
           3,
           "Fermentation"
          ],
          [
           3,
           "Yeast Culture Source"
          ],
          [
           3,
           "Fermentation"
          ],
          [
           3,
           "Yeast Culture Source"
          ],
          [
           3,
           "Microbial Biomass Source"
          ],
          [
           3,
           "Fermentation"
          ],
          [
           3,
           "Yeast Culture Source"
          ],
          [
           3,
           "Fermentation"
          ],
          [
           3,
           "Yeast Culture Source"
          ],
          [
           3,
           "Fermentation"
          ],
          [
           3,
           "Yeast Culture Source"
          ],
          [
           3,
           "Fermentation"
          ],
          [
           3,
           "Yeast or Microorganism Culture Source"
          ],
          [
           3,
           "Fermentation"
          ],
          [
           3,
           "Fermentation"
          ],
          [
           3,
           "Water Source"
          ],
          [
           3,
           "Yeast Inoculum"
          ],
          [
           3,
           "Nutrient Solution Source"
          ],
          [
           3,
           "Fermentation"
          ],
          [
           3,
           "Yeast Culture Source"
          ],
          [
           3,
           "Fermentation"
          ],
          [
           3,
           "Yeast Culture Source"
          ],
          [
           3,
           "Fermentation"
          ],
          [
           3,
           "Yeast Culture Source"
          ],
          [
           3,
           "Fermentation"
          ],
          [
           3,
           "Fermentation"
          ],
          [
           3,
           "Yeast Culture Source"
          ],
          [
           3,
           "Fermentation"
          ],
          [
           3,
           "Yeast Culture Source"
          ],
          [
           3,
           "Fermentation"
          ],
          [
           3,
           "Yeast Inoculum Source"
          ],
          [
           3,
           "Fermentation"
          ],
          [
           3,
           "Yeast Culture Source"
          ],
          [
           3,
           "Fermentation"
          ],
          [
           3,
           "Yeast Culture Source"
          ],
          [
           3,
           "By-products from Fermentation Source"
          ],
          [
           3,
           "Fermentation"
          ],
          [
           3,
           "Microorganism Culture Source"
          ],
          [
           3,
           "Fermentation"
          ],
          [
           3,
           "Yeast Culture Source"
          ],
          [
           3,
           "Fermentation"
          ],
          [
           3,
           "Yeast Culture Source"
          ],
          [
           3,
           "Fermentation"
          ],
          [
           3,
           "Yeast Culture Source"
          ],
          [
           3,
           "Fermentation"
          ],
          [
           3,
           "Yeast Culture Source"
          ],
          [
           3,
           "Fermentation"
          ],
          [
           3,
           "Yeast Culture Source"
          ],
          [
           3,
           "Fermentation"
          ],
          [
           3,
           "Yeast Culture Source"
          ],
          [
           3,
           "Fermentation"
          ],
          [
           3,
           "Yeast Culture Source"
          ],
          [
           3,
           "Fermentation"
          ],
          [
           3,
           "Microbial Culture Source"
          ],
          [
           3,
           "Fermentation"
          ],
          [
           3,
           "Fermentation"
          ],
          [
           3,
           "Fermentation"
          ],
          [
           3,
           "Yeast Culture Source"
          ],
          [
           3,
           "Fermentation"
          ],
          [
           3,
           "Fermentation Microorganisms Source"
          ],
          [
           3,
           "Fermentation"
          ],
          [
           3,
           "Yeast Culture Source"
          ]
         ],
         "hovertemplate": "Cluster=3<br>cluster=%{customdata[0]}<br>title=%{customdata[1]}<extra></extra>",
         "legendgroup": "3",
         "marker": {
          "color": "#00cc96",
          "symbol": "circle"
         },
         "mode": "markers",
         "name": "3",
         "showlegend": true,
         "type": "scattergl",
         "x": [
          -0.3146112859249115,
          -0.48986268043518066,
          18.523000717163086,
          -0.724487841129303,
          17.728288650512695,
          -1.1241979598999023,
          17.52863311767578,
          -0.41250720620155334,
          18.5659122467041,
          -0.8517791032791138,
          18.186487197875977,
          -0.7033757567405701,
          -0.35133251547813416,
          -1.0255720615386963,
          18.613311767578125,
          -0.46467697620391846,
          17.76020050048828,
          -1.092078685760498,
          17.48750114440918,
          -0.36131563782691956,
          18.54115867614746,
          -1.2319849729537964,
          17.854839324951172,
          -0.7231944799423218,
          17.63065528869629,
          -1.2371551990509033,
          -0.4429749548435211,
          18.491668701171875,
          -1.298081874847412,
          18.186071395874023,
          -1.2284481525421143,
          18.044239044189453,
          -0.34102633595466614,
          18.479799270629883,
          -1.2491034269332886,
          18.012374877929688,
          -0.975004255771637,
          17.481901168823242,
          -0.9578962326049805,
          17.833702087402344,
          -0.46675050258636475,
          18.591888427734375,
          -1.2799559831619263,
          18.11410140991211,
          -1.0946857929229736,
          17.3461856842041,
          -0.4371178448200226,
          17.771385192871094,
          -1.3373702764511108,
          -0.4362756907939911,
          -0.8785462379455566,
          17.360322952270508,
          -0.7225925326347351,
          18.067995071411133,
          -0.5710527300834656,
          17.746002197265625,
          -1.3184113502502441,
          18.13917350769043,
          -0.4316747784614563,
          18.5947265625,
          -0.4884950518608093,
          18.59845733642578,
          -0.7613756060600281,
          17.82691192626953,
          -1.3850643634796143,
          -1.287081003189087,
          17.493471145629883,
          -1.2775627374649048,
          18.171791076660156,
          -1.2297087907791138,
          18.201663970947266,
          -0.5236256122589111,
          18.590248107910156,
          -1.2459772825241089,
          -0.7801046371459961,
          -1.3245171308517456,
          18.2048282623291,
          -0.771818220615387,
          17.381338119506836,
          -1.5122627019882202,
          17.36073112487793,
          -0.3049018085002899,
          18.54300880432129,
          -1.427366852760315,
          18.184648513793945,
          -1.0062669515609741,
          17.4235782623291,
          -1.168303370475769,
          17.902027130126953,
          -0.39856892824172974,
          18.647258758544922,
          -0.6957385540008545,
          17.795799255371094,
          -1.1916054487228394,
          17.91905403137207,
          -1.212423324584961,
          17.71220588684082,
          -0.7554157972335815,
          17.7593994140625,
          -1.26862633228302,
          18.119091033935547,
          -0.4818979799747467,
          17.81159210205078,
          -0.4998720586299896,
          18.51079750061035,
          -0.39880603551864624,
          17.794063568115234,
          -0.43182629346847534,
          18.50670051574707,
          -0.43936142325401306,
          18.63068962097168,
          -0.7798205018043518,
          17.72924041748047,
          -0.5073862671852112,
          17.707565307617188,
          -0.43619784712791443,
          18.188865661621094,
          -1.2373065948486328,
          17.473018646240234,
          -1.4682475328445435,
          17.399192810058594,
          -1.2942105531692505,
          18.115493774414062,
          -1.2831916809082031,
          18.180622100830078,
          -1.2930573225021362,
          17.37022590637207,
          -1.2924548387527466,
          17.793489456176758,
          -0.47256189584732056,
          17.736169815063477,
          -0.7904865145683289,
          17.843570709228516,
          17.35155487060547,
          -0.7804029583930969,
          17.946401596069336,
          -0.544995903968811,
          18.184814453125,
          -1.5096696615219116,
          18.159090042114258,
          -1.1402028799057007,
          17.516115188598633,
          -0.7425607442855835,
          -0.4588375687599182,
          2.2706308364868164,
          17.86286163330078,
          18.249099731445312,
          -0.3318921625614166,
          18.62095069885254,
          -0.33035537600517273,
          18.634017944335938,
          -0.4998912513256073,
          17.861583709716797,
          -0.7543037533760071,
          -0.4100121259689331,
          18.62044334411621,
          -1.2383925914764404,
          17.66292953491211,
          -0.6930214762687683,
          17.833251953125,
          -1.5063121318817139,
          18.193195343017578,
          -1.5209628343582153,
          18.150774002075195,
          17.33302116394043,
          -1.36564302444458,
          17.48279571533203,
          -1.2552119493484497,
          17.78095054626465,
          -1.243396520614624,
          18.199554443359375,
          -0.8267122507095337,
          18.235437393188477,
          -1.2856696844100952,
          17.7574405670166,
          -0.7764241099357605,
          17.79104995727539,
          -0.7835465669631958,
          18.10173225402832,
          -0.7776742577552795,
          18.142723083496094,
          -0.9918929934501648,
          17.530723571777344,
          -1.5145232677459717,
          -1.1084203720092773,
          -0.42300453782081604,
          18.46884536743164,
          -0.9651638865470886,
          17.40848731994629,
          -1.2648470401763916,
          18.251283645629883
         ],
         "xaxis": "x",
         "y": [
          19.145116806030273,
          19.23877716064453,
          -0.08125321567058563,
          20.293102264404297,
          0.11997190117835999,
          21.506441116333008,
          0.11311912536621094,
          19.282867431640625,
          -0.48205989599227905,
          20.541778564453125,
          -0.8460928201675415,
          19.857154846191406,
          19.236957550048828,
          21.07837677001953,
          -0.20701737701892853,
          18.812318801879883,
          -0.5029963850975037,
          21.119321823120117,
          0.1738530397415161,
          19.203392028808594,
          -0.07446152716875076,
          21.385906219482422,
          -0.5595665574073792,
          20.30544662475586,
          0.17801527678966522,
          21.615821838378906,
          19.239091873168945,
          -0.061207786202430725,
          21.06306266784668,
          -0.8414232730865479,
          21.179927825927734,
          -0.8444390892982483,
          19.101879119873047,
          -0.5734471082687378,
          21.52943229675293,
          -0.3763718008995056,
          21.121356964111328,
          0.19376513361930847,
          20.76887321472168,
          -0.5288431644439697,
          19.12894630432129,
          -0.24560503661632538,
          21.228506088256836,
          -0.15699809789657593,
          21.576412200927734,
          0.3896361291408539,
          18.91404151916504,
          -0.48908302187919617,
          21.084875106811523,
          18.942237854003906,
          20.62717628479004,
          0.37748557329177856,
          20.307621002197266,
          -0.7140915393829346,
          19.287084579467773,
          -0.5629750490188599,
          21.09416961669922,
          -0.804237425327301,
          18.92922019958496,
          -0.21757830679416656,
          18.977901458740234,
          -0.18127009272575378,
          20.296607971191406,
          -0.49598145484924316,
          21.464317321777344,
          21.52651023864746,
          0.1649073362350464,
          21.539419174194336,
          -0.7747353315353394,
          21.069904327392578,
          -0.8217818737030029,
          19.277507781982422,
          -0.2707664668560028,
          21.521255493164062,
          20.308874130249023,
          21.183277130126953,
          -0.04087711125612259,
          20.347637176513672,
          0.3349993824958801,
          21.37639617919922,
          0.3670421242713928,
          19.19264030456543,
          -0.4235626757144928,
          21.33037757873535,
          -0.06197159364819527,
          21.0645809173584,
          0.30294370651245117,
          21.456010818481445,
          -0.45422104001045227,
          19.180160522460938,
          -0.23316717147827148,
          19.984094619750977,
          -0.49538078904151917,
          21.599163055419922,
          -0.5867753028869629,
          21.449987411499023,
          -0.47110581398010254,
          20.32005500793457,
          -0.4665461480617523,
          21.528484344482422,
          -0.7733573317527771,
          19.172365188598633,
          -0.4815806448459625,
          19.184864044189453,
          -0.057683609426021576,
          18.859291076660156,
          -0.5054358839988708,
          18.881879806518555,
          -0.5083956718444824,
          19.168161392211914,
          -0.23194214701652527,
          20.344017028808594,
          -0.4341146647930145,
          19.098493576049805,
          -0.4544699490070343,
          18.94014549255371,
          -0.6941817402839661,
          21.631513595581055,
          0.21018895506858826,
          21.448808670043945,
          0.32421016693115234,
          21.524410247802734,
          -0.7602812647819519,
          21.559371948242188,
          -0.789788007736206,
          21.560619354248047,
          0.35962677001953125,
          21.078916549682617,
          -0.5225257277488708,
          18.871091842651367,
          -0.5356544256210327,
          20.35361671447754,
          -0.555749237537384,
          0.38769006729125977,
          20.309894561767578,
          -0.5801149010658264,
          19.3377628326416,
          -0.059285521507263184,
          21.413414001464844,
          -0.7933605909347534,
          21.500732421875,
          0.006206908263266087,
          20.170652389526367,
          18.88039779663086,
          5.398187160491943,
          0.0394141748547554,
          -0.6142931580543518,
          19.15279769897461,
          -0.25110292434692383,
          19.179452896118164,
          -0.21088825166225433,
          19.25116539001465,
          -0.5882762670516968,
          20.307533264160156,
          19.136425018310547,
          -0.21230028569698334,
          21.066986083984375,
          -0.3878077268600464,
          19.970027923583984,
          -0.026821494102478027,
          21.403648376464844,
          -0.7183293104171753,
          21.41535758972168,
          -0.762498140335083,
          0.41749563813209534,
          21.278921127319336,
          0.11454539000988007,
          21.493274688720703,
          -0.5370254516601562,
          21.127267837524414,
          -0.07509219646453857,
          20.353290557861328,
          -0.8018909096717834,
          21.50414276123047,
          -0.4342997372150421,
          20.31682777404785,
          -0.5021266937255859,
          20.295724868774414,
          -0.7478743195533752,
          20.3779239654541,
          -0.7846930027008057,
          21.19422149658203,
          0.18175949156284332,
          21.3952579498291,
          21.543140411376953,
          18.933155059814453,
          -0.06852357089519501,
          20.47603416442871,
          0.32078784704208374,
          21.24705696105957,
          -0.04025670886039734
         ],
         "yaxis": "y"
        },
        {
         "customdata": [
          [
           8,
           "Distillation"
          ],
          [
           8,
           "Dehydration"
          ],
          [
           8,
           "Distillation"
          ],
          [
           8,
           "Dehydration"
          ],
          [
           8,
           "Distillation"
          ],
          [
           8,
           "Dehydration"
          ],
          [
           8,
           "Denaturing"
          ],
          [
           8,
           "Distillation"
          ],
          [
           8,
           "Dehydration"
          ],
          [
           8,
           "Distillation"
          ],
          [
           8,
           "Dehydration"
          ],
          [
           8,
           "Denaturing"
          ],
          [
           8,
           "Distillation"
          ],
          [
           8,
           "Dehydration"
          ],
          [
           8,
           "Distillation"
          ],
          [
           8,
           "Dehydration"
          ],
          [
           8,
           "Distillation"
          ],
          [
           8,
           "Dehydration"
          ],
          [
           8,
           "Distillation"
          ],
          [
           8,
           "Dehydration"
          ],
          [
           8,
           "Distillation"
          ],
          [
           8,
           "Dehydration"
          ],
          [
           8,
           "Distillation"
          ],
          [
           8,
           "Dehydration"
          ],
          [
           8,
           "Distillation"
          ],
          [
           8,
           "Dehydration"
          ],
          [
           8,
           "Distillation"
          ],
          [
           8,
           "Dehydration"
          ],
          [
           8,
           "Distillation"
          ],
          [
           8,
           "Dehydration"
          ],
          [
           8,
           "Distillation"
          ],
          [
           8,
           "Dehydration"
          ],
          [
           8,
           "Denaturing and Storage"
          ],
          [
           8,
           "Distillation"
          ],
          [
           8,
           "Dehydration"
          ],
          [
           8,
           "Distillation"
          ],
          [
           8,
           "Dehydration"
          ],
          [
           8,
           "Denaturing"
          ],
          [
           8,
           "Distillation"
          ],
          [
           8,
           "Dehydration"
          ],
          [
           8,
           "Distillation"
          ],
          [
           8,
           "Dehydration"
          ],
          [
           8,
           "Distillation"
          ],
          [
           8,
           "Dehydration"
          ],
          [
           8,
           "Distillation"
          ],
          [
           8,
           "Dehydration"
          ],
          [
           8,
           "Denaturing"
          ],
          [
           8,
           "Distillation"
          ],
          [
           8,
           "Dehydration"
          ],
          [
           8,
           "Distillation"
          ],
          [
           8,
           "Dehydration"
          ],
          [
           8,
           "Distillation"
          ],
          [
           8,
           "Dehydration"
          ],
          [
           8,
           "Distillation"
          ],
          [
           8,
           "Dehydration"
          ],
          [
           8,
           "Distillation"
          ],
          [
           8,
           "Dehydration"
          ],
          [
           8,
           "Distillation"
          ],
          [
           8,
           "Dehydration"
          ],
          [
           8,
           "Distillation"
          ],
          [
           8,
           "Dehydration"
          ],
          [
           8,
           "Distillation"
          ],
          [
           8,
           "Dehydration"
          ],
          [
           8,
           "Distillation"
          ],
          [
           8,
           "Dehydration"
          ],
          [
           8,
           "Distillation"
          ],
          [
           8,
           "Dehydration"
          ],
          [
           8,
           "Denaturing and Storage"
          ],
          [
           8,
           "Distillation"
          ],
          [
           8,
           "Dehydration"
          ],
          [
           8,
           "Distillation"
          ],
          [
           8,
           "Dehydration"
          ],
          [
           8,
           "Distillation"
          ],
          [
           8,
           "Dehydration"
          ],
          [
           8,
           "Distillation"
          ],
          [
           8,
           "Dehydration"
          ],
          [
           8,
           "Distillation"
          ],
          [
           8,
           "Dehydration"
          ],
          [
           8,
           "Distillation"
          ],
          [
           8,
           "Dehydration"
          ],
          [
           8,
           "Distillation"
          ],
          [
           8,
           "Dehydration"
          ],
          [
           8,
           "Distillation"
          ],
          [
           8,
           "Dehydration"
          ],
          [
           8,
           "Distillation"
          ],
          [
           8,
           "Dehydration"
          ],
          [
           8,
           "Distillation"
          ],
          [
           8,
           "Dehydration"
          ],
          [
           8,
           "Distillation"
          ],
          [
           8,
           "Dehydration"
          ],
          [
           8,
           "Distillation"
          ],
          [
           8,
           "Dehydration"
          ],
          [
           8,
           "Distillation"
          ],
          [
           8,
           "Dehydration"
          ],
          [
           8,
           "Distillation"
          ],
          [
           8,
           "Dehydration"
          ],
          [
           8,
           "Distillation"
          ],
          [
           8,
           "Dehydration"
          ],
          [
           8,
           "Distillation"
          ],
          [
           8,
           "Dehydration"
          ],
          [
           8,
           "Distillation"
          ],
          [
           8,
           "Dehydration"
          ],
          [
           8,
           "Denaturing"
          ],
          [
           8,
           "Distillation"
          ],
          [
           8,
           "Dehydration"
          ],
          [
           8,
           "Distillation"
          ],
          [
           8,
           "Dehydration"
          ],
          [
           8,
           "Distillation"
          ],
          [
           8,
           "Dehydration"
          ],
          [
           8,
           "Distillation"
          ],
          [
           8,
           "Dehydration"
          ],
          [
           8,
           "Distillation"
          ],
          [
           8,
           "Dehydration"
          ],
          [
           8,
           "Distillation"
          ],
          [
           8,
           "Dehydration"
          ],
          [
           8,
           "Distillation"
          ],
          [
           8,
           "Dehydration"
          ],
          [
           8,
           "Distillation"
          ],
          [
           8,
           "Dehydration"
          ],
          [
           8,
           "Distillation"
          ],
          [
           8,
           "Dehydration"
          ],
          [
           8,
           "Distillation"
          ],
          [
           8,
           "Dehydration"
          ],
          [
           8,
           "Distillation"
          ],
          [
           8,
           "Dehydration"
          ],
          [
           8,
           "Distillation"
          ],
          [
           8,
           "Dehydration"
          ],
          [
           8,
           "Distillation"
          ],
          [
           8,
           "Dehydration"
          ],
          [
           8,
           "Distillation"
          ],
          [
           8,
           "Dehydration"
          ],
          [
           8,
           "Distillation"
          ],
          [
           8,
           "Dehydration"
          ],
          [
           8,
           "Distillation"
          ],
          [
           8,
           "Dehydration"
          ],
          [
           8,
           "Denaturing and Storage"
          ],
          [
           8,
           "Distillation"
          ],
          [
           8,
           "Dehydration"
          ],
          [
           8,
           "Distillation"
          ],
          [
           8,
           "Dehydration"
          ],
          [
           8,
           "Distillation"
          ],
          [
           8,
           "Dehydration"
          ],
          [
           8,
           "Distillation"
          ],
          [
           8,
           "Dehydration"
          ],
          [
           8,
           "Distillation"
          ],
          [
           8,
           "Dehydration"
          ],
          [
           8,
           "Distillation"
          ],
          [
           8,
           "Dehydration"
          ],
          [
           8,
           "Distillation"
          ],
          [
           8,
           "Dehydration"
          ],
          [
           8,
           "Distillation"
          ],
          [
           8,
           "Dehydration"
          ],
          [
           8,
           "Distillation"
          ],
          [
           8,
           "Dehydration"
          ],
          [
           8,
           "Distillation"
          ],
          [
           8,
           "Dehydration"
          ],
          [
           8,
           "Distillation"
          ],
          [
           8,
           "Dehydration"
          ],
          [
           8,
           "Distillation"
          ],
          [
           8,
           "Dehydration"
          ],
          [
           8,
           "Distillation"
          ],
          [
           8,
           "Dehydration"
          ],
          [
           8,
           "Distillation"
          ],
          [
           8,
           "Dehydration"
          ],
          [
           8,
           "Distillation"
          ],
          [
           8,
           "Dehydration"
          ],
          [
           8,
           "Distillation"
          ],
          [
           8,
           "Dehydration"
          ],
          [
           8,
           "Distillation"
          ],
          [
           8,
           "Dehydration"
          ],
          [
           8,
           "Distillation"
          ],
          [
           8,
           "Dehydration"
          ],
          [
           8,
           "Distillation"
          ],
          [
           8,
           "Dehydration"
          ],
          [
           8,
           "Distillation"
          ],
          [
           8,
           "Dehydration"
          ],
          [
           8,
           "Distillation"
          ],
          [
           8,
           "Dehydration"
          ],
          [
           8,
           "Distillation"
          ],
          [
           8,
           "Dehydration"
          ],
          [
           8,
           "Distillation"
          ],
          [
           8,
           "Dehydration"
          ],
          [
           8,
           "Distillation"
          ],
          [
           8,
           "Dehydration"
          ],
          [
           8,
           "Distillation"
          ],
          [
           8,
           "Dehydration"
          ],
          [
           8,
           "Distillation"
          ],
          [
           8,
           "Dehydration"
          ],
          [
           8,
           "Distillation"
          ],
          [
           8,
           "Dehydration"
          ],
          [
           8,
           "Distillation"
          ],
          [
           8,
           "Dehydration"
          ],
          [
           8,
           "Distillation"
          ],
          [
           8,
           "Dehydration"
          ],
          [
           8,
           "Distillation"
          ],
          [
           8,
           "Dehydration"
          ],
          [
           8,
           "Distillation"
          ],
          [
           8,
           "Dehydration"
          ],
          [
           8,
           "Denaturing"
          ],
          [
           8,
           "Distillation"
          ],
          [
           8,
           "Dehydration"
          ],
          [
           8,
           "Distillation"
          ],
          [
           8,
           "Dehydration"
          ],
          [
           8,
           "Distillation"
          ],
          [
           8,
           "Dehydration"
          ],
          [
           8,
           "Distillation"
          ],
          [
           8,
           "Dehydration"
          ],
          [
           8,
           "Distilled Ethanol Source"
          ],
          [
           8,
           "Distillation"
          ],
          [
           8,
           "Dehydration"
          ]
         ],
         "hovertemplate": "Cluster=8<br>cluster=%{customdata[0]}<br>title=%{customdata[1]}<extra></extra>",
         "legendgroup": "8",
         "marker": {
          "color": "#ab63fa",
          "symbol": "circle"
         },
         "mode": "markers",
         "name": "8",
         "showlegend": true,
         "type": "scattergl",
         "x": [
          -6.821755886077881,
          -3.0593113899230957,
          -7.431905746459961,
          -2.622138023376465,
          -7.551397800445557,
          -2.937034845352173,
          12.68051528930664,
          -7.387063503265381,
          -2.8670167922973633,
          -6.954220771789551,
          -2.518073558807373,
          12.675833702087402,
          -7.295542240142822,
          -2.7059857845306396,
          -6.636410236358643,
          -3.1870410442352295,
          -6.868088722229004,
          -2.6350197792053223,
          -8.12191390991211,
          -2.875831127166748,
          -6.798216342926025,
          -2.606537103652954,
          -8.129800796508789,
          -2.8655242919921875,
          -7.52301025390625,
          -2.6196162700653076,
          -7.551401615142822,
          -2.93147349357605,
          -6.815652847290039,
          -2.64382004737854,
          -6.826470851898193,
          -3.0055360794067383,
          12.832478523254395,
          -6.901709079742432,
          -2.793025016784668,
          -6.996738433837891,
          -2.5528564453125,
          12.690457344055176,
          -8.113485336303711,
          -2.6693227291107178,
          -7.069771766662598,
          -3.0219125747680664,
          -6.662420272827148,
          -2.892188787460327,
          -8.159799575805664,
          -2.9048869609832764,
          12.671711921691895,
          -6.984163761138916,
          -2.96297025680542,
          -6.867170333862305,
          -2.9664833545684814,
          -8.138042449951172,
          -2.6407880783081055,
          -6.92160177230835,
          -2.8381054401397705,
          -6.692385673522949,
          -3.3209962844848633,
          -6.975063800811768,
          -3.2784781455993652,
          -6.669294357299805,
          -2.909147262573242,
          -6.866008758544922,
          -2.596304178237915,
          -6.921305179595947,
          -3.078914165496826,
          -7.193417072296143,
          -2.7234573364257812,
          12.74785327911377,
          -7.131402015686035,
          -2.9080252647399902,
          -7.486165523529053,
          -3.0331430435180664,
          -6.955203533172607,
          -2.458083391189575,
          -7.0056610107421875,
          -3.005810260772705,
          -7.205491542816162,
          -2.6200621128082275,
          -6.843398094177246,
          -2.6606388092041016,
          -6.772408485412598,
          -2.9564285278320312,
          -7.537450790405273,
          -3.2222628593444824,
          -7.541380882263184,
          -2.6606228351593018,
          -6.807304382324219,
          -3.009838342666626,
          -6.63530158996582,
          -2.5375189781188965,
          -7.039285659790039,
          -3.2530689239501953,
          -7.091182708740234,
          -3.116457223892212,
          -7.5538859367370605,
          -2.9192984104156494,
          -7.112945556640625,
          -2.9932711124420166,
          -6.961228847503662,
          -2.6556787490844727,
          -8.144118309020996,
          -2.904470682144165,
          12.667302131652832,
          -6.84628963470459,
          -2.641292095184326,
          -7.478961944580078,
          -3.062065839767456,
          -6.969427108764648,
          -3.124648332595825,
          -7.589173316955566,
          -2.894017219543457,
          -7.585228443145752,
          -2.8511013984680176,
          -6.798628330230713,
          -2.9133682250976562,
          -7.246606826782227,
          -3.091306209564209,
          -7.61268424987793,
          -2.631491184234619,
          -7.240967273712158,
          -3.2527644634246826,
          -6.746548175811768,
          -2.4722962379455566,
          -6.9431586265563965,
          -2.603203296661377,
          -7.245541095733643,
          -2.476102828979492,
          -6.9384918212890625,
          -2.647783041000366,
          -7.020677089691162,
          -2.705784559249878,
          -7.172244548797607,
          -2.9274251461029053,
          -6.7140374183654785,
          -2.967655897140503,
          12.745954513549805,
          -6.81087589263916,
          -2.649374485015869,
          -6.939764976501465,
          -2.868861436843872,
          -6.875800609588623,
          -3.001164674758911,
          -6.982960224151611,
          -2.8828165531158447,
          -8.14443302154541,
          -2.734064817428589,
          -6.968902587890625,
          -3.017960548400879,
          -7.537290573120117,
          -3.058239698410034,
          -6.974820613861084,
          -3.0812153816223145,
          -7.633170127868652,
          -2.654622793197632,
          -6.950980186462402,
          -2.6757864952087402,
          -7.079598426818848,
          -2.9185423851013184,
          -6.781602382659912,
          -3.0408027172088623,
          -6.813753604888916,
          -3.0283281803131104,
          -7.24844217300415,
          -2.8280537128448486,
          -6.9623799324035645,
          -2.6668124198913574,
          -6.937479496002197,
          -2.5266029834747314,
          -6.885087966918945,
          -2.5229508876800537,
          -6.927279472351074,
          -3.264296770095825,
          -7.446568012237549,
          -3.2454447746276855,
          -7.517862319946289,
          -3.0035524368286133,
          -7.540908336639404,
          -2.8361494541168213,
          -6.902606964111328,
          -2.621729612350464,
          -7.600208759307861,
          -3.2113382816314697,
          -7.104959964752197,
          -2.505915641784668,
          -7.552426815032959,
          -3.2646100521087646,
          -7.597080230712891,
          -3.278079032897949,
          -7.442975044250488,
          -3.064208745956421,
          -7.517238616943359,
          -3.051673412322998,
          -7.425834655761719,
          -2.6380341053009033,
          -6.795525550842285,
          -2.6375720500946045,
          -8.119441032409668,
          -2.863264322280884,
          12.665823936462402,
          -6.90762186050415,
          -3.0577898025512695,
          -7.252569675445557,
          -2.6552531719207764,
          -7.153810977935791,
          -3.0659573078155518,
          -6.677852630615234,
          -2.852745294570923,
          -3.255405902862549,
          -8.129583358764648,
          -2.8867530822753906
         ],
         "xaxis": "x",
         "y": [
          6.609377861022949,
          -2.2756643295288086,
          6.649293422698975,
          -4.200771331787109,
          6.957361698150635,
          -2.533388614654541,
          -11.650965690612793,
          6.922943592071533,
          -2.9748904705047607,
          6.3364176750183105,
          -2.6343390941619873,
          -11.647635459899902,
          6.612103462219238,
          -2.7657392024993896,
          6.975042343139648,
          -3.612445831298828,
          7.25460958480835,
          -4.172842979431152,
          6.499661445617676,
          -3.47760009765625,
          6.2006001472473145,
          -4.224367618560791,
          6.496948719024658,
          -3.442861318588257,
          6.964674472808838,
          -4.157583236694336,
          7.012643337249756,
          -3.1036195755004883,
          7.023198127746582,
          -4.19606876373291,
          6.291220664978027,
          -2.9943740367889404,
          -11.565445899963379,
          7.134093761444092,
          -4.071168422698975,
          7.256232738494873,
          -2.7139511108398438,
          -11.644787788391113,
          6.50980281829834,
          -4.157583713531494,
          6.6408371925354,
          -2.1840412616729736,
          7.032587051391602,
          -3.0129940509796143,
          6.466883182525635,
          -3.438596248626709,
          -11.648639678955078,
          6.508584022521973,
          -2.1423709392547607,
          6.690104007720947,
          -2.528233289718628,
          6.491730213165283,
          -4.204362869262695,
          7.272702217102051,
          -3.0127477645874023,
          6.992767810821533,
          -3.61163067817688,
          6.484738349914551,
          -3.5879223346710205,
          6.971176624298096,
          -2.9786226749420166,
          6.462367534637451,
          -2.782561779022217,
          6.274706840515137,
          -2.2439382076263428,
          6.650147914886475,
          -4.191483974456787,
          -11.603104591369629,
          6.636779308319092,
          -3.9886441230773926,
          6.861538410186768,
          -2.241398811340332,
          6.75327730178833,
          -2.6014044284820557,
          6.7159552574157715,
          -2.1831376552581787,
          6.618437767028809,
          -4.178859233856201,
          7.188723087310791,
          -4.174880027770996,
          7.016791343688965,
          -3.095876932144165,
          6.728494644165039,
          -3.5666611194610596,
          6.9070634841918945,
          -4.160375595092773,
          6.292459487915039,
          -2.2472898960113525,
          6.942096710205078,
          -2.7105700969696045,
          7.2054314613342285,
          -3.6041035652160645,
          6.490216255187988,
          -2.244774580001831,
          7.0114545822143555,
          -2.673689126968384,
          6.625632286071777,
          -2.9919371604919434,
          6.856570720672607,
          -2.711517572402954,
          6.490650653839111,
          -3.4442899227142334,
          -11.650195121765137,
          6.256427764892578,
          -2.364631175994873,
          6.859799861907959,
          -2.265371322631836,
          6.529557704925537,
          -2.2649800777435303,
          6.9508280754089355,
          -3.0347330570220947,
          6.955080032348633,
          -2.9482624530792236,
          6.933867454528809,
          -2.143843650817871,
          6.7874298095703125,
          -2.3384318351745605,
          6.90702486038208,
          -4.159488201141357,
          6.629237174987793,
          -3.5272109508514404,
          6.900866985321045,
          -2.580528736114502,
          6.626132965087891,
          -2.7588534355163574,
          6.649398326873779,
          -2.5333821773529053,
          6.770604610443115,
          -2.809077262878418,
          6.33662748336792,
          -3.950309991836548,
          6.627706527709961,
          -2.9738588333129883,
          7.095427989959717,
          -3.0881385803222656,
          -11.61356258392334,
          6.965968132019043,
          -4.231633186340332,
          7.209081172943115,
          -2.9750523567199707,
          6.230717658996582,
          -2.9621684551239014,
          6.27455997467041,
          -2.9330499172210693,
          6.4871931076049805,
          -3.9280667304992676,
          6.292174339294434,
          -3.0128531455993652,
          6.935856819152832,
          -2.2139692306518555,
          6.275247573852539,
          -2.2601163387298584,
          6.863169193267822,
          -2.7237749099731445,
          7.247429847717285,
          -4.186300277709961,
          6.647936820983887,
          -2.674777030944824,
          6.818694114685059,
          -2.7283949851989746,
          6.290475845336914,
          -2.8341686725616455,
          6.6962175369262695,
          -3.0303993225097656,
          6.306443214416504,
          -2.735142946243286,
          7.204958915710449,
          -2.6536855697631836,
          6.586261749267578,
          -2.4924464225769043,
          7.196346282958984,
          -3.608621120452881,
          6.706716060638428,
          -3.5644960403442383,
          6.9106903076171875,
          -2.1966474056243896,
          6.918935775756836,
          -2.9871137142181396,
          6.702442646026611,
          -4.132111549377441,
          7.004426002502441,
          -3.5387234687805176,
          6.668064594268799,
          -2.6029775142669678,
          6.98236608505249,
          -3.5926787853240967,
          6.910801887512207,
          -3.6331496238708496,
          6.685441017150879,
          -2.2814865112304688,
          6.981761932373047,
          -2.2020938396453857,
          6.71037483215332,
          -4.1525492668151855,
          6.47258996963501,
          -2.6629021167755127,
          6.505619525909424,
          -3.453174352645874,
          -11.649128913879395,
          7.146207809448242,
          -2.2399117946624756,
          6.677711009979248,
          -4.179131984710693,
          6.575418472290039,
          -2.184436082839966,
          6.922818183898926,
          -3.0011370182037354,
          -3.5514161586761475,
          6.473034381866455,
          -3.3759987354278564
         ],
         "yaxis": "y"
        },
        {
         "customdata": [
          [
           7,
           "Waste Treatment"
          ],
          [
           7,
           "Waste Management and By-product Recovery"
          ],
          [
           7,
           "Lignin By-product Sink"
          ],
          [
           7,
           "Waste Management"
          ],
          [
           7,
           "Lignin Residues Source"
          ],
          [
           7,
           "Energy Recovery Unit"
          ],
          [
           7,
           "Waste Treatment"
          ],
          [
           7,
           "Waste Treatment"
          ],
          [
           7,
           "Waste Treatment"
          ],
          [
           7,
           "Waste Treatment"
          ],
          [
           7,
           "Lignin-Rich Residue Sink"
          ],
          [
           7,
           "Waste Management"
          ],
          [
           7,
           "Lignin-Rich Residue Sink"
          ],
          [
           7,
           "Waste Management"
          ],
          [
           7,
           "Waste Treatment"
          ],
          [
           7,
           "Waste Management"
          ],
          [
           7,
           "Waste Management"
          ],
          [
           7,
           "Waste Management"
          ],
          [
           7,
           "Lignin Residue Source"
          ],
          [
           7,
           "Waste Management"
          ],
          [
           7,
           "Lignin and Degradation Products Sink"
          ],
          [
           7,
           "Waste Management"
          ],
          [
           7,
           "Waste Treatment and Management"
          ],
          [
           7,
           "Waste Management"
          ],
          [
           7,
           "Lignin Fuel Sink"
          ],
          [
           7,
           "Waste Management and Byproduct Recovery"
          ],
          [
           7,
           "Lignin Residue Source"
          ],
          [
           7,
           "Waste Treatment"
          ],
          [
           7,
           "Byproduct Removal Sink"
          ],
          [
           7,
           "Waste Treatment"
          ],
          [
           7,
           "Waste Management"
          ],
          [
           7,
           "Waste Management"
          ],
          [
           7,
           "Lignin Residues Source"
          ],
          [
           7,
           "Waste Management"
          ],
          [
           7,
           "Waste Management"
          ],
          [
           7,
           "Process Residuals Source"
          ],
          [
           7,
           "Waste Management"
          ],
          [
           7,
           "Waste Management"
          ],
          [
           7,
           "Waste Management and Byproduct Recovery"
          ],
          [
           7,
           "Recovered Lignin Sink"
          ],
          [
           7,
           "Waste Treatment"
          ],
          [
           7,
           "Waste Management"
          ],
          [
           7,
           "Process Residues Source"
          ],
          [
           7,
           "Waste Management"
          ],
          [
           7,
           "Waste Treatment"
          ],
          [
           7,
           "Waste Management and By-product Recovery"
          ],
          [
           7,
           "Lignin Residues Source"
          ],
          [
           7,
           "Waste Management and By-product Recovery"
          ],
          [
           7,
           "Lignin Residue Source"
          ],
          [
           7,
           "Waste Management"
          ],
          [
           7,
           "Waste Treatment"
          ],
          [
           7,
           "Waste Management"
          ],
          [
           7,
           "Lignin Residue Source"
          ],
          [
           7,
           "Waste Management"
          ],
          [
           7,
           "Lignin-rich Stream Sink"
          ],
          [
           7,
           "Waste Management"
          ],
          [
           7,
           "Lignin Residues Source"
          ],
          [
           7,
           "Boiler Fuel Sink"
          ],
          [
           7,
           "Waste Management"
          ],
          [
           7,
           "Lignin Residues Source"
          ],
          [
           7,
           "Waste Management"
          ],
          [
           7,
           "Lignin Residue Source"
          ],
          [
           7,
           "Waste Management"
          ],
          [
           7,
           "Waste Treatment"
          ],
          [
           7,
           "Waste Management"
          ],
          [
           7,
           "Lignin Residue Source"
          ],
          [
           7,
           "Waste Management"
          ],
          [
           7,
           "Lignin Residues Source"
          ],
          [
           7,
           "Waste Management"
          ],
          [
           7,
           "Lignin Residue Source"
          ],
          [
           7,
           "Waste Management"
          ],
          [
           7,
           "Residual Lignin Source"
          ],
          [
           7,
           "Waste Management"
          ],
          [
           7,
           "Residual Lignin Source"
          ],
          [
           7,
           "Waste Treatment"
          ],
          [
           7,
           "Waste Management"
          ],
          [
           7,
           "Waste Treatment"
          ],
          [
           7,
           "Waste Management"
          ],
          [
           7,
           "Lignin Residues Source"
          ],
          [
           7,
           "Waste Treatment"
          ],
          [
           7,
           "Waste Management"
          ],
          [
           7,
           "Waste Management"
          ],
          [
           7,
           "Lignin Residues Source"
          ],
          [
           7,
           "Waste Management"
          ],
          [
           7,
           "Waste Management"
          ],
          [
           7,
           "Lignin Residues Source"
          ],
          [
           7,
           "Lignin By-products Sink"
          ],
          [
           7,
           "Waste Management and By-product Recovery"
          ],
          [
           7,
           "Lignin Residue Source"
          ],
          [
           7,
           "Recovered Lignin Sink"
          ],
          [
           7,
           "Waste Management"
          ],
          [
           7,
           "Waste Treatment and By-product Recovery"
          ],
          [
           7,
           "Waste Management"
          ],
          [
           7,
           "Lignin Cake Sink"
          ],
          [
           7,
           "Lignin Residue Source"
          ],
          [
           7,
           "Waste Management"
          ],
          [
           7,
           "Lignin Residue Source"
          ],
          [
           7,
           "Waste Management"
          ],
          [
           7,
           "Lignin Residue Source"
          ],
          [
           7,
           "Waste Treatment"
          ],
          [
           7,
           "Lignin Residue Source"
          ],
          [
           7,
           "Waste Management"
          ],
          [
           7,
           "Process Residues Source"
          ],
          [
           7,
           "Waste Management"
          ],
          [
           7,
           "Waste Management and By-product Utilization"
          ],
          [
           7,
           "Lignin Residue Sink"
          ],
          [
           7,
           "Waste Management"
          ],
          [
           7,
           "Solid Residues Source"
          ],
          [
           7,
           "Waste Management"
          ],
          [
           7,
           "Waste Treatment and By-product Recovery"
          ],
          [
           7,
           "Residual Lignin Source"
          ],
          [
           7,
           "Waste Treatment"
          ],
          [
           7,
           "Waste Treatment"
          ],
          [
           7,
           "Waste Management"
          ],
          [
           7,
           "Waste Treatment"
          ],
          [
           7,
           "Waste Management and Byproduct Recovery"
          ],
          [
           7,
           "Waste Management"
          ],
          [
           7,
           "Additional Process Waste Source"
          ],
          [
           7,
           "Waste Management"
          ],
          [
           7,
           "Waste Management"
          ],
          [
           7,
           "Lignin Residues Source"
          ],
          [
           7,
           "Waste Treatment"
          ],
          [
           7,
           "Process Waste Stream Source"
          ],
          [
           7,
           "Waste Treatment"
          ]
         ],
         "hovertemplate": "Cluster=7<br>cluster=%{customdata[0]}<br>title=%{customdata[1]}<extra></extra>",
         "legendgroup": "7",
         "marker": {
          "color": "#FFA15A",
          "symbol": "circle"
         },
         "mode": "markers",
         "name": "7",
         "showlegend": true,
         "type": "scattergl",
         "x": [
          16.316736221313477,
          14.731712341308594,
          10.51502513885498,
          14.307687759399414,
          15.525408744812012,
          10.367071151733398,
          16.302043914794922,
          16.308799743652344,
          16.357986450195312,
          16.324771881103516,
          10.623312950134277,
          15.921109199523926,
          10.578359603881836,
          15.888314247131348,
          16.284603118896484,
          15.87569808959961,
          15.888741493225098,
          15.469952583312988,
          15.59494686126709,
          14.498730659484863,
          10.414347648620605,
          15.844683647155762,
          16.013622283935547,
          14.241071701049805,
          10.503883361816406,
          14.481799125671387,
          15.653545379638672,
          16.38336753845215,
          10.134923934936523,
          16.21986198425293,
          15.923323631286621,
          14.3688383102417,
          15.5049467086792,
          15.840821266174316,
          14.204488754272461,
          15.846229553222656,
          15.59829044342041,
          14.328313827514648,
          15.002266883850098,
          10.531041145324707,
          16.247732162475586,
          14.18065357208252,
          15.637436866760254,
          15.919146537780762,
          16.31641387939453,
          14.688876152038574,
          15.568124771118164,
          14.741562843322754,
          15.554952621459961,
          15.675273895263672,
          16.364763259887695,
          14.356799125671387,
          15.65977668762207,
          15.633228302001953,
          10.587421417236328,
          14.435064315795898,
          15.622435569763184,
          10.444198608398438,
          14.273714065551758,
          15.598223686218262,
          14.48511028289795,
          15.669716835021973,
          15.608470916748047,
          16.34465980529785,
          14.51572322845459,
          15.617809295654297,
          14.391366004943848,
          15.548168182373047,
          14.366355895996094,
          15.637818336486816,
          14.513760566711426,
          15.758689880371094,
          14.543900489807129,
          15.733959197998047,
          16.271530151367188,
          15.871931076049805,
          16.346729278564453,
          14.297609329223633,
          15.539782524108887,
          16.322803497314453,
          15.868657112121582,
          14.365435600280762,
          15.592480659484863,
          14.297433853149414,
          14.464885711669922,
          15.588842391967773,
          10.49944019317627,
          14.723288536071777,
          15.649870872497559,
          10.559565544128418,
          15.887042999267578,
          15.41860580444336,
          14.260004997253418,
          10.541238784790039,
          15.604735374450684,
          14.205464363098145,
          15.632115364074707,
          14.365289688110352,
          15.620903015136719,
          14.276725769042969,
          15.60019302368164,
          14.327750205993652,
          15.609081268310547,
          15.899022102355957,
          14.481345176696777,
          10.556075096130371,
          15.800982475280762,
          15.612801551818848,
          15.584549903869629,
          14.821402549743652,
          15.74933910369873,
          16.396018981933594,
          16.363525390625,
          15.658626556396484,
          16.33639144897461,
          15.005924224853516,
          15.886480331420898,
          15.438918113708496,
          15.65265941619873,
          14.402241706848145,
          15.484124183654785,
          14.276836395263672,
          15.442994117736816,
          16.315757751464844
         ],
         "xaxis": "x",
         "y": [
          3.31494140625,
          3.7509889602661133,
          -1.4272270202636719,
          3.8180160522460938,
          8.007766723632812,
          -1.6860004663467407,
          3.297013521194458,
          3.3281545639038086,
          3.263770580291748,
          3.291832685470581,
          -1.3262525796890259,
          3.763566255569458,
          -1.4344799518585205,
          3.794715642929077,
          3.25285005569458,
          3.8158838748931885,
          3.7771384716033936,
          3.854548454284668,
          8.074183464050293,
          4.046562671661377,
          -1.3658100366592407,
          3.7702701091766357,
          3.6833999156951904,
          3.7860050201416016,
          -1.545340895652771,
          3.7375800609588623,
          8.134212493896484,
          3.2548024654388428,
          -1.19446861743927,
          3.3260366916656494,
          3.7984702587127686,
          3.876418352127075,
          7.987027645111084,
          3.784818410873413,
          3.765465497970581,
          8.323370933532715,
          3.7764787673950195,
          3.8207504749298096,
          3.687150001525879,
          -1.4831809997558594,
          3.3780486583709717,
          3.739971399307251,
          8.117246627807617,
          3.6819286346435547,
          3.2975151538848877,
          3.7438907623291016,
          8.05069351196289,
          3.728588104248047,
          8.03453254699707,
          3.6516919136047363,
          3.271428346633911,
          3.881852388381958,
          8.137971878051758,
          3.7920475006103516,
          -1.4148588180541992,
          3.6708714962005615,
          8.104336738586426,
          -1.654768466949463,
          3.770624876022339,
          8.081842422485352,
          3.8215420246124268,
          8.149836540222168,
          3.645545244216919,
          3.294128656387329,
          4.043195724487305,
          8.093450546264648,
          3.9068353176116943,
          8.031220436096191,
          3.8664944171905518,
          8.118330001831055,
          4.038034915924072,
          8.237691879272461,
          4.0429487228393555,
          8.212430000305176,
          3.363875150680542,
          3.8178036212921143,
          3.2912545204162598,
          3.7466745376586914,
          8.021626472473145,
          3.2942001819610596,
          3.809399366378784,
          3.8571908473968506,
          8.07493782043457,
          3.8574061393737793,
          4.0317912101745605,
          8.070939064025879,
          -1.3744651079177856,
          3.762568235397339,
          8.131265640258789,
          -1.475918173789978,
          3.8215084075927734,
          3.6637051105499268,
          3.821502447128296,
          -1.4680585861206055,
          8.083928108215332,
          3.718914031982422,
          8.108687400817871,
          3.9028375148773193,
          8.09957218170166,
          3.7558839321136475,
          8.080138206481934,
          3.8929808139801025,
          8.088972091674805,
          3.7512590885162354,
          3.8648722171783447,
          -1.4515767097473145,
          3.803223133087158,
          8.095279693603516,
          3.7622673511505127,
          3.766411542892456,
          8.22911262512207,
          3.239567995071411,
          3.274533987045288,
          3.789340019226074,
          3.2982659339904785,
          3.696913957595825,
          3.8153560161590576,
          7.905887603759766,
          3.674264907836914,
          3.94952392578125,
          7.966639518737793,
          3.816098928451538,
          7.875174045562744,
          3.307455539703369
         ],
         "yaxis": "y"
        },
        {
         "customdata": [
          [
           4,
           "Corn Stover Feedstock Source"
          ],
          [
           4,
           "Raw Corn Stover Source"
          ],
          [
           4,
           "Raw Corn Stover Source"
          ],
          [
           4,
           "Raw Corn Stover Source"
          ],
          [
           4,
           "Raw Corn Stover Source"
          ],
          [
           4,
           "Raw Corn Stover Source"
          ],
          [
           4,
           "Raw Corn Stover Source"
          ],
          [
           4,
           "Raw Corn Stover Source"
          ],
          [
           4,
           "Raw Corn Stover Source"
          ],
          [
           4,
           "Raw Corn Stover Source"
          ],
          [
           4,
           "Raw Corn Stover Source"
          ],
          [
           4,
           "Raw Corn Stover Source"
          ],
          [
           4,
           "Raw Corn Stover Source"
          ],
          [
           4,
           "Raw Corn Stover Source"
          ],
          [
           4,
           "Raw Corn Stover Source"
          ],
          [
           4,
           "Raw Corn Stover Source"
          ],
          [
           4,
           "Raw Corn Stover Source"
          ],
          [
           4,
           "Raw Corn Stover Source"
          ],
          [
           4,
           "Raw Corn Stover Source"
          ],
          [
           4,
           "Raw Corn Stover Source"
          ],
          [
           4,
           "Raw Corn Stover Source"
          ],
          [
           4,
           "Raw Corn Stover Source"
          ],
          [
           4,
           "Raw Corn Stover Source"
          ],
          [
           4,
           "Raw Corn Stover Source"
          ],
          [
           4,
           "Raw Corn Stover Source"
          ],
          [
           4,
           "Raw Corn Stover Source"
          ],
          [
           4,
           "Raw Corn Stover Source"
          ],
          [
           4,
           "Raw Corn Stover Source"
          ],
          [
           4,
           "Raw Corn Stover Source"
          ],
          [
           4,
           "Raw Corn Stover Source"
          ],
          [
           4,
           "Raw Corn Stover Source"
          ],
          [
           4,
           "Raw Corn Stover Source"
          ],
          [
           4,
           "Raw Corn Stover Source"
          ],
          [
           4,
           "Raw Corn Stover Source"
          ],
          [
           4,
           "Raw Corn Stover Source"
          ],
          [
           4,
           "Raw Corn Stover Source"
          ],
          [
           4,
           "Raw Corn Stover Source"
          ],
          [
           4,
           "Raw Corn Stover Source"
          ],
          [
           4,
           "Raw Corn Stover Source"
          ],
          [
           4,
           "Raw Corn Stover Source"
          ],
          [
           4,
           "Raw Corn Stover Source"
          ],
          [
           4,
           "Raw Corn Stover Source"
          ],
          [
           4,
           "Raw Corn Stover Source"
          ],
          [
           4,
           "Raw Corn Stover Source"
          ],
          [
           4,
           "Raw Corn Stover Source"
          ],
          [
           4,
           "Raw Corn Stover Source"
          ],
          [
           4,
           "Raw Corn Stover Source"
          ],
          [
           4,
           "Raw Corn Stover Source"
          ],
          [
           4,
           "Raw Corn Stover Source"
          ],
          [
           4,
           "Raw Corn Stover Source"
          ],
          [
           4,
           "Raw Corn Stover Source"
          ],
          [
           4,
           "Raw Corn Stover Source"
          ],
          [
           4,
           "Raw Corn Stover Source"
          ],
          [
           4,
           "Raw Corn Stover Source"
          ],
          [
           4,
           "Raw Corn Stover Source"
          ],
          [
           4,
           "Raw Corn Stover Source"
          ],
          [
           4,
           "Raw Corn Stover Source"
          ],
          [
           4,
           "Raw Corn Stover Source"
          ],
          [
           4,
           "Raw Corn Stover Source"
          ],
          [
           4,
           "Raw Corn Stover Source"
          ],
          [
           4,
           "Raw Corn Stover Source"
          ],
          [
           4,
           "Raw Corn Stover Source"
          ],
          [
           4,
           "Raw Corn Stover Source"
          ],
          [
           4,
           "Raw Corn Stover Source"
          ],
          [
           4,
           "Raw Corn Stover Source"
          ],
          [
           4,
           "Raw Corn Stover Source"
          ],
          [
           4,
           "Acid or Steam Source"
          ],
          [
           4,
           "Raw Corn Stover Source"
          ],
          [
           4,
           "Raw Corn Stover Source"
          ],
          [
           4,
           "Raw Corn Stover Source"
          ],
          [
           4,
           "Raw Corn Stover Source"
          ],
          [
           4,
           "Raw Corn Stover Source"
          ],
          [
           4,
           "Raw Corn Stover Source"
          ],
          [
           4,
           "Raw Corn Stover Source"
          ],
          [
           4,
           "Raw Corn Stover Source"
          ],
          [
           4,
           "Raw Corn Stover Source"
          ],
          [
           4,
           "Raw Corn Stover Source"
          ],
          [
           4,
           "Raw Corn Stover Source"
          ],
          [
           4,
           "Raw Corn Stover Source"
          ],
          [
           4,
           "Raw Corn Stover Source"
          ],
          [
           4,
           "Raw Corn Stover Source"
          ],
          [
           4,
           "Raw Corn Stover Source"
          ],
          [
           4,
           "Raw Corn Stover Source"
          ],
          [
           4,
           "Raw Corn Stover Source"
          ],
          [
           4,
           "Raw Corn Stover Source"
          ],
          [
           4,
           "Raw Corn Stover Source"
          ],
          [
           4,
           "Raw Corn Stover Source"
          ],
          [
           4,
           "Raw Corn Stover Source"
          ],
          [
           4,
           "Raw Corn Stover Source"
          ],
          [
           4,
           "Raw Corn Stover Source"
          ],
          [
           4,
           "Raw Corn Stover Source"
          ],
          [
           4,
           "Raw Corn Stover Source"
          ],
          [
           4,
           "Raw Corn Stover Source"
          ],
          [
           4,
           "Raw Corn Stover Source"
          ],
          [
           4,
           "Raw Corn Stover Source"
          ],
          [
           4,
           "Raw Corn Stover Source"
          ],
          [
           4,
           "Raw Corn Stover Source"
          ],
          [
           4,
           "Raw Corn Stover Source"
          ],
          [
           4,
           "Raw Corn Stover Source"
          ],
          [
           4,
           "Raw Corn Stover Source"
          ],
          [
           4,
           "Raw Corn Stover Source"
          ]
         ],
         "hovertemplate": "Cluster=4<br>cluster=%{customdata[0]}<br>title=%{customdata[1]}<extra></extra>",
         "legendgroup": "4",
         "marker": {
          "color": "#19d3f3",
          "symbol": "circle"
         },
         "mode": "markers",
         "name": "4",
         "showlegend": true,
         "type": "scattergl",
         "x": [
          15.543631553649902,
          15.310914993286133,
          15.487703323364258,
          14.95008659362793,
          15.211204528808594,
          15.213871955871582,
          15.33174991607666,
          14.959471702575684,
          15.146626472473145,
          15.446688652038574,
          15.437783241271973,
          15.390186309814453,
          14.426700592041016,
          15.478232383728027,
          14.97189712524414,
          15.286800384521484,
          15.517337799072266,
          15.066031455993652,
          14.6424560546875,
          15.098040580749512,
          15.079976081848145,
          14.744752883911133,
          15.056965827941895,
          14.982471466064453,
          14.981351852416992,
          15.012655258178711,
          15.25650405883789,
          15.168742179870605,
          15.194640159606934,
          14.421066284179688,
          14.850799560546875,
          14.695242881774902,
          14.95261001586914,
          14.44752311706543,
          15.035633087158203,
          15.427807807922363,
          14.440261840820312,
          14.487652778625488,
          14.386348724365234,
          14.469780921936035,
          14.710307121276855,
          15.11359691619873,
          14.989790916442871,
          15.27044677734375,
          14.660822868347168,
          15.519155502319336,
          15.170591354370117,
          15.33669376373291,
          15.181480407714844,
          15.16300106048584,
          15.106513023376465,
          14.783150672912598,
          14.57888412475586,
          15.153719902038574,
          15.008336067199707,
          15.173259735107422,
          14.90574836730957,
          15.501458168029785,
          14.760616302490234,
          15.07435131072998,
          14.818001747131348,
          14.708104133605957,
          14.567511558532715,
          15.240514755249023,
          14.404088020324707,
          15.062032699584961,
          12.60892391204834,
          15.282331466674805,
          15.035429000854492,
          14.583645820617676,
          14.560654640197754,
          14.972946166992188,
          14.688323974609375,
          14.617035865783691,
          15.334200859069824,
          15.412720680236816,
          15.16726016998291,
          14.992825508117676,
          15.096281051635742,
          15.154396057128906,
          14.743480682373047,
          14.99527645111084,
          15.1702241897583,
          14.609277725219727,
          15.278709411621094,
          14.627495765686035,
          15.45462417602539,
          14.763195037841797,
          14.461091041564941,
          14.472808837890625,
          14.535552978515625,
          14.677071571350098,
          15.13968276977539,
          15.325177192687988,
          14.829130172729492,
          14.947005271911621,
          15.264975547790527,
          15.079988479614258,
          14.48843002319336,
          15.394821166992188,
          15.504105567932129
         ],
         "xaxis": "x",
         "y": [
          22.49249267578125,
          22.687437057495117,
          22.4653377532959,
          23.5092716217041,
          23.180904388427734,
          23.130090713500977,
          22.48158073425293,
          23.43864631652832,
          23.049760818481445,
          22.48792266845703,
          22.586217880249023,
          22.392032623291016,
          22.484357833862305,
          22.43457794189453,
          22.730199813842773,
          22.679689407348633,
          22.418764114379883,
          22.64459228515625,
          22.496797561645508,
          22.835416793823242,
          23.091920852661133,
          23.179668426513672,
          22.704532623291016,
          23.406219482421875,
          23.45603370666504,
          23.45951271057129,
          23.021217346191406,
          23.248046875,
          22.598709106445312,
          22.541107177734375,
          22.503883361816406,
          23.172574996948242,
          23.492788314819336,
          22.488510131835938,
          23.425975799560547,
          22.453094482421875,
          22.509145736694336,
          22.71296501159668,
          22.44031524658203,
          22.516218185424805,
          22.548219680786133,
          23.30616569519043,
          23.44748878479004,
          22.99122428894043,
          22.798391342163086,
          22.396339416503906,
          22.72303581237793,
          22.500261306762695,
          23.03472900390625,
          22.798337936401367,
          23.307100296020508,
          22.85715103149414,
          22.777158737182617,
          23.260128021240234,
          23.412639617919922,
          23.12710952758789,
          23.432205200195312,
          22.41921043395996,
          22.596996307373047,
          23.323410034179688,
          22.603845596313477,
          22.579946517944336,
          22.798574447631836,
          23.212425231933594,
          22.481121063232422,
          22.840877532958984,
          11.156542778015137,
          22.645790100097656,
          22.635936737060547,
          22.771739959716797,
          22.835485458374023,
          23.46924591064453,
          23.16163444519043,
          22.816543579101562,
          22.708147048950195,
          22.49578285217285,
          22.81325912475586,
          23.45798110961914,
          23.294204711914062,
          22.761438369750977,
          22.703350067138672,
          22.699172973632812,
          22.93082618713379,
          22.80511474609375,
          23.053342819213867,
          23.04683494567871,
          22.427404403686523,
          23.176420211791992,
          22.530290603637695,
          22.490148544311523,
          22.563602447509766,
          22.619070053100586,
          23.132946014404297,
          22.451766967773438,
          22.507049560546875,
          22.627361297607422,
          23.020069122314453,
          23.363615036010742,
          22.53032112121582,
          22.48660659790039,
          22.409894943237305
         ],
         "yaxis": "y"
        },
        {
         "customdata": [
          [
           1,
           "Fuel-Grade Ethanol Sink"
          ],
          [
           1,
           "Fuel-Grade Ethanol Sink"
          ],
          [
           1,
           "Denatured Ethanol Sink"
          ],
          [
           1,
           "Water Sink"
          ],
          [
           1,
           "Denaturant Source"
          ],
          [
           1,
           "Fuel-Grade Ethanol Sink"
          ],
          [
           1,
           "Denaturant Source"
          ],
          [
           1,
           "Denatured Ethanol Sink"
          ],
          [
           1,
           "Anhydrous Ethanol Sink"
          ],
          [
           1,
           "Fuel-Grade Ethanol Sink"
          ],
          [
           1,
           "Fuel-Grade Ethanol Sink"
          ],
          [
           1,
           "Anhydrous Ethanol Sink"
          ],
          [
           1,
           "Fuel-Grade Ethanol Sink"
          ],
          [
           1,
           "Fuel-Grade Ethanol Sink"
          ],
          [
           1,
           "Water Sink"
          ],
          [
           1,
           "Fuel-Grade Ethanol Sink"
          ],
          [
           1,
           "Fuel-Grade Ethanol Sink"
          ],
          [
           1,
           "Fuel-Grade Ethanol Sink"
          ],
          [
           1,
           "Water Sink"
          ],
          [
           1,
           "Denatured Ethanol Sink"
          ],
          [
           1,
           "Water Sink"
          ],
          [
           1,
           "Denaturant Addition"
          ],
          [
           1,
           "Fuel-Grade Ethanol Sink"
          ],
          [
           1,
           "Denaturant Source"
          ],
          [
           1,
           "Denatured Ethanol Sink"
          ],
          [
           1,
           "Fuel-Grade Ethanol Sink"
          ],
          [
           1,
           "Fuel-grade Ethanol Sink"
          ],
          [
           1,
           "Fuel-Grade Ethanol Sink"
          ],
          [
           1,
           "Denaturant Source"
          ],
          [
           1,
           "Denatured Ethanol Sink"
          ],
          [
           1,
           "Fuel-Grade Ethanol Sink"
          ],
          [
           1,
           "Anhydrous Ethanol Sink"
          ],
          [
           1,
           "Fuel-Grade Ethanol Sink"
          ],
          [
           1,
           "Dehydrated Water Sink"
          ],
          [
           1,
           "Fuel-grade Ethanol Sink"
          ],
          [
           1,
           "Water Sink"
          ],
          [
           1,
           "Fuel-Grade Ethanol Sink"
          ],
          [
           1,
           "Fuel-Grade Ethanol Sink"
          ],
          [
           1,
           "Water Sink"
          ],
          [
           1,
           "Fuel-Grade Ethanol Sink"
          ],
          [
           1,
           "Dehydrated Water Sink"
          ],
          [
           1,
           "Fuel-Grade Ethanol Sink"
          ],
          [
           1,
           "Water Sink"
          ],
          [
           1,
           "Fuel-Grade Ethanol Sink"
          ],
          [
           1,
           "Water Stream Sink"
          ],
          [
           1,
           "Denaturant Source"
          ],
          [
           1,
           "Denatured Ethanol Sink"
          ],
          [
           1,
           "Fuel-Grade Ethanol Sink"
          ],
          [
           1,
           "Fuel-Grade Ethanol Sink"
          ],
          [
           1,
           "Fuel-Grade Ethanol Sink"
          ],
          [
           1,
           "Fuel-Grade Ethanol Sink"
          ],
          [
           1,
           "Fuel-Grade Ethanol Sink"
          ],
          [
           1,
           "Water Stream Sink"
          ],
          [
           1,
           "Fuel-Grade Ethanol Sink"
          ],
          [
           1,
           "Water Sink"
          ],
          [
           1,
           "Fuel-Grade Ethanol Sink"
          ],
          [
           1,
           "Anhydrous Ethanol Sink"
          ],
          [
           1,
           "Fuel-Grade Ethanol Sink"
          ],
          [
           1,
           "Fuel-Grade Ethanol Sink"
          ],
          [
           1,
           "Dehydrated Water Sink"
          ],
          [
           1,
           "Fuel-Grade Ethanol Sink"
          ],
          [
           1,
           "Anhydrous Ethanol Sink"
          ],
          [
           1,
           "Fuel-Grade Ethanol Sink"
          ],
          [
           1,
           "Fuel-Grade Ethanol Sink"
          ],
          [
           1,
           "Fuel-Grade Ethanol Sink"
          ],
          [
           1,
           "Fuel-Grade Ethanol Sink"
          ],
          [
           1,
           "Gasoline Source"
          ],
          [
           1,
           "Denatured Ethanol Sink"
          ],
          [
           1,
           "Fuel-Grade Ethanol Sink"
          ],
          [
           1,
           "Fuel-Grade Ethanol Sink"
          ],
          [
           1,
           "Water Stream Sink"
          ],
          [
           1,
           "Fuel-Grade Ethanol Sink"
          ],
          [
           1,
           "Fuel-Grade Ethanol Sink"
          ],
          [
           1,
           "Fuel-Grade Ethanol Sink"
          ],
          [
           1,
           "Water Sink"
          ],
          [
           1,
           "Fuel-Grade Ethanol Sink"
          ],
          [
           1,
           "Fuel-Grade Ethanol Sink"
          ],
          [
           1,
           "Fuel-Grade Ethanol Sink"
          ],
          [
           1,
           "Anhydrous Ethanol Sink"
          ],
          [
           1,
           "Fuel-Grade Ethanol Sink"
          ],
          [
           1,
           "Water Stream Sink"
          ],
          [
           1,
           "Fuel-Grade Ethanol Sink"
          ],
          [
           1,
           "Fuel-Grade Ethanol Sink"
          ],
          [
           1,
           "Fuel-Grade Ethanol Sink"
          ],
          [
           1,
           "Fuel-Grade Ethanol Sink"
          ],
          [
           1,
           "Fuel-Grade Ethanol Sink"
          ],
          [
           1,
           "Denaturant Source"
          ],
          [
           1,
           "Denatured Ethanol Sink"
          ],
          [
           1,
           "Fuel-Grade Ethanol Sink"
          ],
          [
           1,
           "Fuel-Grade Ethanol Sink"
          ],
          [
           1,
           "Water Sink"
          ],
          [
           1,
           "Fuel-grade Ethanol Sink"
          ],
          [
           1,
           "Fuel-Grade Ethanol Sink"
          ],
          [
           1,
           "Water Sink"
          ],
          [
           1,
           "Fuel-Grade Ethanol Sink"
          ],
          [
           1,
           "Fuel-Grade Ethanol Sink"
          ],
          [
           1,
           "Fuel-Grade Ethanol Sink"
          ],
          [
           1,
           "Fuel-Grade Ethanol Sink"
          ],
          [
           1,
           "Fuel-Grade Ethanol Sink"
          ],
          [
           1,
           "Fuel-Grade Ethanol Sink"
          ],
          [
           1,
           "Dehydration Waste Sink"
          ],
          [
           1,
           "Fuel-grade Ethanol Sink"
          ],
          [
           1,
           "Fuel-Grade Ethanol Sink"
          ],
          [
           1,
           "Anhydrous Ethanol Sink"
          ],
          [
           1,
           "Fuel-Grade Ethanol Sink"
          ],
          [
           1,
           "Fuel-Grade Ethanol Sink"
          ],
          [
           1,
           "Water Stream Sink"
          ],
          [
           1,
           "Fuel-Grade Ethanol Sink"
          ],
          [
           1,
           "Fuel-Grade Ethanol Sink"
          ],
          [
           1,
           "Water Sink"
          ],
          [
           1,
           "Anhydrous Ethanol Sink"
          ],
          [
           1,
           "Fuel-Grade Ethanol Sink"
          ],
          [
           1,
           "Fuel-Grade Ethanol Sink"
          ],
          [
           1,
           "Water Sink"
          ],
          [
           1,
           "Fuel-Grade Ethanol Sink"
          ],
          [
           1,
           "Fuel-Grade Ethanol Sink"
          ],
          [
           1,
           "Fuel-Grade Ethanol Sink"
          ],
          [
           1,
           "Fuel-Grade Ethanol Sink"
          ],
          [
           1,
           "Fuel-Grade Ethanol Sink"
          ],
          [
           1,
           "Fuel-Grade Ethanol Sink"
          ],
          [
           1,
           "Fuel-Grade Ethanol Sink"
          ],
          [
           1,
           "Fuel-Grade Ethanol Sink"
          ],
          [
           1,
           "Fuel-Grade Ethanol Sink"
          ],
          [
           1,
           "Water Sink"
          ],
          [
           1,
           "Fuel-Grade Ethanol Sink"
          ],
          [
           1,
           "Denaturant Source"
          ],
          [
           1,
           "Denatured Ethanol Sink"
          ],
          [
           1,
           "Fuel-Grade Ethanol Sink"
          ],
          [
           1,
           "Dehydrated Water Sink"
          ],
          [
           1,
           "Fuel-Grade Ethanol Sink"
          ],
          [
           1,
           "Fuel-Grade Ethanol Sink"
          ],
          [
           1,
           "Ethanol Sink"
          ],
          [
           1,
           "Anhydrous Ethanol Sink"
          ],
          [
           1,
           "Fuel-Grade Ethanol Sink"
          ]
         ],
         "hovertemplate": "Cluster=1<br>cluster=%{customdata[0]}<br>title=%{customdata[1]}<extra></extra>",
         "legendgroup": "1",
         "marker": {
          "color": "#FF6692",
          "symbol": "circle"
         },
         "mode": "markers",
         "name": "1",
         "showlegend": true,
         "type": "scattergl",
         "x": [
          2.756197690963745,
          2.7303712368011475,
          13.291484832763672,
          7.900755882263184,
          12.398162841796875,
          2.699838638305664,
          12.3944730758667,
          13.293147087097168,
          2.527411460876465,
          2.713463306427002,
          2.794754981994629,
          2.5499978065490723,
          2.6688997745513916,
          2.7968883514404297,
          7.875560283660889,
          2.6342573165893555,
          2.895594596862793,
          2.725041389465332,
          7.770073890686035,
          13.271764755249023,
          7.911248207092285,
          12.417098999023438,
          2.703432083129883,
          12.389893531799316,
          13.280896186828613,
          2.851267099380493,
          2.8049232959747314,
          2.709388256072998,
          12.427841186523438,
          13.29706859588623,
          2.6168885231018066,
          2.53341007232666,
          2.75177001953125,
          7.675898551940918,
          3.0202131271362305,
          7.870463848114014,
          3.004603147506714,
          2.7355425357818604,
          7.869770526885986,
          2.815347909927368,
          7.675098419189453,
          2.7468454837799072,
          7.85963249206543,
          3.0258796215057373,
          7.748656749725342,
          12.383487701416016,
          13.284655570983887,
          2.615978956222534,
          2.7416107654571533,
          2.9330434799194336,
          2.78473162651062,
          2.6408188343048096,
          7.75522518157959,
          2.8054938316345215,
          7.885721683502197,
          2.9845967292785645,
          2.540809392929077,
          2.737880229949951,
          2.6368589401245117,
          7.669261455535889,
          2.973391532897949,
          2.528822183609009,
          3.020718574523926,
          2.8084359169006348,
          2.7208712100982666,
          2.7435553073883057,
          12.428919792175293,
          13.284749984741211,
          2.696988582611084,
          2.753370761871338,
          7.797532558441162,
          2.740187883377075,
          2.954482078552246,
          2.701700210571289,
          7.942411422729492,
          3.026970386505127,
          2.6302051544189453,
          2.674328565597534,
          2.530954599380493,
          2.9910523891448975,
          7.734422206878662,
          2.7894561290740967,
          2.8148341178894043,
          2.6538891792297363,
          2.805043935775757,
          2.8816635608673096,
          12.419194221496582,
          13.289582252502441,
          2.744920253753662,
          2.6520330905914307,
          7.82869291305542,
          2.6830861568450928,
          2.799323320388794,
          7.833438873291016,
          2.792863368988037,
          2.6548542976379395,
          2.6434667110443115,
          2.6490461826324463,
          2.6853392124176025,
          2.7931830883026123,
          7.706049919128418,
          2.7021780014038086,
          2.768853187561035,
          2.532710075378418,
          2.6974546909332275,
          2.729625701904297,
          7.689634323120117,
          2.7070677280426025,
          2.615694284439087,
          7.84937047958374,
          2.528306722640991,
          2.6985204219818115,
          2.6346185207366943,
          7.859932899475098,
          2.638744354248047,
          2.631757974624634,
          2.980560541152954,
          2.8824660778045654,
          2.7289395332336426,
          2.9172472953796387,
          3.0441691875457764,
          2.665947198867798,
          2.7564737796783447,
          7.793348789215088,
          2.775096893310547,
          12.433396339416504,
          13.279037475585938,
          2.719409465789795,
          7.705188751220703,
          2.702660083770752,
          2.6180477142333984,
          2.9198176860809326,
          2.528254985809326,
          2.8575947284698486
         ],
         "xaxis": "x",
         "y": [
          -8.08303165435791,
          -9.683799743652344,
          -11.525428771972656,
          -1.1796326637268066,
          -11.809050559997559,
          -10.14905071258545,
          -11.811113357543945,
          -11.543349266052246,
          -8.817138671875,
          -8.063018798828125,
          -10.120535850524902,
          -8.91232967376709,
          -10.063117027282715,
          -7.997858047485352,
          -1.1668198108673096,
          -9.418983459472656,
          -7.815002918243408,
          -9.645001411437988,
          -1.248512625694275,
          -11.528641700744629,
          -1.172897219657898,
          -11.7765531539917,
          -8.039104461669922,
          -11.777477264404297,
          -11.530482292175293,
          -9.781949043273926,
          -10.196045875549316,
          -8.004819869995117,
          -11.78044605255127,
          -11.51362419128418,
          -9.796175003051758,
          -8.826244354248047,
          -9.505045890808105,
          -1.3147609233856201,
          -7.568912029266357,
          -1.1680375337600708,
          -7.595132827758789,
          -8.018106460571289,
          -1.1485235691070557,
          -10.258184432983398,
          -1.311776041984558,
          -8.103243827819824,
          -1.2119477987289429,
          -7.565912246704102,
          -1.2661106586456299,
          -11.825135231018066,
          -11.527122497558594,
          -10.126805305480957,
          -9.668977737426758,
          -10.034358024597168,
          -8.0884428024292,
          -9.551101684570312,
          -1.2982699871063232,
          -10.257845878601074,
          -1.1406080722808838,
          -7.575686931610107,
          -8.871356010437012,
          -9.681278228759766,
          -9.524595260620117,
          -1.321232795715332,
          -7.6545729637146,
          -8.822748184204102,
          -7.573643207550049,
          -7.968066692352295,
          -9.662495613098145,
          -7.988287448883057,
          -11.779410362243652,
          -11.527311325073242,
          -9.582391738891602,
          -8.090601921081543,
          -1.2238762378692627,
          -9.681885719299316,
          -7.665521621704102,
          -9.638076782226562,
          -1.11607825756073,
          -7.559521675109863,
          -10.079364776611328,
          -9.646894454956055,
          -8.842997550964355,
          -7.60833740234375,
          -1.2449878454208374,
          -10.210840225219727,
          -7.86370849609375,
          -9.47856616973877,
          -10.172197341918945,
          -9.991214752197266,
          -11.811758041381836,
          -11.524992942810059,
          -8.03720474243164,
          -9.351221084594727,
          -1.250659465789795,
          -9.58556079864502,
          -7.911598205566406,
          -1.2271875143051147,
          -10.189719200134277,
          -10.058699607849121,
          -9.480640411376953,
          -9.772473335266113,
          -9.769044876098633,
          -10.196015357971191,
          -1.2203471660614014,
          -8.070527076721191,
          -7.989133834838867,
          -8.817412376403809,
          -7.973151206970215,
          -7.977914333343506,
          -1.288345456123352,
          -8.093689918518066,
          -10.029922485351562,
          -1.2163368463516235,
          -8.833406448364258,
          -10.054447174072266,
          -10.015485763549805,
          -1.1651314496994019,
          -9.464082717895508,
          -9.480780601501465,
          -7.62472677230835,
          -10.023823738098145,
          -9.817606925964355,
          -7.747775554656982,
          -7.541553020477295,
          -10.077972412109375,
          -9.127037048339844,
          -1.174306869506836,
          -10.143789291381836,
          -11.776430130004883,
          -11.529747009277344,
          -8.022871017456055,
          -1.2776697874069214,
          -10.102228164672852,
          -9.79267406463623,
          -7.7534308433532715,
          -8.826951026916504,
          -10.006027221679688
         ],
         "yaxis": "y"
        },
        {
         "customdata": [
          [
           9,
           "Treated Waste Sink"
          ],
          [
           9,
           "Treated Wastewater Sink"
          ],
          [
           9,
           "Water Sink"
          ],
          [
           9,
           "Residual Solids Sink"
          ],
          [
           9,
           "Stillage Sink"
          ],
          [
           9,
           "Processed Stillage Sink"
          ],
          [
           9,
           "Degradation Products Sink"
          ],
          [
           9,
           "Waste Water Sink"
          ],
          [
           9,
           "Stillage Sink"
          ],
          [
           9,
           "Treated Effluent Sink"
          ],
          [
           9,
           "Stillage Sink"
          ],
          [
           9,
           "Treated Effluent Sink"
          ],
          [
           9,
           "Treated Waste Sink"
          ],
          [
           9,
           "Stillage Sink"
          ],
          [
           9,
           "Treated Effluent Sink"
          ],
          [
           9,
           "Treated Wastewater Sink"
          ],
          [
           9,
           "Animal Feed Sink"
          ],
          [
           9,
           "Treated Waste Sink"
          ],
          [
           9,
           "Acid-Containing Effluent Sink"
          ],
          [
           9,
           "Stillage Sink"
          ],
          [
           9,
           "Stillage Sink"
          ],
          [
           9,
           "Stillage Sink"
          ],
          [
           9,
           "Soluble Byproducts Sink"
          ],
          [
           9,
           "Stillage Sink"
          ],
          [
           9,
           "Treated Waste Sink"
          ],
          [
           9,
           "Treated Waste Sink"
          ],
          [
           9,
           "Treated Waste Sink"
          ],
          [
           9,
           "Stillage Sink"
          ],
          [
           9,
           "Waste Stream Sink"
          ],
          [
           9,
           "Treated Waste Sink"
          ],
          [
           9,
           "Water Vapor Sink"
          ],
          [
           9,
           "Waste Treatment Sink"
          ],
          [
           9,
           "Treated Wastewater Sink"
          ],
          [
           9,
           "Solid Residues Sink"
          ],
          [
           9,
           "Treated Waste Sink"
          ],
          [
           9,
           "Distillation Residue Sink"
          ],
          [
           9,
           "Stillage Sink"
          ],
          [
           9,
           "Wastewater Sink"
          ],
          [
           9,
           "Processed Stillage Sink"
          ],
          [
           9,
           "Solubilized Hemicellulose and Lignin Sink"
          ],
          [
           9,
           "Treated Effluent Sink"
          ],
          [
           9,
           "Distillation Bottoms Sink"
          ],
          [
           9,
           "Treated Waste Sink"
          ],
          [
           9,
           "Solubilized Hemicellulose Sink"
          ],
          [
           9,
           "Processed Waste Sink"
          ],
          [
           9,
           "Treated Waste Streams Sink"
          ],
          [
           9,
           "Waste Sink"
          ],
          [
           9,
           "Waste Disposal Sink"
          ],
          [
           9,
           "Distillation Bottoms Sink"
          ],
          [
           9,
           "Treated Waste Sink"
          ],
          [
           9,
           "Treated Waste Sink"
          ],
          [
           9,
           "Treated Water Sink"
          ],
          [
           9,
           "Residual Solids Sink"
          ],
          [
           9,
           "Treated Effluent Sink"
          ],
          [
           9,
           "Solid Residues Sink"
          ],
          [
           9,
           "Moisture Sink"
          ],
          [
           9,
           "Lignin-Rich Stream Sink"
          ],
          [
           9,
           "Treated Waste Sink"
          ],
          [
           9,
           "Distillation Bottoms Sink"
          ],
          [
           9,
           "Treated Effluent Sink"
          ],
          [
           9,
           "Treated Waste Sink"
          ],
          [
           9,
           "Treated Waste Sink"
          ],
          [
           9,
           "Recovered Lignin Sink"
          ],
          [
           9,
           "Stillage Sink"
          ],
          [
           9,
           "Treated Wastewater Sink"
          ],
          [
           9,
           "Animal Feed Sink"
          ],
          [
           9,
           "Stillage Sink"
          ],
          [
           9,
           "Pre-treatment Residue Sink"
          ],
          [
           9,
           "Treated Waste Sink"
          ],
          [
           9,
           "Treated Waste Sink"
          ],
          [
           9,
           "Treated Waste Sink"
          ],
          [
           9,
           "Animal Feed Sink"
          ],
          [
           9,
           "Processed Waste Sink"
          ],
          [
           9,
           "Animal Feed Additives Sink"
          ],
          [
           9,
           "Stillage Sink"
          ],
          [
           9,
           "Treated Waste Sink"
          ],
          [
           9,
           "Solid Waste Sink"
          ],
          [
           9,
           "Treated Waste Sink"
          ],
          [
           9,
           "Water Sink"
          ],
          [
           9,
           "Soluble Sugars Sink"
          ],
          [
           9,
           "Treated Effluent Sink"
          ],
          [
           9,
           "Stillage Sink"
          ],
          [
           9,
           "Treated Waste Sink"
          ],
          [
           9,
           "Soluble Degradation Products Sink"
          ],
          [
           9,
           "Wastewater Sink"
          ],
          [
           9,
           "Energy Recovery Sink"
          ],
          [
           9,
           "Treated Waste Sink"
          ],
          [
           9,
           "Recovered Energy Sink"
          ],
          [
           9,
           "Animal Feed Sink"
          ],
          [
           9,
           "Wastewater Sink"
          ],
          [
           9,
           "Solid Waste Sink"
          ],
          [
           9,
           "Treated Waste Sink"
          ],
          [
           9,
           "Lignin-Rich Stream Sink"
          ],
          [
           9,
           "Stillage Sink"
          ],
          [
           9,
           "Water Sink"
          ],
          [
           9,
           "Treated Effluent Sink"
          ],
          [
           9,
           "Treated Waste Sink"
          ],
          [
           9,
           "Treated Waste Sink"
          ],
          [
           9,
           "Treated Waste Streams Sink"
          ],
          [
           9,
           "Treated Effluent Sink"
          ],
          [
           9,
           "Treated Waste Sink"
          ],
          [
           9,
           "Treated Waste Sink"
          ],
          [
           9,
           "Treated Waste Sink"
          ],
          [
           9,
           "Digestate Sink"
          ],
          [
           9,
           "Treated Wastewater Sink"
          ],
          [
           9,
           "Treated Waste Sink"
          ],
          [
           9,
           "Pretreatment Effluent Sink"
          ],
          [
           9,
           "Recovered Water Sink"
          ],
          [
           9,
           "Solid By-products Sink"
          ],
          [
           9,
           "Processed Waste Sink"
          ],
          [
           9,
           "Treated Waste Sink"
          ],
          [
           9,
           "Treated Waste Sink"
          ],
          [
           9,
           "Processed Waste Sink"
          ],
          [
           9,
           "Distillation Bottoms Sink"
          ],
          [
           9,
           "Distillation Residue Sink"
          ],
          [
           9,
           "Pretreatment Effluent Sink"
          ],
          [
           9,
           "Treated Wastewater Sink"
          ],
          [
           9,
           "Animal Feed Sink"
          ],
          [
           9,
           "Acid Recovery Sink"
          ],
          [
           9,
           "Treated Waste Sink"
          ],
          [
           9,
           "Waste Sink"
          ],
          [
           9,
           "Byproduct Sink"
          ],
          [
           9,
           "Water Sink"
          ],
          [
           9,
           "Treated Waste Sink"
          ],
          [
           9,
           "Recovered By-products Sink"
          ],
          [
           9,
           "Wastewater Sink"
          ],
          [
           9,
           "Stillage Sink"
          ],
          [
           9,
           "Stillage Sink"
          ],
          [
           9,
           "Lignin-Rich Residue Sink"
          ],
          [
           9,
           "Treated Waste Sink"
          ],
          [
           9,
           "Treated Waste Sink"
          ],
          [
           9,
           "Water Sink"
          ],
          [
           9,
           "Treated Waste Sink"
          ],
          [
           9,
           "Treated Waste Sink"
          ],
          [
           9,
           "Wastewater Sink"
          ],
          [
           9,
           "Solid Residues Sink"
          ],
          [
           9,
           "Recovered Water Sink"
          ],
          [
           9,
           "Solid Residues Sink"
          ],
          [
           9,
           "Stillage Sink"
          ],
          [
           9,
           "Treated Waste Sink"
          ],
          [
           9,
           "Processed Waste Sink"
          ],
          [
           9,
           "Treated Waste Streams Sink"
          ],
          [
           9,
           "Acid Hydrolysate Sink"
          ],
          [
           9,
           "Lignin By-product Sink"
          ],
          [
           9,
           "Distillation Residue Sink"
          ],
          [
           9,
           "Treated Water Sink"
          ],
          [
           9,
           "Energy Recovery Sink"
          ],
          [
           9,
           "Treated Effluent Sink"
          ],
          [
           9,
           "Solid Residues Sink"
          ],
          [
           9,
           "Lignin-Rich Residue Sink"
          ]
         ],
         "hovertemplate": "Cluster=9<br>cluster=%{customdata[0]}<br>title=%{customdata[1]}<extra></extra>",
         "legendgroup": "9",
         "marker": {
          "color": "#B6E880",
          "symbol": "circle"
         },
         "mode": "markers",
         "name": "9",
         "showlegend": true,
         "type": "scattergl",
         "x": [
          9.795525550842285,
          9.171265602111816,
          7.919504642486572,
          9.894120216369629,
          7.0970659255981445,
          7.0741658210754395,
          10.296980857849121,
          7.784369945526123,
          6.970179557800293,
          10.699502944946289,
          7.042664051055908,
          10.650736808776855,
          9.911480903625488,
          7.020596027374268,
          10.640267372131348,
          9.148829460144043,
          7.36670446395874,
          9.86569595336914,
          10.400754928588867,
          7.020965099334717,
          7.061441898345947,
          6.998035430908203,
          10.184320449829102,
          6.9552083015441895,
          9.864601135253906,
          9.824779510498047,
          9.837054252624512,
          7.025765419006348,
          9.781707763671875,
          9.858647346496582,
          8.089897155761719,
          9.931525230407715,
          9.148240089416504,
          9.95986270904541,
          9.762890815734863,
          7.431721210479736,
          7.005732536315918,
          9.22591495513916,
          7.083339214324951,
          10.503756523132324,
          10.625411987304688,
          7.509545803070068,
          9.884696006774902,
          10.243638038635254,
          9.726766586303711,
          9.751535415649414,
          9.674619674682617,
          9.700494766235352,
          7.49168062210083,
          10.009543418884277,
          10.069668769836426,
          9.273120880126953,
          9.82856273651123,
          10.640951156616211,
          9.911699295043945,
          7.964190483093262,
          10.641366004943848,
          10.0838623046875,
          7.500307559967041,
          10.61684513092041,
          9.998427391052246,
          9.869730949401855,
          10.572868347167969,
          6.9611406326293945,
          9.16580867767334,
          7.335102558135986,
          6.980643272399902,
          10.563803672790527,
          9.795363426208496,
          10.014694213867188,
          10.021759986877441,
          7.348422050476074,
          9.758119583129883,
          7.374754905700684,
          7.068823337554932,
          9.825810432434082,
          9.875201225280762,
          9.760651588439941,
          8.05662727355957,
          10.22109603881836,
          10.656244277954102,
          6.981330871582031,
          9.695117950439453,
          10.313089370727539,
          9.29741382598877,
          10.325385093688965,
          9.778644561767578,
          10.353536605834961,
          7.301478862762451,
          9.214591979980469,
          9.85955810546875,
          9.81567096710205,
          10.59752368927002,
          7.007183074951172,
          7.907972812652588,
          10.628196716308594,
          9.929616928100586,
          9.97057819366455,
          9.764787673950195,
          10.64775562286377,
          9.794153213500977,
          10.01637077331543,
          10.028497695922852,
          9.423249244689941,
          9.173258781433105,
          9.870818138122559,
          10.453372955322266,
          8.196806907653809,
          9.998357772827148,
          9.740196228027344,
          9.959410667419434,
          9.95629596710205,
          9.741644859313965,
          7.4962239265441895,
          7.435353755950928,
          10.46135425567627,
          9.17127513885498,
          7.375157833099365,
          9.431923866271973,
          9.90263557434082,
          9.660667419433594,
          10.151666641235352,
          7.969951629638672,
          9.720544815063477,
          10.155268669128418,
          9.221064567565918,
          6.940759658813477,
          6.973292827606201,
          10.576001167297363,
          10.007217407226562,
          10.018757820129395,
          8.047218322753906,
          9.868461608886719,
          9.880319595336914,
          9.223899841308594,
          9.926753997802734,
          9.27167797088623,
          9.953063011169434,
          7.059039115905762,
          9.834381103515625,
          9.72085189819336,
          9.87105941772461,
          10.268778800964355,
          10.5298433303833,
          7.492681980133057,
          9.247570991516113,
          10.345403671264648,
          10.657207489013672,
          9.912103652954102,
          10.5888090133667
         ],
         "xaxis": "x",
         "y": [
          0.6308562159538269,
          0.4446309208869934,
          -1.0216878652572632,
          -0.21345475316047668,
          0.06309336423873901,
          0.23109115660190582,
          -1.1762144565582275,
          -1.0739456415176392,
          0.17060956358909607,
          -0.5503458976745605,
          0.1871323138475418,
          -0.47054532170295715,
          0.576194167137146,
          0.09346909075975418,
          -0.4506118893623352,
          0.4714711308479309,
          0.5208778381347656,
          0.7548900842666626,
          -0.706531822681427,
          0.08844829350709915,
          0.043817147612571716,
          0.14251761138439178,
          -1.1509664058685303,
          0.09644448757171631,
          0.7204920649528503,
          0.6896231174468994,
          0.7069370150566101,
          0.11127493530511856,
          -0.16559742391109467,
          0.8181958794593811,
          -1.3328206539154053,
          0.4088388681411743,
          0.45046043395996094,
          -0.43457427620887756,
          0.3750647306442261,
          -0.3955951929092407,
          0.19576288759708405,
          0.07785479724407196,
          0.16475795209407806,
          -1.3322020769119263,
          -0.5390220284461975,
          -0.5289818644523621,
          0.5138230323791504,
          -1.143198013305664,
          0.14694644510746002,
          0.4720275104045868,
          0.22952580451965332,
          0.5483356714248657,
          -0.5354642868041992,
          0.7320865988731384,
          0.8391208052635193,
          0.504753053188324,
          -0.23611687123775482,
          -0.5194552540779114,
          -0.36248961091041565,
          -1.2171283960342407,
          -1.382360577583313,
          0.829575777053833,
          -0.504991888999939,
          -0.5553309917449951,
          0.5643320083618164,
          0.39416471123695374,
          -1.5022656917572021,
          0.14666704833507538,
          0.43799689412117004,
          0.48258861899375916,
          0.14047843217849731,
          -1.2157195806503296,
          0.5114902853965759,
          0.8575201630592346,
          0.7651439905166626,
          0.5071908235549927,
          0.07946974039077759,
          0.5242644548416138,
          0.0493156760931015,
          0.7976939678192139,
          -0.12231180816888809,
          0.769688606262207,
          -1.0911861658096313,
          -1.1544793844223022,
          -0.5242849588394165,
          0.10945919901132584,
          0.6070756316184998,
          -1.183506727218628,
          0.07802601158618927,
          -1.6949642896652222,
          0.671135663986206,
          -1.712630033493042,
          0.4561219811439514,
          0.06871163845062256,
          -0.19811351597309113,
          0.6983944773674011,
          -1.3959599733352661,
          0.15148106217384338,
          -1.152918815612793,
          -0.5283931493759155,
          0.7238888740539551,
          0.5348135232925415,
          0.4422530233860016,
          -0.49866530299186707,
          0.6045631170272827,
          0.8229824304580688,
          0.8055369257926941,
          0.08925837278366089,
          0.4412454068660736,
          0.7348319888114929,
          -0.7520009875297546,
          -0.978152871131897,
          -0.5620815753936768,
          0.13638083636760712,
          0.733148455619812,
          0.8227310180664062,
          0.15591849386692047,
          -0.47631266713142395,
          -0.40296053886413574,
          -0.7152205109596252,
          0.4283105134963989,
          0.5222589373588562,
          -0.15374378859996796,
          0.6769137978553772,
          0.2607246935367584,
          -1.2714018821716309,
          -1.170128345489502,
          0.6726669073104858,
          -1.209204077720642,
          0.08531250804662704,
          0.09228497743606567,
          0.15311937034130096,
          -1.3616641759872437,
          0.5554695725440979,
          0.6114552021026611,
          -1.1894499063491821,
          0.6959843039512634,
          0.6940872669219971,
          0.08949213474988937,
          -0.35699760913848877,
          0.2901386320590973,
          -0.43171244859695435,
          0.1570127308368683,
          0.6757010817527771,
          0.14965444803237915,
          0.4539574980735779,
          -1.0259944200515747,
          -1.447566270828247,
          -0.411937952041626,
          0.48089712858200073,
          -1.6841721534729004,
          -0.5030897259712219,
          -0.381056547164917,
          -1.3360880613327026
         ],
         "yaxis": "y"
        },
        {
         "customdata": [
          [
           0,
           "Pretreatment Chemicals Source"
          ],
          [
           0,
           "Pretreatment Catalyst/Agent Source"
          ],
          [
           0,
           "Pretreatment Agent Source"
          ],
          [
           0,
           "Pretreatment By-products Sink"
          ],
          [
           0,
           "Pretreatment Agent Source"
          ],
          [
           0,
           "Dilute Acid or Steam Source"
          ],
          [
           0,
           "Acid Solution Source"
          ],
          [
           0,
           "Pretreatment Agent Source"
          ],
          [
           0,
           "Dilute Acid Solution Source"
          ],
          [
           0,
           "Dilute Acid Solution Source"
          ],
          [
           0,
           "Acid or Alkali Solution Source"
          ],
          [
           0,
           "Dilute Acid Solution Source"
          ],
          [
           0,
           "Dilute Acid Solution Source"
          ],
          [
           0,
           "Pretreatment Chemicals Source"
          ],
          [
           0,
           "Pretreatment Chemicals Source"
          ],
          [
           0,
           "Dilute Acid Solution Source"
          ],
          [
           0,
           "Chemical Pretreatment Agent Source"
          ],
          [
           0,
           "Chemical Pretreatment Agent Source"
          ],
          [
           0,
           "Chemical Solution Source"
          ],
          [
           0,
           "Acid or Steam Source"
          ],
          [
           0,
           "Pre-treatment Chemicals Source"
          ],
          [
           0,
           "Dilute Acid Solution Source"
          ],
          [
           0,
           "Dilute Acid Solution Source"
          ],
          [
           0,
           "Pretreatment"
          ],
          [
           0,
           "Chemical Agent Source"
          ],
          [
           0,
           "Pretreatment Chemicals Source"
          ],
          [
           0,
           "Dilute Acid Solution Source"
          ],
          [
           0,
           "Acid/Steam Source"
          ],
          [
           0,
           "Acid Solution Source"
          ],
          [
           0,
           "Steam Source"
          ],
          [
           0,
           "Dilute Acid Solution Source"
          ],
          [
           0,
           "Dilute Acid Solution Source"
          ],
          [
           0,
           "Dilute Acid Solution Source"
          ],
          [
           0,
           "Dilute Acid Solution Source"
          ],
          [
           0,
           "Pretreatment Agent Source"
          ],
          [
           0,
           "Dilute Acid Solution Source"
          ],
          [
           0,
           "Dilute Acid Solution Source"
          ],
          [
           0,
           "Dilute Acid Source"
          ],
          [
           0,
           "Pretreatment Chemicals Source"
          ],
          [
           0,
           "Dilute Acid Solution Source"
          ],
          [
           0,
           "Dilute Acid Solution Source"
          ],
          [
           0,
           "Dilute Acid Solution Source"
          ],
          [
           0,
           "Acid/Steam Source"
          ],
          [
           0,
           "Water and Acid Source"
          ],
          [
           0,
           "Dilute Acid Solution Source"
          ],
          [
           0,
           "Dilute Acid/Steam Source"
          ],
          [
           0,
           "Water/Acid or Steam Source"
          ],
          [
           0,
           "Acid or Steam Source"
          ],
          [
           0,
           "Pretreatment Reagents Source"
          ],
          [
           0,
           "Acid/Alkali Solution Source"
          ],
          [
           0,
           "Dilute Acid Solution Source"
          ],
          [
           0,
           "Dilute Acid Solution Source"
          ],
          [
           0,
           "Dilute Acid Solution Source"
          ],
          [
           0,
           "Acid/Steam Source"
          ],
          [
           0,
           "Acid or Steam Source"
          ],
          [
           0,
           "Dilute Acid Solution Source"
          ],
          [
           0,
           "Dilute Acid Solution Source"
          ],
          [
           0,
           "Dilute Acid Solution Source"
          ],
          [
           0,
           "Dilute Acid Solution Source"
          ],
          [
           0,
           "Dilute Acid Source"
          ],
          [
           0,
           "Dilute Acid Solution Source"
          ],
          [
           0,
           "Unconverted Biomass Source"
          ],
          [
           0,
           "Dilute Acid Solution Source"
          ],
          [
           0,
           "Acid/Steam Source"
          ],
          [
           0,
           "Dilute Acid Solution Source"
          ],
          [
           0,
           "Chemical Additives Source"
          ],
          [
           0,
           "Acid or Steam Source"
          ],
          [
           0,
           "Dilute Acid Solution Source"
          ],
          [
           0,
           "Acid or Steam Source"
          ],
          [
           0,
           "Chemical Solution Source"
          ],
          [
           0,
           "Dilute Acid Solution Source"
          ],
          [
           0,
           "Dilute Acid Solution Source"
          ],
          [
           0,
           "Acid/Steam Source"
          ],
          [
           0,
           "Dilute Acid Solution Source"
          ],
          [
           0,
           "Neutralization Agent Source"
          ],
          [
           0,
           "Pretreatment"
          ],
          [
           0,
           "Pretreatment Chemicals Source"
          ],
          [
           0,
           "Pretreatment Chemicals Source"
          ],
          [
           0,
           "Acid/Steam Source"
          ],
          [
           0,
           "Water or Acid Source"
          ],
          [
           0,
           "Solubilized Hemicellulose Sink"
          ],
          [
           0,
           "Pretreatment Chemicals Source"
          ],
          [
           0,
           "Dilute Acid Solution Source"
          ],
          [
           0,
           "Dilute Acid Solution Source"
          ],
          [
           0,
           "Pretreatment Chemicals Source"
          ],
          [
           0,
           "Dilute Acid Solution Source"
          ],
          [
           0,
           "Dilute Acid Solution Source"
          ],
          [
           0,
           "Acid/Steam Source"
          ],
          [
           0,
           "Pretreatment Chemicals Source"
          ],
          [
           0,
           "Dilute Acid Solution Source"
          ],
          [
           0,
           "By-products from Pretreatment Source"
          ],
          [
           0,
           "Dilute Acid Solution Source"
          ],
          [
           0,
           "Dilute Acid Solution Source"
          ],
          [
           0,
           "Dilute Acid Solution Source"
          ],
          [
           0,
           "Dilute Acid Solution Source"
          ],
          [
           0,
           "Dilute Acid Solution Source"
          ],
          [
           0,
           "Acid/Steam Source"
          ],
          [
           0,
           "Dilute Acid Source"
          ],
          [
           0,
           "Dilute Acid Solution Source"
          ],
          [
           0,
           "Chemical Agent Source"
          ],
          [
           0,
           "Acid or Steam Source"
          ],
          [
           0,
           "Acid or Steam Source"
          ],
          [
           0,
           "Dilute Acid Solution Source"
          ],
          [
           0,
           "Dilute Acid Source"
          ],
          [
           0,
           "Neutralizing Agent Source"
          ],
          [
           0,
           "Water Source"
          ],
          [
           0,
           "Acid or Alkaline Solution Source"
          ]
         ],
         "hovertemplate": "Cluster=0<br>cluster=%{customdata[0]}<br>title=%{customdata[1]}<extra></extra>",
         "legendgroup": "0",
         "marker": {
          "color": "#FF97FF",
          "symbol": "circle"
         },
         "mode": "markers",
         "name": "0",
         "showlegend": true,
         "type": "scattergl",
         "x": [
          11.213506698608398,
          11.193641662597656,
          11.230254173278809,
          10.225626945495605,
          11.251628875732422,
          12.532034873962402,
          10.79252815246582,
          11.261588096618652,
          11.917381286621094,
          10.834322929382324,
          11.822712898254395,
          12.038975715637207,
          12.00507926940918,
          11.153181076049805,
          11.161989212036133,
          10.9803466796875,
          11.223885536193848,
          11.316650390625,
          10.912692070007324,
          12.508359909057617,
          10.917778968811035,
          11.993200302124023,
          12.02048110961914,
          5.8185224533081055,
          11.404850006103516,
          11.17335319519043,
          10.838859558105469,
          12.600111961364746,
          11.998518943786621,
          12.658548355102539,
          10.960086822509766,
          10.901254653930664,
          12.001893043518066,
          10.961348533630371,
          11.25754451751709,
          11.95532512664795,
          11.934281349182129,
          11.83364200592041,
          11.14235782623291,
          11.896352767944336,
          10.893815040588379,
          11.907779693603516,
          12.607157707214355,
          12.319770812988281,
          12.056185722351074,
          12.5406494140625,
          12.580440521240234,
          12.630539894104004,
          11.057416915893555,
          10.916610717773438,
          12.012150764465332,
          11.011017799377441,
          11.983464241027832,
          12.590265274047852,
          12.564117431640625,
          10.914905548095703,
          10.833617210388184,
          11.004755973815918,
          10.847622871398926,
          11.83188533782959,
          10.917686462402344,
          15.48598861694336,
          10.864653587341309,
          12.573286056518555,
          11.874444961547852,
          11.274259567260742,
          12.52557373046875,
          11.877923965454102,
          12.620070457458496,
          10.876103401184082,
          11.896637916564941,
          11.984257698059082,
          12.614899635314941,
          10.861226081848145,
          11.781449317932129,
          5.806778430938721,
          11.096298217773438,
          11.165155410766602,
          12.571794509887695,
          12.486527442932129,
          10.287246704101562,
          10.993708610534668,
          10.809815406799316,
          12.014535903930664,
          11.199049949645996,
          10.880260467529297,
          12.057214736938477,
          12.535942077636719,
          11.011905670166016,
          11.98886489868164,
          11.233592987060547,
          10.907291412353516,
          10.85987377166748,
          10.861663818359375,
          12.027344703674316,
          11.997156143188477,
          12.586530685424805,
          11.75338077545166,
          10.97800350189209,
          11.626440048217773,
          12.542820930480957,
          12.60820484161377,
          10.9700345993042,
          11.155462265014648,
          11.777153968811035,
          12.569157600402832,
          11.849037170410156
         ],
         "xaxis": "x",
         "y": [
          11.131640434265137,
          11.132596969604492,
          11.113044738769531,
          -1.0620514154434204,
          11.135544776916504,
          11.119685173034668,
          9.79371452331543,
          11.10070514678955,
          10.270708084106445,
          9.758641242980957,
          10.567954063415527,
          10.122820854187012,
          10.129404067993164,
          11.166470527648926,
          11.177802085876465,
          9.753410339355469,
          11.123635292053223,
          11.062435150146484,
          10.0166597366333,
          11.084267616271973,
          11.02772045135498,
          10.15592098236084,
          10.106132507324219,
          12.68309497833252,
          10.969277381896973,
          11.20058536529541,
          9.846593856811523,
          11.174457550048828,
          10.502120018005371,
          11.215926170349121,
          9.853589057922363,
          9.816885948181152,
          10.123706817626953,
          9.83747386932373,
          11.128385543823242,
          10.215078353881836,
          10.305670738220215,
          10.302270889282227,
          11.173352241516113,
          10.263490676879883,
          9.789453506469727,
          10.330114364624023,
          11.171920776367188,
          10.905038833618164,
          10.077780723571777,
          11.106501579284668,
          11.153402328491211,
          11.186848640441895,
          11.107925415039062,
          9.936031341552734,
          10.142294883728027,
          9.829298973083496,
          10.14862060546875,
          11.147470474243164,
          11.12572956085205,
          9.820762634277344,
          9.834774017333984,
          9.85112190246582,
          9.805264472961426,
          10.372638702392578,
          9.878273963928223,
          7.961708068847656,
          9.826801300048828,
          11.134269714355469,
          10.253897666931152,
          11.12693977355957,
          11.100384712219238,
          10.252197265625,
          11.160776138305664,
          10.197372436523438,
          10.26226806640625,
          10.165853500366211,
          11.161210060119629,
          9.848442077636719,
          10.542247772216797,
          12.765825271606445,
          11.1372652053833,
          11.154861450195312,
          11.138486862182617,
          11.05552864074707,
          -1.139204740524292,
          11.054635047912598,
          9.72983169555664,
          10.137533187866211,
          11.165711402893066,
          9.862885475158691,
          10.098888397216797,
          11.09795093536377,
          11.059470176696777,
          10.171775817871094,
          11.165701866149902,
          9.857003211975098,
          9.83178424835205,
          9.799917221069336,
          10.124755859375,
          10.147929191589355,
          11.130855560302734,
          10.279376029968262,
          9.852399826049805,
          10.804091453552246,
          11.104816436767578,
          11.146682739257812,
          9.810381889343262,
          9.925893783569336,
          10.665541648864746,
          11.126838684082031,
          10.597718238830566
         ],
         "yaxis": "y"
        },
        {
         "customdata": [
          [
           6,
           "Off-gases Sink"
          ],
          [
           6,
           "Carbon Dioxide Sink"
          ],
          [
           6,
           "Biogas Sink"
          ],
          [
           6,
           "Waste Gas Sink"
          ],
          [
           6,
           "Carbon Dioxide Sink"
          ],
          [
           6,
           "Biogas Sink"
          ],
          [
           6,
           "Carbon Dioxide Sink"
          ],
          [
           6,
           "Off-Gas Sink"
          ],
          [
           6,
           "Carbon Dioxide Sink"
          ],
          [
           6,
           "Biogas Sink"
          ],
          [
           6,
           "Carbon Dioxide Sink"
          ],
          [
           6,
           "Biogas Sink"
          ],
          [
           6,
           "Carbon Dioxide Sink"
          ],
          [
           6,
           "Carbon Dioxide Sink"
          ],
          [
           6,
           "Carbon Dioxide Sink"
          ],
          [
           6,
           "Carbon Dioxide Sink"
          ],
          [
           6,
           "Carbon Dioxide Sink"
          ],
          [
           6,
           "Gaseous Emissions Sink"
          ],
          [
           6,
           "Waste Gas Treatment Sink"
          ],
          [
           6,
           "Carbon Dioxide Sink"
          ],
          [
           6,
           "Energy Sink"
          ],
          [
           6,
           "Biogas Sink"
          ],
          [
           6,
           "Carbon Dioxide Gas Sink"
          ],
          [
           6,
           "Carbon Dioxide Sink"
          ],
          [
           6,
           "Biogas Sink"
          ],
          [
           6,
           "Biogas Sink"
          ],
          [
           6,
           "Byproduct Gases Sink"
          ],
          [
           6,
           "Carbon Dioxide Source"
          ],
          [
           6,
           "Carbon Dioxide Sink"
          ],
          [
           6,
           "Carbon Dioxide Sink"
          ],
          [
           6,
           "Carbon Dioxide Sink"
          ],
          [
           6,
           "Carbon Dioxide Sink"
          ],
          [
           6,
           "Carbon Dioxide Sink"
          ],
          [
           6,
           "Recovered By-products Sink"
          ],
          [
           6,
           "Carbon Dioxide Source"
          ],
          [
           6,
           "Carbon Dioxide Sink"
          ],
          [
           6,
           "Carbon Dioxide Sink"
          ],
          [
           6,
           "Carbon Dioxide Source"
          ],
          [
           6,
           "Biogas Sink"
          ],
          [
           6,
           "Carbon Dioxide Sink"
          ],
          [
           6,
           "Boiler Flue Gas Sink"
          ],
          [
           6,
           "Byproduct Gases Sink"
          ],
          [
           6,
           "Carbon Dioxide Sink"
          ],
          [
           6,
           "Gaseous Emissions Sink"
          ],
          [
           6,
           "Carbon Dioxide Sink"
          ],
          [
           6,
           "Biogas Sink"
          ],
          [
           6,
           "Water Vapor Sink"
          ],
          [
           6,
           "Byproduct Gases Sink"
          ],
          [
           6,
           "Carbon Dioxide Sink"
          ],
          [
           6,
           "Gaseous Emissions Sink"
          ],
          [
           6,
           "Carbon Dioxide Sink"
          ],
          [
           6,
           "Biogas Sink"
          ],
          [
           6,
           "Off-gas Sink"
          ],
          [
           6,
           "Biogas Sink"
          ],
          [
           6,
           "Carbon Dioxide Sink"
          ],
          [
           6,
           "Biogas Sink"
          ],
          [
           6,
           "Carbon Dioxide Gas Sink"
          ],
          [
           6,
           "Biogas Sink"
          ],
          [
           6,
           "Carbon Dioxide Sink"
          ],
          [
           6,
           "Off-gas Sink"
          ],
          [
           6,
           "Pretreatment Off-gas Sink"
          ],
          [
           6,
           "Carbon Dioxide Sink"
          ],
          [
           6,
           "Off-Gas Treatment Sink"
          ],
          [
           6,
           "Byproduct Gases Sink"
          ],
          [
           6,
           "Byproduct Gas Sink"
          ],
          [
           6,
           "Byproduct Gas Emissions Sink"
          ],
          [
           6,
           "Carbon Dioxide Sink"
          ],
          [
           6,
           "Pretreatment Off-gas Sink"
          ],
          [
           6,
           "Carbon Dioxide Sink"
          ],
          [
           6,
           "Biogas Sink"
          ],
          [
           6,
           "Carbon Dioxide Sink"
          ],
          [
           6,
           "Carbon Dioxide Sink"
          ],
          [
           6,
           "Carbon Dioxide Sink"
          ],
          [
           6,
           "Carbon Dioxide Source"
          ],
          [
           6,
           "Carbon Dioxide Sink"
          ],
          [
           6,
           "Carbon Dioxide Sink"
          ],
          [
           6,
           "Carbon Dioxide Sink"
          ],
          [
           6,
           "Carbon Dioxide Sink"
          ],
          [
           6,
           "Biogas Sink"
          ],
          [
           6,
           "Carbon Dioxide Sink"
          ],
          [
           6,
           "Carbon Dioxide Sink"
          ],
          [
           6,
           "Carbon Dioxide Sink"
          ],
          [
           6,
           "Carbon Dioxide Sink"
          ],
          [
           6,
           "Non-condensable Gases Sink"
          ],
          [
           6,
           "Carbon Dioxide Sink"
          ]
         ],
         "hovertemplate": "Cluster=6<br>cluster=%{customdata[0]}<br>title=%{customdata[1]}<extra></extra>",
         "legendgroup": "6",
         "marker": {
          "color": "#FECB52",
          "symbol": "circle"
         },
         "mode": "markers",
         "name": "6",
         "showlegend": true,
         "type": "scattergl",
         "x": [
          8.882739067077637,
          1.2485640048980713,
          8.679330825805664,
          8.902318954467773,
          1.37957763671875,
          8.684369087219238,
          1.6304384469985962,
          8.913554191589355,
          1.6524450778961182,
          8.700261116027832,
          1.3039772510528564,
          8.658568382263184,
          1.6486966609954834,
          1.7211496829986572,
          1.454973578453064,
          1.6231919527053833,
          1.2831239700317383,
          8.947750091552734,
          9.002500534057617,
          1.2593952417373657,
          10.380979537963867,
          8.736885070800781,
          1.676292896270752,
          1.638711929321289,
          8.694158554077148,
          8.734827041625977,
          9.033865928649902,
          1.720672369003296,
          1.4026083946228027,
          1.5530550479888916,
          1.235671043395996,
          1.54936945438385,
          1.282610535621643,
          10.303297996520996,
          1.74690842628479,
          1.7016600370407104,
          1.4078155755996704,
          1.6813346147537231,
          8.67247486114502,
          1.7179659605026245,
          8.87463092803955,
          9.04942798614502,
          1.3368887901306152,
          8.911503791809082,
          1.6657629013061523,
          8.690796852111816,
          8.047054290771484,
          9.070758819580078,
          1.672206163406372,
          8.874741554260254,
          1.2828954458236694,
          8.670451164245605,
          8.935362815856934,
          8.669051170349121,
          1.5466340780258179,
          8.687236785888672,
          1.6950032711029053,
          8.762149810791016,
          1.5584959983825684,
          8.929346084594727,
          8.966323852539062,
          1.2695097923278809,
          8.968927383422852,
          9.056121826171875,
          9.043974876403809,
          9.030240058898926,
          1.5810270309448242,
          8.946035385131836,
          1.230373740196228,
          8.69502067565918,
          1.477873682975769,
          1.4580742120742798,
          1.6049679517745972,
          1.7075374126434326,
          1.6625102758407593,
          1.2924305200576782,
          1.2395048141479492,
          1.2633240222930908,
          8.68044376373291,
          1.2698769569396973,
          1.2779645919799805,
          1.6498641967773438,
          1.2708001136779785,
          8.86705493927002,
          1.3417836427688599
         ],
         "xaxis": "x",
         "y": [
          -2.5837314128875732,
          0.4941916763782501,
          -3.3066298961639404,
          -2.5942726135253906,
          0.19107085466384888,
          -3.3022098541259766,
          0.3232162296772003,
          -2.55159068107605,
          0.3624404966831207,
          -3.293253183364868,
          0.45604270696640015,
          -3.335491418838501,
          0.2276841551065445,
          0.24008555710315704,
          0.4625653326511383,
          0.3116326928138733,
          0.365033358335495,
          -2.5420169830322266,
          -2.442474126815796,
          0.40211793780326843,
          -1.6756688356399536,
          -3.2428829669952393,
          0.3009370267391205,
          0.2800615727901459,
          -3.2872471809387207,
          -3.252739667892456,
          -2.4093503952026367,
          0.3380908668041229,
          0.08652248233556747,
          0.2536412477493286,
          0.45984604954719543,
          0.42391127347946167,
          0.17447656393051147,
          -1.3290685415267944,
          0.4057610034942627,
          0.24017643928527832,
          0.43504655361175537,
          0.3446391522884369,
          -3.3135523796081543,
          0.2611946165561676,
          -2.556750774383545,
          -2.387356996536255,
          0.16361196339130402,
          -2.5563766956329346,
          0.29402080178260803,
          -3.2798173427581787,
          -1.3312844038009644,
          -2.3534910678863525,
          0.2837335765361786,
          -2.653423309326172,
          0.13446106016635895,
          -3.3116700649261475,
          -2.5349888801574707,
          -3.3163509368896484,
          0.2813695967197418,
          -3.294034719467163,
          0.23656943440437317,
          -3.2029502391815186,
          0.18810617923736572,
          -2.528820753097534,
          -2.4790918827056885,
          0.4831598401069641,
          -2.4880270957946777,
          -2.3827621936798096,
          -2.3988120555877686,
          -2.419600248336792,
          0.2762061655521393,
          -2.4861056804656982,
          0.052806973457336426,
          -3.286510705947876,
          0.24601060152053833,
          0.17339017987251282,
          0.26786819100379944,
          0.3531886041164398,
          0.27157309651374817,
          0.24569502472877502,
          0.0910705104470253,
          0.4520606994628906,
          -3.2766013145446777,
          0.43583938479423523,
          0.4211008846759796,
          0.2896094024181366,
          0.47264084219932556,
          -2.5840775966644287,
          0.16818073391914368
         ],
         "yaxis": "y"
        },
        {
         "marker": {
          "color": "black",
          "size": 12,
          "symbol": "star"
         },
         "mode": "markers+text",
         "showlegend": false,
         "text": [
          "Cluster 0: Pretreatment Chemicals Source"
         ],
         "textposition": "top center",
         "type": "scatter",
         "x": [
          11.213506698608398
         ],
         "y": [
          11.131640434265137
         ]
        },
        {
         "marker": {
          "color": "black",
          "size": 12,
          "symbol": "star"
         },
         "mode": "markers+text",
         "showlegend": false,
         "text": [
          "Cluster 1: Fuel-Grade Ethanol Sink"
         ],
         "textposition": "top center",
         "type": "scatter",
         "x": [
          2.756197690963745
         ],
         "y": [
          -8.08303165435791
         ]
        },
        {
         "marker": {
          "color": "black",
          "size": 12,
          "symbol": "star"
         },
         "mode": "markers+text",
         "showlegend": false,
         "text": [
          "Cluster 2: Feedstock Handling"
         ],
         "textposition": "top center",
         "type": "scatter",
         "x": [
          5.485927104949951
         ],
         "y": [
          20.443023681640625
         ]
        },
        {
         "marker": {
          "color": "black",
          "size": 12,
          "symbol": "star"
         },
         "mode": "markers+text",
         "showlegend": false,
         "text": [
          "Cluster 3: Fermentation"
         ],
         "textposition": "top center",
         "type": "scatter",
         "x": [
          -0.3146112859249115
         ],
         "y": [
          19.145116806030273
         ]
        },
        {
         "marker": {
          "color": "black",
          "size": 12,
          "symbol": "star"
         },
         "mode": "markers+text",
         "showlegend": false,
         "text": [
          "Cluster 4: Corn Stover Feedstock Source"
         ],
         "textposition": "top center",
         "type": "scatter",
         "x": [
          15.543631553649902
         ],
         "y": [
          22.49249267578125
         ]
        },
        {
         "marker": {
          "color": "black",
          "size": 12,
          "symbol": "star"
         },
         "mode": "markers+text",
         "showlegend": false,
         "text": [
          "Cluster 5: Enzymatic Hydrolysis"
         ],
         "textposition": "top center",
         "type": "scatter",
         "x": [
          27.759910583496094
         ],
         "y": [
          6.362771034240723
         ]
        },
        {
         "marker": {
          "color": "black",
          "size": 12,
          "symbol": "star"
         },
         "mode": "markers+text",
         "showlegend": false,
         "text": [
          "Cluster 6: Off-gases Sink"
         ],
         "textposition": "top center",
         "type": "scatter",
         "x": [
          8.882739067077637
         ],
         "y": [
          -2.5837314128875732
         ]
        },
        {
         "marker": {
          "color": "black",
          "size": 12,
          "symbol": "star"
         },
         "mode": "markers+text",
         "showlegend": false,
         "text": [
          "Cluster 7: Waste Treatment"
         ],
         "textposition": "top center",
         "type": "scatter",
         "x": [
          16.316736221313477
         ],
         "y": [
          3.31494140625
         ]
        },
        {
         "marker": {
          "color": "black",
          "size": 12,
          "symbol": "star"
         },
         "mode": "markers+text",
         "showlegend": false,
         "text": [
          "Cluster 8: Distillation"
         ],
         "textposition": "top center",
         "type": "scatter",
         "x": [
          -6.821755886077881
         ],
         "y": [
          6.609377861022949
         ]
        },
        {
         "marker": {
          "color": "black",
          "size": 12,
          "symbol": "star"
         },
         "mode": "markers+text",
         "showlegend": false,
         "text": [
          "Cluster 9: Treated Waste Sink"
         ],
         "textposition": "top center",
         "type": "scatter",
         "x": [
          9.795525550842285
         ],
         "y": [
          0.6308562159538269
         ]
        }
       ],
       "layout": {
        "height": 700,
        "legend": {
         "font": {
          "size": 12
         },
         "itemsizing": "constant",
         "title": {
          "font": {
           "size": 14
          },
          "text": "Cluster"
         },
         "tracegroupgap": 0
        },
        "shapes": [
         {
          "line": {
           "color": "Red",
           "width": 2
          },
          "name": "Radius 0",
          "opacity": 0.2,
          "type": "circle",
          "x0": 10.271744310855865,
          "x1": 12.797145307064056,
          "xref": "x",
          "y0": 9.066081583499908,
          "y1": 11.5914825797081,
          "yref": "y"
         },
         {
          "line": {
           "color": "Red",
           "width": 2
          },
          "name": "Radius 1",
          "opacity": 0.2,
          "type": "circle",
          "x0": -2.8253374099731445,
          "x1": 12.843659400939941,
          "xref": "x",
          "y0": -15.806161880493164,
          "y1": -0.13716506958007812,
          "yref": "y"
         },
         {
          "line": {
           "color": "Red",
           "width": 2
          },
          "name": "Radius 2",
          "opacity": 0.2,
          "type": "circle",
          "x0": 1.7620458602905273,
          "x1": 9.595390319824219,
          "xref": "x",
          "y0": 12.04293966293335,
          "y1": 19.87628412246704,
          "yref": "y"
         },
         {
          "line": {
           "color": "Red",
           "width": 2
          },
          "name": "Radius 3",
          "opacity": 0.2,
          "type": "circle",
          "x0": -7.866766929626465,
          "x1": 23.910405158996582,
          "xref": "x",
          "y0": -5.320639610290527,
          "y1": 26.45653247833252,
          "yref": "y"
         },
         {
          "line": {
           "color": "Red",
           "width": 2
          },
          "name": "Radius 4",
          "opacity": 0.2,
          "type": "circle",
          "x0": 14.225291699171066,
          "x1": 15.720083743333817,
          "xref": "x",
          "y0": 21.977568119764328,
          "y1": 23.47236016392708,
          "yref": "y"
         },
         {
          "line": {
           "color": "Red",
           "width": 2
          },
          "name": "Radius 5",
          "opacity": 0.2,
          "type": "circle",
          "x0": 1.7566328048706055,
          "x1": 29.26319980621338,
          "xref": "x",
          "y0": -8.499981880187988,
          "y1": 19.006585121154785,
          "yref": "y"
         },
         {
          "line": {
           "color": "Red",
           "width": 2
          },
          "name": "Radius 6",
          "opacity": 0.2,
          "type": "circle",
          "x0": 0.01064443588256836,
          "x1": 9.594769954681396,
          "xref": "x",
          "y0": -5.844396948814392,
          "y1": 3.739728569984436,
          "yref": "y"
         },
         {
          "line": {
           "color": "Red",
           "width": 2
          },
          "name": "Radius 7",
          "opacity": 0.2,
          "type": "circle",
          "x0": 9.949162319302559,
          "x1": 19.724023029208183,
          "xref": "x",
          "y0": -0.6829983443021774,
          "y1": 9.091862365603447,
          "yref": "y"
         },
         {
          "line": {
           "color": "Red",
           "width": 2
          },
          "name": "Radius 8",
          "opacity": 0.2,
          "type": "circle",
          "x0": -11.857203841209412,
          "x1": 3.3390878438949585,
          "xref": "x",
          "y0": -6.3804895877838135,
          "y1": 8.815802097320557,
          "yref": "y"
         },
         {
          "line": {
           "color": "Red",
           "width": 2
          },
          "name": "Radius 9",
          "opacity": 0.2,
          "type": "circle",
          "x0": 7.003749698400497,
          "x1": 11.446777492761612,
          "xref": "x",
          "y0": -2.2954043224453926,
          "y1": 2.147623471915722,
          "yref": "y"
         }
        ],
        "template": {
         "data": {
          "bar": [
           {
            "error_x": {
             "color": "#2a3f5f"
            },
            "error_y": {
             "color": "#2a3f5f"
            },
            "marker": {
             "line": {
              "color": "#E5ECF6",
              "width": 0.5
             },
             "pattern": {
              "fillmode": "overlay",
              "size": 10,
              "solidity": 0.2
             }
            },
            "type": "bar"
           }
          ],
          "barpolar": [
           {
            "marker": {
             "line": {
              "color": "#E5ECF6",
              "width": 0.5
             },
             "pattern": {
              "fillmode": "overlay",
              "size": 10,
              "solidity": 0.2
             }
            },
            "type": "barpolar"
           }
          ],
          "carpet": [
           {
            "aaxis": {
             "endlinecolor": "#2a3f5f",
             "gridcolor": "white",
             "linecolor": "white",
             "minorgridcolor": "white",
             "startlinecolor": "#2a3f5f"
            },
            "baxis": {
             "endlinecolor": "#2a3f5f",
             "gridcolor": "white",
             "linecolor": "white",
             "minorgridcolor": "white",
             "startlinecolor": "#2a3f5f"
            },
            "type": "carpet"
           }
          ],
          "choropleth": [
           {
            "colorbar": {
             "outlinewidth": 0,
             "ticks": ""
            },
            "type": "choropleth"
           }
          ],
          "contour": [
           {
            "colorbar": {
             "outlinewidth": 0,
             "ticks": ""
            },
            "colorscale": [
             [
              0,
              "#0d0887"
             ],
             [
              0.1111111111111111,
              "#46039f"
             ],
             [
              0.2222222222222222,
              "#7201a8"
             ],
             [
              0.3333333333333333,
              "#9c179e"
             ],
             [
              0.4444444444444444,
              "#bd3786"
             ],
             [
              0.5555555555555556,
              "#d8576b"
             ],
             [
              0.6666666666666666,
              "#ed7953"
             ],
             [
              0.7777777777777778,
              "#fb9f3a"
             ],
             [
              0.8888888888888888,
              "#fdca26"
             ],
             [
              1,
              "#f0f921"
             ]
            ],
            "type": "contour"
           }
          ],
          "contourcarpet": [
           {
            "colorbar": {
             "outlinewidth": 0,
             "ticks": ""
            },
            "type": "contourcarpet"
           }
          ],
          "heatmap": [
           {
            "colorbar": {
             "outlinewidth": 0,
             "ticks": ""
            },
            "colorscale": [
             [
              0,
              "#0d0887"
             ],
             [
              0.1111111111111111,
              "#46039f"
             ],
             [
              0.2222222222222222,
              "#7201a8"
             ],
             [
              0.3333333333333333,
              "#9c179e"
             ],
             [
              0.4444444444444444,
              "#bd3786"
             ],
             [
              0.5555555555555556,
              "#d8576b"
             ],
             [
              0.6666666666666666,
              "#ed7953"
             ],
             [
              0.7777777777777778,
              "#fb9f3a"
             ],
             [
              0.8888888888888888,
              "#fdca26"
             ],
             [
              1,
              "#f0f921"
             ]
            ],
            "type": "heatmap"
           }
          ],
          "heatmapgl": [
           {
            "colorbar": {
             "outlinewidth": 0,
             "ticks": ""
            },
            "colorscale": [
             [
              0,
              "#0d0887"
             ],
             [
              0.1111111111111111,
              "#46039f"
             ],
             [
              0.2222222222222222,
              "#7201a8"
             ],
             [
              0.3333333333333333,
              "#9c179e"
             ],
             [
              0.4444444444444444,
              "#bd3786"
             ],
             [
              0.5555555555555556,
              "#d8576b"
             ],
             [
              0.6666666666666666,
              "#ed7953"
             ],
             [
              0.7777777777777778,
              "#fb9f3a"
             ],
             [
              0.8888888888888888,
              "#fdca26"
             ],
             [
              1,
              "#f0f921"
             ]
            ],
            "type": "heatmapgl"
           }
          ],
          "histogram": [
           {
            "marker": {
             "pattern": {
              "fillmode": "overlay",
              "size": 10,
              "solidity": 0.2
             }
            },
            "type": "histogram"
           }
          ],
          "histogram2d": [
           {
            "colorbar": {
             "outlinewidth": 0,
             "ticks": ""
            },
            "colorscale": [
             [
              0,
              "#0d0887"
             ],
             [
              0.1111111111111111,
              "#46039f"
             ],
             [
              0.2222222222222222,
              "#7201a8"
             ],
             [
              0.3333333333333333,
              "#9c179e"
             ],
             [
              0.4444444444444444,
              "#bd3786"
             ],
             [
              0.5555555555555556,
              "#d8576b"
             ],
             [
              0.6666666666666666,
              "#ed7953"
             ],
             [
              0.7777777777777778,
              "#fb9f3a"
             ],
             [
              0.8888888888888888,
              "#fdca26"
             ],
             [
              1,
              "#f0f921"
             ]
            ],
            "type": "histogram2d"
           }
          ],
          "histogram2dcontour": [
           {
            "colorbar": {
             "outlinewidth": 0,
             "ticks": ""
            },
            "colorscale": [
             [
              0,
              "#0d0887"
             ],
             [
              0.1111111111111111,
              "#46039f"
             ],
             [
              0.2222222222222222,
              "#7201a8"
             ],
             [
              0.3333333333333333,
              "#9c179e"
             ],
             [
              0.4444444444444444,
              "#bd3786"
             ],
             [
              0.5555555555555556,
              "#d8576b"
             ],
             [
              0.6666666666666666,
              "#ed7953"
             ],
             [
              0.7777777777777778,
              "#fb9f3a"
             ],
             [
              0.8888888888888888,
              "#fdca26"
             ],
             [
              1,
              "#f0f921"
             ]
            ],
            "type": "histogram2dcontour"
           }
          ],
          "mesh3d": [
           {
            "colorbar": {
             "outlinewidth": 0,
             "ticks": ""
            },
            "type": "mesh3d"
           }
          ],
          "parcoords": [
           {
            "line": {
             "colorbar": {
              "outlinewidth": 0,
              "ticks": ""
             }
            },
            "type": "parcoords"
           }
          ],
          "pie": [
           {
            "automargin": true,
            "type": "pie"
           }
          ],
          "scatter": [
           {
            "fillpattern": {
             "fillmode": "overlay",
             "size": 10,
             "solidity": 0.2
            },
            "type": "scatter"
           }
          ],
          "scatter3d": [
           {
            "line": {
             "colorbar": {
              "outlinewidth": 0,
              "ticks": ""
             }
            },
            "marker": {
             "colorbar": {
              "outlinewidth": 0,
              "ticks": ""
             }
            },
            "type": "scatter3d"
           }
          ],
          "scattercarpet": [
           {
            "marker": {
             "colorbar": {
              "outlinewidth": 0,
              "ticks": ""
             }
            },
            "type": "scattercarpet"
           }
          ],
          "scattergeo": [
           {
            "marker": {
             "colorbar": {
              "outlinewidth": 0,
              "ticks": ""
             }
            },
            "type": "scattergeo"
           }
          ],
          "scattergl": [
           {
            "marker": {
             "colorbar": {
              "outlinewidth": 0,
              "ticks": ""
             }
            },
            "type": "scattergl"
           }
          ],
          "scattermapbox": [
           {
            "marker": {
             "colorbar": {
              "outlinewidth": 0,
              "ticks": ""
             }
            },
            "type": "scattermapbox"
           }
          ],
          "scatterpolar": [
           {
            "marker": {
             "colorbar": {
              "outlinewidth": 0,
              "ticks": ""
             }
            },
            "type": "scatterpolar"
           }
          ],
          "scatterpolargl": [
           {
            "marker": {
             "colorbar": {
              "outlinewidth": 0,
              "ticks": ""
             }
            },
            "type": "scatterpolargl"
           }
          ],
          "scatterternary": [
           {
            "marker": {
             "colorbar": {
              "outlinewidth": 0,
              "ticks": ""
             }
            },
            "type": "scatterternary"
           }
          ],
          "surface": [
           {
            "colorbar": {
             "outlinewidth": 0,
             "ticks": ""
            },
            "colorscale": [
             [
              0,
              "#0d0887"
             ],
             [
              0.1111111111111111,
              "#46039f"
             ],
             [
              0.2222222222222222,
              "#7201a8"
             ],
             [
              0.3333333333333333,
              "#9c179e"
             ],
             [
              0.4444444444444444,
              "#bd3786"
             ],
             [
              0.5555555555555556,
              "#d8576b"
             ],
             [
              0.6666666666666666,
              "#ed7953"
             ],
             [
              0.7777777777777778,
              "#fb9f3a"
             ],
             [
              0.8888888888888888,
              "#fdca26"
             ],
             [
              1,
              "#f0f921"
             ]
            ],
            "type": "surface"
           }
          ],
          "table": [
           {
            "cells": {
             "fill": {
              "color": "#EBF0F8"
             },
             "line": {
              "color": "white"
             }
            },
            "header": {
             "fill": {
              "color": "#C8D4E3"
             },
             "line": {
              "color": "white"
             }
            },
            "type": "table"
           }
          ]
         },
         "layout": {
          "annotationdefaults": {
           "arrowcolor": "#2a3f5f",
           "arrowhead": 0,
           "arrowwidth": 1
          },
          "autotypenumbers": "strict",
          "coloraxis": {
           "colorbar": {
            "outlinewidth": 0,
            "ticks": ""
           }
          },
          "colorscale": {
           "diverging": [
            [
             0,
             "#8e0152"
            ],
            [
             0.1,
             "#c51b7d"
            ],
            [
             0.2,
             "#de77ae"
            ],
            [
             0.3,
             "#f1b6da"
            ],
            [
             0.4,
             "#fde0ef"
            ],
            [
             0.5,
             "#f7f7f7"
            ],
            [
             0.6,
             "#e6f5d0"
            ],
            [
             0.7,
             "#b8e186"
            ],
            [
             0.8,
             "#7fbc41"
            ],
            [
             0.9,
             "#4d9221"
            ],
            [
             1,
             "#276419"
            ]
           ],
           "sequential": [
            [
             0,
             "#0d0887"
            ],
            [
             0.1111111111111111,
             "#46039f"
            ],
            [
             0.2222222222222222,
             "#7201a8"
            ],
            [
             0.3333333333333333,
             "#9c179e"
            ],
            [
             0.4444444444444444,
             "#bd3786"
            ],
            [
             0.5555555555555556,
             "#d8576b"
            ],
            [
             0.6666666666666666,
             "#ed7953"
            ],
            [
             0.7777777777777778,
             "#fb9f3a"
            ],
            [
             0.8888888888888888,
             "#fdca26"
            ],
            [
             1,
             "#f0f921"
            ]
           ],
           "sequentialminus": [
            [
             0,
             "#0d0887"
            ],
            [
             0.1111111111111111,
             "#46039f"
            ],
            [
             0.2222222222222222,
             "#7201a8"
            ],
            [
             0.3333333333333333,
             "#9c179e"
            ],
            [
             0.4444444444444444,
             "#bd3786"
            ],
            [
             0.5555555555555556,
             "#d8576b"
            ],
            [
             0.6666666666666666,
             "#ed7953"
            ],
            [
             0.7777777777777778,
             "#fb9f3a"
            ],
            [
             0.8888888888888888,
             "#fdca26"
            ],
            [
             1,
             "#f0f921"
            ]
           ]
          },
          "colorway": [
           "#636efa",
           "#EF553B",
           "#00cc96",
           "#ab63fa",
           "#FFA15A",
           "#19d3f3",
           "#FF6692",
           "#B6E880",
           "#FF97FF",
           "#FECB52"
          ],
          "font": {
           "color": "#2a3f5f"
          },
          "geo": {
           "bgcolor": "white",
           "lakecolor": "white",
           "landcolor": "#E5ECF6",
           "showlakes": true,
           "showland": true,
           "subunitcolor": "white"
          },
          "hoverlabel": {
           "align": "left"
          },
          "hovermode": "closest",
          "mapbox": {
           "style": "light"
          },
          "paper_bgcolor": "white",
          "plot_bgcolor": "#E5ECF6",
          "polar": {
           "angularaxis": {
            "gridcolor": "white",
            "linecolor": "white",
            "ticks": ""
           },
           "bgcolor": "#E5ECF6",
           "radialaxis": {
            "gridcolor": "white",
            "linecolor": "white",
            "ticks": ""
           }
          },
          "scene": {
           "xaxis": {
            "backgroundcolor": "#E5ECF6",
            "gridcolor": "white",
            "gridwidth": 2,
            "linecolor": "white",
            "showbackground": true,
            "ticks": "",
            "zerolinecolor": "white"
           },
           "yaxis": {
            "backgroundcolor": "#E5ECF6",
            "gridcolor": "white",
            "gridwidth": 2,
            "linecolor": "white",
            "showbackground": true,
            "ticks": "",
            "zerolinecolor": "white"
           },
           "zaxis": {
            "backgroundcolor": "#E5ECF6",
            "gridcolor": "white",
            "gridwidth": 2,
            "linecolor": "white",
            "showbackground": true,
            "ticks": "",
            "zerolinecolor": "white"
           }
          },
          "shapedefaults": {
           "line": {
            "color": "#2a3f5f"
           }
          },
          "ternary": {
           "aaxis": {
            "gridcolor": "white",
            "linecolor": "white",
            "ticks": ""
           },
           "baxis": {
            "gridcolor": "white",
            "linecolor": "white",
            "ticks": ""
           },
           "bgcolor": "#E5ECF6",
           "caxis": {
            "gridcolor": "white",
            "linecolor": "white",
            "ticks": ""
           }
          },
          "title": {
           "x": 0.05
          },
          "xaxis": {
           "automargin": true,
           "gridcolor": "white",
           "linecolor": "white",
           "ticks": "",
           "title": {
            "standoff": 15
           },
           "zerolinecolor": "white",
           "zerolinewidth": 2
          },
          "yaxis": {
           "automargin": true,
           "gridcolor": "white",
           "linecolor": "white",
           "ticks": "",
           "title": {
            "standoff": 15
           },
           "zerolinecolor": "white",
           "zerolinewidth": 2
          }
         }
        },
        "title": {
         "text": "UMAP Projection of Unit Operation Embeddings (Clustered)"
        },
        "width": 900,
        "xaxis": {
         "anchor": "y",
         "domain": [
          0,
          1
         ],
         "title": {
          "text": "UMAP-1"
         }
        },
        "yaxis": {
         "anchor": "x",
         "domain": [
          0,
          1
         ],
         "title": {
          "text": "UMAP-2"
         }
        }
       }
      }
     },
     "metadata": {},
     "output_type": "display_data"
    },
    {
     "data": {
      "text/html": [
       "<h3>Cluster Compactness Summary:</h3>"
      ],
      "text/plain": [
       "<IPython.core.display.HTML object>"
      ]
     },
     "metadata": {},
     "output_type": "display_data"
    },
    {
     "data": {
      "text/html": [
       "<table border=\"1\" class=\"dataframe\">\n",
       "  <thead>\n",
       "    <tr style=\"text-align: right;\">\n",
       "      <th>Cluster #</th>\n",
       "      <th>Representative Name</th>\n",
       "      <th>Representative Description</th>\n",
       "      <th>Total Elements</th>\n",
       "      <th>Elements Within Radius</th>\n",
       "      <th>Radius</th>\n",
       "    </tr>\n",
       "  </thead>\n",
       "  <tbody>\n",
       "    <tr>\n",
       "      <td>0</td>\n",
       "      <td>Pretreatment Chemicals Source</td>\n",
       "      <td>This unit operation serves as a source for the Pretreatment Chemicals stream, which includes dilute acids and alkalis. These chemicals are essential for the pretreatment process, as they help to disrupt the lignin structure and partially hydrolyze hemicellulose in the biomass feedstock. This step is crucial for enhancing the accessibility of cellulose for subsequent enzymatic hydrolysis, ultimately improving the efficiency of the overall conversion process to produce ethanol.</td>\n",
       "      <td>107</td>\n",
       "      <td>84</td>\n",
       "      <td>1.262700</td>\n",
       "    </tr>\n",
       "    <tr>\n",
       "      <td>1</td>\n",
       "      <td>Fuel-Grade Ethanol Sink</td>\n",
       "      <td>This unit operation serves as the final sink for the Fuel-Grade Ethanol stream, which is produced after the dehydration of crude ethanol. It is designed to receive the high-purity ethanol, ensuring that it meets the required specifications for blending with gasoline or for use in various industrial applications. The unit operation guarantees the safe storage and handling of the ethanol, maintaining its quality and preventing contamination.</td>\n",
       "      <td>134</td>\n",
       "      <td>116</td>\n",
       "      <td>7.834498</td>\n",
       "    </tr>\n",
       "    <tr>\n",
       "      <td>2</td>\n",
       "      <td>Feedstock Handling</td>\n",
       "      <td>The corn stover, which is a lignocellulosic biomass, is delivered to the processing facility. It is first subjected to size reduction to increase the surface area for subsequent processing steps. This involves mechanical operations such as chopping, grinding, or milling. The reduced-size feedstock is then conveyed to storage silos, ensuring a steady supply for continuous processing.</td>\n",
       "      <td>193</td>\n",
       "      <td>167</td>\n",
       "      <td>3.916672</td>\n",
       "    </tr>\n",
       "    <tr>\n",
       "      <td>3</td>\n",
       "      <td>Fermentation</td>\n",
       "      <td>The hydrolysate is transferred to fermentation tanks where yeast or other microorganisms are added to convert the fermentable sugars into ethanol and carbon dioxide. This biological process is carried out under anaerobic conditions. The choice of microorganism and fermentation conditions are optimized to maximize ethanol yield and productivity.</td>\n",
       "      <td>191</td>\n",
       "      <td>191</td>\n",
       "      <td>15.888586</td>\n",
       "    </tr>\n",
       "    <tr>\n",
       "      <td>4</td>\n",
       "      <td>Corn Stover Feedstock Source</td>\n",
       "      <td>This unit operation serves as the source for the Corn Stover Feedstock stream, which is raw corn stover delivered to the facility. The feedstock consists of a complex mixture of cellulose (35-40%), hemicellulose (25-30%), lignin (15-20%), ash (5-10%), and moisture (5-10%). It is a lignocellulosic biomass that typically requires pretreatment to break down cellulose and hemicellulose into fermentable sugars for further processing in the ethanol production pathway.</td>\n",
       "      <td>101</td>\n",
       "      <td>98</td>\n",
       "      <td>0.747396</td>\n",
       "    </tr>\n",
       "    <tr>\n",
       "      <td>5</td>\n",
       "      <td>Enzymatic Hydrolysis</td>\n",
       "      <td>The pretreated biomass is subjected to enzymatic hydrolysis, where cellulase enzymes are added to convert cellulose into fermentable sugars, primarily glucose. This step is critical for maximizing sugar yield, which directly impacts ethanol production efficiency. The reaction is typically carried out in large stirred-tank reactors to ensure thorough mixing and enzyme contact with the substrate.</td>\n",
       "      <td>195</td>\n",
       "      <td>168</td>\n",
       "      <td>13.753284</td>\n",
       "    </tr>\n",
       "    <tr>\n",
       "      <td>6</td>\n",
       "      <td>Off-gases Sink</td>\n",
       "      <td>This unit operation serves as a sink for the off-gases generated during the pretreatment process. It is designed to capture and manage gaseous byproducts, primarily consisting of carbon dioxide and volatile compounds. The off-gases may be directed to a waste treatment facility for further processing or utilized in energy recovery systems, ensuring minimal environmental impact and compliance with emission regulations.</td>\n",
       "      <td>85</td>\n",
       "      <td>83</td>\n",
       "      <td>4.792063</td>\n",
       "    </tr>\n",
       "    <tr>\n",
       "      <td>7</td>\n",
       "      <td>Waste Treatment</td>\n",
       "      <td>The stillage and other waste streams from the process are treated to recover valuable byproducts and minimize environmental impact. This may involve anaerobic digestion to produce biogas, or further processing to recover lignin and other components for use as animal feed or energy production.</td>\n",
       "      <td>124</td>\n",
       "      <td>110</td>\n",
       "      <td>4.887430</td>\n",
       "    </tr>\n",
       "    <tr>\n",
       "      <td>8</td>\n",
       "      <td>Distillation</td>\n",
       "      <td>The fermentation broth is subjected to distillation to separate ethanol from water and other components. This involves heating the mixture to vaporize ethanol, which is then condensed and collected as a concentrated product. Multiple distillation columns may be used to achieve the desired ethanol purity.</td>\n",
       "      <td>210</td>\n",
       "      <td>201</td>\n",
       "      <td>7.598146</td>\n",
       "    </tr>\n",
       "    <tr>\n",
       "      <td>9</td>\n",
       "      <td>Treated Waste Sink</td>\n",
       "      <td>This unit operation serves as the final sink for the treated waste stream, which consists of water, biogas, and residual solids. The treated waste is the output from the Waste Treatment unit operation, ensuring that the environmental impact of the process is minimized. This sink is designed to handle the disposal or further processing of the treated waste, facilitating compliance with environmental regulations and promoting sustainable waste management practices.</td>\n",
       "      <td>150</td>\n",
       "      <td>140</td>\n",
       "      <td>2.221514</td>\n",
       "    </tr>\n",
       "  </tbody>\n",
       "</table>"
      ],
      "text/plain": [
       "<IPython.core.display.HTML object>"
      ]
     },
     "metadata": {},
     "output_type": "display_data"
    },
    {
     "name": "stdout",
     "output_type": "stream",
     "text": [
      "Cluster compactness summary saved to ..\\data\\corn_stover_to_ethanol\\analysis_results\\cluster_compactness_summary_dynamic_radius.csv\n"
     ]
    }
   ],
   "source": [
    "# %% [markdown]\n",
    "# ### Assess Cluster Compactness: Elements Within a Dynamic Radius (Median + IQR)\n",
    "\n",
    "# %%\n",
    "import numpy as np\n",
    "import plotly.express as px\n",
    "import plotly.graph_objects as go\n",
    "from IPython.display import display, HTML\n",
    "\n",
    "# Function to extract title and description\n",
    "def extract_title(text):\n",
    "    return text.split(':')[0] if ':' in text else text\n",
    "\n",
    "def extract_title_description(text):\n",
    "    parts = text.split(':', 1)\n",
    "    if len(parts) == 2:\n",
    "        return parts[0].strip(), parts[1].strip()\n",
    "    else:\n",
    "        return parts[0].strip(), \"\"\n",
    "\n",
    "# Add a new column 'title' by extracting the part before the colon in 'text'\n",
    "reduced_df['title'] = reduced_df['text'].apply(extract_title)\n",
    "\n",
    "# Create a DataFrame to store representative points for each cluster\n",
    "representatives = []\n",
    "for cluster_num in range(n_clusters):\n",
    "    cluster_data = reduced_df[reduced_df['cluster'] == cluster_num]\n",
    "    if cluster_data.empty:\n",
    "        continue\n",
    "    representative = cluster_data.iloc[0]\n",
    "    title = representative['title']\n",
    "    representatives.append({\n",
    "        'cluster': cluster_num,\n",
    "        'x': representative['x'],\n",
    "        'y': representative['y'],\n",
    "        'title': title\n",
    "    })\n",
    "representatives_df = pd.DataFrame(representatives)\n",
    "print(\"\\nRepresentative Elements for Each Cluster:\")\n",
    "print(representatives_df)\n",
    "\n",
    "# Define the fixed radius based on median + 1 IQR\n",
    "cluster_compactness = []\n",
    "for cluster_num in range(n_clusters):\n",
    "    cluster_data = reduced_df[reduced_df['cluster'] == cluster_num]\n",
    "    if cluster_data.empty:\n",
    "        print(f\"Cluster {cluster_num} is empty. Skipping...\")\n",
    "        continue\n",
    "    centroid = cluster_data[['x', 'y']].mean().values\n",
    "    distances = np.linalg.norm(cluster_data[['x', 'y']].values - centroid, axis=1)\n",
    "    median_distance = np.median(distances)\n",
    "    q1 = np.percentile(distances, 25)\n",
    "    q3 = np.percentile(distances, 75)\n",
    "    iqr = q3 - q1\n",
    "    radius = median_distance + 1 * iqr\n",
    "    within_radius = np.sum(distances <= radius)\n",
    "    representative_text = cluster_data.iloc[0]['text']\n",
    "    representative_title, representative_description = extract_title_description(representative_text)\n",
    "    cluster_compactness.append({\n",
    "        'Cluster #': cluster_num,\n",
    "        'Representative Name': representative_title,\n",
    "        'Representative Description': representative_description,\n",
    "        'Total Elements': len(cluster_data),\n",
    "        'Elements Within Radius': within_radius,\n",
    "        'Radius': radius\n",
    "    })\n",
    "compactness_df = pd.DataFrame(cluster_compactness)\n",
    "print(\"\\nCluster Compactness Summary:\")\n",
    "print(compactness_df)\n",
    "\n",
    "# Create the interactive scatter plot using Plotly Express\n",
    "fig = px.scatter(\n",
    "    reduced_df,\n",
    "    x='x',\n",
    "    y='y',\n",
    "    color=reduced_df['cluster'].astype(str),\n",
    "    hover_data={\n",
    "        'cluster': True,\n",
    "        'title': True,\n",
    "        'x': False,\n",
    "        'y': False\n",
    "    },\n",
    "    labels={\n",
    "        'x': 'UMAP-1',\n",
    "        'y': 'UMAP-2',\n",
    "        'color': 'Cluster'\n",
    "    },\n",
    "    title=\"UMAP Projection of Unit Operation Embeddings (Clustered)\",\n",
    "    width=900,\n",
    "    height=700\n",
    ")\n",
    "\n",
    "# Update layout for better aesthetics\n",
    "fig.update_layout(\n",
    "    legend_title_text='Cluster',\n",
    "    legend=dict(\n",
    "        title_font_size=14,\n",
    "        font_size=12,\n",
    "        itemsizing='constant'\n",
    "    )\n",
    ")\n",
    "\n",
    "# Add annotations for each representative point\n",
    "for _, row in representatives_df.iterrows():\n",
    "    fig.add_trace(\n",
    "        go.Scatter(\n",
    "            x=[row['x']],\n",
    "            y=[row['y']],\n",
    "            mode='markers+text',\n",
    "            marker=dict(\n",
    "                color='black',\n",
    "                size=12,\n",
    "                symbol='star'\n",
    "            ),\n",
    "            text=[f\"Cluster {int(row['cluster'])}: {row['title']}\"],\n",
    "            textposition='top center',\n",
    "            showlegend=False\n",
    "        )\n",
    "    )\n",
    "\n",
    "# Optionally, add circles representing the radius\n",
    "for idx, row in compactness_df.iterrows():\n",
    "    cluster_num = row['Cluster #']\n",
    "    cluster_data = reduced_df[reduced_df['cluster'] == cluster_num]\n",
    "    centroid = cluster_data[['x', 'y']].mean().values\n",
    "    radius = row['Radius']\n",
    "    fig.add_shape(\n",
    "        type=\"circle\",\n",
    "        xref=\"x\",\n",
    "        yref=\"y\",\n",
    "        x0=centroid[0] - radius,\n",
    "        y0=centroid[1] - radius,\n",
    "        x1=centroid[0] + radius,\n",
    "        y1=centroid[1] + radius,\n",
    "        line=dict(\n",
    "            color=\"Red\",\n",
    "            width=2\n",
    "        ),\n",
    "        opacity=0.2,\n",
    "        name=f'Radius {cluster_num}'\n",
    "    )\n",
    "\n",
    "fig.show()\n",
    "\n",
    "# Display the Cluster Compactness Summary Table\n",
    "display(HTML(\"<h3>Cluster Compactness Summary:</h3>\"))\n",
    "display(HTML(compactness_df.to_html(index=False)))\n",
    "\n",
    "# Save Cluster Compactness Summary to CSV\n",
    "compactness_df.to_csv(output_dir / f\"cluster_compactness_summary_dynamic_radius.csv\", index=False)\n",
    "print(f\"Cluster compactness summary saved to {output_dir / 'cluster_compactness_summary_dynamic_radius.csv'}\")\n",
    "\n",
    "fig.write_html(\"corn_stover_to_ethanol_clustering.html\", include_plotlyjs=True, full_html=True)\n"
   ]
  },
  {
   "cell_type": "code",
   "execution_count": 15,
   "metadata": {},
   "outputs": [
    {
     "name": "stdout",
     "output_type": "stream",
     "text": [
      "Cluster 0:\n",
      " - Pretreatment Chemicals Source: This unit operation serves as a source for the Pretreatment Chemicals stream, which includes dilute acids and alkalis. These chemicals are essential for the pretreatment process, as they help to disrupt the lignin structure and partially hydrolyze hemicellulose in the biomass feedstock. This step is crucial for enhancing the accessibility of cellulose for subsequent enzymatic hydrolysis, ultimately improving the efficiency of the overall conversion process to produce ethanol.\n",
      " - Pretreatment Catalyst/Agent Source: This unit operation serves as a source for the Pretreatment Catalyst/Agent stream, which includes various chemical agents such as dilute acids, steam, and alkaline solutions. These agents are essential for the pretreatment process, as they facilitate the breakdown of the lignocellulosic structure in the biomass, enabling the subsequent enzymatic hydrolysis and fermentation stages to convert the biomass into fermentable sugars and ultimately into ethanol.\n",
      " - Pretreatment Agent Source: This unit operation serves as a source for the Pretreatment Agent stream, which is essential for the pretreatment process of lignocellulosic biomass. The stream includes components such as dilute acid (e.g., sulfuric acid) and water, which are crucial for breaking down the complex lignocellulosic structure of feedstocks like corn stover. The effective use of this stream enhances the efficiency of subsequent processing steps by ensuring optimal conditions for the pretreatment phase.\n",
      " - Pretreatment By-products Sink: This unit operation serves as a sink for the pretreatment by-products generated during the biomass pretreatment process. It collects and manages the by-products, which may include solubilized hemicellulose, degraded lignin, and other degradation products that are not utilized in the subsequent steps of the ethanol production process. Proper handling and disposal or potential valorization of these by-products are crucial for minimizing waste and maximizing resource efficiency in the overall process.\n",
      " - Pretreatment Agent Source: This unit operation serves as a source for the Pretreatment Agent, which is a critical input in the pretreatment process of biomass. The Pretreatment Agent is composed of dilute acid and steam, and its primary function is to break down the lignin structure in the biomass, thereby enhancing the accessibility of cellulose and hemicellulose for subsequent enzymatic hydrolysis. This operation ensures a consistent supply of the necessary chemicals and steam required for effective biomass pretreatment.\n",
      "\n",
      "\n",
      "Cluster 1:\n",
      " - Fuel-Grade Ethanol Sink: This unit operation serves as the final sink for the Fuel-Grade Ethanol stream, which is produced after the dehydration of crude ethanol. It is designed to receive the high-purity ethanol, ensuring that it meets the required specifications for blending with gasoline or for use in various industrial applications. The unit operation guarantees the safe storage and handling of the ethanol, maintaining its quality and preventing contamination.\n",
      " - Fuel-Grade Ethanol Sink: This unit operation serves as the final sink for the Fuel-Grade Ethanol stream, which is produced after the dehydration of crude ethanol. It is designed to collect and store high-purity ethanol that meets ASTM D4806 specifications for use as a biofuel. The unit ensures that the ethanol is maintained at the required purity levels, free from water and impurities, and is ready for distribution or further processing.\n",
      " - Denatured Ethanol Sink: This unit operation serves as the final sink for Denatured Ethanol, which is ethanol rendered undrinkable by the addition of a denaturant. The denatured ethanol is prepared for distribution as a biofuel, ensuring it meets the necessary specifications for fuel-grade applications. This unit operation handles the final storage and transfer of denatured ethanol to distribution channels.\n",
      " - Water Sink: This unit operation serves as a sink for the water stream generated during the dehydration process of crude ethanol. It collects the water that is removed to achieve the desired purity of ethanol, ensuring that the process maintains efficient water management and disposal.\n",
      " - Denaturant Source: This unit operation serves as a source for the denaturant stream, which includes substances like gasoline or methanol. The denaturant is essential for the denaturing process of fuel-grade ethanol, rendering it unfit for human consumption. This operation ensures a continuous supply of denaturant at the required volumetric scale to meet the demands of the denaturing unit operation in the ethanol production process.\n",
      "\n",
      "\n",
      "Cluster 2:\n",
      " - Feedstock Handling: The corn stover, which is a lignocellulosic biomass, is delivered to the processing facility. It is first subjected to size reduction to increase the surface area for subsequent processing steps. This involves mechanical operations such as chopping, grinding, or milling. The reduced-size feedstock is then conveyed to storage silos, ensuring a steady supply for continuous processing.\n",
      " - Pretreatment: The prepared corn stover undergoes a pretreatment process to break down the lignocellulosic structure, making cellulose and hemicellulose more accessible for enzymatic hydrolysis. This typically involves chemical pretreatment using dilute acid or alkali, or physical methods such as steam explosion. The pretreatment disrupts the lignin structure and partially hydrolyzes hemicellulose into soluble sugars.\n",
      " - Feedstock Handling and Preparation: The corn stover, which is a lignocellulosic biomass, is delivered to the processing facility at a volumetric scale of 1000 metric tons per day. The feedstock is first subjected to size reduction using mechanical shredders or grinders to increase the surface area and enhance the efficiency of subsequent pretreatment processes. This step is crucial to ensure uniformity in particle size, which facilitates better penetration of chemicals during pretreatment.\n",
      " - Pretreatment: The prepared corn stover undergoes a pretreatment process to break down the complex lignocellulosic structure, making cellulose and hemicellulose more accessible for enzymatic hydrolysis. Common pretreatment methods include dilute acid hydrolysis, steam explosion, or alkaline pretreatment. This step disrupts the lignin structure and solubilizes hemicellulose, enhancing the digestibility of the biomass.\n",
      " - Feedstock Preparation: The corn stover, which is a lignocellulosic biomass, is first collected and transported to the processing facility. In this unit operation, the stover is subjected to size reduction using mechanical milling to increase the surface area, which is crucial for the subsequent pretreatment process. This step ensures uniformity in particle size, which enhances the efficiency of the pretreatment process.\n",
      "\n",
      "\n",
      "Cluster 3:\n",
      " - Fermentation: The hydrolysate is transferred to fermentation tanks where yeast or other microorganisms are added to convert the fermentable sugars into ethanol and carbon dioxide. This biological process is carried out under anaerobic conditions. The choice of microorganism and fermentation conditions are optimized to maximize ethanol yield and productivity.\n",
      " - Fermentation: The hydrolysate, rich in fermentable sugars, is fed into a fermentation reactor where microorganisms, typically yeast such as Saccharomyces cerevisiae, convert the sugars into ethanol and carbon dioxide. This biological process is the core of ethanol production, and the efficiency of fermentation is critical for achieving high ethanol yields.\n",
      " - Yeast Culture Source: This unit operation serves as a source for the Yeast Culture stream, which consists of the microorganism Saccharomyces cerevisiae. This culture is essential for the fermentation process, where it converts sugars present in the hydrolysate into ethanol. The Yeast Culture is prepared and maintained under controlled conditions to ensure optimal fermentation performance, contributing to the overall efficiency and yield of ethanol production.\n",
      " - Fermentation: The sugar solution is transferred to fermentation tanks where yeast or other microorganisms are introduced to convert the sugars into ethanol and carbon dioxide. This biological process is conducted under anaerobic conditions and is a key step in the production of ethanol.\n",
      " - Yeast or Microorganism Inoculum Source: This unit operation serves as a source for the Yeast or Microorganism Inoculum stream, which is essential for the fermentation process in ethanol production. The inoculum introduces the necessary yeast or other microorganisms that will ferment the sugars derived from the sugar solution into ethanol and carbon dioxide. This operation ensures a consistent and adequate supply of viable microorganisms to optimize fermentation efficiency.\n",
      "\n",
      "\n",
      "Cluster 4:\n",
      " - Corn Stover Feedstock Source: This unit operation serves as the source for the Corn Stover Feedstock stream, which is raw corn stover delivered to the facility. The feedstock consists of a complex mixture of cellulose (35-40%), hemicellulose (25-30%), lignin (15-20%), ash (5-10%), and moisture (5-10%). It is a lignocellulosic biomass that typically requires pretreatment to break down cellulose and hemicellulose into fermentable sugars for further processing in the ethanol production pathway.\n",
      " - Raw Corn Stover Source: This unit operation serves as the source for the Raw Corn Stover stream, which is a lignocellulosic biomass composed of cellulose (40-50%), hemicellulose (25-30%), lignin (15-20%), and ash (5-10%). The Raw Corn Stover is delivered at an industrial scale of 1000 metric tons per day, providing the necessary feedstock for subsequent processing steps such as feedstock handling, pretreatment, and enzymatic hydrolysis in the production of ethanol.\n",
      " - Raw Corn Stover Source: This unit operation serves as the source for the Raw Corn Stover stream, which is collected from agricultural fields. The stream contains a mixture of cellulose (35-40%), hemicellulose (25-30%), lignin (15-20%), ash (5-10%), and moisture (5-15%). It is a lignocellulosic biomass that typically requires pretreatment to break down complex carbohydrates into fermentable sugars for further processing in the ethanol production process.\n",
      " - Raw Corn Stover Source: This unit operation serves as the source for the Raw Corn Stover stream, which consists of corn stover harvested directly from the field. The stream contains a mixture of cellulose, hemicellulose, lignin, and moisture, making it suitable for subsequent processing in the feedstock preparation unit. The composition of the raw corn stover is critical for the efficiency of the overall biomass conversion process.\n",
      " - Raw Corn Stover Source: This unit operation serves as the source for the Raw Corn Stover stream, which is the unprocessed biomass obtained directly from corn fields. The stream contains a mixture of cellulose, hemicellulose, lignin, and water, with a moisture content typically around 10-15%. The raw corn stover is characterized by its large particle size, often requiring size reduction to less than 2 mm for efficient processing in subsequent unit operations. This source is essential for initiating the biomass conversion process in the production of ethanol.\n",
      "\n",
      "\n",
      "Cluster 5:\n",
      " - Enzymatic Hydrolysis: The pretreated biomass is subjected to enzymatic hydrolysis, where cellulase enzymes are added to convert cellulose into fermentable sugars, primarily glucose. This step is critical for maximizing sugar yield, which directly impacts ethanol production efficiency. The reaction is typically carried out in large stirred-tank reactors to ensure thorough mixing and enzyme contact with the substrate.\n",
      " - Enzyme Addition Source: This unit operation serves as a source for the Enzyme Addition stream, which consists of cellulase enzymes. These enzymes are crucial for the enzymatic hydrolysis process, where they catalyze the conversion of cellulose from pretreated biomass into fermentable glucose. The enzymes are supplied in a concentrated form to ensure efficient hydrolysis, enabling the subsequent fermentation step to produce ethanol.\n",
      " - Enzymatic Hydrolysis: In this unit operation, the pretreated biomass is subjected to enzymatic hydrolysis, where specific enzymes such as cellulases and hemicellulases are added to convert cellulose and hemicellulose into fermentable sugars, primarily glucose and xylose. This step is crucial for maximizing sugar yield, which directly impacts ethanol production efficiency.\n",
      " - Enzyme Source: This unit operation serves as a source for the enzyme stream, providing a mixture of cellulases and hemicellulases essential for the enzymatic hydrolysis of pretreated biomass. The enzymes facilitate the breakdown of cellulose and hemicellulose into fermentable sugars, which are crucial for the subsequent fermentation process in ethanol production.\n",
      " - Enzymatic Hydrolysis: In this unit operation, the pretreated biomass is subjected to enzymatic hydrolysis where specific enzymes, such as cellulases and hemicellulases, are added to convert cellulose and hemicellulose into fermentable sugars like glucose and xylose. This step is crucial for maximizing sugar yield, which directly impacts ethanol production efficiency.\n",
      "\n",
      "\n",
      "Cluster 6:\n",
      " - Off-gases Sink: This unit operation serves as a sink for the off-gases generated during the pretreatment process. It is designed to capture and manage gaseous byproducts, primarily consisting of carbon dioxide and volatile compounds. The off-gases may be directed to a waste treatment facility for further processing or utilized in energy recovery systems, ensuring minimal environmental impact and compliance with emission regulations.\n",
      " - Carbon Dioxide Sink: The Carbon Dioxide Sink is a unit operation that serves as the terminus for the carbon dioxide byproduct generated during the fermentation process. This operation collects and manages the carbon dioxide produced when microorganisms convert sugars into ethanol under anaerobic conditions. The sink is designed to ensure safe handling and potential utilization of carbon dioxide, which can be captured for various applications, including enhanced oil recovery or as a feedstock for chemical synthesis.\n",
      " - Biogas Sink: This unit operation serves as the sink for the biogas produced during the anaerobic digestion process. It is designed to collect and manage the biogas, which primarily consists of methane and carbon dioxide. The biogas can be utilized for energy production, either through combustion for heat and power generation or upgraded to biomethane for use as a renewable natural gas. Proper handling and storage of biogas are essential to ensure safety and efficiency in its utilization.\n",
      " - Waste Gas Sink: This unit operation serves as a sink for waste gases generated during the pretreatment process. The waste gases primarily consist of carbon dioxide and volatile organic compounds released from the breakdown of biomass components. This sink is designed to capture and manage these gases, ensuring that they are either treated for environmental compliance or safely vented to the atmosphere, minimizing the impact on the surrounding environment.\n",
      " - Carbon Dioxide Sink: This unit operation serves as the terminus for the carbon dioxide stream generated during the fermentation process. It is designed to safely collect and manage the carbon dioxide produced as a by-product when yeast converts fermentable sugars into ethanol. The carbon dioxide sink ensures that the gas is either vented safely to the atmosphere or captured for potential reuse in other processes, thereby minimizing environmental impact and optimizing resource utilization.\n",
      "\n",
      "\n",
      "Cluster 7:\n",
      " - Waste Treatment: The stillage and other waste streams from the process are treated to recover valuable byproducts and minimize environmental impact. This may involve anaerobic digestion to produce biogas, or further processing to recover lignin and other components for use as animal feed or energy production.\n",
      " - Waste Management and By-product Recovery: This unit operation involves the handling and treatment of waste streams generated throughout the process, including stillage and lignin residues. By-products such as lignin can be recovered and utilized for energy generation or as a feedstock for other chemical processes. Efficient waste management is crucial for minimizing environmental impact and improving the overall sustainability of the process.\n",
      " - Lignin By-product Sink: This unit operation serves as the terminus for the Lignin By-product stream, which consists of recovered lignin. The lignin can be utilized for energy generation, as a raw material for bioplastics, or in other applications such as adhesives and surfactants. This sink is designed to handle the final disposition of lignin, ensuring proper storage or transfer for further processing or utilization.\n",
      " - Waste Management: The process generates various waste streams, including lignin-rich residues and stillage. These by-products are managed through a combination of recycling, energy recovery, and disposal strategies. Lignin can be used as a boiler fuel to generate steam and electricity for the plant, while stillage can be processed into animal feed or biogas.\n",
      " - Lignin Residues Source: This unit operation serves as a source for the Lignin Residues stream, which consists of solid residues rich in lignin remaining after the enzymatic hydrolysis process. The Lignin Residues are generated as a byproduct during the conversion of biomass into fermentable sugars and are typically utilized for energy recovery or as a raw material for various applications in the chemical industry.\n",
      "\n",
      "\n",
      "Cluster 8:\n",
      " - Distillation: The fermentation broth is subjected to distillation to separate ethanol from water and other components. This involves heating the mixture to vaporize ethanol, which is then condensed and collected as a concentrated product. Multiple distillation columns may be used to achieve the desired ethanol purity.\n",
      " - Dehydration: The crude ethanol is further purified through dehydration to remove residual water and achieve fuel-grade ethanol purity. This is typically done using molecular sieves or azeotropic distillation techniques to achieve ethanol purity of 99.5% or higher.\n",
      " - Distillation: The fermentation broth is subjected to distillation to separate ethanol from the mixture. This unit operation involves heating the broth to vaporize ethanol, which is then condensed into a concentrated form. Distillation is essential for achieving the required ethanol purity for fuel-grade applications.\n",
      " - Dehydration: The crude ethanol stream undergoes dehydration to remove residual water and achieve the desired purity level of 95-99% ethanol. This is typically accomplished using molecular sieves or azeotropic distillation techniques. High-purity ethanol is essential for meeting ASTM D4806 specifications for biofuel use.\n",
      " - Distillation: The fermentation broth is subjected to distillation to separate ethanol from the mixture. This process involves heating the broth to vaporize ethanol, which is then condensed and collected as a concentrated ethanol stream. This step is essential for achieving the desired purity of ethanol for fuel applications.\n",
      "\n",
      "\n",
      "Cluster 9:\n",
      " - Treated Waste Sink: This unit operation serves as the final sink for the treated waste stream, which consists of water, biogas, and residual solids. The treated waste is the output from the Waste Treatment unit operation, ensuring that the environmental impact of the process is minimized. This sink is designed to handle the disposal or further processing of the treated waste, facilitating compliance with environmental regulations and promoting sustainable waste management practices.\n",
      " - Treated Wastewater Sink: This unit operation serves as the final sink for the treated wastewater stream, which has been processed to meet environmental discharge standards. The treated wastewater is collected here before being released into the environment or sent for further treatment. The operation ensures that the water is free from harmful contaminants and complies with regulatory requirements for safe discharge.\n",
      " - Water Sink: This unit operation serves as a sink for the water removed during the dehydration process of ethanol production. It collects and manages the water by-product generated to ensure proper disposal or potential reuse, thereby minimizing environmental impact and optimizing resource utilization.\n",
      " - Residual Solids Sink: This unit operation serves as a sink for the Residual Solids stream, which includes any remaining solids that are not solubilized or recovered as lignin. The stream consists of unconverted biomass and ash, which may require disposal or further processing depending on their composition. Proper management of this stream is essential to minimize environmental impact and ensure compliance with waste disposal regulations.\n",
      " - Stillage Sink: This unit operation serves as the sink for the Stillage stream, which is the residue from the distillation process. It contains water, yeast biomass, and residual sugars. The Stillage Sink is designed to manage the disposal or further processing of this by-product, ensuring that the components are either treated for environmental compliance or redirected for potential recovery of valuable materials.\n",
      "\n",
      "\n"
     ]
    }
   ],
   "source": [
    "\n",
    "# %% [markdown]\n",
    "# ### Investigating Clusters\n",
    "#\n",
    "# Display sample unit operations from each cluster to understand their characteristics.\n",
    "\n",
    "# %%\n",
    "for c in range(n_clusters):\n",
    "    cluster_ops = unit_ops_df[unit_ops_df['cluster_label'] == c]\n",
    "    print(f\"Cluster {c}:\")\n",
    "    # Print a few example unit ops from this cluster\n",
    "    for idx, row in cluster_ops.head(5).iterrows():\n",
    "        print(\" -\", row['text'])\n",
    "    print(\"\\n\")\n"
   ]
  },
  {
   "cell_type": "code",
   "execution_count": 16,
   "metadata": {},
   "outputs": [
    {
     "name": "stdout",
     "output_type": "stream",
     "text": [
      "Clustering results saved to ..\\data\\corn_stover_to_ethanol\\analysis_results\\unit_ops_clusters.csv.\n"
     ]
    }
   ],
   "source": [
    "\n",
    "# %% [markdown]\n",
    "# ## Save Clustering Results\n",
    "\n",
    "# %%\n",
    "# Save cluster assignments\n",
    "unit_ops_df.to_csv(output_dir / \"unit_ops_clusters.csv\", index=False)\n",
    "print(f\"Clustering results saved to {output_dir / 'unit_ops_clusters.csv'}.\")\n"
   ]
  },
  {
   "cell_type": "code",
   "execution_count": 17,
   "metadata": {},
   "outputs": [],
   "source": [
    "\n",
    "# %% [markdown]\n",
    "# ## Summary\n",
    "#\n",
    "# - **Aggregated Data**: Successfully aggregated multiple batches and their respective runs.\n",
    "# - **Unique Run Identification**: Each run is uniquely identified by combining the batch ID and run name.\n",
    "# - **Clustering Analysis**: Performed embedding-based clustering to assess the semantic consistency of unit operations across runs.\n",
    "# - **Visualization**: Visualized clusters using UMAP for dimensionality reduction.\n",
    "#\n",
    "# **Next Steps:**\n",
    "# - Incorporate validated data for operational parameters.\n",
    "# - Explore alternative clustering algorithms (e.g., HDBSCAN) for potentially better clustering performance.\n",
    "# - Analyze clusters to identify common patterns and outliers in unit operations.\n",
    "\n"
   ]
  }
 ],
 "metadata": {
  "kernelspec": {
   "display_name": "tea_env",
   "language": "python",
   "name": "python3"
  },
  "language_info": {
   "codemirror_mode": {
    "name": "ipython",
    "version": 3
   },
   "file_extension": ".py",
   "mimetype": "text/x-python",
   "name": "python",
   "nbconvert_exporter": "python",
   "pygments_lexer": "ipython3",
   "version": "3.11.9"
  }
 },
 "nbformat": 4,
 "nbformat_minor": 2
}
