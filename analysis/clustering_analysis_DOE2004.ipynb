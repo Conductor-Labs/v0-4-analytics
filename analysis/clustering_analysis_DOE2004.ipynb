{
 "cells": [
  {
   "cell_type": "code",
   "execution_count": 10,
   "metadata": {},
   "outputs": [],
   "source": [
    "#!/usr/bin/env python\n",
    "# coding: utf-8\n",
    "\n",
    "# %% [markdown]\n",
    "# # Clustering Analysis of Unit Operations\n",
    "#\n",
    "# This notebook aggregates multiple batches and their respective runs, processes the unit operations,\n",
    "# computes embeddings, clusters them, and visualizes the results.\n",
    "#\n",
    "# **Enhancements:**\n",
    "# 1. **Aggregating Multiple Batches and Runs**: The script now supports processing multiple batch folders.\n",
    "# 2. **Updated Run Identification Logic**: Adjusted to handle run folder names where the run number is at the end (e.g., `corn stover_to_ethanol_(1)`).\n",
    "#\n",
    "# **Dependencies:**\n",
    "# - `networkx`\n",
    "# - `pandas`\n",
    "# - `matplotlib`\n",
    "# - `seaborn`\n",
    "# - `sentence-transformers`\n",
    "# - `umap-learn`\n",
    "# - `scikit-learn`\n",
    "\n",
    "# %% [markdown]  \n",
    "# ## Imports and Setup\n",
    "\n",
    "# %%\n",
    "import os  \n",
    "import json\n",
    "import re\n",
    "from pathlib import Path\n",
    "import networkx as nx\n",
    "import pandas as pd\n",
    "import matplotlib.pyplot as plt\n",
    "import seaborn as sns\n",
    "import umap.umap_ as umap\n",
    "\n",
    "from sklearn.cluster import KMeans\n",
    "from sentence_transformers import SentenceTransformer\n",
    "\n",
    "# For inline plotting in Jupyter\n",
    "%matplotlib inline\n",
    "\n",
    "sns.set_style(\"whitegrid\")\n",
    "\n",
    "\n"
   ]
  },
  {
   "cell_type": "code",
   "execution_count": 11,
   "metadata": {},
   "outputs": [],
   "source": [
    "# %% [markdown]\n",
    "# ## Configuration\n",
    "#\n",
    "# - **Data Directory**: Specify the root directory containing all batch folders.\n",
    "# - **Run Folder Pattern**: Define a regex pattern to identify run folders with run numbers at the end.\n",
    "\n",
    "# Root directory of the project\n",
    "project_root = Path(\"..\")  # Adjust as necessary based on your project structure\n",
    "\n",
    "# Directory containing all batch folders\n",
    "batches_dir = project_root / \"data\" / \"DOE_2004\"\n",
    "\n",
    "# List of batch folder IDs to process\n",
    "selected_batches = [\n",
    "    \"20241209_184253\",\n",
    "    \"20241209_184528\",\n",
    "    \"20241209_210843\"\n",
    "]\n"
   ]
  },
  {
   "cell_type": "code",
   "execution_count": 12,
   "metadata": {},
   "outputs": [
    {
     "name": "stdout",
     "output_type": "stream",
     "text": [
      "\n",
      "Total Runs Loaded: 63\n"
     ]
    }
   ],
   "source": [
    "# %% [markdown]\n",
    "# ## Data Loading: Aggregating Specified Batches and Runs\n",
    "\n",
    "# %%\n",
    "# Initialize an empty dictionary to store DAGs\n",
    "dags = {}\n",
    "\n",
    "# Iterate through each selected batch folder\n",
    "for batch_id in selected_batches:\n",
    "    batch_dir = batches_dir / batch_id\n",
    "    if batch_dir.exists() and batch_dir.is_dir():\n",
    "        # print(f\"Processing Batch: {batch_id}\")\n",
    "        \n",
    "        # Iterate through each run folder within the batch\n",
    "        for run_dir in batch_dir.iterdir():\n",
    "            if run_dir.is_dir():\n",
    "                run_name = run_dir.name\n",
    "                # Create a unique identifier by combining batch ID and run name\n",
    "                unique_run_name = f\"{batch_id}_{run_name}\"\n",
    "                \n",
    "                dag_path = run_dir / \"v1_DAG.json\"\n",
    "                if dag_path.exists():\n",
    "                    try:\n",
    "                        with open(dag_path, \"r\") as f:\n",
    "                            dag_data = json.load(f)\n",
    "                        dags[unique_run_name] = dag_data\n",
    "                        # print(f\" - Loaded DAG for Run: {unique_run_name}\")\n",
    "                    except json.JSONDecodeError as e:\n",
    "                        print(f\"   * Error decoding JSON for {unique_run_name}: {e}\")\n",
    "                else:\n",
    "                    print(f\"   * DAG not found for Run: {unique_run_name}\")\n",
    "    else:\n",
    "        print(f\"Batch folder not found or is not a directory: {batch_id}\")\n",
    "\n",
    "print(f\"\\nTotal Runs Loaded: {len(dags)}\")\n"
   ]
  },
  {
   "cell_type": "code",
   "execution_count": 13,
   "metadata": {},
   "outputs": [
    {
     "name": "stdout",
     "output_type": "stream",
     "text": [
      "Total Graphs Created: 63\n"
     ]
    }
   ],
   "source": [
    "\n",
    "# %% [markdown]\n",
    "# ## Convert DAGs to NetworkX Graphs\n",
    "\n",
    "# %%\n",
    "def dag_to_networkx(dag_data):\n",
    "    G = nx.DiGraph()\n",
    "    unit_ops = dag_data.get(\"unit_operations\", {})\n",
    "\n",
    "    # Add nodes\n",
    "    for uop_id, uop_data in unit_ops.items():\n",
    "        G.add_node(uop_id, **uop_data)\n",
    "\n",
    "    # Add edges based on streams\n",
    "    streams = dag_data.get(\"streams\", {})\n",
    "    for stream_id, sdata in streams.items():\n",
    "        source = sdata['source']\n",
    "        target = sdata['target']\n",
    "        # Only add edge if both source and target are unit operations\n",
    "        if source in unit_ops and target in unit_ops:\n",
    "            G.add_edge(source, target, **sdata)\n",
    "\n",
    "    return G\n",
    "\n",
    "# Create NetworkX graphs from DAGs\n",
    "graphs = {run_name: dag_to_networkx(dag_data) for run_name, dag_data in dags.items()}\n",
    "\n",
    "print(f\"Total Graphs Created: {len(graphs)}\")\n"
   ]
  },
  {
   "cell_type": "code",
   "execution_count": 14,
   "metadata": {},
   "outputs": [],
   "source": [
    "\n",
    "# %% [markdown]\n",
    "# ## Assess Unit Operations Across DAGs for Stability\n",
    "\n",
    "# %%\n",
    "unit_op_counts = {}\n",
    "for run_name, G in graphs.items():\n",
    "    for node in G.nodes:\n",
    "        unit_op_counts[node] = unit_op_counts.get(node, 0) + 1\n",
    "\n",
    "# Convert to a DataFrame to see frequency\n",
    "uop_df = pd.DataFrame([{'unit_op': k, 'count': v} for k, v in unit_op_counts.items()])\n",
    "uop_df.sort_values('count', ascending=False, inplace=True)\n",
    "uop_df.reset_index(drop=True, inplace=True)\n",
    "\n",
    "# print(\"Unit Operations Frequency:\")\n",
    "# uop_df\n"
   ]
  },
  {
   "cell_type": "code",
   "execution_count": 15,
   "metadata": {},
   "outputs": [
    {
     "name": "stderr",
     "output_type": "stream",
     "text": [
      "C:\\Users\\Jesse\\AppData\\Local\\Temp\\ipykernel_15928\\2238073952.py:6: FutureWarning: \n",
      "\n",
      "Passing `palette` without assigning `hue` is deprecated and will be removed in v0.14.0. Assign the `x` variable to `hue` and set `legend=False` for the same effect.\n",
      "\n",
      "  sns.barplot(data=uop_df, x='unit_op', y='count', palette='viridis')\n"
     ]
    },
    {
     "data": {
      "image/png": "[encoded data removed]",
      "text/plain": [
       "<Figure size 1200x600 with 1 Axes>"
      ]
     },
     "metadata": {},
     "output_type": "display_data"
    }
   ],
   "source": [
    "\n",
    "# %% [markdown]\n",
    "# ## Visualize Frequency of Unit Operations\n",
    "\n",
    "# %%\n",
    "plt.figure(figsize=(12, 6))\n",
    "sns.barplot(data=uop_df, x='unit_op', y='count', palette='viridis')\n",
    "plt.xticks(rotation=90)\n",
    "plt.title(\"Frequency of Unit Operations Across All Runs\")\n",
    "plt.xlabel(\"Unit Operation\")\n",
    "plt.ylabel(\"Count\")\n",
    "plt.tight_layout()\n",
    "plt.show()\n"
   ]
  },
  {
   "cell_type": "code",
   "execution_count": 16,
   "metadata": {},
   "outputs": [
    {
     "name": "stdout",
     "output_type": "stream",
     "text": [
      "Computing Jaccard similarity for 1953 run pairs...\n"
     ]
    }
   ],
   "source": [
    "\n",
    "# %% [markdown]\n",
    "# ## Compute Jaccard Similarity for Edges Between Runs\n",
    "\n",
    "# %%\n",
    "from itertools import combinations\n",
    "\n",
    "def graph_edge_set(G):\n",
    "    return set(G.edges())\n",
    "\n",
    "similarities = []\n",
    "run_pairs = list(combinations(graphs.keys(), 2))\n",
    "print(f\"Computing Jaccard similarity for {len(run_pairs)} run pairs...\")\n",
    "\n",
    "for r1, r2 in run_pairs:\n",
    "    G1, G2 = graphs[r1], graphs[r2]\n",
    "    e1, e2 = graph_edge_set(G1), graph_edge_set(G2)\n",
    "    inter = len(e1.intersection(e2))\n",
    "    union = len(e1.union(e2))\n",
    "    jaccard = inter / union if union else 0\n",
    "    similarities.append({'run1': r1, 'run2': r2, 'jaccard_edge_similarity': jaccard})\n",
    "\n",
    "sim_df = pd.DataFrame(similarities)\n",
    "# print(\"Sample of Jaccard Similarity:\")\n",
    "# sim_df.head()\n"
   ]
  },
  {
   "cell_type": "code",
   "execution_count": 17,
   "metadata": {},
   "outputs": [
    {
     "name": "stdout",
     "output_type": "stream",
     "text": [
      "Unit operation counts saved to ..\\data\\DOE_2004\\analysis_results\\analysis_unit_op_counts.csv\n",
      "Graph similarities saved to ..\\data\\DOE_2004\\analysis_results\\analysis_graph_similarities.csv\n"
     ]
    }
   ],
   "source": [
    "\n",
    "# %% [markdown]\n",
    "# ## Save Analysis Results to CSV\n",
    "\n",
    "# %%\n",
    "# Define output directory\n",
    "output_dir = batches_dir / \"analysis_results\"\n",
    "output_dir.mkdir(parents=True, exist_ok=True)\n",
    "\n",
    "# Save unit operation counts\n",
    "uop_df.to_csv(output_dir / \"analysis_unit_op_counts.csv\", index=False)\n",
    "print(f\"Unit operation counts saved to {output_dir / 'analysis_unit_op_counts.csv'}\")\n",
    "\n",
    "# Save graph similarities\n",
    "sim_df.to_csv(output_dir / \"analysis_graph_similarities.csv\", index=False)\n",
    "print(f\"Graph similarities saved to {output_dir / 'analysis_graph_similarities.csv'}\")\n"
   ]
  },
  {
   "cell_type": "code",
   "execution_count": 18,
   "metadata": {},
   "outputs": [],
   "source": [
    "\n",
    "# %% [markdown]\n",
    "# ## Embedding and Clustering Analysis\n",
    "#\n",
    "# The following sections perform embedding-based clustering of unit operations to assess semantic consistency and stability across runs.\n",
    "\n",
    "# %% [markdown]\n",
    "# ### Extract Unit Operations and Prepare Text for Embedding\n",
    "\n",
    "# %%\n",
    "# Collect unit operations from all runs\n",
    "unit_ops_data = []  # Stores dicts: { 'run': run_name, 'unit_op_id': node_id, 'text': ... }\n",
    "\n",
    "for run_name, G in graphs.items():\n",
    "    for node, data in G.nodes(data=True):\n",
    "        # Combine name and description for embedding\n",
    "        name = data.get('name', 'Unnamed Unit Operation')\n",
    "        description = data.get('description', '')\n",
    "        text = f\"{name}: {description}\"\n",
    "        unit_ops_data.append({\n",
    "            'run': run_name,\n",
    "            'unit_op_id': node,\n",
    "            'text': text\n",
    "        })\n",
    "\n",
    "unit_ops_df = pd.DataFrame(unit_ops_data)\n",
    "# print(\"Number of unit operations across all runs:\", len(unit_ops_df))\n",
    "# unit_ops_df.head()\n"
   ]
  },
  {
   "cell_type": "code",
   "execution_count": 19,
   "metadata": {},
   "outputs": [
    {
     "name": "stdout",
     "output_type": "stream",
     "text": [
      "Embeddings shape: (904, 384)\n"
     ]
    }
   ],
   "source": [
    "\n",
    "# %% [markdown]\n",
    "# ### Compute Embeddings\n",
    "\n",
    "# %%\n",
    "# Initialize the Sentence Transformer model\n",
    "model = SentenceTransformer('all-MiniLM-L6-v2')\n",
    "\n",
    "# Compute embeddings\n",
    "embeddings = model.encode(unit_ops_df['text'].tolist(), convert_to_numpy=True)\n",
    "\n",
    "print(\"Embeddings shape:\", embeddings.shape)\n"
   ]
  },
  {
   "cell_type": "code",
   "execution_count": 38,
   "metadata": {},
   "outputs": [],
   "source": [
    "\n",
    "# %% [markdown]\n",
    "# ### Clustering with K-Means\n",
    "\n",
    "# %%\n",
    "# Define number of clusters\n",
    "n_clusters = 10  # Adjust as needed\n",
    "\n",
    "# Initialize and fit K-Means\n",
    "kmeans = KMeans(n_clusters=n_clusters, random_state=42, n_init='auto')\n",
    "labels = kmeans.fit_predict(embeddings)\n",
    "\n",
    "# Assign cluster labels to the DataFrame\n",
    "unit_ops_df['cluster_label'] = labels\n",
    "# unit_ops_df.head()\n"
   ]
  },
  {
   "cell_type": "code",
   "execution_count": 39,
   "metadata": {},
   "outputs": [
    {
     "name": "stderr",
     "output_type": "stream",
     "text": [
      "c:\\Users\\Jesse\\anaconda3\\envs\\tea_env\\Lib\\site-packages\\umap\\umap_.py:1952: UserWarning:\n",
      "\n",
      "n_jobs value 1 overridden to 1 by setting random_state. Use no seed for parallelism.\n",
      "\n"
     ]
    }
   ],
   "source": [
    "\n",
    "# %% [markdown]\n",
    "# ### Dimensionality Reduction with UMAP\n",
    "\n",
    "# %%\n",
    "# Initialize UMAP reducer\n",
    "reducer = umap.UMAP(n_neighbors=15, min_dist=0.1, random_state=42)\n",
    "\n",
    "# Fit and transform embeddings\n",
    "reduced_embeddings = reducer.fit_transform(embeddings)\n",
    "\n",
    "# Create a DataFrame for reduced dimensions\n",
    "reduced_df = pd.DataFrame({\n",
    "    'x': reduced_embeddings[:, 0],\n",
    "    'y': reduced_embeddings[:, 1],\n",
    "    'cluster': labels,\n",
    "    'run': unit_ops_df['run'],\n",
    "    'unit_op_id': unit_ops_df['unit_op_id'],\n",
    "    'text': unit_ops_df['text']\n",
    "})\n",
    "\n",
    "# Display a sample of the reduced DataFrame\n",
    "# reduced_df.head()\n"
   ]
  },
  {
   "cell_type": "code",
   "execution_count": 40,
   "metadata": {},
   "outputs": [
    {
     "name": "stdout",
     "output_type": "stream",
     "text": [
      "\n",
      "Representative Elements for Each Cluster:\n",
      "   cluster          x          y                   title\n",
      "0        0  -2.176383   0.281457    Enzymatic Hydrolysis\n",
      "1        1   5.912930  17.085207     Carbon Dioxide Sink\n",
      "2        2   0.783873  11.306705        Product Recovery\n",
      "3        3   2.587428  -5.738112            Pretreatment\n",
      "4        4  16.840403  11.492213  Raw Corn Stover Source\n",
      "5        5   5.002809  12.796655       Waste Stream Sink\n",
      "6        6  -9.616536   9.742467  Aeration Stream Source\n",
      "7        7   3.105036  10.826727       Product Packaging\n",
      "8        8  -9.619135  15.514055            Fermentation\n",
      "9        9   1.632850  12.344497     Chemical Conversion\n",
      "\n",
      "Cluster Compactness Summary:\n",
      "   Cluster #     Representative Name  \\\n",
      "0          0    Enzymatic Hydrolysis   \n",
      "1          1     Carbon Dioxide Sink   \n",
      "2          2        Product Recovery   \n",
      "3          3            Pretreatment   \n",
      "4          4  Raw Corn Stover Source   \n",
      "5          5       Waste Stream Sink   \n",
      "6          6  Aeration Stream Source   \n",
      "7          7       Product Packaging   \n",
      "8          8            Fermentation   \n",
      "9          9     Chemical Conversion   \n",
      "\n",
      "                          Representative Description  Total Elements  \\\n",
      "0  In this unit operation, the pretreated biomass...             125   \n",
      "1  This unit operation serves as a sink for the C...              24   \n",
      "2  This unit operation focuses on the separation ...              64   \n",
      "3  The pretreatment unit operation is designed to...             127   \n",
      "4  This unit operation serves as the source for t...              86   \n",
      "5  This unit operation serves as the sink for the...             227   \n",
      "6  This unit operation serves as a source for the...              24   \n",
      "7  In this final unit operation, the purified 3-H...              27   \n",
      "8  The fermentation unit operation involves conve...             124   \n",
      "9  In this unit operation, the purified 3-hydroxy...              76   \n",
      "\n",
      "   Elements Within Radius    Radius  \n",
      "0                     112  2.901921  \n",
      "1                      23  1.109081  \n",
      "2                      63  1.340990  \n",
      "3                     117  6.050626  \n",
      "4                      68  9.000288  \n",
      "5                     203  3.643323  \n",
      "6                      19  0.368780  \n",
      "7                      24  0.602245  \n",
      "8                     111  1.619601  \n",
      "9                      68  1.219006  \n"
     ]
    },
    {
     "data": {
      "application/vnd.plotly.v1+json": {
       "config": {
        "plotlyServerURL": "https://plot.ly"
       },
       "data": [
        {
         "customdata": [
          [
           3,
           "Pretreatment"
          ],
          [
           3,
           "Pretreatment Chemical Agents Source"
          ],
          [
           3,
           "Pretreatment"
          ],
          [
           3,
           "Water/Acid Solution Source"
          ],
          [
           3,
           "Pretreatment"
          ],
          [
           3,
           "Pretreatment Chemicals Source"
          ],
          [
           3,
           "Water for Pretreatment"
          ],
          [
           3,
           "Pretreatment"
          ],
          [
           3,
           "Chemical Agent Source"
          ],
          [
           3,
           "Pretreatment"
          ],
          [
           3,
           "Pretreatment Chemicals Source"
          ],
          [
           3,
           "Pretreatment"
          ],
          [
           3,
           "Pretreatment"
          ],
          [
           3,
           "Pretreatment Chemicals Source"
          ],
          [
           3,
           "Pretreatment"
          ],
          [
           3,
           "Dilute Acid Solution Source"
          ],
          [
           3,
           "Pretreatment"
          ],
          [
           3,
           "Pretreatment"
          ],
          [
           3,
           "Water or Acid/Alkali Solution Source"
          ],
          [
           3,
           "Pretreatment"
          ],
          [
           3,
           "Pretreatment Chemicals Source"
          ],
          [
           3,
           "Pretreatment Byproducts Sink"
          ],
          [
           3,
           "Pretreatment"
          ],
          [
           3,
           "Pretreatment Chemicals Source"
          ],
          [
           3,
           "Pretreatment"
          ],
          [
           3,
           "Acid Solution Source"
          ],
          [
           3,
           "Pre-treatment"
          ],
          [
           3,
           "Chemical/Enzyme Addition"
          ],
          [
           3,
           "Pre-treatment"
          ],
          [
           3,
           "Chemical Additives Source"
          ],
          [
           3,
           "Pretreatment"
          ],
          [
           3,
           "Pretreatment Chemicals Source"
          ],
          [
           3,
           "Pretreatment"
          ],
          [
           3,
           "Pretreatment"
          ],
          [
           3,
           "Pretreatment"
          ],
          [
           3,
           "Pretreatment"
          ],
          [
           3,
           "Dilute Acid Solution Source"
          ],
          [
           3,
           "Size Reduction"
          ],
          [
           3,
           "Pre-treatment"
          ],
          [
           3,
           "Chemical Additives Source"
          ],
          [
           3,
           "Pretreatment"
          ],
          [
           3,
           "Chemical Reagents Source"
          ],
          [
           3,
           "Pretreatment"
          ],
          [
           3,
           "Acid or Alkali Solution Source"
          ],
          [
           3,
           "Pretreatment"
          ],
          [
           3,
           "Pretreatment Chemicals Source"
          ],
          [
           3,
           "Pretreatment"
          ],
          [
           3,
           "Pretreatment Chemicals Source"
          ],
          [
           3,
           "Pretreatment"
          ],
          [
           3,
           "Dilute Acid Solution Source"
          ],
          [
           3,
           "Pre-treatment"
          ],
          [
           3,
           "Pre-treatment Chemicals Source"
          ],
          [
           3,
           "Solubilized Hemicellulose and Lignin Sink"
          ],
          [
           3,
           "Pretreatment"
          ],
          [
           3,
           "Pretreatment"
          ],
          [
           3,
           "Pretreatment Chemicals Source"
          ],
          [
           3,
           "Pretreatment"
          ],
          [
           3,
           "Dilute Acid Solution Source"
          ],
          [
           3,
           "Acid Hydrolysis"
          ],
          [
           3,
           "By-product Utilization"
          ],
          [
           3,
           "Dilute Acid Solution Source"
          ],
          [
           3,
           "Pretreatment"
          ],
          [
           3,
           "Chemical Additives Source"
          ],
          [
           3,
           "Pretreatment"
          ],
          [
           3,
           "Pretreatment"
          ],
          [
           3,
           "Water/Steam Source"
          ],
          [
           3,
           "Acid/Alkali Solution Source"
          ],
          [
           3,
           "Pre-treatment"
          ],
          [
           3,
           "Chemical Treatment Solution Source"
          ],
          [
           3,
           "Pre-treatment"
          ],
          [
           3,
           "Chemical Additive Source"
          ],
          [
           3,
           "Pre-treatment"
          ],
          [
           3,
           "Chemical Additives Source"
          ],
          [
           3,
           "Pretreatment"
          ],
          [
           3,
           "Water or Steam Source"
          ],
          [
           3,
           "Acid Source"
          ],
          [
           3,
           "Pretreatment"
          ],
          [
           3,
           "Acid/Steam Source"
          ],
          [
           3,
           "Pretreatment"
          ],
          [
           3,
           "Pretreatment"
          ],
          [
           3,
           "Pretreatment Chemicals Source"
          ],
          [
           3,
           "Pre-treatment"
          ],
          [
           3,
           "Chemical Agents Source"
          ],
          [
           3,
           "Pretreatment"
          ],
          [
           3,
           "Pretreatment"
          ],
          [
           3,
           "Pretreatment Chemicals Source"
          ],
          [
           3,
           "Pretreatment"
          ],
          [
           3,
           "Pretreatment Chemicals Source"
          ],
          [
           3,
           "Water Source"
          ],
          [
           3,
           "Pretreatment"
          ],
          [
           3,
           "Pretreatment Chemicals Source"
          ],
          [
           3,
           "Pretreatment"
          ],
          [
           3,
           "Water or Acid/Alkali Solution Source"
          ],
          [
           3,
           "Pre-treatment"
          ],
          [
           3,
           "Chemical Additives Source"
          ],
          [
           3,
           "Pretreatment"
          ],
          [
           3,
           "Pretreatment Chemicals Source"
          ],
          [
           3,
           "Pretreatment"
          ],
          [
           3,
           "Dilute Acid Source"
          ],
          [
           3,
           "Pretreatment"
          ],
          [
           3,
           "Water or Steam Source"
          ],
          [
           3,
           "Pretreatment Chemicals Source"
          ],
          [
           3,
           "Pretreatment"
          ],
          [
           3,
           "Pretreatment Chemicals Source"
          ],
          [
           3,
           "Acid Hydrolysis"
          ],
          [
           3,
           "Dilute Acid Solution Source"
          ],
          [
           3,
           "Pretreatment"
          ],
          [
           3,
           "Pretreatment"
          ],
          [
           3,
           "Water Source"
          ],
          [
           3,
           "Chemical Source"
          ],
          [
           3,
           "Pre-treatment"
          ],
          [
           3,
           "Water or Steam Source"
          ],
          [
           3,
           "Chemical Agents Source"
          ],
          [
           3,
           "Pretreatment"
          ],
          [
           3,
           "Water or Steam Source"
          ],
          [
           3,
           "Pretreatment"
          ],
          [
           3,
           "Acid Source"
          ],
          [
           3,
           "Pretreatment"
          ],
          [
           3,
           "Chemical Pretreatment Agent Source"
          ],
          [
           3,
           "Pre-treatment"
          ],
          [
           3,
           "Acid or Alkaline Solution Source"
          ],
          [
           3,
           "Pretreatment"
          ],
          [
           3,
           "Water or Chemical Agents Source"
          ],
          [
           3,
           "Pretreatment"
          ],
          [
           3,
           "Dilute Acid or Steam Source"
          ],
          [
           3,
           "Pretreatment"
          ],
          [
           3,
           "Dilute Acid Solution Source"
          ]
         ],
         "hovertemplate": "Cluster=3<br>cluster=%{customdata[0]}<br>title=%{customdata[1]}<extra></extra>",
         "legendgroup": "3",
         "marker": {
          "color": "#636efa",
          "symbol": "circle"
         },
         "mode": "markers",
         "name": "3",
         "orientation": "v",
         "showlegend": true,
         "type": "scatter",
         "x": [
          2.587428331375122,
          3.583848237991333,
          2.437523603439331,
          3.162351608276367,
          2.73494029045105,
          3.9238619804382324,
          3.3807296752929688,
          2.7512331008911133,
          3.521768808364868,
          2.3497049808502197,
          3.9778997898101807,
          2.7126924991607666,
          1.9071462154388428,
          3.9483494758605957,
          2.109823226928711,
          2.925095796585083,
          2.6498968601226807,
          1.9878695011138916,
          3.1310908794403076,
          2.614926338195801,
          3.9535112380981445,
          5.5803751945495605,
          2.0737032890319824,
          3.9874916076660156,
          2.860865354537964,
          2.981501340866089,
          1.4467098712921143,
          4.113184928894043,
          1.451493740081787,
          4.089364528656006,
          1.8982821702957153,
          3.655885696411133,
          2.851773500442505,
          2.728118658065796,
          2.804880142211914,
          2.6902260780334473,
          2.9002931118011475,
          1.3428430557250977,
          1.6733825206756592,
          4.055832862854004,
          1.9672549962997437,
          3.569089412689209,
          1.900848627090454,
          3.058297634124756,
          1.9462518692016602,
          3.562051296234131,
          2.588989496231079,
          3.5824923515319824,
          2.4637832641601562,
          2.928673028945923,
          1.44899320602417,
          3.8517675399780273,
          5.759791374206543,
          2.724165439605713,
          2.764754295349121,
          3.945546865463257,
          1.8162297010421753,
          2.8516485691070557,
          1.5897449254989624,
          3.7401936054229736,
          2.864884376525879,
          2.6255147457122803,
          4.10559606552124,
          2.799852132797241,
          2.5475893020629883,
          3.115493059158325,
          3.082838535308838,
          1.4838330745697021,
          3.719059944152832,
          1.475343108177185,
          4.049909591674805,
          1.4519703388214111,
          4.047965049743652,
          2.829432725906372,
          3.194610595703125,
          3.030848264694214,
          1.942542314529419,
          3.078347682952881,
          2.6433486938476562,
          1.958951711654663,
          3.7010293006896973,
          1.510945439338684,
          3.668414831161499,
          2.713430643081665,
          1.81783127784729,
          3.933443784713745,
          2.5519940853118896,
          3.8574881553649902,
          3.2340025901794434,
          2.7887914180755615,
          3.7873542308807373,
          2.569504737854004,
          3.1389031410217285,
          1.481101632118225,
          3.8726186752319336,
          1.8361799716949463,
          3.5948355197906494,
          1.9052679538726807,
          2.862253189086914,
          2.6796212196350098,
          3.1652209758758545,
          3.7978458404541016,
          1.8351693153381348,
          3.599169969558716,
          1.7540910243988037,
          2.872619390487671,
          2.6218090057373047,
          2.45843768119812,
          3.253671407699585,
          3.9441778659820557,
          1.4955198764801025,
          3.1605844497680664,
          3.698963165283203,
          2.5687754154205322,
          3.2261457443237305,
          2.809142827987671,
          3.0212700366973877,
          1.8661820888519287,
          3.494065284729004,
          1.440086007118225,
          3.095094919204712,
          2.4923627376556396,
          3.3486735820770264,
          2.526280164718628,
          3.0204474925994873,
          2.6799888610839844,
          2.907400608062744
         ],
         "xaxis": "x",
         "y": [
          -5.738111972808838,
          5.452115535736084,
          -5.936367034912109,
          4.618940830230713,
          -5.82148551940918,
          5.454685688018799,
          4.366759300231934,
          -5.802989482879639,
          5.227370738983154,
          -5.860012531280518,
          5.5479302406311035,
          -5.822962284088135,
          -5.4250078201293945,
          5.465987682342529,
          -5.590723037719727,
          5.157077789306641,
          -5.837070941925049,
          -5.486323356628418,
          5.308721542358398,
          -5.811120986938477,
          5.452617168426514,
          13.799884796142578,
          -5.6368489265441895,
          5.480067729949951,
          -5.661321640014648,
          5.235499382019043,
          -5.976991176605225,
          5.814874649047852,
          -5.962930679321289,
          5.806546211242676,
          -5.358777046203613,
          5.593389511108398,
          -5.719576835632324,
          -5.712331295013428,
          -5.7418212890625,
          -5.891655921936035,
          4.947142124176025,
          -6.034383773803711,
          -5.661932468414307,
          5.827922821044922,
          -5.400619029998779,
          5.642061233520508,
          -5.513494968414307,
          5.350436687469482,
          -5.4504523277282715,
          5.635374546051025,
          -5.773012638092041,
          5.5948333740234375,
          -5.813414096832275,
          5.140160083770752,
          -5.982651710510254,
          5.557424068450928,
          13.49421501159668,
          -5.96088171005249,
          -5.861246585845947,
          5.452088832855225,
          -5.472073554992676,
          4.947039604187012,
          -5.14365816116333,
          5.728427886962891,
          4.980442523956299,
          -5.921642780303955,
          5.8326616287231445,
          -5.629523754119873,
          -5.882670879364014,
          4.427689075469971,
          5.343021392822266,
          -5.940061569213867,
          5.170414924621582,
          -5.954953670501709,
          5.7955403327941895,
          -5.963537693023682,
          5.810757160186768,
          -5.6705803871154785,
          4.407537937164307,
          5.242124080657959,
          -5.531388759613037,
          4.6818976402282715,
          -5.8495659828186035,
          -5.432887554168701,
          5.659873008728027,
          -5.831729412078857,
          5.2637763023376465,
          -5.822996139526367,
          -5.451277732849121,
          5.485567569732666,
          -5.862689971923828,
          5.4972100257873535,
          4.395123481750488,
          -6.012698173522949,
          5.553094387054443,
          -5.892246246337891,
          4.529804229736328,
          -5.942142486572266,
          5.821628093719482,
          -5.456372261047363,
          5.624664783477783,
          -5.428099632263184,
          5.10395622253418,
          -5.759181976318359,
          4.3812642097473145,
          5.563900947570801,
          -5.409833908081055,
          5.611783981323242,
          -5.365923881530762,
          4.901459217071533,
          -5.853297233581543,
          -5.823456287384033,
          4.3852715492248535,
          5.481031894683838,
          -5.961748123168945,
          4.442602157592773,
          5.400962829589844,
          -5.908863067626953,
          4.426402568817139,
          -5.798959255218506,
          4.939001083374023,
          -5.49717378616333,
          5.602849960327148,
          -6.0019378662109375,
          5.228875160217285,
          -5.7214202880859375,
          5.380439758300781,
          -5.844432830810547,
          4.730478286743164,
          -5.740318775177002,
          4.984824180603027
         ],
         "yaxis": "y"
        },
        {
         "customdata": [
          [
           0,
           "Enzymatic Hydrolysis"
          ],
          [
           0,
           "Enzyme Solution Source"
          ],
          [
           0,
           "Enzymatic Hydrolysis"
          ],
          [
           0,
           "Enzyme Solution Source"
          ],
          [
           0,
           "Enzymatic Hydrolysis"
          ],
          [
           0,
           "Enzyme Solution Source"
          ],
          [
           0,
           "Enzymatic Hydrolysis"
          ],
          [
           0,
           "Enzyme Solution Source"
          ],
          [
           0,
           "Enzymatic Hydrolysis"
          ],
          [
           0,
           "Enzyme Solution Source"
          ],
          [
           0,
           "Enzymatic Hydrolysis"
          ],
          [
           0,
           "Enzyme Solution Source"
          ],
          [
           0,
           "Enzymatic Hydrolysis"
          ],
          [
           0,
           "Enzymatic Hydrolysis"
          ],
          [
           0,
           "Cellulase Enzymes Source"
          ],
          [
           0,
           "Enzymatic Hydrolysis"
          ],
          [
           0,
           "Enzyme Solution Source"
          ],
          [
           0,
           "Enzymatic Hydrolysis"
          ],
          [
           0,
           "Enzyme Source"
          ],
          [
           0,
           "Enzymatic Hydrolysis"
          ],
          [
           0,
           "Enzyme Solution Source"
          ],
          [
           0,
           "Enzymatic Hydrolysis"
          ],
          [
           0,
           "Enzyme Solution Source"
          ],
          [
           0,
           "Enzymatic Hydrolysis"
          ],
          [
           0,
           "Enzyme Solution Source"
          ],
          [
           0,
           "Hydrolysis"
          ],
          [
           0,
           "Enzyme Solution Source"
          ],
          [
           0,
           "Hydrolysis"
          ],
          [
           0,
           "Enzyme Solution Source"
          ],
          [
           0,
           "Hydrolysis"
          ],
          [
           0,
           "Enzyme Solution Source"
          ],
          [
           0,
           "Enzymatic Hydrolysis"
          ],
          [
           0,
           "Enzyme Solution Source"
          ],
          [
           0,
           "Enzymatic Hydrolysis"
          ],
          [
           0,
           "Enzyme Solution Source"
          ],
          [
           0,
           "Enzymatic Hydrolysis"
          ],
          [
           0,
           "Enzyme Solution Source"
          ],
          [
           0,
           "Enzymatic Hydrolysis"
          ],
          [
           0,
           "Enzyme Cocktail Source"
          ],
          [
           0,
           "Enzymatic Hydrolysis"
          ],
          [
           0,
           "Enzymatic Hydrolysis"
          ],
          [
           0,
           "Enzyme Source"
          ],
          [
           0,
           "Enzymatic Hydrolysis"
          ],
          [
           0,
           "Enzyme Source"
          ],
          [
           0,
           "Enzymatic Hydrolysis"
          ],
          [
           0,
           "Enzyme Solution Source"
          ],
          [
           0,
           "Enzymatic Hydrolysis"
          ],
          [
           0,
           "Enzyme Solution Source"
          ],
          [
           0,
           "Enzymatic Hydrolysis"
          ],
          [
           0,
           "Enzyme Solution Source"
          ],
          [
           0,
           "Enzymatic Hydrolysis"
          ],
          [
           0,
           "Enzyme Solution Source"
          ],
          [
           0,
           "Enzymatic Hydrolysis"
          ],
          [
           0,
           "Enzyme Solution Source"
          ],
          [
           0,
           "Enzymatic Hydrolysis"
          ],
          [
           0,
           "Enzyme Solution Source"
          ],
          [
           0,
           "Enzymatic Hydrolysis"
          ],
          [
           0,
           "Cellulase Enzyme Source"
          ],
          [
           0,
           "Furfural Production"
          ],
          [
           0,
           "Catalyst Source"
          ],
          [
           0,
           "Enzymatic Hydrolysis"
          ],
          [
           0,
           "Enzyme Solution Source"
          ],
          [
           0,
           "Enzymatic Hydrolysis"
          ],
          [
           0,
           "Enzyme Solution Source"
          ],
          [
           0,
           "Enzymatic Hydrolysis"
          ],
          [
           0,
           "Enzyme Solution Source"
          ],
          [
           0,
           "Enzymatic Hydrolysis"
          ],
          [
           0,
           "Enzyme Solution Source"
          ],
          [
           0,
           "Enzymatic Hydrolysis"
          ],
          [
           0,
           "Enzyme Solution Source"
          ],
          [
           0,
           "Enzymatic Hydrolysis"
          ],
          [
           0,
           "Enzyme Solution Source"
          ],
          [
           0,
           "Enzymatic Hydrolysis"
          ],
          [
           0,
           "Enzyme Solution Source"
          ],
          [
           0,
           "Enzymatic Hydrolysis"
          ],
          [
           0,
           "Enzyme Solution Source"
          ],
          [
           0,
           "Enzymatic Hydrolysis"
          ],
          [
           0,
           "Enzyme Solution Source"
          ],
          [
           0,
           "Enzymatic Hydrolysis"
          ],
          [
           0,
           "Enzyme Addition Source"
          ],
          [
           0,
           "Enzyme Source"
          ],
          [
           0,
           "Enzymatic Hydrolysis"
          ],
          [
           0,
           "Enzyme Solution Source"
          ],
          [
           0,
           "Enzymatic Hydrolysis"
          ],
          [
           0,
           "Enzyme Source"
          ],
          [
           0,
           "Enzymatic Hydrolysis"
          ],
          [
           0,
           "Enzyme Source"
          ],
          [
           0,
           "Enzymatic Hydrolysis"
          ],
          [
           0,
           "Enzyme Solution Source"
          ],
          [
           0,
           "Enzymatic Hydrolysis"
          ],
          [
           0,
           "Enzyme Solution Source"
          ],
          [
           0,
           "Enzymatic Hydrolysis"
          ],
          [
           0,
           "Enzyme Solution Source"
          ],
          [
           0,
           "Enzymatic Additives"
          ],
          [
           0,
           "Enzymatic Hydrolysis"
          ],
          [
           0,
           "Enzyme Solution Source"
          ],
          [
           0,
           "Enzymatic Hydrolysis"
          ],
          [
           0,
           "Enzyme Source"
          ],
          [
           0,
           "Enzymatic Hydrolysis"
          ],
          [
           0,
           "Enzyme Solution Source"
          ],
          [
           0,
           "Enzymatic Hydrolysis"
          ],
          [
           0,
           "Enzyme Source"
          ],
          [
           0,
           "Catalytic Conversion"
          ],
          [
           0,
           "Enzymatic Hydrolysis"
          ],
          [
           0,
           "Enzyme Solution Source"
          ],
          [
           0,
           "Enzymatic Hydrolysis"
          ],
          [
           0,
           "Enzyme Solution Source"
          ],
          [
           0,
           "Enzymatic Hydrolysis"
          ],
          [
           0,
           "Enzyme Solution Source"
          ],
          [
           0,
           "Enzymatic Hydrolysis"
          ],
          [
           0,
           "Enzyme Solution Source"
          ],
          [
           0,
           "Enzymatic Hydrolysis"
          ],
          [
           0,
           "Catalytic Hydrogenation"
          ],
          [
           0,
           "Enzyme Solution Source"
          ],
          [
           0,
           "Catalyst Source"
          ],
          [
           0,
           "Enzymatic Hydrolysis"
          ],
          [
           0,
           "Enzyme Solution Source"
          ],
          [
           0,
           "Hydrolysis"
          ],
          [
           0,
           "Hydrolysis Agent Source"
          ],
          [
           0,
           "Enzymatic Hydrolysis"
          ],
          [
           0,
           "Enzyme Solution Source"
          ],
          [
           0,
           "Enzymatic Hydrolysis"
          ],
          [
           0,
           "Enzyme Solution Source"
          ],
          [
           0,
           "Enzymatic Hydrolysis"
          ],
          [
           0,
           "Enzyme Mixture Source"
          ]
         ],
         "hovertemplate": "Cluster=0<br>cluster=%{customdata[0]}<br>title=%{customdata[1]}<extra></extra>",
         "legendgroup": "0",
         "marker": {
          "color": "#EF553B",
          "symbol": "circle"
         },
         "mode": "markers",
         "name": "0",
         "orientation": "v",
         "showlegend": true,
         "type": "scatter",
         "x": [
          -2.1763832569122314,
          -7.176848888397217,
          -1.5967626571655273,
          -7.001814365386963,
          -1.8788331747055054,
          -6.701156139373779,
          -1.8323405981063843,
          -6.680421352386475,
          -2.044801950454712,
          -6.533483028411865,
          -2.135915994644165,
          -7.11195707321167,
          -1.516951322555542,
          -1.5538018941879272,
          -6.208646774291992,
          -2.15458345413208,
          -6.860240459442139,
          -1.9744455814361572,
          -6.220498085021973,
          -1.8396475315093994,
          -7.08929967880249,
          -1.8256416320800781,
          -7.10580587387085,
          -1.7127642631530762,
          -7.030216217041016,
          -1.9004244804382324,
          -7.0307297706604,
          -2.154329538345337,
          -7.025644779205322,
          -1.982583999633789,
          -6.622008800506592,
          -1.741189956665039,
          -6.966921329498291,
          -1.9517004489898682,
          -6.584794998168945,
          -2.2184603214263916,
          -6.634341239929199,
          -1.8212363719940186,
          -6.281431674957275,
          -1.61482572555542,
          -1.823007583618164,
          -6.153250217437744,
          -1.8345978260040283,
          -6.1906657218933105,
          -1.8658963441848755,
          -6.66020393371582,
          -2.2463972568511963,
          -6.944616317749023,
          -1.8749107122421265,
          -6.887260437011719,
          -1.9749341011047363,
          -6.611144542694092,
          -2.1069517135620117,
          -6.823467254638672,
          -2.13179087638855,
          -6.86651611328125,
          -1.5834414958953857,
          -6.218899250030518,
          -2.079623222351074,
          -6.339202880859375,
          -2.212528705596924,
          -6.673861026763916,
          -2.0949172973632812,
          -6.900113105773926,
          -2.250366449356079,
          -6.975117206573486,
          -2.1564223766326904,
          -6.817566871643066,
          -1.7716039419174194,
          -6.818221569061279,
          -1.7222983837127686,
          -7.023843765258789,
          -2.099184274673462,
          -6.950554370880127,
          -1.6040083169937134,
          -6.799033164978027,
          -2.219573736190796,
          -7.051657199859619,
          -1.6934269666671753,
          -6.121164798736572,
          -6.236504077911377,
          -1.9986448287963867,
          -6.556885719299316,
          -1.9069774150848389,
          -6.1452717781066895,
          -2.1611168384552,
          -6.22908878326416,
          -1.5308412313461304,
          -6.658260822296143,
          -2.2265982627868652,
          -7.121683597564697,
          -2.206936836242676,
          -6.857448101043701,
          -1.9691332578659058,
          -1.7084332704544067,
          -6.836498260498047,
          -1.5437922477722168,
          -6.189680576324463,
          -1.962915062904358,
          -6.907421112060547,
          -1.930894374847412,
          -6.16976261138916,
          -2.12335467338562,
          -2.0829524993896484,
          -7.055673122406006,
          -1.9740543365478516,
          -7.00205135345459,
          -1.7479281425476074,
          -6.972667694091797,
          -1.8739771842956543,
          -6.7809953689575195,
          -1.8976398706436157,
          -2.2040178775787354,
          -6.726894378662109,
          -2.2831740379333496,
          -1.8945010900497437,
          -6.944561958312988,
          -1.9501193761825562,
          -6.49934196472168,
          -2.0990378856658936,
          -6.636656761169434,
          -2.0496528148651123,
          -6.646820545196533,
          -1.9701104164123535,
          -6.202350616455078
         ],
         "xaxis": "x",
         "y": [
          0.2814566493034363,
          2.5654430389404297,
          1.1813915967941284,
          2.3309099674224854,
          1.5122162103652954,
          2.8089089393615723,
          0.6127353310585022,
          2.6925225257873535,
          0.6853762269020081,
          2.870976686477661,
          0.3461756408214569,
          2.4447286128997803,
          1.2991315126419067,
          1.3294025659561157,
          2.7345590591430664,
          0.36623913049697876,
          2.8256585597991943,
          1.5429809093475342,
          2.643770217895508,
          0.9064762592315674,
          2.376866579055786,
          1.1001073122024536,
          2.560289144515991,
          1.228775143623352,
          2.4297068119049072,
          0.9835957884788513,
          2.526806116104126,
          0.41992151737213135,
          2.5125677585601807,
          0.7635499835014343,
          2.7351760864257812,
          1.2018991708755493,
          2.34427547454834,
          0.20588326454162598,
          2.571985960006714,
          0.3763865828514099,
          2.796436309814453,
          0.5171447396278381,
          2.5442349910736084,
          1.3688032627105713,
          1.1885972023010254,
          2.6822781562805176,
          1.3840595483779907,
          2.6087775230407715,
          0.9817306399345398,
          2.6802618503570557,
          0.37656545639038086,
          3.0291552543640137,
          0.4631364941596985,
          2.900866746902466,
          0.3033302128314972,
          2.8133132457733154,
          0.6159490942955017,
          2.7656090259552,
          0.6109094619750977,
          2.6309337615966797,
          1.299914836883545,
          2.722116708755493,
          1.0901771783828735,
          2.5300092697143555,
          0.40618035197257996,
          2.691939115524292,
          0.2889317274093628,
          2.604522943496704,
          0.391221284866333,
          2.5251102447509766,
          0.3196762800216675,
          2.4743924140930176,
          1.1588767766952515,
          2.359370708465576,
          1.302327036857605,
          2.7923078536987305,
          0.6725496053695679,
          2.92248797416687,
          1.1574082374572754,
          2.280194044113159,
          0.2654672861099243,
          2.469564199447632,
          1.227472186088562,
          2.586209774017334,
          2.521590232849121,
          0.5035844445228577,
          2.7133002281188965,
          1.5212366580963135,
          2.5670669078826904,
          0.33258116245269775,
          2.5749030113220215,
          1.405314326286316,
          2.765958786010742,
          0.2380780428647995,
          2.630737066268921,
          0.2492506504058838,
          2.823282480239868,
          1.5703747272491455,
          1.2329788208007812,
          2.8279659748077393,
          1.068305253982544,
          2.6717922687530518,
          0.2846786379814148,
          2.4197239875793457,
          1.501876711845398,
          2.5926175117492676,
          1.7142196893692017,
          0.547202467918396,
          2.4710893630981445,
          0.3336719572544098,
          2.388291120529175,
          1.2486799955368042,
          2.5611965656280518,
          0.46169984340667725,
          2.9396939277648926,
          1.041717767715454,
          1.9757574796676636,
          2.9362142086029053,
          2.133150577545166,
          1.0054149627685547,
          2.384697675704956,
          0.9904991984367371,
          2.7352652549743652,
          0.6283426880836487,
          2.6684763431549072,
          0.8457415103912354,
          2.7290751934051514,
          0.9906235337257385,
          2.553602933883667
         ],
         "yaxis": "y"
        },
        {
         "customdata": [
          [
           8,
           "Fermentation"
          ],
          [
           8,
           "Microbial Culture Source"
          ],
          [
           8,
           "Nutrient Solution Source"
          ],
          [
           8,
           "Fermentation"
          ],
          [
           8,
           "Microbial Culture Source"
          ],
          [
           8,
           "Fermentation"
          ],
          [
           8,
           "Bacterial Culture Source"
          ],
          [
           8,
           "Fermentation"
          ],
          [
           8,
           "Microbial Inoculum Source"
          ],
          [
           8,
           "Fermentation"
          ],
          [
           8,
           "Nutrient Solution Source"
          ],
          [
           8,
           "Fermentation"
          ],
          [
           8,
           "Bacterial Inoculum Source"
          ],
          [
           8,
           "Fermentation"
          ],
          [
           8,
           "Fermentation"
          ],
          [
           8,
           "Bacterial Culture Source"
          ],
          [
           8,
           "Nutrient Solution Source"
          ],
          [
           8,
           "Fermentation"
          ],
          [
           8,
           "Yeast/Fungal Culture Source"
          ],
          [
           8,
           "Fermentation"
          ],
          [
           8,
           "Bacterial Culture Source"
          ],
          [
           8,
           "Fermentation"
          ],
          [
           8,
           "Fermentation"
          ],
          [
           8,
           "Lactic Acid Bacteria Inoculum Source"
          ],
          [
           8,
           "Fermentation"
          ],
          [
           8,
           "Microbial Culture Source"
          ],
          [
           8,
           "Fermentation"
          ],
          [
           8,
           "Yeast/Fungal Culture Source"
          ],
          [
           8,
           "Fermentation"
          ],
          [
           8,
           "Microbial Culture Source"
          ],
          [
           8,
           "Nutrient Solution Source"
          ],
          [
           8,
           "Fermentation"
          ],
          [
           8,
           "Process Waste Source"
          ],
          [
           8,
           "Fermentation"
          ],
          [
           8,
           "Bacterial Culture Source"
          ],
          [
           8,
           "Fermentation"
          ],
          [
           8,
           "Fermentation"
          ],
          [
           8,
           "Bacterial Culture Source"
          ],
          [
           8,
           "Nutrient Solution Source"
          ],
          [
           8,
           "Fermentation"
          ],
          [
           8,
           "Microbial Culture Source"
          ],
          [
           8,
           "Fermentation"
          ],
          [
           8,
           "Fermentation"
          ],
          [
           8,
           "Microorganism Source"
          ],
          [
           8,
           "Fermentation"
          ],
          [
           8,
           "Microorganism Source"
          ],
          [
           8,
           "Nutrient Solution Source"
          ],
          [
           8,
           "Fermentation"
          ],
          [
           8,
           "Yeast Culture Source"
          ],
          [
           8,
           "Fermentation"
          ],
          [
           8,
           "Microbial Culture Source"
          ],
          [
           8,
           "Fermentation"
          ],
          [
           8,
           "Bacterial Culture Source"
          ],
          [
           8,
           "Nutrient and Trace Element Solution Source"
          ],
          [
           8,
           "Fermentation"
          ],
          [
           8,
           "Microbial Culture Source"
          ],
          [
           8,
           "Fermentation"
          ],
          [
           8,
           "Microbial Culture Source"
          ],
          [
           8,
           "Fermentation"
          ],
          [
           8,
           "Bacterial Culture Source"
          ],
          [
           8,
           "Fermentation"
          ],
          [
           8,
           "Microorganism Culture Source"
          ],
          [
           8,
           "Fermentation"
          ],
          [
           8,
           "Microbial Culture Source"
          ],
          [
           8,
           "Fermentation"
          ],
          [
           8,
           "Microbial Culture Source"
          ],
          [
           8,
           "Fermentation"
          ],
          [
           8,
           "Bacterial Culture Source"
          ],
          [
           8,
           "Fermentation"
          ],
          [
           8,
           "Bacterial Culture Source"
          ],
          [
           8,
           "Nutrient Solution Source"
          ],
          [
           8,
           "Fermentation"
          ],
          [
           8,
           "Bacterial Culture Source"
          ],
          [
           8,
           "Fermentation"
          ],
          [
           8,
           "Inoculum Source"
          ],
          [
           8,
           "Fermentation"
          ],
          [
           8,
           "Microbial Culture Source"
          ],
          [
           8,
           "Fermentation"
          ],
          [
           8,
           "Microbial Culture Source"
          ],
          [
           8,
           "Fermentation"
          ],
          [
           8,
           "Bacterial Culture Source"
          ],
          [
           8,
           "Fermentation"
          ],
          [
           8,
           "Fermentation"
          ],
          [
           8,
           "Nutrient Medium Source"
          ],
          [
           8,
           "Fermentation"
          ],
          [
           8,
           "Bacterial Culture Source"
          ],
          [
           8,
           "Fermentation"
          ],
          [
           8,
           "Yeast Culture Source"
          ],
          [
           8,
           "Fermentation"
          ],
          [
           8,
           "Microbial Culture Source"
          ],
          [
           8,
           "Nutrient Solution Source"
          ],
          [
           8,
           "Fermentation"
          ],
          [
           8,
           "Fermentation"
          ],
          [
           8,
           "Microbial Culture Source"
          ],
          [
           8,
           "Fermentation"
          ],
          [
           8,
           "Microbial Culture Source"
          ],
          [
           8,
           "Fermentation"
          ],
          [
           8,
           "Microbial Culture Source"
          ],
          [
           8,
           "Fermentation"
          ],
          [
           8,
           "Microbial Culture Source"
          ],
          [
           8,
           "Fermentation"
          ],
          [
           8,
           "Bacterial Culture Source"
          ],
          [
           8,
           "Fermentation"
          ],
          [
           8,
           "Microorganism Source"
          ],
          [
           8,
           "Fermentation"
          ],
          [
           8,
           "Microbial Inoculum Source"
          ],
          [
           8,
           "Fermentation"
          ],
          [
           8,
           "Bacterial Culture Source"
          ],
          [
           8,
           "Nutrient Solution Source"
          ],
          [
           8,
           "Fermentation"
          ],
          [
           8,
           "Microbial Culture Source"
          ],
          [
           8,
           "Fermentation"
          ],
          [
           8,
           "Bacterial Culture Source"
          ],
          [
           8,
           "Fermentation"
          ],
          [
           8,
           "Microbial Culture Source"
          ],
          [
           8,
           "Fermentation"
          ],
          [
           8,
           "Microbial Inoculum Source"
          ],
          [
           8,
           "Fermentation"
          ],
          [
           8,
           "Microorganism Inoculum Source"
          ],
          [
           8,
           "Fermentation"
          ],
          [
           8,
           "Bacterial Culture Source"
          ],
          [
           8,
           "Nutrient Solution Source"
          ],
          [
           8,
           "Fermentation"
          ],
          [
           8,
           "Microbial Culture Source"
          ]
         ],
         "hovertemplate": "Cluster=8<br>cluster=%{customdata[0]}<br>title=%{customdata[1]}<extra></extra>",
         "legendgroup": "8",
         "marker": {
          "color": "#00cc96",
          "symbol": "circle"
         },
         "mode": "markers",
         "name": "8",
         "orientation": "v",
         "showlegend": true,
         "type": "scatter",
         "x": [
          -9.619134902954102,
          -10.855344772338867,
          -16.045576095581055,
          -9.32390308380127,
          -10.989188194274902,
          -9.462623596191406,
          -10.970343589782715,
          -9.08304214477539,
          -10.532306671142578,
          -9.140396118164062,
          -16.03580665588379,
          -9.136943817138672,
          -10.573357582092285,
          -9.1475248336792,
          -9.207084655761719,
          -11.00391674041748,
          -15.988107681274414,
          -9.147649765014648,
          -10.838035583496094,
          -9.14436149597168,
          -11.102097511291504,
          -9.202518463134766,
          -9.559233665466309,
          -10.555234909057617,
          -9.087244033813477,
          -10.904861450195312,
          -9.276989936828613,
          -10.905465126037598,
          -9.274136543273926,
          -10.867790222167969,
          -16.047815322875977,
          -9.43838882446289,
          7.0691142082214355,
          -9.410115242004395,
          -11.099238395690918,
          -9.67412281036377,
          -9.842303276062012,
          -10.826738357543945,
          -15.958463668823242,
          -9.813894271850586,
          -10.627860069274902,
          -9.331804275512695,
          -9.349949836730957,
          -10.62930679321289,
          -9.460127830505371,
          -10.467020034790039,
          -16.003917694091797,
          -9.522865295410156,
          -10.724126815795898,
          -9.083706855773926,
          -10.86478042602539,
          -9.235125541687012,
          -11.033114433288574,
          -16.02345848083496,
          -9.417985916137695,
          -10.833490371704102,
          -9.203045845031738,
          -10.899066925048828,
          -9.176270484924316,
          -11.07215690612793,
          -9.218171119689941,
          -10.905117988586426,
          -9.128341674804688,
          -10.825282096862793,
          -9.169952392578125,
          -10.924700736999512,
          -9.57055950164795,
          -11.029898643493652,
          -9.185794830322266,
          -11.031465530395508,
          -16.00567626953125,
          -9.237122535705566,
          -11.009865760803223,
          -9.292086601257324,
          -10.569360733032227,
          -9.105378150939941,
          -10.9638671875,
          -9.709792137145996,
          -10.858757019042969,
          -9.78024673461914,
          -11.015764236450195,
          -9.085556983947754,
          -9.061375617980957,
          -16.011444091796875,
          -9.015141487121582,
          -11.018342018127441,
          -9.157848358154297,
          -10.875515937805176,
          -9.200366020202637,
          -10.77674388885498,
          -15.954018592834473,
          -9.22650146484375,
          -9.34619140625,
          -10.692511558532715,
          -9.141546249389648,
          -10.7769136428833,
          -9.470442771911621,
          -10.631564140319824,
          -9.366308212280273,
          -10.778980255126953,
          -9.276087760925293,
          -11.02885913848877,
          -9.685752868652344,
          -10.776396751403809,
          -9.941356658935547,
          -10.407593727111816,
          -9.923110961914062,
          -10.951240539550781,
          -15.992729187011719,
          -9.91685676574707,
          -10.425910949707031,
          -9.862638473510742,
          -10.745832443237305,
          -9.783515930175781,
          -10.517853736877441,
          -9.774577140808105,
          -10.461414337158203,
          -9.793553352355957,
          -10.51486587524414,
          -9.793501853942871,
          -10.435808181762695,
          -15.992711067199707,
          -9.854955673217773,
          -10.32770824432373
         ],
         "xaxis": "x",
         "y": [
          15.514055252075195,
          15.563180923461914,
          14.617080688476562,
          15.652008056640625,
          15.329728126525879,
          15.636005401611328,
          15.761260032653809,
          15.694448471069336,
          14.755538940429688,
          15.801405906677246,
          14.656800270080566,
          15.773829460144043,
          14.73697280883789,
          15.086979866027832,
          14.992247581481934,
          15.689358711242676,
          14.646047592163086,
          15.17121696472168,
          15.040722846984863,
          15.112631797790527,
          15.667536735534668,
          15.078299522399902,
          15.636063575744629,
          14.727152824401855,
          15.641551971435547,
          15.053452491760254,
          15.760533332824707,
          15.039822578430176,
          15.563009262084961,
          15.137426376342773,
          14.612247467041016,
          15.22106647491455,
          11.740610122680664,
          15.716508865356445,
          15.718171119689941,
          15.800091743469238,
          15.851428985595703,
          15.813278198242188,
          14.687809944152832,
          15.89344310760498,
          15.648653984069824,
          15.110279083251953,
          15.048416137695312,
          14.978656768798828,
          15.01079273223877,
          15.039334297180176,
          14.68076229095459,
          14.977551460266113,
          15.052800178527832,
          15.820621490478516,
          15.212260246276855,
          15.830703735351562,
          15.6536226272583,
          14.69985294342041,
          15.761333465576172,
          15.438363075256348,
          15.404204368591309,
          15.19644546508789,
          15.53724193572998,
          15.643448829650879,
          15.361434936523438,
          15.234665870666504,
          15.535320281982422,
          15.180440902709961,
          15.522283554077148,
          15.192265510559082,
          15.672168731689453,
          15.708867073059082,
          15.911652565002441,
          15.622356414794922,
          14.6533842086792,
          15.877896308898926,
          15.689936637878418,
          15.924811363220215,
          14.753997802734375,
          15.834663391113281,
          15.321564674377441,
          15.434412956237793,
          15.111458778381348,
          15.629204750061035,
          15.798190116882324,
          15.602485656738281,
          15.602739334106445,
          14.663089752197266,
          15.55876636505127,
          15.589109420776367,
          15.225964546203613,
          15.066576957702637,
          15.458393096923828,
          15.252578735351562,
          14.704305648803711,
          15.484545707702637,
          15.408761024475098,
          15.378726959228516,
          15.503710746765137,
          15.28111743927002,
          15.453269004821777,
          15.277881622314453,
          15.422188758850098,
          15.220609664916992,
          15.492144584655762,
          15.702325820922852,
          15.50339412689209,
          15.025385856628418,
          15.553848266601562,
          14.772048950195312,
          15.66793441772461,
          15.794356346130371,
          14.660219192504883,
          15.52859115600586,
          15.474109649658203,
          15.64074420928955,
          15.751809120178223,
          15.39136028289795,
          15.5713472366333,
          14.907205581665039,
          14.808114051818848,
          14.937889099121094,
          14.795676231384277,
          14.943305969238281,
          15.145135879516602,
          14.643999099731445,
          14.970690727233887,
          15.076342582702637
         ],
         "yaxis": "y"
        },
        {
         "customdata": [
          [
           2,
           "Product Recovery"
          ],
          [
           2,
           "Cell Separation"
          ],
          [
           2,
           "Product Recovery"
          ],
          [
           2,
           "Broth Clarification"
          ],
          [
           2,
           "Broth Separation"
          ],
          [
           2,
           "Cell Separation"
          ],
          [
           2,
           "Cell Separation"
          ],
          [
           2,
           "Acetoin Recovery"
          ],
          [
           2,
           "Separation and Purification"
          ],
          [
           2,
           "Product Recovery"
          ],
          [
           2,
           "Cell Separation"
          ],
          [
           2,
           "Product Recovery"
          ],
          [
           2,
           "Separation"
          ],
          [
           2,
           "Product Recovery"
          ],
          [
           2,
           "Separation"
          ],
          [
           2,
           "Separation"
          ],
          [
           2,
           "Separation"
          ],
          [
           2,
           "Product Recovery"
          ],
          [
           2,
           "Broth Separation"
          ],
          [
           2,
           "Cell Separation"
          ],
          [
           2,
           "Cell Separation"
          ],
          [
           2,
           "Cell Separation"
          ],
          [
           2,
           "Product Recovery"
          ],
          [
           2,
           "Separation and Purification"
          ],
          [
           2,
           "Product Recovery"
          ],
          [
           2,
           "Product Recovery"
          ],
          [
           2,
           "Cell Separation"
          ],
          [
           2,
           "Cell Separation"
          ],
          [
           2,
           "Cell Separation"
          ],
          [
           2,
           "Product Recovery"
          ],
          [
           2,
           "Broth Separation"
          ],
          [
           2,
           "Product Recovery"
          ],
          [
           2,
           "Broth Separation"
          ],
          [
           2,
           "Broth Separation"
          ],
          [
           2,
           "Broth Separation"
          ],
          [
           2,
           "Broth Separation"
          ],
          [
           2,
           "Broth Clarification"
          ],
          [
           2,
           "Cell Separation"
          ],
          [
           2,
           "Broth Separation"
          ],
          [
           2,
           "Product Recovery and Purification"
          ],
          [
           2,
           "Cell Separation"
          ],
          [
           2,
           "Broth Separation"
          ],
          [
           2,
           "Broth Filtration"
          ],
          [
           2,
           "Broth Filtration"
          ],
          [
           2,
           "Distillation"
          ],
          [
           2,
           "Separation and Purification"
          ],
          [
           2,
           "Cell Separation"
          ],
          [
           2,
           "Broth Clarification"
          ],
          [
           2,
           "Broth Separation"
          ],
          [
           2,
           "Product Recovery"
          ],
          [
           2,
           "Product Recovery"
          ],
          [
           2,
           "Cell Separation"
          ],
          [
           2,
           "Product Recovery"
          ],
          [
           2,
           "Cell Separation"
          ],
          [
           2,
           "Broth Separation"
          ],
          [
           2,
           "Separation"
          ],
          [
           2,
           "Cell Separation"
          ],
          [
           2,
           "Filtration and Separation"
          ],
          [
           2,
           "Product Recovery and Purification"
          ],
          [
           2,
           "Separation and Purification"
          ],
          [
           2,
           "Cell Separation"
          ],
          [
           2,
           "Cell Separation"
          ],
          [
           2,
           "Filtration"
          ],
          [
           2,
           "Separation and Purification"
          ]
         ],
         "hovertemplate": "Cluster=2<br>cluster=%{customdata[0]}<br>title=%{customdata[1]}<extra></extra>",
         "legendgroup": "2",
         "marker": {
          "color": "#ab63fa",
          "symbol": "circle"
         },
         "mode": "markers",
         "name": "2",
         "orientation": "v",
         "showlegend": true,
         "type": "scatter",
         "x": [
          0.7838734984397888,
          -0.5697234869003296,
          0.6449339389801025,
          0.04085904732346535,
          -0.04222091659903526,
          -0.783823549747467,
          -0.7596749663352966,
          0.5544775128364563,
          0.3953925371170044,
          0.3217110335826874,
          -0.7104727029800415,
          0.40272751450538635,
          0.29015597701072693,
          0.4834292232990265,
          -0.08922094106674194,
          -0.05348516255617142,
          0.11632238328456879,
          0.464579701423645,
          0.026836764067411423,
          -0.732771098613739,
          -0.8538365364074707,
          -0.8842623829841614,
          0.8783381581306458,
          0.5873386859893799,
          0.6284762620925903,
          0.6567234992980957,
          -0.7619699835777283,
          -0.7262428998947144,
          -0.837286651134491,
          0.9191009998321533,
          -0.0012943254550918937,
          0.8358032703399658,
          0.00489578815177083,
          -0.010658973827958107,
          0.07926582545042038,
          -0.03770287707448006,
          -0.042403027415275574,
          -0.8569221496582031,
          -0.022875580936670303,
          0.5851489901542664,
          -0.5994889140129089,
          0.06178274005651474,
          -0.10448707640171051,
          -0.13390375673770905,
          0.1350983828306198,
          1.3848609924316406,
          -0.769920289516449,
          0.16259925067424774,
          0.11853934079408646,
          0.65358966588974,
          0.6068443059921265,
          -0.7311522364616394,
          0.6424723267555237,
          -0.6924994587898254,
          0.03435828164219856,
          0.880465567111969,
          -0.7639089226722717,
          -0.6714253425598145,
          1.0616260766983032,
          1.0904983282089233,
          -0.7108298540115356,
          -0.7373290657997131,
          -0.6330774426460266,
          1.1110962629318237
         ],
         "xaxis": "x",
         "y": [
          11.3067045211792,
          10.537155151367188,
          11.072736740112305,
          10.762505531311035,
          10.763179779052734,
          10.36398983001709,
          10.398590087890625,
          11.602860450744629,
          10.858794212341309,
          10.82421588897705,
          10.4327392578125,
          10.837862014770508,
          10.759441375732422,
          11.11355972290039,
          10.890612602233887,
          10.937018394470215,
          10.91429615020752,
          11.029133796691895,
          10.7736177444458,
          10.415915489196777,
          10.334572792053223,
          10.325181007385254,
          10.477341651916504,
          10.59656047821045,
          10.791946411132812,
          10.838482856750488,
          10.438544273376465,
          10.434015274047852,
          10.360350608825684,
          11.016627311706543,
          10.805984497070312,
          10.945478439331055,
          10.736224174499512,
          10.776518821716309,
          10.802855491638184,
          10.731051445007324,
          10.72928237915039,
          10.391746520996094,
          10.816366195678711,
          11.05303955078125,
          10.364078521728516,
          10.822885513305664,
          10.574779510498047,
          10.596153259277344,
          10.78528118133545,
          11.302855491638184,
          10.387619018554688,
          10.641702651977539,
          10.682160377502441,
          10.92634105682373,
          10.921772956848145,
          10.403079986572266,
          10.9600191116333,
          10.435318946838379,
          10.750828742980957,
          10.142885208129883,
          10.36115837097168,
          10.480498313903809,
          10.174785614013672,
          10.098795890808105,
          10.386993408203125,
          10.289161682128906,
          10.471186637878418,
          10.074633598327637
         ],
         "yaxis": "y"
        },
        {
         "customdata": [
          [
           9,
           "Chemical Conversion"
          ],
          [
           9,
           "Product Purification"
          ],
          [
           9,
           "Catalyst Source"
          ],
          [
           9,
           "Purification"
          ],
          [
           9,
           "Purification"
          ],
          [
           9,
           "Acetoin Purification"
          ],
          [
           9,
           "Acetoin Recovery"
          ],
          [
           9,
           "Acetoin Purification"
          ],
          [
           9,
           "Purification"
          ],
          [
           9,
           "Glycerol Purification"
          ],
          [
           9,
           "Glycerol Purification"
          ],
          [
           9,
           "Glycerol Purification"
          ],
          [
           9,
           "Purification"
          ],
          [
           9,
           "Purification"
          ],
          [
           9,
           "Purification"
          ],
          [
           9,
           "Neutralization Agent Source"
          ],
          [
           9,
           "Purification"
          ],
          [
           9,
           "Purification"
          ],
          [
           9,
           "Purification"
          ],
          [
           9,
           "Purification"
          ],
          [
           9,
           "Purification"
          ],
          [
           9,
           "Crystallization"
          ],
          [
           9,
           "Serine Recovery"
          ],
          [
           9,
           "Purification"
          ],
          [
           9,
           "Purification"
          ],
          [
           9,
           "Final Purification"
          ],
          [
           9,
           "Water Supply Source"
          ],
          [
           9,
           "Purification"
          ],
          [
           9,
           "Purification"
          ],
          [
           9,
           "Purification"
          ],
          [
           9,
           "Purification"
          ],
          [
           9,
           "Purification"
          ],
          [
           9,
           "Purification"
          ],
          [
           9,
           "Fumaric Acid Recovery"
          ],
          [
           9,
           "Fumaric Acid Purification"
          ],
          [
           9,
           "Purification"
          ],
          [
           9,
           "Separation and Purification"
          ],
          [
           9,
           "Purification"
          ],
          [
           9,
           "Purification"
          ],
          [
           9,
           "Acid Recovery and Purification"
          ],
          [
           9,
           "Purification"
          ],
          [
           9,
           "Succinic Acid Recovery"
          ],
          [
           9,
           "Purification"
          ],
          [
           9,
           "Purification"
          ],
          [
           9,
           "Purification"
          ],
          [
           9,
           "Purification"
          ],
          [
           9,
           "Aconitic Acid Recovery"
          ],
          [
           9,
           "Purification"
          ],
          [
           9,
           "Citric Acid Recovery"
          ],
          [
           9,
           "Concentration and Crystallization"
          ],
          [
           9,
           "Calcium Hydroxide Source"
          ],
          [
           9,
           "Sulfuric Acid Source"
          ],
          [
           9,
           "Citric Acid Recovery"
          ],
          [
           9,
           "Citric Acid Purification"
          ],
          [
           9,
           "Dehydration"
          ],
          [
           9,
           "Purification"
          ],
          [
           9,
           "Crystallization"
          ],
          [
           9,
           "Purification"
          ],
          [
           9,
           "Purification"
          ],
          [
           9,
           "Concentration"
          ],
          [
           9,
           "Final Purification and Drying"
          ],
          [
           9,
           "Purification"
          ],
          [
           9,
           "Purification"
          ],
          [
           9,
           "Purification"
          ],
          [
           9,
           "Neutralization and Separation"
          ],
          [
           9,
           "Purification"
          ],
          [
           9,
           "Neutralizing Agent Source"
          ],
          [
           9,
           "Purification"
          ],
          [
           9,
           "Lysine Recovery"
          ],
          [
           9,
           "Lysine Purification"
          ],
          [
           9,
           "Purification"
          ],
          [
           9,
           "Purification"
          ],
          [
           9,
           "Purification"
          ],
          [
           9,
           "Detoxification"
          ],
          [
           9,
           "Purification"
          ],
          [
           9,
           "Purification"
          ]
         ],
         "hovertemplate": "Cluster=9<br>cluster=%{customdata[0]}<br>title=%{customdata[1]}<extra></extra>",
         "legendgroup": "9",
         "marker": {
          "color": "#FFA15A",
          "symbol": "circle"
         },
         "mode": "markers",
         "name": "9",
         "orientation": "v",
         "showlegend": true,
         "type": "scatter",
         "x": [
          1.6328502893447876,
          1.5895650386810303,
          1.6781686544418335,
          1.4768682718276978,
          1.3090128898620605,
          0.673324704170227,
          0.6277470588684082,
          0.6647222638130188,
          0.6757718324661255,
          2.206634283065796,
          2.123528003692627,
          2.216153144836426,
          2.1811399459838867,
          1.2119221687316895,
          1.1904727220535278,
          3.1771938800811768,
          1.171744704246521,
          1.1796118021011353,
          1.1970434188842773,
          1.2922126054763794,
          1.6060316562652588,
          2.039708137512207,
          1.7941149473190308,
          1.6587722301483154,
          1.361694097518921,
          1.3765581846237183,
          2.8037710189819336,
          1.3944181203842163,
          1.4040122032165527,
          1.3065309524536133,
          1.3008997440338135,
          1.3446235656738281,
          1.1879650354385376,
          0.9835237264633179,
          1.185489296913147,
          1.1598857641220093,
          1.0801211595535278,
          1.658350944519043,
          1.22459876537323,
          1.2710213661193848,
          1.237774133682251,
          1.288136601448059,
          1.311190128326416,
          1.324512004852295,
          1.2835488319396973,
          0.9716838002204895,
          1.245640516281128,
          1.23429536819458,
          1.404801607131958,
          1.5865858793258667,
          1.4275306463241577,
          1.4177604913711548,
          1.3245817422866821,
          1.4245692491531372,
          2.419400930404663,
          1.6805709600448608,
          2.2383108139038086,
          1.5590271949768066,
          1.7980988025665283,
          1.831329584121704,
          1.9809402227401733,
          2.025508165359497,
          1.5703240633010864,
          1.2568000555038452,
          3.0423500537872314,
          1.5023854970932007,
          3.06461501121521,
          1.7268389463424683,
          1.736307144165039,
          1.9104644060134888,
          1.8205888271331787,
          1.70828115940094,
          1.8887239694595337,
          4.871247291564941,
          1.2664285898208618,
          1.1559425592422485
         ],
         "xaxis": "x",
         "y": [
          12.344496726989746,
          12.214966773986816,
          12.382987976074219,
          11.977368354797363,
          11.817046165466309,
          11.75059986114502,
          11.631814002990723,
          11.74337100982666,
          11.76394271850586,
          12.069941520690918,
          12.043744087219238,
          12.070972442626953,
          12.058834075927734,
          11.61673355102539,
          11.743659019470215,
          5.546566009521484,
          11.801280975341797,
          11.755097389221191,
          11.572669982910156,
          11.779340744018555,
          11.74831771850586,
          11.449759483337402,
          11.58473014831543,
          11.739469528198242,
          10.360363006591797,
          10.38101577758789,
          11.465411186218262,
          10.407191276550293,
          10.412627220153809,
          11.82983112335205,
          11.876838684082031,
          11.861430168151855,
          11.201333045959473,
          11.057250022888184,
          11.174630165100098,
          11.188570022583008,
          11.717262268066406,
          11.58239459991455,
          11.832475662231445,
          11.798859596252441,
          12.082258224487305,
          11.984466552734375,
          11.971550941467285,
          12.01776123046875,
          11.985984802246094,
          11.440232276916504,
          11.790270805358887,
          11.700215339660645,
          10.817891120910645,
          11.018336296081543,
          10.73637866973877,
          10.78197956085205,
          10.885427474975586,
          10.994759559631348,
          12.077481269836426,
          11.570170402526855,
          11.216635704040527,
          11.57475471496582,
          11.583319664001465,
          11.613152503967285,
          11.43058967590332,
          11.66661548614502,
          11.658365249633789,
          11.557451248168945,
          5.476818084716797,
          11.450286865234375,
          5.5394978523254395,
          11.474713325500488,
          11.489437103271484,
          11.387093544006348,
          10.066838264465332,
          10.080669403076172,
          10.03530502319336,
          12.081393241882324,
          10.030584335327148,
          10.064920425415039
         ],
         "yaxis": "y"
        },
        {
         "customdata": [
          [
           4,
           "Raw Corn Stover Source"
          ],
          [
           4,
           "Raw Corn Stover Source"
          ],
          [
           4,
           "Raw Corn Stover Source"
          ],
          [
           4,
           "Raw Corn Stover Source"
          ],
          [
           4,
           "Steam Source"
          ],
          [
           4,
           "Raw Corn Stover Source"
          ],
          [
           4,
           "Raw Corn Stover Source"
          ],
          [
           4,
           "Feedstock Preparation"
          ],
          [
           4,
           "Raw Corn Stover Source"
          ],
          [
           4,
           "Feedstock Preparation"
          ],
          [
           4,
           "Raw Corn Stover Source"
          ],
          [
           4,
           "Raw Corn Stover Source"
          ],
          [
           4,
           "Feedstock Preparation"
          ],
          [
           4,
           "Raw Corn Stover Source"
          ],
          [
           4,
           "Raw Corn Stover Source"
          ],
          [
           4,
           "Feedstock Preparation"
          ],
          [
           4,
           "Raw Corn Stover Source"
          ],
          [
           4,
           "Raw Corn Stover Source"
          ],
          [
           4,
           "Raw Corn Stover Source"
          ],
          [
           4,
           "Raw Corn Stover Source"
          ],
          [
           4,
           "Water Source"
          ],
          [
           4,
           "Feedstock Preparation"
          ],
          [
           4,
           "Raw Corn Stover Source"
          ],
          [
           4,
           "Raw Corn Stover Source"
          ],
          [
           4,
           "Raw Corn Stover Source"
          ],
          [
           4,
           "Raw Corn Stover Source"
          ],
          [
           4,
           "Raw Corn Stover Source"
          ],
          [
           4,
           "Raw Corn Stover Source"
          ],
          [
           4,
           "Feedstock Preparation"
          ],
          [
           4,
           "Raw Corn Stover Source"
          ],
          [
           4,
           "Feedstock Preparation"
          ],
          [
           4,
           "Raw Corn Stover Source"
          ],
          [
           4,
           "Feedstock Preparation"
          ],
          [
           4,
           "Raw Corn Stover Source"
          ],
          [
           4,
           "Raw Corn Stover Source"
          ],
          [
           4,
           "Raw Corn Stover Source"
          ],
          [
           4,
           "Raw Corn Stover Source"
          ],
          [
           4,
           "Raw Corn Stover Source"
          ],
          [
           4,
           "Raw Corn Stover Source"
          ],
          [
           4,
           "Feedstock Preparation"
          ],
          [
           4,
           "Raw Corn Stover Source"
          ],
          [
           4,
           "Feedstock Preparation"
          ],
          [
           4,
           "Raw Corn Stover Source"
          ],
          [
           4,
           "Raw Corn Stover Source"
          ],
          [
           4,
           "Raw Corn Stover Source"
          ],
          [
           4,
           "Raw Corn Stover Source"
          ],
          [
           4,
           "Raw Corn Stover Source"
          ],
          [
           4,
           "Raw Corn Stover Source"
          ],
          [
           4,
           "Raw Corn Stover Source"
          ],
          [
           4,
           "Raw Corn Stover Source"
          ],
          [
           4,
           "Feedstock Preparation"
          ],
          [
           4,
           "Raw Corn Stover Source"
          ],
          [
           4,
           "Raw Corn Stover Source"
          ],
          [
           4,
           "Feedstock Preparation"
          ],
          [
           4,
           "Raw Corn Stover Source"
          ],
          [
           4,
           "Raw Corn Stover Source"
          ],
          [
           4,
           "Raw Corn Stover Source"
          ],
          [
           4,
           "Feedstock Preparation"
          ],
          [
           4,
           "Raw Corn Stover Source"
          ],
          [
           4,
           "Raw Corn Stover Source"
          ],
          [
           4,
           "Raw Corn Stover Source"
          ],
          [
           4,
           "Corn Stover Feed Source"
          ],
          [
           4,
           "Raw Corn Stover Source"
          ],
          [
           4,
           "Feedstock Preparation"
          ],
          [
           4,
           "Raw Corn Stover Source"
          ],
          [
           4,
           "Feedstock Preparation"
          ],
          [
           4,
           "Raw Corn Stover Source"
          ],
          [
           4,
           "Raw Corn Stover Source"
          ],
          [
           4,
           "Feedstock Preparation"
          ],
          [
           4,
           "Raw Corn Stover Source"
          ],
          [
           4,
           "Feedstock Preparation"
          ],
          [
           4,
           "Raw Corn Stover Source"
          ],
          [
           4,
           "Raw Corn Stover Source"
          ],
          [
           4,
           "Raw Corn Stover Source"
          ],
          [
           4,
           "Steam Source"
          ],
          [
           4,
           "Raw Corn Stover Source"
          ],
          [
           4,
           "Raw Corn Stover Source"
          ],
          [
           4,
           "Raw Corn Stover Source"
          ],
          [
           4,
           "Water/Steam Source"
          ],
          [
           4,
           "Feedstock Preparation"
          ],
          [
           4,
           "Raw Corn Stover Source"
          ],
          [
           4,
           "Raw Corn Stover Source"
          ],
          [
           4,
           "Water Source"
          ],
          [
           4,
           "Raw Corn Stover Source"
          ],
          [
           4,
           "Raw Corn Stover Source"
          ],
          [
           4,
           "Raw Corn Stover Source"
          ]
         ],
         "hovertemplate": "Cluster=4<br>cluster=%{customdata[0]}<br>title=%{customdata[1]}<extra></extra>",
         "legendgroup": "4",
         "marker": {
          "color": "#19d3f3",
          "symbol": "circle"
         },
         "mode": "markers",
         "name": "4",
         "orientation": "v",
         "showlegend": true,
         "type": "scatter",
         "x": [
          16.840402603149414,
          16.57188606262207,
          16.77607536315918,
          16.708229064941406,
          3.1236186027526855,
          16.82037925720215,
          17.08347511291504,
          -4.54280948638916,
          16.74660301208496,
          -4.5411834716796875,
          16.70150375366211,
          16.674938201904297,
          -4.568377494812012,
          16.689355850219727,
          16.47715950012207,
          -4.632347106933594,
          17.07752799987793,
          16.780630111694336,
          16.814382553100586,
          17.100324630737305,
          3.2443435192108154,
          -4.651074409484863,
          17.17467498779297,
          16.57730484008789,
          16.511667251586914,
          16.664506912231445,
          16.84646224975586,
          16.678071975708008,
          -4.536259174346924,
          16.60027503967285,
          -4.603181838989258,
          16.845077514648438,
          -4.6235032081604,
          16.536056518554688,
          16.50568389892578,
          16.62135887145996,
          16.63977813720703,
          16.612672805786133,
          16.60812759399414,
          -4.584111213684082,
          16.995649337768555,
          -4.557770252227783,
          16.4488468170166,
          17.003141403198242,
          16.889385223388672,
          17.0422306060791,
          17.01163101196289,
          16.828847885131836,
          16.626771926879883,
          16.619375228881836,
          -4.592992782592773,
          16.829824447631836,
          16.638511657714844,
          -4.663508892059326,
          17.139087677001953,
          16.639480590820312,
          16.662233352661133,
          -4.595564842224121,
          16.786876678466797,
          16.31682586669922,
          16.459806442260742,
          16.450511932373047,
          17.030128479003906,
          -4.588738918304443,
          16.91801643371582,
          -4.65083646774292,
          17.15688705444336,
          16.650455474853516,
          -4.645270347595215,
          17.14256477355957,
          -4.605972766876221,
          16.89754867553711,
          16.86653709411621,
          16.62725830078125,
          3.1609280109405518,
          16.749679565429688,
          16.558847427368164,
          16.59945297241211,
          3.201474189758301,
          -4.563754558563232,
          16.503984451293945,
          16.85848045349121,
          3.2840206623077393,
          16.536479949951172,
          16.48560905456543,
          16.601049423217773
         ],
         "xaxis": "x",
         "y": [
          11.492213249206543,
          11.813983917236328,
          12.408110618591309,
          12.016031265258789,
          4.397022724151611,
          12.220002174377441,
          11.907903671264648,
          -8.474770545959473,
          11.821723937988281,
          -8.392757415771484,
          11.9839448928833,
          12.36447811126709,
          -8.435962677001953,
          12.042998313903809,
          12.196520805358887,
          -8.493094444274902,
          11.877631187438965,
          12.4136962890625,
          11.742437362670898,
          11.596137046813965,
          4.325334072113037,
          -8.512528419494629,
          11.73489761352539,
          12.268686294555664,
          12.021716117858887,
          12.471271514892578,
          11.52878475189209,
          11.797921180725098,
          -8.398402214050293,
          12.468016624450684,
          -8.455723762512207,
          11.532485008239746,
          -8.519843101501465,
          12.158620834350586,
          12.58160400390625,
          12.51876163482666,
          12.46441650390625,
          12.34213924407959,
          12.46381664276123,
          -8.44134521484375,
          11.98753833770752,
          -8.410067558288574,
          12.100569725036621,
          12.016484260559082,
          11.464777946472168,
          11.930419921875,
          11.59698486328125,
          12.388837814331055,
          12.4613037109375,
          12.334623336791992,
          -8.423368453979492,
          11.661460876464844,
          12.021300315856934,
          -8.513053894042969,
          11.692300796508789,
          12.382122993469238,
          12.448174476623535,
          -8.498551368713379,
          11.61697769165039,
          12.277242660522461,
          12.152933120727539,
          12.021259307861328,
          12.002620697021484,
          -8.409895896911621,
          11.48830795288086,
          -8.482836723327637,
          11.7770357131958,
          12.425553321838379,
          -8.468655586242676,
          11.751545906066895,
          -8.468422889709473,
          11.607450485229492,
          11.498772621154785,
          12.380395889282227,
          4.4206390380859375,
          11.774642944335938,
          12.380437850952148,
          12.164870262145996,
          4.441006660461426,
          -8.435247421264648,
          12.032807350158691,
          12.104523658752441,
          4.334298610687256,
          12.379941940307617,
          12.177363395690918,
          12.297683715820312
         ],
         "yaxis": "y"
        },
        {
         "customdata": [
          [
           5,
           "Waste Stream Sink"
          ],
          [
           5,
           "High-Purity 3-Hydroxy Butyrolactone Sink"
          ],
          [
           5,
           "Water Sink"
          ],
          [
           5,
           "Biomass Waste Sink"
          ],
          [
           5,
           "Waste Stream Sink"
          ],
          [
           5,
           "Purified 3-Hydroxypropionic Acid Sink"
          ],
          [
           5,
           "Lignin Waste Sink"
          ],
          [
           5,
           "Impurity Stream Sink"
          ],
          [
           5,
           "Solid Waste Sink"
          ],
          [
           5,
           "Waste Stream Sink"
          ],
          [
           5,
           "Packaged 3-Hydroxypropionic Acid Sink"
          ],
          [
           5,
           "Pretreatment Effluent Sink"
          ],
          [
           5,
           "Waste Treatment"
          ],
          [
           5,
           "Purified Acetoin Sink"
          ],
          [
           5,
           "Treated Waste Sink"
          ],
          [
           5,
           "Biomass Waste Sink"
          ],
          [
           5,
           "Aqueous Waste Sink"
          ],
          [
           5,
           "Purified Acetoin Sink"
          ],
          [
           5,
           "Biomass Waste Sink"
          ],
          [
           5,
           "Aqueous Waste Sink"
          ],
          [
           5,
           "Purified Acetoin Sink"
          ],
          [
           5,
           "Impurity Waste Sink"
          ],
          [
           5,
           "Waste Treatment"
          ],
          [
           5,
           "Purified Glycerol Sink"
          ],
          [
           5,
           "Treated Effluent Sink"
          ],
          [
           5,
           "Waste Treatment"
          ],
          [
           5,
           "Purified Glycerol Sink"
          ],
          [
           5,
           "Treated Waste Sink"
          ],
          [
           5,
           "Soluble Hemicellulose Extract Sink"
          ],
          [
           5,
           "Waste Treatment"
          ],
          [
           5,
           "Glycerol Sink"
          ],
          [
           5,
           "Treated Waste Sink"
          ],
          [
           5,
           "Solid Waste Sink"
          ],
          [
           5,
           "Purified Glycerol Sink"
          ],
          [
           5,
           "Waste Stream Sink"
          ],
          [
           5,
           "Waste Treatment"
          ],
          [
           5,
           "Purified Glycerol Sink"
          ],
          [
           5,
           "Treated Waste Sink"
          ],
          [
           5,
           "Liquid Effluent Source"
          ],
          [
           5,
           "Purified Lactic Acid Sink"
          ],
          [
           5,
           "Solubilized Hemicellulose and Byproducts Sink"
          ],
          [
           5,
           "Waste Stream Sink"
          ],
          [
           5,
           "Waste Treatment"
          ],
          [
           5,
           "Purified Lactic Acid Sink"
          ],
          [
           5,
           "Treated Waste Sink"
          ],
          [
           5,
           "Acid Hydrolysis Byproducts Sink"
          ],
          [
           5,
           "Solid Waste Sink"
          ],
          [
           5,
           "Impurity Stream Sink"
          ],
          [
           5,
           "Packaged Lactic Acid Sink"
          ],
          [
           5,
           "Waste Stream Sink"
          ],
          [
           5,
           "Mother Liquor Sink"
          ],
          [
           5,
           "Packaged Malonic Acid Sink"
          ],
          [
           5,
           "Solvent Stream Sink"
          ],
          [
           5,
           "Waste Treatment"
          ],
          [
           5,
           "Pure Malonic Acid Sink"
          ],
          [
           5,
           "Treated Waste Sink"
          ],
          [
           5,
           "Biomass Residue Sink"
          ],
          [
           5,
           "Aqueous Waste Sink"
          ],
          [
           5,
           "Waste Treatment"
          ],
          [
           5,
           "Purified Propionic Acid Sink"
          ],
          [
           5,
           "Treated Waste Sink"
          ],
          [
           5,
           "Biomass Waste Sink"
          ],
          [
           5,
           "Impurity Sink"
          ],
          [
           5,
           "Crystalline Serine Sink"
          ],
          [
           5,
           "Waste Treatment"
          ],
          [
           5,
           "Serine Sink"
          ],
          [
           5,
           "Treated Effluent Sink"
          ],
          [
           5,
           "Cell Pellet Sink"
          ],
          [
           5,
           "Waste Stream Sink"
          ],
          [
           5,
           "Packaged Serine Sink"
          ],
          [
           5,
           "Waste Management"
          ],
          [
           5,
           "Pure Arabitol Sink"
          ],
          [
           5,
           "Process Waste Streams Source"
          ],
          [
           5,
           "Treated Waste Sink"
          ],
          [
           5,
           "Lignin Residue Sink"
          ],
          [
           5,
           "Biomass Waste Sink"
          ],
          [
           5,
           "Filtrate Sink"
          ],
          [
           5,
           "Purified Arabitol Sink"
          ],
          [
           5,
           "Waste Stream Sink"
          ],
          [
           5,
           "Waste Stream Sink"
          ],
          [
           5,
           "Pure Arabitol Sink"
          ],
          [
           5,
           "Waste Treatment"
          ],
          [
           5,
           "Purified Arabitol Sink"
          ],
          [
           5,
           "Waste Treatment Sink"
          ],
          [
           5,
           "Biomass Waste Sink"
          ],
          [
           5,
           "Impurity Stream Sink"
          ],
          [
           5,
           "Final Aspartic Acid Product Sink"
          ],
          [
           5,
           "Pretreatment Effluent Sink"
          ],
          [
           5,
           "Cell Biomass Sink"
          ],
          [
           5,
           "Waste Stream Sink"
          ],
          [
           5,
           "Dried Aspartic Acid Sink"
          ],
          [
           5,
           "Biomass Waste Sink"
          ],
          [
           5,
           "Impurity Sink"
          ],
          [
           5,
           "Final Aspartic Acid Sink"
          ],
          [
           5,
           "Waste Treatment"
          ],
          [
           5,
           "Purified Fumaric Acid Sink"
          ],
          [
           5,
           "Treated Waste Sink"
          ],
          [
           5,
           "Waste Treatment"
          ],
          [
           5,
           "Purified Fumaric Acid Sink"
          ],
          [
           5,
           "Treated Effluent Sink"
          ],
          [
           5,
           "Waste Management"
          ],
          [
           5,
           "Purified Fumaric Acid Sink"
          ],
          [
           5,
           "Solid Residues Source"
          ],
          [
           5,
           "Treated Waste Sink"
          ],
          [
           5,
           "Waste Treatment"
          ],
          [
           5,
           "Purified Furfural Sink"
          ],
          [
           5,
           "Treated Effluent Sink"
          ],
          [
           5,
           "Cellulose and Lignin Sink"
          ],
          [
           5,
           "Water Vapor Sink"
          ],
          [
           5,
           "Solid Residues Sink"
          ],
          [
           5,
           "Solid Fraction Sink"
          ],
          [
           5,
           "Waste Stream Sink"
          ],
          [
           5,
           "Packaged Glutamic Acid Sink"
          ],
          [
           5,
           "Solid Waste Sink"
          ],
          [
           5,
           "Impurity Sink"
          ],
          [
           5,
           "Commercial-Grade Malic Acid Sink"
          ],
          [
           5,
           "Solid Waste Sink"
          ],
          [
           5,
           "Waste Stream Sink"
          ],
          [
           5,
           "Dried Malic Acid Sink"
          ],
          [
           5,
           "Solid Fraction Sink"
          ],
          [
           5,
           "Waste Stream Sink"
          ],
          [
           5,
           "Final Succinic Acid Product Sink"
          ],
          [
           5,
           "Solubilized Lignin and Hemicellulose Sink"
          ],
          [
           5,
           "Waste Treatment"
          ],
          [
           5,
           "Purified Succinic Acid Sink"
          ],
          [
           5,
           "Treated Waste Sink"
          ],
          [
           5,
           "Biomass Waste Sink"
          ],
          [
           5,
           "Waste Stream Sink"
          ],
          [
           5,
           "Dried Succinic Acid Sink"
          ],
          [
           5,
           "Byproduct Stream Sink"
          ],
          [
           5,
           "Solid Waste Sink"
          ],
          [
           5,
           "Impurity Stream Sink"
          ],
          [
           5,
           "Dried Succinic Acid Sink"
          ],
          [
           5,
           "Lignin-Rich Stream Sink"
          ],
          [
           5,
           "Waste Treatment"
          ],
          [
           5,
           "Threonine Sink"
          ],
          [
           5,
           "Treated Effluent Sink"
          ],
          [
           5,
           "Bacterial Biomass Sink"
          ],
          [
           5,
           "Waste Stream Sink"
          ],
          [
           5,
           "Dried L-Threonine Sink"
          ],
          [
           5,
           "Solid Waste Sink"
          ],
          [
           5,
           "Waste Stream Sink"
          ],
          [
           5,
           "Purified Aconitic Acid Sink"
          ],
          [
           5,
           "Solid Biomass Sink"
          ],
          [
           5,
           "Calcium Sulfate Sink"
          ],
          [
           5,
           "Mother Liquor Sink"
          ],
          [
           5,
           "Packaged Citric Acid Sink"
          ],
          [
           5,
           "Water Sink"
          ],
          [
           5,
           "Waste Treatment"
          ],
          [
           5,
           "Purified Citric Acid Sink"
          ],
          [
           5,
           "Treated Waste Sink"
          ],
          [
           5,
           "Stillage Sink"
          ],
          [
           5,
           "Fuel-Grade Ethanol Sink"
          ],
          [
           5,
           "Waste Stream Sink"
          ],
          [
           5,
           "Waste Stream Sink"
          ],
          [
           5,
           "Packaged Glucaric Acid Sink"
          ],
          [
           5,
           "Biomass Waste Sink"
          ],
          [
           5,
           "Waste Stream Sink"
          ],
          [
           5,
           "Crystalline Glucaric Acid Sink"
          ],
          [
           5,
           "Solid Waste Sink"
          ],
          [
           5,
           "Waste Stream Sink"
          ],
          [
           5,
           "Packaged Glucaric Acid Sink"
          ],
          [
           5,
           "Solid Waste Sink"
          ],
          [
           5,
           "Impurity Stream Sink"
          ],
          [
           5,
           "Concentrated Gluconic Acid Sink"
          ],
          [
           5,
           "Pure Gluconic Acid Sink"
          ],
          [
           5,
           "Lignin-rich Residue Sink"
          ],
          [
           5,
           "Waste Biomass Sink"
          ],
          [
           5,
           "Filtrate Sink"
          ],
          [
           5,
           "Waste Management"
          ],
          [
           5,
           "Purified Gluconolactone Sink"
          ],
          [
           5,
           "Process Waste Source"
          ],
          [
           5,
           "Treated Waste Sink"
          ],
          [
           5,
           "Water Sink"
          ],
          [
           5,
           "Acid Residue Sink"
          ],
          [
           5,
           "Degraded Lignin Sink"
          ],
          [
           5,
           "Cell Biomass Sink"
          ],
          [
           5,
           "Waste Stream Sink"
          ],
          [
           5,
           "Glutamic Acid Product Sink"
          ],
          [
           5,
           "Mother Liquor Sink"
          ],
          [
           5,
           "Liquid Effluent Sink"
          ],
          [
           5,
           "Waste Treatment"
          ],
          [
           5,
           "Purified Itaconic Acid Sink"
          ],
          [
           5,
           "Process Waste Stream Source"
          ],
          [
           5,
           "Treated Waste Sink"
          ],
          [
           5,
           "Water Sink"
          ],
          [
           5,
           "Biomass and Impurities Sink"
          ],
          [
           5,
           "Water and Solvent Sink"
          ],
          [
           5,
           "Waste Treatment"
          ],
          [
           5,
           "Purified Levulinic Acid Sink"
          ],
          [
           5,
           "Treated Waste Sink"
          ],
          [
           5,
           "Biomass Waste Sink"
          ],
          [
           5,
           "Waste Stream Sink"
          ],
          [
           5,
           "Dried Lysine Product Sink"
          ],
          [
           5,
           "Solid Waste Sink"
          ],
          [
           5,
           "Waste Stream Sink"
          ],
          [
           5,
           "Purified Lysine Sink"
          ],
          [
           5,
           "Wastewater Sink"
          ],
          [
           5,
           "Biomass Waste Sink"
          ],
          [
           5,
           "Impurity Stream Sink"
          ],
          [
           5,
           "Final Sorbitol Product Sink"
          ],
          [
           5,
           "Waste Stream Sink"
          ],
          [
           5,
           "Biomass Waste Sink"
          ],
          [
           5,
           "Waste Stream Sink"
          ],
          [
           5,
           "Dried Sorbitol Sink"
          ],
          [
           5,
           "Inhibitors or By-products Sink"
          ],
          [
           5,
           "Solid Residues Sink"
          ],
          [
           5,
           "Residual Sugars Sink"
          ],
          [
           5,
           "Packaged Sorbitol Sink"
          ],
          [
           5,
           "Wastewater Sink"
          ],
          [
           5,
           "Waste Treatment"
          ],
          [
           5,
           "Purified Sorbitol Sink"
          ],
          [
           5,
           "Treated Effluent Sink"
          ],
          [
           5,
           "Solid Waste Sink"
          ],
          [
           5,
           "Waste Stream Sink"
          ],
          [
           5,
           "Packaged Xylitol Sink"
          ],
          [
           5,
           "Pre-treatment Residuals Sink"
          ],
          [
           5,
           "Inhibitor Removal By-products Sink"
          ],
          [
           5,
           "Biomass Waste Sink"
          ],
          [
           5,
           "Waste Stream Sink"
          ],
          [
           5,
           "Packaged Xylitol Sink"
          ],
          [
           5,
           "Solid Waste Sink"
          ],
          [
           5,
           "Waste Stream Sink"
          ],
          [
           5,
           "Packaged Xylitol Sink"
          ],
          [
           5,
           "Solid Residues Sink"
          ],
          [
           5,
           "Waste Stream Sink"
          ],
          [
           5,
           "Packaged Xylitol Sink"
          ]
         ],
         "hovertemplate": "Cluster=5<br>cluster=%{customdata[0]}<br>title=%{customdata[1]}<extra></extra>",
         "legendgroup": "5",
         "marker": {
          "color": "#FF6692",
          "symbol": "circle"
         },
         "mode": "markers",
         "name": "5",
         "orientation": "v",
         "showlegend": true,
         "type": "scatter",
         "x": [
          5.002809047698975,
          2.408489942550659,
          4.721108436584473,
          7.043786525726318,
          4.41053581237793,
          3.3259263038635254,
          5.886874675750732,
          3.823707103729248,
          8.082308769226074,
          4.266201019287109,
          3.362578868865967,
          5.498828411102295,
          7.798018932342529,
          2.913996696472168,
          10.535609245300293,
          7.148202896118164,
          4.800544738769531,
          2.9129583835601807,
          7.025808811187744,
          4.6652398109436035,
          2.844695806503296,
          3.7875070571899414,
          7.681303024291992,
          2.6412787437438965,
          5.551377773284912,
          7.493898391723633,
          2.5761265754699707,
          10.614137649536133,
          5.594283580780029,
          7.663976192474365,
          2.6028568744659424,
          10.543732643127441,
          8.105330467224121,
          2.640981912612915,
          4.742702960968018,
          7.652835845947266,
          2.678609609603882,
          10.488887786865234,
          6.990658283233643,
          3.2544541358947754,
          5.597142219543457,
          4.545361042022705,
          7.58717155456543,
          3.262803316116333,
          10.496010780334473,
          5.244034290313721,
          8.20351505279541,
          3.834052562713623,
          3.2943649291992188,
          5.1674604415893555,
          4.107450008392334,
          3.518263101577759,
          4.701930999755859,
          7.516366481781006,
          3.7550835609436035,
          10.44957447052002,
          7.025701522827148,
          4.794806480407715,
          7.791708946228027,
          3.2675790786743164,
          10.505111694335938,
          7.006381034851074,
          3.856900453567505,
          3.6419169902801514,
          7.813272476196289,
          3.8166229724884033,
          5.555872440338135,
          7.16721773147583,
          4.302741527557373,
          3.6443042755126953,
          7.393174648284912,
          2.8272786140441895,
          7.022288799285889,
          10.495986938476562,
          5.8701276779174805,
          6.969916343688965,
          4.5230607986450195,
          2.82863187789917,
          5.314704418182373,
          5.168734073638916,
          2.8964016437530518,
          7.427382946014404,
          2.8559072017669678,
          10.543180465698242,
          7.04758358001709,
          3.868976354598999,
          3.6089718341827393,
          5.5228352546691895,
          7.066043376922607,
          4.370444297790527,
          3.807119131088257,
          7.030796051025391,
          3.853116750717163,
          3.6462018489837646,
          7.70982027053833,
          3.0938172340393066,
          10.497689247131348,
          7.742618083953857,
          3.129509687423706,
          5.558653354644775,
          7.410620212554932,
          3.1264443397521973,
          7.917675495147705,
          10.50976848602295,
          7.688873291015625,
          3.0638790130615234,
          5.540964603424072,
          5.8508501052856445,
          5.058809280395508,
          7.9010701179504395,
          8.167391777038574,
          4.517007827758789,
          3.259199857711792,
          8.188712120056152,
          3.825101852416992,
          3.4615654945373535,
          8.181171417236328,
          4.421420097351074,
          3.6776881217956543,
          8.189372062683105,
          4.196736812591553,
          3.729807138442993,
          5.786362171173096,
          7.8141655921936035,
          3.5927274227142334,
          10.491618156433105,
          7.110968589782715,
          4.21479606628418,
          3.7530860900878906,
          5.571501731872559,
          8.207751274108887,
          3.8274033069610596,
          3.743739604949951,
          5.741427898406982,
          7.715787887573242,
          4.171395301818848,
          5.574972152709961,
          7.0649895668029785,
          4.2824931144714355,
          3.9163763523101807,
          8.246283531188965,
          4.441904544830322,
          3.3300671577453613,
          7.433440208435059,
          4.5883331298828125,
          4.171523571014404,
          3.245455026626587,
          4.681718349456787,
          7.77440071105957,
          3.247974157333374,
          10.512041091918945,
          4.613513469696045,
          4.794568061828613,
          5.259202480316162,
          4.555276870727539,
          3.23787260055542,
          7.001242160797119,
          4.3432817459106445,
          3.2509727478027344,
          8.21124267578125,
          4.434152126312256,
          3.22914457321167,
          8.2438383102417,
          3.8023974895477295,
          3.1452677249908447,
          3.1873621940612793,
          5.88951301574707,
          6.917569160461426,
          4.529842853546143,
          7.585268497467041,
          2.7490181922912598,
          7.072336196899414,
          10.532634735107422,
          5.000120639801025,
          4.915791988372803,
          5.82091760635376,
          7.17555570602417,
          4.491058826446533,
          3.261608123779297,
          4.195685386657715,
          5.547581672668457,
          7.616937637329102,
          3.3274221420288086,
          6.949112415313721,
          10.638753890991211,
          4.927470684051514,
          6.756253719329834,
          4.650564193725586,
          7.67519998550415,
          3.2882590293884277,
          10.530652046203613,
          7.011612892150879,
          4.4130988121032715,
          3.5300681591033936,
          8.19235610961914,
          4.453665256500244,
          3.2042553424835205,
          5.019648551940918,
          7.06234884262085,
          4.112484931945801,
          2.3479788303375244,
          5.290788650512695,
          7.047213077545166,
          4.459972858428955,
          2.294299602508545,
          5.390610218048096,
          7.867099285125732,
          4.619913101196289,
          2.3771753311157227,
          4.931877613067627,
          7.6729631423950195,
          2.2542219161987305,
          5.556964874267578,
          8.085465431213379,
          4.588094234466553,
          2.7597577571868896,
          5.638916492462158,
          4.659451484680176,
          7.016777038574219,
          4.414937973022461,
          2.8017568588256836,
          8.216289520263672,
          4.55007266998291,
          2.783461332321167,
          7.9084906578063965,
          4.94691276550293,
          2.7844114303588867
         ],
         "xaxis": "x",
         "y": [
          12.79665470123291,
          12.348047256469727,
          13.093928337097168,
          14.291790008544922,
          12.596050262451172,
          12.341215133666992,
          13.601584434509277,
          12.920034408569336,
          14.027982711791992,
          12.618067741394043,
          11.835297584533691,
          14.04771614074707,
          11.17234992980957,
          12.614771842956543,
          19.277297973632812,
          14.322064399719238,
          12.581432342529297,
          12.574135780334473,
          14.254833221435547,
          12.594278335571289,
          12.553683280944824,
          13.07878589630127,
          11.237037658691406,
          12.081725120544434,
          14.55245590209961,
          11.406892776489258,
          12.184798240661621,
          19.355886459350586,
          13.369428634643555,
          11.264867782592773,
          12.138647079467773,
          19.29094123840332,
          13.964356422424316,
          12.130504608154297,
          12.721774101257324,
          11.271281242370605,
          12.139083862304688,
          19.2340087890625,
          11.78172492980957,
          12.317909240722656,
          13.47580337524414,
          12.575546264648438,
          11.330894470214844,
          12.326571464538574,
          19.240264892578125,
          13.362051963806152,
          14.05596923828125,
          13.056483268737793,
          11.847626686096191,
          12.883559226989746,
          12.82669734954834,
          11.833138465881348,
          12.87940788269043,
          11.387014389038086,
          12.195221900939941,
          19.195405960083008,
          14.13873291015625,
          12.620575904846191,
          11.137716293334961,
          12.27644157409668,
          19.263099670410156,
          14.335999488830566,
          13.042956352233887,
          12.091668128967285,
          11.115715980529785,
          12.15316390991211,
          14.566601753234863,
          14.195001602172852,
          12.411460876464844,
          11.951597213745117,
          11.492236137390137,
          11.508014678955078,
          11.766085624694824,
          19.23780632019043,
          13.600037574768066,
          14.220046997070312,
          12.73928165435791,
          11.550488471984863,
          13.026113510131836,
          12.827573776245117,
          11.554797172546387,
          11.459541320800781,
          11.543407440185547,
          19.276809692382812,
          14.341347694396973,
          13.014556884765625,
          11.816428184509277,
          13.96796989440918,
          14.297144889831543,
          12.470040321350098,
          11.781600952148438,
          14.286397933959961,
          13.027435302734375,
          11.860358238220215,
          11.21743392944336,
          12.196517944335938,
          19.241987228393555,
          11.188806533813477,
          12.23474407196045,
          14.552873611450195,
          11.475255012512207,
          12.234374046325684,
          13.893271446228027,
          19.2563419342041,
          11.230623245239258,
          12.524895668029785,
          14.5805025100708,
          13.582134246826172,
          13.25129508972168,
          13.831735610961914,
          14.044404983520508,
          12.64176082611084,
          11.731527328491211,
          14.047762870788574,
          13.025749206542969,
          11.733298301696777,
          14.076831817626953,
          12.6298189163208,
          11.729995727539062,
          14.059124946594238,
          12.358711242675781,
          11.749611854553223,
          13.487323760986328,
          11.121001243591309,
          12.044363975524902,
          19.236988067626953,
          14.337475776672363,
          12.440934181213379,
          11.691141128540039,
          13.68570613861084,
          14.038500785827637,
          13.026442527770996,
          11.731062889099121,
          13.530350685119629,
          11.210366249084473,
          12.1659574508667,
          14.561300277709961,
          14.325806617736816,
          12.247030258178711,
          11.799949645996094,
          14.104263305664062,
          12.663116455078125,
          12.404258728027344,
          14.171316146850586,
          12.950967788696289,
          12.874873161315918,
          12.008397102355957,
          13.0670804977417,
          11.162049293518066,
          12.382789611816406,
          19.2556095123291,
          12.632271766662598,
          12.899434089660645,
          13.060680389404297,
          12.66004753112793,
          11.790264129638672,
          14.323491096496582,
          12.631950378417969,
          11.745401382446289,
          14.072797775268555,
          12.623562812805176,
          11.758599281311035,
          14.103196144104004,
          13.058320045471191,
          11.94585132598877,
          11.85147476196289,
          13.572942733764648,
          14.173359870910645,
          12.718461036682129,
          11.335561752319336,
          12.043739318847656,
          11.747125625610352,
          19.282175064086914,
          13.250544548034668,
          12.88697624206543,
          13.54216194152832,
          14.19260311126709,
          12.52663803100586,
          11.82518482208252,
          12.846970558166504,
          14.538602828979492,
          11.297930717468262,
          12.41367244720459,
          11.804516792297363,
          19.383516311645508,
          13.086705207824707,
          14.106955528259277,
          13.004523277282715,
          11.248106956481934,
          12.342269897460938,
          19.275285720825195,
          14.335322380065918,
          12.432271003723145,
          11.660130500793457,
          14.050049781799316,
          12.398558616638184,
          12.065150260925293,
          13.0824613571167,
          14.306038856506348,
          12.727791786193848,
          10.016863822937012,
          13.102249145507812,
          14.296183586120605,
          12.5867919921875,
          9.97571086883545,
          13.739057540893555,
          13.87861156463623,
          12.565375328063965,
          10.02553939819336,
          13.034255027770996,
          11.248909950256348,
          10.021044731140137,
          14.560527801513672,
          13.97494888305664,
          12.664953231811523,
          10.017450332641602,
          13.852276802062988,
          12.37536334991455,
          14.325825691223145,
          12.539582252502441,
          9.985365867614746,
          14.068803787231445,
          12.664849281311035,
          10.021936416625977,
          13.850446701049805,
          12.727216720581055,
          10.007664680480957
         ],
         "yaxis": "y"
        },
        {
         "customdata": [
          [
           6,
           "Aeration Stream Source"
          ],
          [
           6,
           "Oxygen Supply"
          ],
          [
           6,
           "Oxygen Supply"
          ],
          [
           6,
           "Oxygen Supply"
          ],
          [
           6,
           "Air Supply"
          ],
          [
           6,
           "Oxygen Supply"
          ],
          [
           6,
           "Air Supply"
          ],
          [
           6,
           "Oxygen Supply"
          ],
          [
           6,
           "Air Supply"
          ],
          [
           6,
           "Oxygen Supply"
          ],
          [
           6,
           "Oxygen Supply Unit"
          ],
          [
           6,
           "Oxygen Supply"
          ],
          [
           6,
           "Oxygen Supply"
          ],
          [
           6,
           "Air Supply Unit"
          ],
          [
           6,
           "Oxygen Supply"
          ],
          [
           6,
           "Aeration Stream Source"
          ],
          [
           6,
           "Oxygen Supply"
          ],
          [
           6,
           "Oxygen Supply Source"
          ],
          [
           6,
           "Oxygen Supply"
          ],
          [
           6,
           "Oxygen Supply"
          ],
          [
           6,
           "Air Supply Unit"
          ],
          [
           6,
           "Aeration Source"
          ],
          [
           6,
           "Air Supply"
          ],
          [
           6,
           "Air Supply"
          ]
         ],
         "hovertemplate": "Cluster=6<br>cluster=%{customdata[0]}<br>title=%{customdata[1]}<extra></extra>",
         "legendgroup": "6",
         "marker": {
          "color": "#B6E880",
          "symbol": "circle"
         },
         "mode": "markers",
         "name": "6",
         "orientation": "v",
         "showlegend": true,
         "type": "scatter",
         "x": [
          -9.616536140441895,
          -9.546772956848145,
          -9.648640632629395,
          -9.587158203125,
          -9.822073936462402,
          -9.636846542358398,
          -9.83110237121582,
          -9.603620529174805,
          -9.83033275604248,
          -9.636981010437012,
          -9.649275779724121,
          -9.61226749420166,
          -9.587320327758789,
          -9.781102180480957,
          -9.670580863952637,
          -9.61673641204834,
          -9.61215591430664,
          -9.580842971801758,
          -9.650269508361816,
          -9.64078426361084,
          -9.834474563598633,
          -9.704278945922852,
          -9.851470947265625,
          -9.848793983459473
         ],
         "xaxis": "x",
         "y": [
          9.742466926574707,
          9.282113075256348,
          9.24194049835205,
          9.404192924499512,
          9.89766788482666,
          9.320372581481934,
          9.917375564575195,
          9.343088150024414,
          9.896199226379395,
          9.337579727172852,
          9.377689361572266,
          9.332025527954102,
          9.310644149780273,
          9.831097602844238,
          9.43416976928711,
          9.711307525634766,
          9.358990669250488,
          9.31010627746582,
          9.394299507141113,
          9.369156837463379,
          9.901941299438477,
          9.73253059387207,
          9.89682388305664,
          9.866684913635254
         ],
         "yaxis": "y"
        },
        {
         "customdata": [
          [
           7,
           "Product Packaging"
          ],
          [
           7,
           "Product Storage and Handling"
          ],
          [
           7,
           "Drying and Packaging"
          ],
          [
           7,
           "Drying and Packaging"
          ],
          [
           7,
           "Drying and Packaging"
          ],
          [
           7,
           "Drying and Packaging"
          ],
          [
           7,
           "Drying and Packaging"
          ],
          [
           7,
           "Drying and Packaging"
          ],
          [
           7,
           "Drying and Packaging"
          ],
          [
           7,
           "Product Drying"
          ],
          [
           7,
           "Drying and Packaging"
          ],
          [
           7,
           "Product Drying"
          ],
          [
           7,
           "Product Drying"
          ],
          [
           7,
           "Drying"
          ],
          [
           7,
           "Drying and Packaging"
          ],
          [
           7,
           "Drying"
          ],
          [
           7,
           "Packaging"
          ],
          [
           7,
           "Drying and Packaging"
          ],
          [
           7,
           "Crystallization and Drying"
          ],
          [
           7,
           "Drying and Packaging"
          ],
          [
           7,
           "Drying and Packaging"
          ],
          [
           7,
           "Drying"
          ],
          [
           7,
           "Drying and Packaging"
          ],
          [
           7,
           "Drying and Packaging"
          ],
          [
           7,
           "Drying and Packaging"
          ],
          [
           7,
           "Drying and Packaging"
          ],
          [
           7,
           "Drying and Packaging"
          ]
         ],
         "hovertemplate": "Cluster=7<br>cluster=%{customdata[0]}<br>title=%{customdata[1]}<extra></extra>",
         "legendgroup": "7",
         "marker": {
          "color": "#FF97FF",
          "symbol": "circle"
         },
         "mode": "markers",
         "name": "7",
         "orientation": "v",
         "showlegend": true,
         "type": "scatter",
         "x": [
          3.1050360202789307,
          3.1024017333984375,
          2.996042490005493,
          3.0218749046325684,
          3.121696710586548,
          3.053171396255493,
          3.1253693103790283,
          3.030900716781616,
          3.134237766265869,
          3.099008560180664,
          3.2410876750946045,
          3.2311761379241943,
          3.2545950412750244,
          3.2729907035827637,
          3.068061590194702,
          3.0051095485687256,
          3.0477402210235596,
          3.0148961544036865,
          2.2455646991729736,
          2.948174238204956,
          2.4287588596343994,
          2.5437874794006348,
          2.453983783721924,
          2.740532159805298,
          2.7376933097839355,
          2.712707042694092,
          2.7822909355163574
         ],
         "xaxis": "x",
         "y": [
          10.826726913452148,
          11.000028610229492,
          10.483474731445312,
          10.607300758361816,
          10.538546562194824,
          10.591643333435059,
          10.608716011047363,
          10.640958786010742,
          10.62875747680664,
          10.669098854064941,
          10.744607925415039,
          10.811838150024414,
          10.772485733032227,
          10.815958976745605,
          10.604782104492188,
          10.65321159362793,
          10.809107780456543,
          10.697699546813965,
          11.197239875793457,
          10.761920928955078,
          10.083337783813477,
          10.192976951599121,
          10.14709186553955,
          10.138599395751953,
          10.14952278137207,
          10.11438274383545,
          10.159789085388184
         ],
         "yaxis": "y"
        },
        {
         "customdata": [
          [
           1,
           "Carbon Dioxide Sink"
          ],
          [
           1,
           "Off-gases Sink"
          ],
          [
           1,
           "Gas Emission Sink"
          ],
          [
           1,
           "Carbon Dioxide Sink"
          ],
          [
           1,
           "Carbon Dioxide Sink"
          ],
          [
           1,
           "Carbon Dioxide Sink"
          ],
          [
           1,
           "Carbon Dioxide Exhaust Sink"
          ],
          [
           1,
           "By-product Gas Sink"
          ],
          [
           1,
           "Byproduct Emissions Sink"
          ],
          [
           1,
           "Gaseous Emissions Sink"
          ],
          [
           1,
           "Carbon Dioxide Sink"
          ],
          [
           1,
           "CO2 Stream Source"
          ],
          [
           1,
           "Off-gas Sink"
          ],
          [
           1,
           "Carbon Dioxide Sink"
          ],
          [
           1,
           "Gaseous Emissions Sink"
          ],
          [
           1,
           "Carbon Dioxide Sink"
          ],
          [
           1,
           "Carbon Dioxide Sink"
          ],
          [
           1,
           "Carbon Dioxide Sink"
          ],
          [
           1,
           "Carbon Dioxide Sink"
          ],
          [
           1,
           "Gaseous Emissions Sink"
          ],
          [
           1,
           "Carbon Dioxide Sink"
          ],
          [
           1,
           "Hydrogen Gas Source"
          ],
          [
           1,
           "Carbon Dioxide Sink"
          ],
          [
           1,
           "Off-gas Sink"
          ]
         ],
         "hovertemplate": "Cluster=1<br>cluster=%{customdata[0]}<br>title=%{customdata[1]}<extra></extra>",
         "legendgroup": "1",
         "marker": {
          "color": "#FECB52",
          "symbol": "circle"
         },
         "mode": "markers",
         "name": "1",
         "orientation": "v",
         "showlegend": true,
         "type": "scatter",
         "x": [
          5.912930488586426,
          5.943668365478516,
          5.897848606109619,
          5.951210021972656,
          5.888047695159912,
          5.967224597930908,
          5.896890163421631,
          5.919282913208008,
          5.901233196258545,
          5.936679840087891,
          5.910201072692871,
          5.9049763679504395,
          5.919626235961914,
          5.925367832183838,
          5.949722766876221,
          5.913424015045166,
          5.944975852966309,
          5.94589376449585,
          5.902015686035156,
          5.934244632720947,
          5.9447431564331055,
          -2.2219221591949463,
          5.876930236816406,
          5.930131435394287
         ],
         "xaxis": "x",
         "y": [
          17.085206985473633,
          16.607133865356445,
          16.809228897094727,
          17.06898307800293,
          17.076805114746094,
          17.168575286865234,
          16.98965072631836,
          16.813358306884766,
          16.44451332092285,
          16.5562686920166,
          17.09307289123535,
          17.128875732421875,
          16.875469207763672,
          17.115907669067383,
          16.592538833618164,
          17.044187545776367,
          17.143781661987305,
          17.125957489013672,
          17.026987075805664,
          16.598783493041992,
          17.121000289916992,
          2.1450695991516113,
          16.94582748413086,
          16.683382034301758
         ],
         "yaxis": "y"
        },
        {
         "marker": {
          "color": "black",
          "size": 12,
          "symbol": "star"
         },
         "mode": "markers+text",
         "showlegend": false,
         "text": [
          "Cluster 0: Enzymatic Hydrolysis"
         ],
         "textposition": "top center",
         "type": "scatter",
         "x": [
          -2.1763832569122314
         ],
         "y": [
          0.2814566493034363
         ]
        },
        {
         "marker": {
          "color": "black",
          "size": 12,
          "symbol": "star"
         },
         "mode": "markers+text",
         "showlegend": false,
         "text": [
          "Cluster 1: Carbon Dioxide Sink"
         ],
         "textposition": "top center",
         "type": "scatter",
         "x": [
          5.912930488586426
         ],
         "y": [
          17.085206985473633
         ]
        },
        {
         "marker": {
          "color": "black",
          "size": 12,
          "symbol": "star"
         },
         "mode": "markers+text",
         "showlegend": false,
         "text": [
          "Cluster 2: Product Recovery"
         ],
         "textposition": "top center",
         "type": "scatter",
         "x": [
          0.7838734984397888
         ],
         "y": [
          11.3067045211792
         ]
        },
        {
         "marker": {
          "color": "black",
          "size": 12,
          "symbol": "star"
         },
         "mode": "markers+text",
         "showlegend": false,
         "text": [
          "Cluster 3: Pretreatment"
         ],
         "textposition": "top center",
         "type": "scatter",
         "x": [
          2.587428331375122
         ],
         "y": [
          -5.738111972808838
         ]
        },
        {
         "marker": {
          "color": "black",
          "size": 12,
          "symbol": "star"
         },
         "mode": "markers+text",
         "showlegend": false,
         "text": [
          "Cluster 4: Raw Corn Stover Source"
         ],
         "textposition": "top center",
         "type": "scatter",
         "x": [
          16.840402603149414
         ],
         "y": [
          11.492213249206543
         ]
        },
        {
         "marker": {
          "color": "black",
          "size": 12,
          "symbol": "star"
         },
         "mode": "markers+text",
         "showlegend": false,
         "text": [
          "Cluster 5: Waste Stream Sink"
         ],
         "textposition": "top center",
         "type": "scatter",
         "x": [
          5.002809047698975
         ],
         "y": [
          12.79665470123291
         ]
        },
        {
         "marker": {
          "color": "black",
          "size": 12,
          "symbol": "star"
         },
         "mode": "markers+text",
         "showlegend": false,
         "text": [
          "Cluster 6: Aeration Stream Source"
         ],
         "textposition": "top center",
         "type": "scatter",
         "x": [
          -9.616536140441895
         ],
         "y": [
          9.742466926574707
         ]
        },
        {
         "marker": {
          "color": "black",
          "size": 12,
          "symbol": "star"
         },
         "mode": "markers+text",
         "showlegend": false,
         "text": [
          "Cluster 7: Product Packaging"
         ],
         "textposition": "top center",
         "type": "scatter",
         "x": [
          3.1050360202789307
         ],
         "y": [
          10.826726913452148
         ]
        },
        {
         "marker": {
          "color": "black",
          "size": 12,
          "symbol": "star"
         },
         "mode": "markers+text",
         "showlegend": false,
         "text": [
          "Cluster 8: Fermentation"
         ],
         "textposition": "top center",
         "type": "scatter",
         "x": [
          -9.619134902954102
         ],
         "y": [
          15.514055252075195
         ]
        },
        {
         "marker": {
          "color": "black",
          "size": 12,
          "symbol": "star"
         },
         "mode": "markers+text",
         "showlegend": false,
         "text": [
          "Cluster 9: Chemical Conversion"
         ],
         "textposition": "top center",
         "type": "scatter",
         "x": [
          1.6328502893447876
         ],
         "y": [
          12.344496726989746
         ]
        }
       ],
       "layout": {
        "height": 700,
        "legend": {
         "font": {
          "size": 12
         },
         "itemsizing": "constant",
         "title": {
          "font": {
           "size": 14
          },
          "text": "Cluster"
         },
         "tracegroupgap": 0
        },
        "shapes": [
         {
          "line": {
           "color": "Red",
           "width": 2
          },
          "name": "Radius 0",
          "opacity": 0.2,
          "type": "circle",
          "x0": -7.128636598587036,
          "x1": -1.3247954845428467,
          "xref": "x",
          "y0": -1.1785533428192139,
          "y1": 4.625287771224976,
          "yref": "y"
         },
         {
          "line": {
           "color": "Red",
           "width": 2
          },
          "name": "Radius 1",
          "opacity": 0.2,
          "type": "circle",
          "x0": 4.47405868768692,
          "x1": 6.692220151424408,
          "xref": "x",
          "y0": 15.193441927433014,
          "y1": 17.4116033911705,
          "yref": "y"
         },
         {
          "line": {
           "color": "Red",
           "width": 2
          },
          "name": "Radius 2",
          "opacity": 0.2,
          "type": "circle",
          "x0": -1.304750446230173,
          "x1": 1.377230178564787,
          "xref": "x",
          "y0": 9.33138632029295,
          "y1": 12.01336694508791,
          "yref": "y"
         },
         {
          "line": {
           "color": "Red",
           "width": 2
          },
          "name": "Radius 3",
          "opacity": 0.2,
          "type": "circle",
          "x0": -3.1742119789123535,
          "x1": 8.927040576934814,
          "xref": "x",
          "y0": -6.20683366060257,
          "y1": 5.894418895244598,
          "yref": "y"
         },
         {
          "line": {
           "color": "Red",
           "width": 2
          },
          "name": "Radius 4",
          "opacity": 0.2,
          "type": "circle",
          "x0": 2.4895228147506714,
          "x1": 20.49009907245636,
          "xref": "x",
          "y0": -1.6894274950027466,
          "y1": 16.311148762702942,
          "yref": "y"
         },
         {
          "line": {
           "color": "Red",
           "width": 2
          },
          "name": "Radius 5",
          "opacity": 0.2,
          "type": "circle",
          "x0": 1.9016268849372864,
          "x1": 9.188273131847382,
          "xref": "x",
          "y0": 9.498793423175812,
          "y1": 16.785439670085907,
          "yref": "y"
         },
         {
          "line": {
           "color": "Red",
           "width": 2
          },
          "name": "Radius 6",
          "opacity": 0.2,
          "type": "circle",
          "x0": -10.05213064327836,
          "x1": -9.314570482820272,
          "xref": "x",
          "y0": 9.181655939668417,
          "y1": 9.919216100126505,
          "yref": "y"
         },
         {
          "line": {
           "color": "Red",
           "width": 2
          },
          "name": "Radius 7",
          "opacity": 0.2,
          "type": "circle",
          "x0": 2.342898316681385,
          "x1": 3.547389082610607,
          "xref": "x",
          "y0": 9.969970650970936,
          "y1": 11.174461416900158,
          "yref": "y"
         },
         {
          "line": {
           "color": "Red",
           "width": 2
          },
          "name": "Radius 8",
          "opacity": 0.2,
          "type": "circle",
          "x0": -12.097751185297966,
          "x1": -8.858549550175667,
          "xref": "x",
          "y0": 13.68056245148182,
          "y1": 16.91976408660412,
          "yref": "y"
         },
         {
          "line": {
           "color": "Red",
           "width": 2
          },
          "name": "Radius 9",
          "opacity": 0.2,
          "type": "circle",
          "x0": 0.3751370832324028,
          "x1": 2.813149221241474,
          "xref": "x",
          "y0": 10.013741008937359,
          "y1": 12.45175314694643,
          "yref": "y"
         }
        ],
        "template": {
         "data": {
          "bar": [
           {
            "error_x": {
             "color": "#2a3f5f"
            },
            "error_y": {
             "color": "#2a3f5f"
            },
            "marker": {
             "line": {
              "color": "#E5ECF6",
              "width": 0.5
             },
             "pattern": {
              "fillmode": "overlay",
              "size": 10,
              "solidity": 0.2
             }
            },
            "type": "bar"
           }
          ],
          "barpolar": [
           {
            "marker": {
             "line": {
              "color": "#E5ECF6",
              "width": 0.5
             },
             "pattern": {
              "fillmode": "overlay",
              "size": 10,
              "solidity": 0.2
             }
            },
            "type": "barpolar"
           }
          ],
          "carpet": [
           {
            "aaxis": {
             "endlinecolor": "#2a3f5f",
             "gridcolor": "white",
             "linecolor": "white",
             "minorgridcolor": "white",
             "startlinecolor": "#2a3f5f"
            },
            "baxis": {
             "endlinecolor": "#2a3f5f",
             "gridcolor": "white",
             "linecolor": "white",
             "minorgridcolor": "white",
             "startlinecolor": "#2a3f5f"
            },
            "type": "carpet"
           }
          ],
          "choropleth": [
           {
            "colorbar": {
             "outlinewidth": 0,
             "ticks": ""
            },
            "type": "choropleth"
           }
          ],
          "contour": [
           {
            "colorbar": {
             "outlinewidth": 0,
             "ticks": ""
            },
            "colorscale": [
             [
              0,
              "#0d0887"
             ],
             [
              0.1111111111111111,
              "#46039f"
             ],
             [
              0.2222222222222222,
              "#7201a8"
             ],
             [
              0.3333333333333333,
              "#9c179e"
             ],
             [
              0.4444444444444444,
              "#bd3786"
             ],
             [
              0.5555555555555556,
              "#d8576b"
             ],
             [
              0.6666666666666666,
              "#ed7953"
             ],
             [
              0.7777777777777778,
              "#fb9f3a"
             ],
             [
              0.8888888888888888,
              "#fdca26"
             ],
             [
              1,
              "#f0f921"
             ]
            ],
            "type": "contour"
           }
          ],
          "contourcarpet": [
           {
            "colorbar": {
             "outlinewidth": 0,
             "ticks": ""
            },
            "type": "contourcarpet"
           }
          ],
          "heatmap": [
           {
            "colorbar": {
             "outlinewidth": 0,
             "ticks": ""
            },
            "colorscale": [
             [
              0,
              "#0d0887"
             ],
             [
              0.1111111111111111,
              "#46039f"
             ],
             [
              0.2222222222222222,
              "#7201a8"
             ],
             [
              0.3333333333333333,
              "#9c179e"
             ],
             [
              0.4444444444444444,
              "#bd3786"
             ],
             [
              0.5555555555555556,
              "#d8576b"
             ],
             [
              0.6666666666666666,
              "#ed7953"
             ],
             [
              0.7777777777777778,
              "#fb9f3a"
             ],
             [
              0.8888888888888888,
              "#fdca26"
             ],
             [
              1,
              "#f0f921"
             ]
            ],
            "type": "heatmap"
           }
          ],
          "heatmapgl": [
           {
            "colorbar": {
             "outlinewidth": 0,
             "ticks": ""
            },
            "colorscale": [
             [
              0,
              "#0d0887"
             ],
             [
              0.1111111111111111,
              "#46039f"
             ],
             [
              0.2222222222222222,
              "#7201a8"
             ],
             [
              0.3333333333333333,
              "#9c179e"
             ],
             [
              0.4444444444444444,
              "#bd3786"
             ],
             [
              0.5555555555555556,
              "#d8576b"
             ],
             [
              0.6666666666666666,
              "#ed7953"
             ],
             [
              0.7777777777777778,
              "#fb9f3a"
             ],
             [
              0.8888888888888888,
              "#fdca26"
             ],
             [
              1,
              "#f0f921"
             ]
            ],
            "type": "heatmapgl"
           }
          ],
          "histogram": [
           {
            "marker": {
             "pattern": {
              "fillmode": "overlay",
              "size": 10,
              "solidity": 0.2
             }
            },
            "type": "histogram"
           }
          ],
          "histogram2d": [
           {
            "colorbar": {
             "outlinewidth": 0,
             "ticks": ""
            },
            "colorscale": [
             [
              0,
              "#0d0887"
             ],
             [
              0.1111111111111111,
              "#46039f"
             ],
             [
              0.2222222222222222,
              "#7201a8"
             ],
             [
              0.3333333333333333,
              "#9c179e"
             ],
             [
              0.4444444444444444,
              "#bd3786"
             ],
             [
              0.5555555555555556,
              "#d8576b"
             ],
             [
              0.6666666666666666,
              "#ed7953"
             ],
             [
              0.7777777777777778,
              "#fb9f3a"
             ],
             [
              0.8888888888888888,
              "#fdca26"
             ],
             [
              1,
              "#f0f921"
             ]
            ],
            "type": "histogram2d"
           }
          ],
          "histogram2dcontour": [
           {
            "colorbar": {
             "outlinewidth": 0,
             "ticks": ""
            },
            "colorscale": [
             [
              0,
              "#0d0887"
             ],
             [
              0.1111111111111111,
              "#46039f"
             ],
             [
              0.2222222222222222,
              "#7201a8"
             ],
             [
              0.3333333333333333,
              "#9c179e"
             ],
             [
              0.4444444444444444,
              "#bd3786"
             ],
             [
              0.5555555555555556,
              "#d8576b"
             ],
             [
              0.6666666666666666,
              "#ed7953"
             ],
             [
              0.7777777777777778,
              "#fb9f3a"
             ],
             [
              0.8888888888888888,
              "#fdca26"
             ],
             [
              1,
              "#f0f921"
             ]
            ],
            "type": "histogram2dcontour"
           }
          ],
          "mesh3d": [
           {
            "colorbar": {
             "outlinewidth": 0,
             "ticks": ""
            },
            "type": "mesh3d"
           }
          ],
          "parcoords": [
           {
            "line": {
             "colorbar": {
              "outlinewidth": 0,
              "ticks": ""
             }
            },
            "type": "parcoords"
           }
          ],
          "pie": [
           {
            "automargin": true,
            "type": "pie"
           }
          ],
          "scatter": [
           {
            "fillpattern": {
             "fillmode": "overlay",
             "size": 10,
             "solidity": 0.2
            },
            "type": "scatter"
           }
          ],
          "scatter3d": [
           {
            "line": {
             "colorbar": {
              "outlinewidth": 0,
              "ticks": ""
             }
            },
            "marker": {
             "colorbar": {
              "outlinewidth": 0,
              "ticks": ""
             }
            },
            "type": "scatter3d"
           }
          ],
          "scattercarpet": [
           {
            "marker": {
             "colorbar": {
              "outlinewidth": 0,
              "ticks": ""
             }
            },
            "type": "scattercarpet"
           }
          ],
          "scattergeo": [
           {
            "marker": {
             "colorbar": {
              "outlinewidth": 0,
              "ticks": ""
             }
            },
            "type": "scattergeo"
           }
          ],
          "scattergl": [
           {
            "marker": {
             "colorbar": {
              "outlinewidth": 0,
              "ticks": ""
             }
            },
            "type": "scattergl"
           }
          ],
          "scattermapbox": [
           {
            "marker": {
             "colorbar": {
              "outlinewidth": 0,
              "ticks": ""
             }
            },
            "type": "scattermapbox"
           }
          ],
          "scatterpolar": [
           {
            "marker": {
             "colorbar": {
              "outlinewidth": 0,
              "ticks": ""
             }
            },
            "type": "scatterpolar"
           }
          ],
          "scatterpolargl": [
           {
            "marker": {
             "colorbar": {
              "outlinewidth": 0,
              "ticks": ""
             }
            },
            "type": "scatterpolargl"
           }
          ],
          "scatterternary": [
           {
            "marker": {
             "colorbar": {
              "outlinewidth": 0,
              "ticks": ""
             }
            },
            "type": "scatterternary"
           }
          ],
          "surface": [
           {
            "colorbar": {
             "outlinewidth": 0,
             "ticks": ""
            },
            "colorscale": [
             [
              0,
              "#0d0887"
             ],
             [
              0.1111111111111111,
              "#46039f"
             ],
             [
              0.2222222222222222,
              "#7201a8"
             ],
             [
              0.3333333333333333,
              "#9c179e"
             ],
             [
              0.4444444444444444,
              "#bd3786"
             ],
             [
              0.5555555555555556,
              "#d8576b"
             ],
             [
              0.6666666666666666,
              "#ed7953"
             ],
             [
              0.7777777777777778,
              "#fb9f3a"
             ],
             [
              0.8888888888888888,
              "#fdca26"
             ],
             [
              1,
              "#f0f921"
             ]
            ],
            "type": "surface"
           }
          ],
          "table": [
           {
            "cells": {
             "fill": {
              "color": "#EBF0F8"
             },
             "line": {
              "color": "white"
             }
            },
            "header": {
             "fill": {
              "color": "#C8D4E3"
             },
             "line": {
              "color": "white"
             }
            },
            "type": "table"
           }
          ]
         },
         "layout": {
          "annotationdefaults": {
           "arrowcolor": "#2a3f5f",
           "arrowhead": 0,
           "arrowwidth": 1
          },
          "autotypenumbers": "strict",
          "coloraxis": {
           "colorbar": {
            "outlinewidth": 0,
            "ticks": ""
           }
          },
          "colorscale": {
           "diverging": [
            [
             0,
             "#8e0152"
            ],
            [
             0.1,
             "#c51b7d"
            ],
            [
             0.2,
             "#de77ae"
            ],
            [
             0.3,
             "#f1b6da"
            ],
            [
             0.4,
             "#fde0ef"
            ],
            [
             0.5,
             "#f7f7f7"
            ],
            [
             0.6,
             "#e6f5d0"
            ],
            [
             0.7,
             "#b8e186"
            ],
            [
             0.8,
             "#7fbc41"
            ],
            [
             0.9,
             "#4d9221"
            ],
            [
             1,
             "#276419"
            ]
           ],
           "sequential": [
            [
             0,
             "#0d0887"
            ],
            [
             0.1111111111111111,
             "#46039f"
            ],
            [
             0.2222222222222222,
             "#7201a8"
            ],
            [
             0.3333333333333333,
             "#9c179e"
            ],
            [
             0.4444444444444444,
             "#bd3786"
            ],
            [
             0.5555555555555556,
             "#d8576b"
            ],
            [
             0.6666666666666666,
             "#ed7953"
            ],
            [
             0.7777777777777778,
             "#fb9f3a"
            ],
            [
             0.8888888888888888,
             "#fdca26"
            ],
            [
             1,
             "#f0f921"
            ]
           ],
           "sequentialminus": [
            [
             0,
             "#0d0887"
            ],
            [
             0.1111111111111111,
             "#46039f"
            ],
            [
             0.2222222222222222,
             "#7201a8"
            ],
            [
             0.3333333333333333,
             "#9c179e"
            ],
            [
             0.4444444444444444,
             "#bd3786"
            ],
            [
             0.5555555555555556,
             "#d8576b"
            ],
            [
             0.6666666666666666,
             "#ed7953"
            ],
            [
             0.7777777777777778,
             "#fb9f3a"
            ],
            [
             0.8888888888888888,
             "#fdca26"
            ],
            [
             1,
             "#f0f921"
            ]
           ]
          },
          "colorway": [
           "#636efa",
           "#EF553B",
           "#00cc96",
           "#ab63fa",
           "#FFA15A",
           "#19d3f3",
           "#FF6692",
           "#B6E880",
           "#FF97FF",
           "#FECB52"
          ],
          "font": {
           "color": "#2a3f5f"
          },
          "geo": {
           "bgcolor": "white",
           "lakecolor": "white",
           "landcolor": "#E5ECF6",
           "showlakes": true,
           "showland": true,
           "subunitcolor": "white"
          },
          "hoverlabel": {
           "align": "left"
          },
          "hovermode": "closest",
          "mapbox": {
           "style": "light"
          },
          "paper_bgcolor": "white",
          "plot_bgcolor": "#E5ECF6",
          "polar": {
           "angularaxis": {
            "gridcolor": "white",
            "linecolor": "white",
            "ticks": ""
           },
           "bgcolor": "#E5ECF6",
           "radialaxis": {
            "gridcolor": "white",
            "linecolor": "white",
            "ticks": ""
           }
          },
          "scene": {
           "xaxis": {
            "backgroundcolor": "#E5ECF6",
            "gridcolor": "white",
            "gridwidth": 2,
            "linecolor": "white",
            "showbackground": true,
            "ticks": "",
            "zerolinecolor": "white"
           },
           "yaxis": {
            "backgroundcolor": "#E5ECF6",
            "gridcolor": "white",
            "gridwidth": 2,
            "linecolor": "white",
            "showbackground": true,
            "ticks": "",
            "zerolinecolor": "white"
           },
           "zaxis": {
            "backgroundcolor": "#E5ECF6",
            "gridcolor": "white",
            "gridwidth": 2,
            "linecolor": "white",
            "showbackground": true,
            "ticks": "",
            "zerolinecolor": "white"
           }
          },
          "shapedefaults": {
           "line": {
            "color": "#2a3f5f"
           }
          },
          "ternary": {
           "aaxis": {
            "gridcolor": "white",
            "linecolor": "white",
            "ticks": ""
           },
           "baxis": {
            "gridcolor": "white",
            "linecolor": "white",
            "ticks": ""
           },
           "bgcolor": "#E5ECF6",
           "caxis": {
            "gridcolor": "white",
            "linecolor": "white",
            "ticks": ""
           }
          },
          "title": {
           "x": 0.05
          },
          "xaxis": {
           "automargin": true,
           "gridcolor": "white",
           "linecolor": "white",
           "ticks": "",
           "title": {
            "standoff": 15
           },
           "zerolinecolor": "white",
           "zerolinewidth": 2
          },
          "yaxis": {
           "automargin": true,
           "gridcolor": "white",
           "linecolor": "white",
           "ticks": "",
           "title": {
            "standoff": 15
           },
           "zerolinecolor": "white",
           "zerolinewidth": 2
          }
         }
        },
        "title": {
         "text": "UMAP Projection of Unit Operation Embeddings (Clustered)"
        },
        "width": 900,
        "xaxis": {
         "anchor": "y",
         "domain": [
          0,
          1
         ],
         "title": {
          "text": "UMAP-1"
         }
        },
        "yaxis": {
         "anchor": "x",
         "domain": [
          0,
          1
         ],
         "title": {
          "text": "UMAP-2"
         }
        }
       }
      }
     },
     "metadata": {},
     "output_type": "display_data"
    },
    {
     "data": {
      "text/html": [
       "<h3>Cluster Compactness Summary:</h3>"
      ],
      "text/plain": [
       "<IPython.core.display.HTML object>"
      ]
     },
     "metadata": {},
     "output_type": "display_data"
    },
    {
     "data": {
      "text/html": [
       "<table border=\"1\" class=\"dataframe\">\n",
       "  <thead>\n",
       "    <tr style=\"text-align: right;\">\n",
       "      <th>Cluster #</th>\n",
       "      <th>Representative Name</th>\n",
       "      <th>Representative Description</th>\n",
       "      <th>Total Elements</th>\n",
       "      <th>Elements Within Radius</th>\n",
       "      <th>Radius</th>\n",
       "    </tr>\n",
       "  </thead>\n",
       "  <tbody>\n",
       "    <tr>\n",
       "      <td>0</td>\n",
       "      <td>Enzymatic Hydrolysis</td>\n",
       "      <td>In this unit operation, the pretreated biomass undergoes enzymatic hydrolysis to convert cellulose and hemicellulose into fermentable sugars. Enzymes such as cellulases and hemicellulases are used to catalyze the breakdown of polysaccharides into monosaccharides like glucose and xylose. This step is critical for maximizing sugar yield, which directly influences the efficiency of the subsequent fermentation process.</td>\n",
       "      <td>125</td>\n",
       "      <td>112</td>\n",
       "      <td>2.901921</td>\n",
       "    </tr>\n",
       "    <tr>\n",
       "      <td>1</td>\n",
       "      <td>Carbon Dioxide Sink</td>\n",
       "      <td>This unit operation serves as a sink for the Carbon Dioxide stream, which is a by-product of the fermentation process. The Carbon Dioxide is generated during the aerobic conversion of sugars by Bacillus subtilis. This sink is designed to safely collect and manage the Carbon Dioxide emissions, ensuring that they are either captured for further use or released in an environmentally responsible manner.</td>\n",
       "      <td>24</td>\n",
       "      <td>23</td>\n",
       "      <td>1.109081</td>\n",
       "    </tr>\n",
       "    <tr>\n",
       "      <td>2</td>\n",
       "      <td>Product Recovery</td>\n",
       "      <td>This unit operation focuses on the separation and purification of 3-hydroxybutyric acid from the fermentation broth. Techniques such as centrifugation, filtration, and solvent extraction are employed to isolate 3-HBA from the complex mixture. The goal is to achieve a high-purity intermediate suitable for further chemical conversion into 3-hydroxy butyrolactone.</td>\n",
       "      <td>64</td>\n",
       "      <td>63</td>\n",
       "      <td>1.340990</td>\n",
       "    </tr>\n",
       "    <tr>\n",
       "      <td>3</td>\n",
       "      <td>Pretreatment</td>\n",
       "      <td>The pretreatment unit operation is designed to prepare the corn stover for subsequent processing by breaking down its lignocellulosic structure. This involves a combination of mechanical, chemical, and/or thermal treatments to reduce the lignin content and increase the accessibility of cellulose and hemicellulose. Common methods include steam explosion, acid hydrolysis, or alkaline treatment. The goal is to disrupt the complex matrix of cellulose, hemicellulose, and lignin, making the carbohydrates more accessible for enzymatic hydrolysis.</td>\n",
       "      <td>127</td>\n",
       "      <td>117</td>\n",
       "      <td>6.050626</td>\n",
       "    </tr>\n",
       "    <tr>\n",
       "      <td>4</td>\n",
       "      <td>Raw Corn Stover Source</td>\n",
       "      <td>This unit operation serves as the source for the Raw Corn Stover stream, which is collected post-harvest from maize plants. The stream consists of a mixture of cellulose (35-40%), hemicellulose (25-30%), lignin (15-20%), ash (5-10%), and moisture (5-10%). It is an agricultural residue that may require pretreatment to reduce lignin content and enhance the accessibility of cellulose and hemicellulose for subsequent processing steps in the production of bio-based chemicals.</td>\n",
       "      <td>86</td>\n",
       "      <td>68</td>\n",
       "      <td>9.000288</td>\n",
       "    </tr>\n",
       "    <tr>\n",
       "      <td>5</td>\n",
       "      <td>Waste Stream Sink</td>\n",
       "      <td>This unit operation serves as the sink for the Waste Stream generated during the product recovery and purification processes. It collects the residual biomass, primarily consisting of microbial biomass and residual sugars, that is removed from the system. The Waste Stream Sink is crucial for managing waste disposal and ensuring that the process adheres to environmental regulations by facilitating proper treatment or disposal of the waste materials.</td>\n",
       "      <td>227</td>\n",
       "      <td>203</td>\n",
       "      <td>3.643323</td>\n",
       "    </tr>\n",
       "    <tr>\n",
       "      <td>6</td>\n",
       "      <td>Aeration Stream Source</td>\n",
       "      <td>This unit operation serves as a source for the Aeration Stream, providing a continuous supply of oxygen necessary to maintain aerobic conditions during the fermentation process. The Aeration Stream is critical for the growth and metabolism of the microbial culture, ensuring optimal production of 3-Hydroxypropionic Acid. The stream is designed to deliver the required oxygen concentration efficiently and consistently to support the fermentation process.</td>\n",
       "      <td>24</td>\n",
       "      <td>19</td>\n",
       "      <td>0.368780</td>\n",
       "    </tr>\n",
       "    <tr>\n",
       "      <td>7</td>\n",
       "      <td>Product Packaging</td>\n",
       "      <td>In this final unit operation, the purified 3-Hydroxypropionic acid is packaged for storage and transportation. This involves ensuring that the product is contained in suitable materials to maintain its purity and stability during distribution.</td>\n",
       "      <td>27</td>\n",
       "      <td>24</td>\n",
       "      <td>0.602245</td>\n",
       "    </tr>\n",
       "    <tr>\n",
       "      <td>8</td>\n",
       "      <td>Fermentation</td>\n",
       "      <td>The fermentation unit operation involves converting the sugar solution into 3-hydroxybutyric acid (3-HBA) using a microbial culture. Specific strains of bacteria or yeast are employed to ferment the sugars, primarily glucose and xylose, into 3-HBA. This bioconversion process is optimized for yield and productivity, requiring careful control of fermentation conditions such as pH, temperature, and nutrient supply.</td>\n",
       "      <td>124</td>\n",
       "      <td>111</td>\n",
       "      <td>1.619601</td>\n",
       "    </tr>\n",
       "    <tr>\n",
       "      <td>9</td>\n",
       "      <td>Chemical Conversion</td>\n",
       "      <td>In this unit operation, the purified 3-hydroxybutyric acid undergoes chemical conversion to form 3-hydroxy butyrolactone. This transformation typically involves a catalytic dehydration reaction, where a catalyst facilitates the removal of water from 3-HBA to form the lactone ring structure of 3-hydroxy butyrolactone. The choice of catalyst and reaction conditions are optimized to maximize yield and selectivity.</td>\n",
       "      <td>76</td>\n",
       "      <td>68</td>\n",
       "      <td>1.219006</td>\n",
       "    </tr>\n",
       "  </tbody>\n",
       "</table>"
      ],
      "text/plain": [
       "<IPython.core.display.HTML object>"
      ]
     },
     "metadata": {},
     "output_type": "display_data"
    },
    {
     "name": "stdout",
     "output_type": "stream",
     "text": [
      "Cluster compactness summary saved to ..\\data\\DOE_2004\\analysis_results\\cluster_compactness_summary_dynamic_radius.csv\n"
     ]
    }
   ],
   "source": [
    "# %% [markdown]\n",
    "# ### Assess Cluster Compactness: Elements Within a Dynamic Radius (Median + IQR)\n",
    "\n",
    "# %%\n",
    "import numpy as np\n",
    "import plotly.express as px\n",
    "import plotly.graph_objects as go\n",
    "from IPython.display import display, HTML\n",
    "\n",
    "# Function to extract title and description\n",
    "def extract_title(text):\n",
    "    return text.split(':')[0] if ':' in text else text\n",
    "\n",
    "def extract_title_description(text):\n",
    "    parts = text.split(':', 1)\n",
    "    if len(parts) == 2:\n",
    "        return parts[0].strip(), parts[1].strip()\n",
    "    else:\n",
    "        return parts[0].strip(), \"\"\n",
    "\n",
    "# Add a new column 'title' by extracting the part before the colon in 'text'\n",
    "reduced_df['title'] = reduced_df['text'].apply(extract_title)\n",
    "\n",
    "# Create a DataFrame to store representative points for each cluster\n",
    "representatives = []\n",
    "for cluster_num in range(n_clusters):\n",
    "    cluster_data = reduced_df[reduced_df['cluster'] == cluster_num]\n",
    "    if cluster_data.empty:\n",
    "        continue\n",
    "    representative = cluster_data.iloc[0]\n",
    "    title = representative['title']\n",
    "    representatives.append({\n",
    "        'cluster': cluster_num,\n",
    "        'x': representative['x'],\n",
    "        'y': representative['y'],\n",
    "        'title': title\n",
    "    })\n",
    "representatives_df = pd.DataFrame(representatives)\n",
    "print(\"\\nRepresentative Elements for Each Cluster:\")\n",
    "print(representatives_df)\n",
    "\n",
    "# Define the fixed radius based on median + 1 IQR\n",
    "cluster_compactness = []\n",
    "for cluster_num in range(n_clusters):\n",
    "    cluster_data = reduced_df[reduced_df['cluster'] == cluster_num]\n",
    "    if cluster_data.empty:\n",
    "        print(f\"Cluster {cluster_num} is empty. Skipping...\")\n",
    "        continue\n",
    "    centroid = cluster_data[['x', 'y']].mean().values\n",
    "    distances = np.linalg.norm(cluster_data[['x', 'y']].values - centroid, axis=1)\n",
    "    median_distance = np.median(distances)\n",
    "    q1 = np.percentile(distances, 25)\n",
    "    q3 = np.percentile(distances, 75)\n",
    "    iqr = q3 - q1\n",
    "    radius = median_distance + 1 * iqr\n",
    "    within_radius = np.sum(distances <= radius)\n",
    "    representative_text = cluster_data.iloc[0]['text']\n",
    "    representative_title, representative_description = extract_title_description(representative_text)\n",
    "    cluster_compactness.append({\n",
    "        'Cluster #': cluster_num,\n",
    "        'Representative Name': representative_title,\n",
    "        'Representative Description': representative_description,\n",
    "        'Total Elements': len(cluster_data),\n",
    "        'Elements Within Radius': within_radius,\n",
    "        'Radius': radius\n",
    "    })\n",
    "compactness_df = pd.DataFrame(cluster_compactness)\n",
    "print(\"\\nCluster Compactness Summary:\")\n",
    "print(compactness_df)\n",
    "\n",
    "# Create the interactive scatter plot using Plotly Express\n",
    "fig = px.scatter(\n",
    "    reduced_df,\n",
    "    x='x',\n",
    "    y='y',\n",
    "    color=reduced_df['cluster'].astype(str),\n",
    "    hover_data={\n",
    "        'cluster': True,\n",
    "        'title': True,\n",
    "        'x': False,\n",
    "        'y': False\n",
    "    },\n",
    "    labels={\n",
    "        'x': 'UMAP-1',\n",
    "        'y': 'UMAP-2',\n",
    "        'color': 'Cluster'\n",
    "    },\n",
    "    title=\"UMAP Projection of Unit Operation Embeddings (Clustered)\",\n",
    "    width=900,\n",
    "    height=700\n",
    ")\n",
    "\n",
    "# Update layout for better aesthetics\n",
    "fig.update_layout(\n",
    "    legend_title_text='Cluster',\n",
    "    legend=dict(\n",
    "        title_font_size=14,\n",
    "        font_size=12,\n",
    "        itemsizing='constant'\n",
    "    )\n",
    ")\n",
    "\n",
    "# Add annotations for each representative point\n",
    "for _, row in representatives_df.iterrows():\n",
    "    fig.add_trace(\n",
    "        go.Scatter(\n",
    "            x=[row['x']],\n",
    "            y=[row['y']],\n",
    "            mode='markers+text',\n",
    "            marker=dict(\n",
    "                color='black',\n",
    "                size=12,\n",
    "                symbol='star'\n",
    "            ),\n",
    "            text=[f\"Cluster {int(row['cluster'])}: {row['title']}\"],\n",
    "            textposition='top center',\n",
    "            showlegend=False\n",
    "        )\n",
    "    )\n",
    "\n",
    "# Optionally, add circles representing the radius\n",
    "for idx, row in compactness_df.iterrows():\n",
    "    cluster_num = row['Cluster #']\n",
    "    cluster_data = reduced_df[reduced_df['cluster'] == cluster_num]\n",
    "    centroid = cluster_data[['x', 'y']].mean().values\n",
    "    radius = row['Radius']\n",
    "    fig.add_shape(\n",
    "        type=\"circle\",\n",
    "        xref=\"x\",\n",
    "        yref=\"y\",\n",
    "        x0=centroid[0] - radius,\n",
    "        y0=centroid[1] - radius,\n",
    "        x1=centroid[0] + radius,\n",
    "        y1=centroid[1] + radius,\n",
    "        line=dict(\n",
    "            color=\"Red\",\n",
    "            width=2\n",
    "        ),\n",
    "        opacity=0.2,\n",
    "        name=f'Radius {cluster_num}'\n",
    "    )\n",
    "\n",
    "fig.show()\n",
    "\n",
    "# Display the Cluster Compactness Summary Table\n",
    "display(HTML(\"<h3>Cluster Compactness Summary:</h3>\"))\n",
    "display(HTML(compactness_df.to_html(index=False)))\n",
    "\n",
    "# Save Cluster Compactness Summary to CSV\n",
    "compactness_df.to_csv(output_dir / f\"cluster_compactness_summary_dynamic_radius.csv\", index=False)\n",
    "print(f\"Cluster compactness summary saved to {output_dir / 'cluster_compactness_summary_dynamic_radius.csv'}\")\n",
    "\n",
    "fig.write_html(\"clustering_DOE2004.html\", include_plotlyjs=True, full_html=True)\n"
   ]
  },
  {
   "cell_type": "code",
   "execution_count": 41,
   "metadata": {},
   "outputs": [
    {
     "name": "stdout",
     "output_type": "stream",
     "text": [
      "Cluster 0:\n",
      " - Enzymatic Hydrolysis: In this unit operation, the pretreated biomass undergoes enzymatic hydrolysis to convert cellulose and hemicellulose into fermentable sugars. Enzymes such as cellulases and hemicellulases are used to catalyze the breakdown of polysaccharides into monosaccharides like glucose and xylose. This step is critical for maximizing sugar yield, which directly influences the efficiency of the subsequent fermentation process.\n",
      " - Enzyme Solution Source: This unit operation serves as a source for the Enzyme Solution, which is a critical input for the enzymatic hydrolysis process. The Enzyme Solution is a mixture of cellulases and hemicellulases specifically designed to catalyze the hydrolysis of polysaccharides present in pretreated biomass. This enzymatic action is essential for converting complex carbohydrates into fermentable sugars, facilitating the subsequent fermentation step in the production of 3-Hydroxybutyric Acid.\n",
      " - Enzymatic Hydrolysis: In this unit operation, the pretreated biomass undergoes enzymatic hydrolysis, where cellulase and hemicellulase enzymes break down cellulose and hemicellulose into fermentable sugars, primarily glucose and xylose. This step is crucial for converting the structural carbohydrates into simple sugars that can be utilized by microorganisms during fermentation.\n",
      " - Enzyme Solution Source: This unit operation serves as a source for the Enzyme Solution, which contains cellulase and hemicellulase enzymes. The Enzyme Solution is critical for the enzymatic hydrolysis process, where it facilitates the breakdown of pretreated biomass into fermentable sugars. The unit operation ensures a consistent supply of the enzyme solution at the required concentration and volume for optimal enzymatic activity, contributing to the overall efficiency of the bioconversion process.\n",
      " - Enzymatic Hydrolysis: In this unit operation, enzymes are added to the pretreated biomass to hydrolyze cellulose and hemicellulose into fermentable sugars, primarily glucose and xylose. This step is critical for converting the biomass into a form that can be utilized by microorganisms in the fermentation process.\n",
      "\n",
      "\n",
      "Cluster 1:\n",
      " - Carbon Dioxide Sink: This unit operation serves as a sink for the Carbon Dioxide stream, which is a by-product of the fermentation process. The Carbon Dioxide is generated during the aerobic conversion of sugars by Bacillus subtilis. This sink is designed to safely collect and manage the Carbon Dioxide emissions, ensuring that they are either captured for further use or released in an environmentally responsible manner.\n",
      " - Off-gases Sink: This unit operation serves as a sink for off-gases produced during the pretreatment process. It is designed to capture and manage gaseous emissions, which may include water vapor and volatile organic compounds (VOCs) released from the breakdown of biomass components. The off-gases sink ensures that emissions are treated or disposed of in an environmentally responsible manner, minimizing their impact on air quality and complying with regulatory standards.\n",
      " - Gas Emission Sink: This unit operation serves as a sink for the CO2 and other gases produced during the anaerobic fermentation process. It is designed to capture and manage the gaseous by-products, primarily carbon dioxide (CO2), ensuring that they are accounted for in the overall mass balance of the process. The sink may include systems for gas collection, monitoring, and potential utilization or safe venting of the gases to minimize environmental impact.\n",
      " - Carbon Dioxide Sink: This unit operation serves as a sink for the carbon dioxide produced during the fermentation process. As a by-product of aerobic fermentation, carbon dioxide is generated and must be effectively managed. This sink collects the carbon dioxide released from the fermentation broth, ensuring that it is properly vented or captured for further use, such as in carbon capture technologies or for use in other industrial applications.\n",
      " - Carbon Dioxide Sink: This unit operation serves as a sink for the Carbon Dioxide stream, which is generated as a byproduct during the aerobic fermentation process. The Carbon Dioxide produced is typically vented to the atmosphere or can be captured for further use in various industrial applications. This sink ensures that the gaseous byproduct is safely handled and managed within the process flow.\n",
      "\n",
      "\n",
      "Cluster 2:\n",
      " - Product Recovery: This unit operation focuses on the separation and purification of 3-hydroxybutyric acid from the fermentation broth. Techniques such as centrifugation, filtration, and solvent extraction are employed to isolate 3-HBA from the complex mixture. The goal is to achieve a high-purity intermediate suitable for further chemical conversion into 3-hydroxy butyrolactone.\n",
      " - Cell Separation: Following fermentation, the broth is subjected to cell separation to remove microbial biomass. This is typically achieved using centrifugation or filtration techniques, which separate the solid biomass from the liquid containing the target product, 3-Hydroxypropionic Acid. This step is essential to reduce the load on downstream purification processes.\n",
      " - Product Recovery: The cell-free broth undergoes product recovery to concentrate and purify 3-Hydroxypropionic Acid. This typically involves solvent extraction, adsorption, or membrane separation techniques to isolate 3-HP from other components. The goal is to achieve a high purity level suitable for industrial applications.\n",
      " - Broth Clarification: This unit operation involves the separation of solid biomass and cell debris from the fermentation broth to obtain a clarified liquid containing 3-Hydroxypropionic acid. Techniques such as centrifugation or filtration are employed to achieve this separation.\n",
      " - Broth Separation: This unit operation involves the separation of the fermentation broth into solid and liquid fractions. Techniques such as centrifugation or filtration are employed to remove microbial biomass and other solids from the liquid containing acetoin.\n",
      "\n",
      "\n",
      "Cluster 3:\n",
      " - Pretreatment: The pretreatment unit operation is designed to prepare the corn stover for subsequent processing by breaking down its lignocellulosic structure. This involves a combination of mechanical, chemical, and/or thermal treatments to reduce the lignin content and increase the accessibility of cellulose and hemicellulose. Common methods include steam explosion, acid hydrolysis, or alkaline treatment. The goal is to disrupt the complex matrix of cellulose, hemicellulose, and lignin, making the carbohydrates more accessible for enzymatic hydrolysis.\n",
      " - Pretreatment Chemical Agents Source: This unit operation serves as a source for the Pretreatment Chemical Agents stream, which includes various chemicals utilized during the pretreatment process of lignocellulosic biomass. These agents, which can be acids or alkalis, are essential for breaking down the complex lignocellulosic structure of materials like corn stover. The stream may also include water, particularly when steam or liquid treatments are employed. This source ensures that the necessary chemical agents are supplied in the required quantities to facilitate effective pretreatment, thereby enhancing the accessibility of cellulose and hemicellulose for subsequent processing steps.\n",
      " - Pretreatment: The pretreatment process is designed to break down the lignocellulosic structure of corn stover, making the cellulose and hemicellulose more accessible for enzymatic hydrolysis. This step typically involves mechanical, chemical, or thermal methods, such as steam explosion or acid hydrolysis, to disrupt the lignin matrix and increase the surface area of the biomass. The goal is to enhance the efficiency of subsequent enzymatic hydrolysis by reducing the crystallinity of cellulose and solubilizing hemicellulose.\n",
      " - Water/Acid Solution Source: This unit operation serves as a source for the Water/Acid Solution stream, which is essential for the pretreatment of corn stover. The Water/Acid Solution is used to facilitate the breakdown of the lignocellulosic structure of the biomass, enhancing the efficiency of subsequent enzymatic hydrolysis. This stream consists of a mixture of water and acid, which plays a critical role in the pretreatment process by increasing the accessibility of cellulose and hemicellulose for enzymatic action.\n",
      " - Pretreatment: The pretreatment unit operation is designed to break down the complex lignocellulosic structure of corn stover into simpler, more accessible components. This involves mechanical, chemical, or a combination of methods to disrupt the lignin structure and expose cellulose and hemicellulose for subsequent enzymatic hydrolysis. The pretreatment process is crucial for enhancing the digestibility of the biomass and increasing the yield of fermentable sugars.\n",
      "\n",
      "\n",
      "Cluster 4:\n",
      " - Raw Corn Stover Source: This unit operation serves as the source for the Raw Corn Stover stream, which is collected post-harvest from maize plants. The stream consists of a mixture of cellulose (35-40%), hemicellulose (25-30%), lignin (15-20%), ash (5-10%), and moisture (5-10%). It is an agricultural residue that may require pretreatment to reduce lignin content and enhance the accessibility of cellulose and hemicellulose for subsequent processing steps in the production of bio-based chemicals.\n",
      " - Raw Corn Stover Source: This unit operation serves as the source for the Raw Corn Stover stream, which is unprocessed corn stover consisting of cellulose, hemicellulose, lignin, and ash. It is a critical feedstock for the process, providing the necessary lignocellulosic biomass for subsequent pretreatment and enzymatic hydrolysis. The composition of the stream includes 35-45% cellulose, 25-35% hemicellulose, 15-20% lignin, and 5-10% ash. Proper handling and storage conditions are essential to minimize moisture content and maintain the quality of the feedstock.\n",
      " - Raw Corn Stover Source: This unit operation serves as the source for the Raw Corn Stover stream, which is the primary feedstock for the process. It consists of lignocellulosic biomass containing cellulose (35-40%), hemicellulose (25-30%), lignin (15-20%), ash (5-10%), and moisture (5-10%). This raw material is essential for subsequent processes, including pretreatment, enzymatic hydrolysis, and fermentation, to produce 3-Hydroxypropionic Acid.\n",
      " - Raw Corn Stover Source: This unit operation serves as the source for the Raw Corn Stover stream, which is the primary biomass feedstock for the process. The raw corn stover is primarily composed of cellulose (35-40%), hemicellulose (25-30%), and lignin (15-20%), with a moisture content of 10-15%. It is delivered in batches of 100,000 kg and requires pretreatment to break down its lignocellulosic structure for subsequent fermentation processes.\n",
      " - Steam Source: This unit operation serves as a source for the steam stream, providing high-temperature water vapor used in the steam explosion process. The steam is essential for disrupting the lignocellulosic structure of the feedstock, facilitating subsequent pretreatment steps in the biomass conversion process.\n",
      "\n",
      "\n",
      "Cluster 5:\n",
      " - Waste Stream Sink: This unit operation serves as the sink for the Waste Stream generated during the product recovery and purification processes. It collects the residual biomass, primarily consisting of microbial biomass and residual sugars, that is removed from the system. The Waste Stream Sink is crucial for managing waste disposal and ensuring that the process adheres to environmental regulations by facilitating proper treatment or disposal of the waste materials.\n",
      " - High-Purity 3-Hydroxy Butyrolactone Sink: This unit operation serves as the final sink for the stream of High-Purity 3-Hydroxy Butyrolactone, which is produced through a series of chemical conversions and purification processes. The stream consists solely of 3-Hydroxy Butyrolactone with a purity exceeding 99%, making it suitable for commercial applications in pharmaceuticals and biodegradable polymers. This sink ensures that the high-quality product is collected and stored for distribution.\n",
      " - Water Sink: The Water Sink unit operation serves as the terminus for the water produced during the catalytic dehydration reaction of 3-hydroxybutyric acid to form 3-hydroxy butyrolactone. This unit operation is critical for ensuring proper mass balance in the process, allowing for accurate tracking and management of all materials involved in the chemical conversion process. It effectively collects and manages the water byproduct, which is essential for maintaining operational efficiency and environmental compliance.\n",
      " - Biomass Waste Sink: This unit operation serves as a sink for the Biomass Waste stream, which consists of separated microbial biomass. The biomass can be utilized for various applications, including animal feed, bioenergy production, or as a raw material for bioprocessing. The sink ensures proper handling and storage of the biomass waste, facilitating its subsequent use or disposal in an environmentally friendly manner.\n",
      " - Waste Stream Sink: This unit operation serves as a sink for the Waste Stream, which contains impurities and residual sugars removed during the product recovery process. The Waste Stream Sink is designed to collect and manage the waste generated from the production of 3-Hydroxypropionic Acid, ensuring that residual sugars and other impurities are properly handled and disposed of, minimizing environmental impact.\n",
      "\n",
      "\n",
      "Cluster 6:\n",
      " - Aeration Stream Source: This unit operation serves as a source for the Aeration Stream, providing a continuous supply of oxygen necessary to maintain aerobic conditions during the fermentation process. The Aeration Stream is critical for the growth and metabolism of the microbial culture, ensuring optimal production of 3-Hydroxypropionic Acid. The stream is designed to deliver the required oxygen concentration efficiently and consistently to support the fermentation process.\n",
      " - Oxygen Supply: The Oxygen Supply unit operation serves as a critical source for the fermentation process, providing the necessary oxygen required for the aerobic fermentation of sugars by genetically engineered bacteria. This unit operation ensures that the oxygen concentration is carefully controlled and maintained at optimal levels, facilitating efficient conversion of sugars into 3-Hydroxypropionic acid. Proper management of the oxygen supply is essential for maximizing fermentation efficiency and product yield.\n",
      " - Oxygen Supply: This unit operation serves as a source for the Oxygen Supply stream, which is essential for providing the aerobic conditions required for the fermentation process. In this process, sugars are converted into acetoin by yeast or fungal strains. The Oxygen Supply stream consists primarily of oxygen, which is critical for the metabolic activities of the microorganisms involved in fermentation, ensuring optimal production of acetoin.\n",
      " - Oxygen Supply: This unit operation serves as a source for the oxygen supply required in the aerobic fermentation process. The fermentation process relies on a continuous and adequate supply of oxygen to support the growth and metabolic activity of the microorganisms, such as yeast and fungi, which convert sugars into malonic acid. The oxygen is delivered in a controlled manner to ensure optimal conditions for microbial activity, thereby enhancing the efficiency of the fermentation process.\n",
      " - Air Supply: The Air Supply unit operation serves as a source for the Air stream, which is essential for maintaining aerobic conditions during the fermentation process. This unit operation ensures a continuous and controlled supply of air, primarily composed of oxygen and nitrogen, to support the growth and metabolic activity of microorganisms. The air is introduced into the fermentation system to facilitate the conversion of sugars into serine, enhancing the efficiency of the fermentation process.\n",
      "\n",
      "\n",
      "Cluster 7:\n",
      " - Product Packaging: In this final unit operation, the purified 3-Hydroxypropionic acid is packaged for storage and transportation. This involves ensuring that the product is contained in suitable materials to maintain its purity and stability during distribution.\n",
      " - Product Storage and Handling: The final unit operation involves the storage and handling of purified lactic acid. The product is stored in appropriate containers to prevent contamination and degradation. Storage conditions are maintained to ensure product stability and quality. The handling process includes packaging and transportation logistics to deliver the product to end-users or further processing facilities.\n",
      " - Drying and Packaging: The final unit operation involves drying the purified malonic acid crystals to remove any residual moisture, followed by packaging for distribution. Drying is typically conducted using vacuum or air dryers to achieve the desired moisture content. The dried product is then packaged in suitable containers to protect it from environmental factors and ensure safe transport.\n",
      " - Drying and Packaging: In the final unit operation, the purified serine is dried to remove any remaining moisture and then packaged for distribution. The drying process typically involves spray drying or freeze drying, depending on the desired product form. The dried serine is then packaged in moisture-proof containers to ensure stability during storage and transport.\n",
      " - Drying and Packaging: In the final unit operation, the purified aspartic acid is dried to achieve the desired moisture content and then packaged for distribution. Drying methods such as spray drying or rotary drying are used to ensure product stability and ease of handling. Packaging is designed to protect the product from contamination and moisture uptake during storage and transport.\n",
      "\n",
      "\n",
      "Cluster 8:\n",
      " - Fermentation: The fermentation unit operation involves converting the sugar solution into 3-hydroxybutyric acid (3-HBA) using a microbial culture. Specific strains of bacteria or yeast are employed to ferment the sugars, primarily glucose and xylose, into 3-HBA. This bioconversion process is optimized for yield and productivity, requiring careful control of fermentation conditions such as pH, temperature, and nutrient supply.\n",
      " - Microbial Culture Source: This unit operation serves as a source for the Microbial Culture stream, which consists of a selected strain of microorganisms specifically engineered or selected for their ability to efficiently convert sugars into 3-Hydroxybutyric Acid (3-HBA) during the fermentation process. The microbial culture is critical for the fermentation step, ensuring high conversion rates and product yields.\n",
      " - Nutrient Solution Source: The Nutrient Solution Source is a unit operation that serves as a critical input for the fermentation process. It supplies essential nutrients, minerals, and nitrogen sources necessary for the growth and metabolic activity of the microbial culture. The solution typically contains components such as nitrogen sources (e.g., Ammonium Sulfate), phosphates, trace minerals, and vitamins, which are vital for optimizing fermentation conditions and ensuring high yields of the desired product.\n",
      " - Fermentation: The fermentation process involves the aerobic cultivation of yeast or fungal strains capable of converting sugars into 3-Hydroxypropionic Acid (3-HP). The microorganisms metabolize glucose and xylose under controlled conditions, producing 3-HP as a primary metabolite. Oxygen is supplied to maintain aerobic conditions, and the fermentation broth is continuously monitored to optimize yield and productivity.\n",
      " - Microbial Culture Source: This unit operation serves as a source for the Microbial Culture stream, which consists of yeast and fungal strains specifically selected for their ability to produce 3-Hydroxypropionic Acid. The microbial culture is crucial for the fermentation process, where these microorganisms convert sugars into the desired acid. The culture must be maintained under optimal conditions to ensure high viability and productivity, contributing to the overall efficiency of the bioprocess.\n",
      "\n",
      "\n",
      "Cluster 9:\n",
      " - Chemical Conversion: In this unit operation, the purified 3-hydroxybutyric acid undergoes chemical conversion to form 3-hydroxy butyrolactone. This transformation typically involves a catalytic dehydration reaction, where a catalyst facilitates the removal of water from 3-HBA to form the lactone ring structure of 3-hydroxy butyrolactone. The choice of catalyst and reaction conditions are optimized to maximize yield and selectivity.\n",
      " - Product Purification: The final unit operation involves purifying the 3-hydroxy butyrolactone to meet commercial specifications. Techniques such as distillation, crystallization, or chromatography are employed to achieve the desired purity level of over 99%. This step ensures that the product is suitable for use in pharmaceuticals and biodegradable polymers.\n",
      " - Catalyst Source: This unit operation serves as a source for the Catalyst stream, which is essential for facilitating the dehydration reaction in the chemical conversion process. The catalyst is introduced into the system to enhance the reaction kinetics and improve the overall efficiency of the conversion of purified 3-Hydroxybutyric Acid into 3-Hydroxy Butyrolactone. The catalyst stream is delivered at the required volumetric scale to ensure optimal reaction conditions.\n",
      " - Purification: The crude 3-HP solution is further purified to achieve the desired industrial-grade purity. This step may involve crystallization, distillation, or additional membrane processes to remove any remaining impurities and concentrate the 3-HP to ≥99% purity. The final product must meet stringent quality specifications for use in polymer production and other chemical syntheses.\n",
      " - Purification: The purification unit operation is designed to isolate and concentrate 3-Hydroxypropionic acid from the clarified broth. This involves techniques such as solvent extraction, distillation, or crystallization to achieve the desired purity level for industrial applications.\n",
      "\n",
      "\n"
     ]
    }
   ],
   "source": [
    "\n",
    "# %% [markdown]\n",
    "# ### Investigating Clusters\n",
    "#\n",
    "# Display sample unit operations from each cluster to understand their characteristics.\n",
    "\n",
    "# %%\n",
    "for c in range(n_clusters):\n",
    "    cluster_ops = unit_ops_df[unit_ops_df['cluster_label'] == c]\n",
    "    print(f\"Cluster {c}:\")\n",
    "    # Print a few example unit ops from this cluster\n",
    "    for idx, row in cluster_ops.head(5).iterrows():\n",
    "        print(\" -\", row['text'])\n",
    "    print(\"\\n\")\n"
   ]
  },
  {
   "cell_type": "code",
   "execution_count": 42,
   "metadata": {},
   "outputs": [
    {
     "name": "stdout",
     "output_type": "stream",
     "text": [
      "Clustering results saved to ..\\data\\DOE_2004\\analysis_results\\unit_ops_clusters.csv.\n"
     ]
    }
   ],
   "source": [
    "\n",
    "# %% [markdown]\n",
    "# ## Save Clustering Results\n",
    "\n",
    "# %%\n",
    "# Save cluster assignments\n",
    "unit_ops_df.to_csv(output_dir / \"unit_ops_clusters.csv\", index=False)\n",
    "print(f\"Clustering results saved to {output_dir / 'unit_ops_clusters.csv'}.\")\n"
   ]
  },
  {
   "cell_type": "code",
   "execution_count": 43,
   "metadata": {},
   "outputs": [],
   "source": [
    "\n",
    "# %% [markdown]\n",
    "# ## Summary\n",
    "#\n",
    "# - **Aggregated Data**: Successfully aggregated multiple batches and their respective runs.\n",
    "# - **Unique Run Identification**: Each run is uniquely identified by combining the batch ID and run name.\n",
    "# - **Clustering Analysis**: Performed embedding-based clustering to assess the semantic consistency of unit operations across runs.\n",
    "# - **Visualization**: Visualized clusters using UMAP for dimensionality reduction.\n",
    "#\n",
    "# **Next Steps:**\n",
    "# - Incorporate validated data for operational parameters.\n",
    "# - Explore alternative clustering algorithms (e.g., HDBSCAN) for potentially better clustering performance.\n",
    "# - Analyze clusters to identify common patterns and outliers in unit operations.\n",
    "\n"
   ]
  }
 ],
 "metadata": {
  "kernelspec": {
   "display_name": "tea_env",
   "language": "python",
   "name": "python3"
  },
  "language_info": {
   "codemirror_mode": {
    "name": "ipython",
    "version": 3
   },
   "file_extension": ".py",
   "mimetype": "text/x-python",
   "name": "python",
   "nbconvert_exporter": "python",
   "pygments_lexer": "ipython3",
   "version": "3.11.9"
  }
 },
 "nbformat": 4,
 "nbformat_minor": 2
}
